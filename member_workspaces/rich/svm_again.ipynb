{
 "cells": [
  {
   "cell_type": "code",
   "execution_count": 1,
   "id": "0b0fa2d6-cb14-41dc-bcee-68bdbb430d82",
   "metadata": {},
   "outputs": [],
   "source": [
    "import sys\n",
    "import warnings\n",
    "\n",
    "import numpy as np\n",
    "import pandas as pd\n",
    "\n",
    "import matplotlib.pyplot as plt\n",
    "import seaborn as sns\n",
    "sns.set_style(\"darkgrid\")\n",
    "\n",
    "from sklearn.model_selection import train_test_split, cross_validate, GridSearchCV\n",
    "from skearn.decomposition import PCA\n",
    "from sklearn.preprocessing import StandardScaler\n",
    "from sklearn.metrics import balanced_accuracy_score, accuracy_score, matthews_corrcoef, f1_score\n",
    "\n",
    "from sklearn.svm import SVC\n",
    "\n",
    "sys.path.append(\"../../\")\n",
    "\n",
    "from helpers.split import tag_label_feature_split\n",
    "from helpers.assess import make_classification_report, make_confusion_matrix\n",
    "\n",
    "DATASET_FOLDER = \"../../datasets/\""
   ]
  },
  {
   "cell_type": "code",
   "execution_count": 2,
   "id": "cb333121-e563-49ad-b6b4-0bf566351626",
   "metadata": {},
   "outputs": [],
   "source": [
    "# read a data set\n",
    "dataset=\"dataset_00_all.pickle\"\n",
    "df = pd.read_pickle(DATASET_FOLDER + dataset)"
   ]
  },
  {
   "cell_type": "code",
   "execution_count": 3,
   "id": "14c39c54-bdfb-43b5-a96c-2dff2601af76",
   "metadata": {},
   "outputs": [],
   "source": [
    "# get labels, a label encoder and features\n",
    "_, (y, le), X = tag_label_feature_split(df, label_format=\"encoded\")"
   ]
  },
  {
   "cell_type": "code",
   "execution_count": 4,
   "metadata": {},
   "outputs": [],
   "source": [
    "# we are going to validate using k-fold cross validation so we will not\n",
    "# create a separate validation set here\n",
    "\n",
    "# split into train/validation and test datasets\n",
    "X_train, X_test, y_train, y_test = train_test_split(\n",
    "    X, y, test_size=0.2, shuffle=True, stratify=y, random_state=1962\n",
    ")"
   ]
  },
  {
   "cell_type": "code",
   "execution_count": 5,
   "metadata": {},
   "outputs": [],
   "source": [
    "# standardize the features\n",
    "scaler = StandardScaler()\n",
    "X_train_scaled = scaler.fit_transform(X_train)\n",
    "X_test_scaled = scaler.transform(X_test)"
   ]
  },
  {
   "cell_type": "markdown",
   "metadata": {},
   "source": [
    "**Baseline A Default SVC Classifier**"
   ]
  },
  {
   "cell_type": "code",
   "execution_count": 6,
   "metadata": {},
   "outputs": [],
   "source": [
    "classifier = SVC(class_weight='balanced', random_state=1962)"
   ]
  },
  {
   "cell_type": "code",
   "execution_count": 7,
   "metadata": {},
   "outputs": [],
   "source": [
    "scoring = ['matthews_corrcoef', 'f1_macro', 'balanced_accuracy']"
   ]
  },
  {
   "cell_type": "code",
   "execution_count": 8,
   "metadata": {},
   "outputs": [],
   "source": [
    "scores = cross_validate (classifier, \n",
    "                         X_train_scaled, \n",
    "                         y=y_train, \n",
    "                         scoring=scoring, \n",
    "                         return_train_score=True, \n",
    "                         return_estimator=True,\n",
    "                         n_jobs=-1)"
   ]
  },
  {
   "cell_type": "code",
   "execution_count": 9,
   "metadata": {},
   "outputs": [
    {
     "data": {
      "text/plain": [
       "{'fit_time': array([485.37560773, 486.58632159, 485.57206368, 486.34850979,\n",
       "        488.43695354]),\n",
       " 'score_time': array([113.92202759, 115.24112821, 111.67763042, 114.13551927,\n",
       "        111.67986703]),\n",
       " 'estimator': [SVC(class_weight='balanced', random_state=1962),\n",
       "  SVC(class_weight='balanced', random_state=1962),\n",
       "  SVC(class_weight='balanced', random_state=1962),\n",
       "  SVC(class_weight='balanced', random_state=1962),\n",
       "  SVC(class_weight='balanced', random_state=1962)],\n",
       " 'test_matthews_corrcoef': array([0.62210034, 0.6132632 , 0.62760916, 0.60977519, 0.62515211]),\n",
       " 'train_matthews_corrcoef': array([0.76379666, 0.75849296, 0.76189183, 0.75826136, 0.76077731]),\n",
       " 'test_f1_macro': array([0.60684832, 0.60074932, 0.61863507, 0.59813889, 0.61117679]),\n",
       " 'train_f1_macro': array([0.79237095, 0.78491733, 0.78495973, 0.78266746, 0.78897893]),\n",
       " 'test_balanced_accuracy': array([0.65069484, 0.65629939, 0.66904366, 0.64138003, 0.65898045]),\n",
       " 'train_balanced_accuracy': array([0.88212305, 0.87604119, 0.87848391, 0.87761283, 0.88066099])}"
      ]
     },
     "execution_count": 9,
     "metadata": {},
     "output_type": "execute_result"
    }
   ],
   "source": [
    "scores"
   ]
  },
  {
   "cell_type": "code",
   "execution_count": 10,
   "metadata": {},
   "outputs": [
    {
     "data": {
      "text/plain": [
       "0.6195799990821136"
      ]
     },
     "execution_count": 10,
     "metadata": {},
     "output_type": "execute_result"
    }
   ],
   "source": [
    "# mean validation mcc\n",
    "scores['test_matthews_corrcoef'].mean()"
   ]
  },
  {
   "cell_type": "code",
   "execution_count": 11,
   "metadata": {},
   "outputs": [
    {
     "data": {
      "text/plain": [
       "0.6071096772126381"
      ]
     },
     "execution_count": 11,
     "metadata": {},
     "output_type": "execute_result"
    }
   ],
   "source": [
    "# mean validation macro average f1\n",
    "scores['test_f1_macro'].mean()"
   ]
  },
  {
   "cell_type": "code",
   "execution_count": 12,
   "metadata": {},
   "outputs": [
    {
     "data": {
      "text/plain": [
       "0.6552796736976686"
      ]
     },
     "execution_count": 12,
     "metadata": {},
     "output_type": "execute_result"
    }
   ],
   "source": [
    "# mean validation balanced accuracy\n",
    "scores['test_balanced_accuracy'].mean()"
   ]
  },
  {
   "cell_type": "code",
   "execution_count": 16,
   "metadata": {},
   "outputs": [],
   "source": [
    "test_mcc = []\n",
    "test_f1 = []\n",
    "test_balanced_accuracy = []\n",
    "\n",
    "for classifier in scores['estimator']:\n",
    "    predictions = classifier.predict(X_test_scaled)\n",
    "    test_mcc.append (matthews_corrcoef (y_test, predictions))\n",
    "    test_f1.append  (f1_score (y_test, predictions, average='macro'))\n",
    "    test_balanced_accuracy.append (balanced_accuracy_score(y_test, predictions))"
   ]
  },
  {
   "cell_type": "code",
   "execution_count": 19,
   "metadata": {},
   "outputs": [
    {
     "data": {
      "text/plain": [
       "0.612579456874313"
      ]
     },
     "execution_count": 19,
     "metadata": {},
     "output_type": "execute_result"
    }
   ],
   "source": [
    "# mean test mcc\n",
    "np.mean(test_mcc)"
   ]
  },
  {
   "cell_type": "code",
   "execution_count": 20,
   "metadata": {},
   "outputs": [
    {
     "data": {
      "text/plain": [
       "0.5909841546323944"
      ]
     },
     "execution_count": 20,
     "metadata": {},
     "output_type": "execute_result"
    }
   ],
   "source": [
    "# mean test macro average f1\n",
    "np.mean(test_f1)"
   ]
  },
  {
   "cell_type": "code",
   "execution_count": 22,
   "metadata": {},
   "outputs": [
    {
     "data": {
      "text/plain": [
       "0.6282944627005651"
      ]
     },
     "execution_count": 22,
     "metadata": {},
     "output_type": "execute_result"
    }
   ],
   "source": [
    "# mean test balanced_accuracy\n",
    "np.mean(test_balanced_accuracy)"
   ]
  },
  {
   "cell_type": "markdown",
   "metadata": {},
   "source": [
    "**Tune with GridSearchCV**"
   ]
  },
  {
   "cell_type": "code",
   "execution_count": null,
   "metadata": {},
   "outputs": [
    {
     "name": "stdout",
     "output_type": "stream",
     "text": [
      "Fitting 5 folds for each of 8 candidates, totalling 40 fits\n"
     ]
    }
   ],
   "source": [
    "param_grid = [\n",
    "  {'C': [1, 10, 100, 1000],\n",
    "   'gamma': [0.001, 0.0001],\n",
    "   'kernel': ['rbf'],\n",
    "   'class_weight': ['balanced'],\n",
    "   'random_state': [1962]\n",
    "  }]\n",
    "\n",
    "tuned_classifier = GridSearchCV(SVC(), param_grid, scoring='matthews_corrcoef', n_jobs=-1, verbose=2)\n",
    "tuned_classifier.fit(X_train, y_train)"
   ]
  },
  {
   "cell_type": "code",
   "execution_count": null,
   "metadata": {},
   "outputs": [],
   "source": [
    "tuned_classifier.best_score_"
   ]
  },
  {
   "cell_type": "code",
   "execution_count": null,
   "metadata": {},
   "outputs": [],
   "source": [
    "tuned_classifier.best_params_"
   ]
  },
  {
   "cell_type": "markdown",
   "metadata": {},
   "source": [
    "**With PCA**"
   ]
  },
  {
   "cell_type": "code",
   "execution_count": null,
   "metadata": {},
   "outputs": [],
   "source": [
    "# PCA\n",
    "pca = PCA(n_components=.95, random_state=1962)\n",
    "X_train_pca = pca.fit_transform(X_train_scaled)\n",
    "X_test_pca = pca.transform(X_test_scaled)"
   ]
  },
  {
   "cell_type": "code",
   "execution_count": 6,
   "metadata": {},
   "outputs": [],
   "source": [
    "pca_classifier = SVC(class_weight='balanced', random_state=1962)"
   ]
  },
  {
   "cell_type": "code",
   "execution_count": 8,
   "metadata": {},
   "outputs": [],
   "source": [
    "pca_scores = cross_validate (pca_classifier, \n",
    "                             X_train_pca, \n",
    "                             y=y_train, \n",
    "                             scoring=scoring, \n",
    "                             return_train_score=True, \n",
    "                             return_estimator=True,\n",
    "                             n_jobs=-1)"
   ]
  },
  {
   "cell_type": "code",
   "execution_count": 9,
   "metadata": {},
   "outputs": [
    {
     "data": {
      "text/plain": [
       "{'fit_time': array([485.37560773, 486.58632159, 485.57206368, 486.34850979,\n",
       "        488.43695354]),\n",
       " 'score_time': array([113.92202759, 115.24112821, 111.67763042, 114.13551927,\n",
       "        111.67986703]),\n",
       " 'estimator': [SVC(class_weight='balanced', random_state=1962),\n",
       "  SVC(class_weight='balanced', random_state=1962),\n",
       "  SVC(class_weight='balanced', random_state=1962),\n",
       "  SVC(class_weight='balanced', random_state=1962),\n",
       "  SVC(class_weight='balanced', random_state=1962)],\n",
       " 'test_matthews_corrcoef': array([0.62210034, 0.6132632 , 0.62760916, 0.60977519, 0.62515211]),\n",
       " 'train_matthews_corrcoef': array([0.76379666, 0.75849296, 0.76189183, 0.75826136, 0.76077731]),\n",
       " 'test_f1_macro': array([0.60684832, 0.60074932, 0.61863507, 0.59813889, 0.61117679]),\n",
       " 'train_f1_macro': array([0.79237095, 0.78491733, 0.78495973, 0.78266746, 0.78897893]),\n",
       " 'test_balanced_accuracy': array([0.65069484, 0.65629939, 0.66904366, 0.64138003, 0.65898045]),\n",
       " 'train_balanced_accuracy': array([0.88212305, 0.87604119, 0.87848391, 0.87761283, 0.88066099])}"
      ]
     },
     "execution_count": 9,
     "metadata": {},
     "output_type": "execute_result"
    }
   ],
   "source": [
    "pca_scores"
   ]
  },
  {
   "cell_type": "code",
   "execution_count": 10,
   "metadata": {},
   "outputs": [
    {
     "data": {
      "text/plain": [
       "0.6195799990821136"
      ]
     },
     "execution_count": 10,
     "metadata": {},
     "output_type": "execute_result"
    }
   ],
   "source": [
    "# mean validation mcc\n",
    "pca_scores['test_matthews_corrcoef'].mean()"
   ]
  },
  {
   "cell_type": "code",
   "execution_count": 11,
   "metadata": {},
   "outputs": [
    {
     "data": {
      "text/plain": [
       "0.6071096772126381"
      ]
     },
     "execution_count": 11,
     "metadata": {},
     "output_type": "execute_result"
    }
   ],
   "source": [
    "# mean validation macro average f1\n",
    "pca_scores['test_f1_macro'].mean()"
   ]
  },
  {
   "cell_type": "code",
   "execution_count": 12,
   "metadata": {},
   "outputs": [
    {
     "data": {
      "text/plain": [
       "0.6552796736976686"
      ]
     },
     "execution_count": 12,
     "metadata": {},
     "output_type": "execute_result"
    }
   ],
   "source": [
    "# mean validation balanced accuracy\n",
    "pca_scores['test_balanced_accuracy'].mean()"
   ]
  },
  {
   "cell_type": "code",
   "execution_count": 16,
   "metadata": {},
   "outputs": [],
   "source": [
    "pca_test_mcc = []\n",
    "pca_test_f1 = []\n",
    "pca_test_balanced_accuracy = []\n",
    "\n",
    "for classifier in pca_scores['estimator']:\n",
    "    predictions = classifier.predict(X_test_pca)\n",
    "    pca_test_mcc.append (matthews_corrcoef (y_test, predictions))\n",
    "    pca_test_f1.append  (f1_score (y_test, predictions, average='macro'))\n",
    "    pca_test_balanced_accuracy.append (balanced_accuracy_score(y_test, predictions))"
   ]
  },
  {
   "cell_type": "code",
   "execution_count": 19,
   "metadata": {},
   "outputs": [
    {
     "data": {
      "text/plain": [
       "0.612579456874313"
      ]
     },
     "execution_count": 19,
     "metadata": {},
     "output_type": "execute_result"
    }
   ],
   "source": [
    "# mean test mcc\n",
    "np.mean(pca_test_mcc)"
   ]
  },
  {
   "cell_type": "code",
   "execution_count": 20,
   "metadata": {},
   "outputs": [
    {
     "data": {
      "text/plain": [
       "0.5909841546323944"
      ]
     },
     "execution_count": 20,
     "metadata": {},
     "output_type": "execute_result"
    }
   ],
   "source": [
    "# mean test macro average f1\n",
    "np.mean(pca_test_f1)"
   ]
  },
  {
   "cell_type": "code",
   "execution_count": 22,
   "metadata": {},
   "outputs": [
    {
     "data": {
      "text/plain": [
       "0.6282944627005651"
      ]
     },
     "execution_count": 22,
     "metadata": {},
     "output_type": "execute_result"
    }
   ],
   "source": [
    "# mean test balanced_accuracy\n",
    "np.mean(pca_test_balanced_accuracy)"
   ]
  },
  {
   "cell_type": "code",
   "execution_count": null,
   "metadata": {},
   "outputs": [],
   "source": []
  },
  {
   "cell_type": "code",
   "execution_count": null,
   "metadata": {},
   "outputs": [],
   "source": [
    "# classifier_PCA=SVC(C=10, kernel='rbf', gamma =.0001, random_state=1962)"
   ]
  },
  {
   "cell_type": "code",
   "execution_count": null,
   "metadata": {},
   "outputs": [],
   "source": []
  },
  {
   "cell_type": "code",
   "execution_count": null,
   "metadata": {},
   "outputs": [],
   "source": [
    "make_classification_report(\n",
    "    y_true=y_test,\n",
    "    y_pred=predictions,\n",
    "    model=classifier_PCA,\n",
    "    x = X_test_pca,\n",
    "    label_encoder=le,\n",
    "    print_report=True\n",
    ")\n",
    "pass"
   ]
  },
  {
   "cell_type": "code",
   "execution_count": null,
   "metadata": {},
   "outputs": [],
   "source": [
    "make_confusion_matrix(\n",
    "    y_true=y_test,\n",
    "    y_pred=predictions,\n",
    "    model=classifier_PCA,\n",
    "    x = X_test_pca,\n",
    "    normalize=\"true\",  \n",
    "    autoweight_sample=True,  \n",
    "    label_encoder=le,  \n",
    "    figsize=(8, 8),  \n",
    ")\n",
    "pass"
   ]
  },
  {
   "cell_type": "code",
   "execution_count": null,
   "metadata": {},
   "outputs": [],
   "source": [
    "fig, axes = plt.subplots(3, 2, figsize=(10, 15))\n",
    "\n",
    "title = r\"Learning Curves (SVM, RBF kernel, C=10, $\\gamma=0.0001$)\"\n",
    "# SVC is more expensive so we do a lower number of CV iterations:\n",
    "cv = ShuffleSplit(n_splits=5, test_size=0.2, random_state=0)\n",
    "estimator = classifier\n",
    "plot_learning_curve(\n",
    "    estimator, title, X_train_scaled, y_train, axes=axes[:, 1], ylim=(0.7, 1.01), cv=cv, n_jobs=4\n",
    ")\n",
    "\n",
    "plt.show()"
   ]
  },
  {
   "cell_type": "code",
   "execution_count": null,
   "metadata": {},
   "outputs": [],
   "source": []
  }
 ],
 "metadata": {
  "kernelspec": {
   "display_name": "Python 3",
   "language": "python",
   "name": "python3"
  },
  "language_info": {
   "codemirror_mode": {
    "name": "ipython",
    "version": 3
   },
   "file_extension": ".py",
   "mimetype": "text/x-python",
   "name": "python",
   "nbconvert_exporter": "python",
   "pygments_lexer": "ipython3",
   "version": "3.8.10"
  }
 },
 "nbformat": 4,
 "nbformat_minor": 5
}
