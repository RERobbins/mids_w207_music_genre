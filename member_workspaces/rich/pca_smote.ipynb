{
 "cells": [
  {
   "cell_type": "code",
   "execution_count": 1,
   "id": "0b0fa2d6-cb14-41dc-bcee-68bdbb430d82",
   "metadata": {},
   "outputs": [
    {
     "name": "stderr",
     "output_type": "stream",
     "text": [
      "/Users/rerobbins/opt/anaconda3/envs/tf/lib/python3.9/site-packages/xgboost/compat.py:36: FutureWarning: pandas.Int64Index is deprecated and will be removed from pandas in a future version. Use pandas.Index with the appropriate dtype instead.\n",
      "  from pandas import MultiIndex, Int64Index\n"
     ]
    }
   ],
   "source": [
    "import sys\n",
    "\n",
    "import matplotlib.pyplot as plt\n",
    "import numpy as np\n",
    "import pandas as pd\n",
    "from imblearn.combine import SMOTEENN, SMOTETomek\n",
    "from imblearn.over_sampling import SMOTE\n",
    "from sklearn.decomposition import PCA\n",
    "\n",
    "from sklearn.svm import SVC\n",
    "from xgboost import XGBClassifier, XGBRFClassifier\n",
    "\n",
    "sys.path.append(\"../../\")\n",
    "\n",
    "from helpers.split import make_train_test_split, tag_label_feature_split\n",
    "\n",
    "DATASET_FOLDER = \"../../datasets/\""
   ]
  },
  {
   "cell_type": "code",
   "execution_count": 57,
   "id": "cb333121-e563-49ad-b6b4-0bf566351626",
   "metadata": {},
   "outputs": [],
   "source": [
    "# Lets start with our all features dataset\n",
    "df = pd.read_pickle(DATASET_FOLDER + \"dataset_01_mean.pickle\")"
   ]
  },
  {
   "cell_type": "code",
   "execution_count": 58,
   "id": "14c39c54-bdfb-43b5-a96c-2dff2601af76",
   "metadata": {},
   "outputs": [],
   "source": [
    "# And get our labels, a label encoder and features\n",
    "_, (y, le), X = tag_label_feature_split(df, label_format=\"encoded\")"
   ]
  },
  {
   "cell_type": "code",
   "execution_count": 59,
   "id": "ece1cb8a-f796-4873-9050-3cb71fcd3166",
   "metadata": {},
   "outputs": [
    {
     "name": "stdout",
     "output_type": "stream",
     "text": [
      "X.shape= (21351, 13) y.shape= (21351,)\n"
     ]
    }
   ],
   "source": [
    "print(f\"{X.shape= } {y.shape= }\")"
   ]
  },
  {
   "cell_type": "code",
   "execution_count": 60,
   "id": "2c1296a1-a68e-409a-8063-84908eafcb96",
   "metadata": {},
   "outputs": [],
   "source": [
    "# Use our helper function to handle the train, test split with scaling\n",
    "X_train_std, X_test_std, y_train, y_test = make_train_test_split(\n",
    "    X, y, test_size=0.2, random_state=10, stratify=y, x_scaler=\"standard\", \n",
    ")"
   ]
  },
  {
   "cell_type": "code",
   "execution_count": 61,
   "id": "ec37ba18-21ca-4cf6-94e6-d7c3f82d00bd",
   "metadata": {},
   "outputs": [],
   "source": [
    "# Use PCA (and capture 95% of the underling variance)\n",
    "pca = PCA(n_components=0.95, random_state=10)\n",
    "X_train_std = pca.fit_transform(X_train_std)\n",
    "X_test_std = pca.transform(X_test_std)"
   ]
  },
  {
   "cell_type": "code",
   "execution_count": 62,
   "id": "c0163a58-70ad-43e7-a2fc-f48f8f25feb9",
   "metadata": {},
   "outputs": [
    {
     "name": "stdout",
     "output_type": "stream",
     "text": [
      "X_train_std.shape= (17080, 11) X_test_std.shape= (4271, 11)\n"
     ]
    }
   ],
   "source": [
    "print(f\"{X_train_std.shape= } {X_test_std.shape= }\")"
   ]
  },
  {
   "cell_type": "code",
   "execution_count": 77,
   "id": "40c68fc0-c85d-40d8-ac30-cf33dd84694c",
   "metadata": {},
   "outputs": [],
   "source": [
    "# Use SMOTEENN to resample the training data\n",
    "\n",
    "smt = SMOTETomek (random_state=10, n_jobs=-1, sampling_strategy='all')\n",
    "X_train_resampled, y_train_resampled = smt.fit_resample(X_train_std, y_train)"
   ]
  },
  {
   "cell_type": "code",
   "execution_count": 78,
   "id": "11172bfb-2863-4394-987e-c9f94c7d8f78",
   "metadata": {},
   "outputs": [
    {
     "name": "stdout",
     "output_type": "stream",
     "text": [
      "[[   0 4262]\n",
      " [   1 4127]\n",
      " [   2 4270]\n",
      " [   3 4273]\n",
      " [   4 4250]\n",
      " [   5 4257]\n",
      " [   6 4271]\n",
      " [   7 4038]\n",
      " [   8 4265]\n",
      " [   9 4135]]\n"
     ]
    }
   ],
   "source": [
    "unique, counts = np.unique(y_train_resampled, return_counts=True)\n",
    "print(np.asarray((unique, counts)).T)"
   ]
  },
  {
   "cell_type": "code",
   "execution_count": 79,
   "id": "97455827-b49b-400d-a64e-2a16ebda42e4",
   "metadata": {},
   "outputs": [
    {
     "data": {
      "text/plain": [
       "(array([ 374., 4221.,  327.,  289., 1701., 1241.,  665., 4274.,  788.,\n",
       "        3200.]),\n",
       " array([0. , 0.9, 1.8, 2.7, 3.6, 4.5, 5.4, 6.3, 7.2, 8.1, 9. ]),\n",
       " <BarContainer object of 10 artists>)"
      ]
     },
     "execution_count": 79,
     "metadata": {},
     "output_type": "execute_result"
    },
    {
     "data": {
      "image/png": "[encoded data removed]",
      "text/plain": [
       "<Figure size 432x288 with 1 Axes>"
      ]
     },
     "metadata": {
      "needs_background": "light"
     },
     "output_type": "display_data"
    }
   ],
   "source": [
    "plt.hist(y_train)"
   ]
  },
  {
   "cell_type": "code",
   "execution_count": 80,
   "id": "edc3fdd3-e1b4-4bd0-9c1f-1f78db4876e7",
   "metadata": {},
   "outputs": [
    {
     "data": {
      "text/plain": [
       "(array([4262., 4127., 4270., 4273., 4250., 4257., 4271., 4038., 4265.,\n",
       "        4135.]),\n",
       " array([0. , 0.9, 1.8, 2.7, 3.6, 4.5, 5.4, 6.3, 7.2, 8.1, 9. ]),\n",
       " <BarContainer object of 10 artists>)"
      ]
     },
     "execution_count": 80,
     "metadata": {},
     "output_type": "execute_result"
    },
    {
     "data": {
      "image/png": "[encoded data removed]",
      "text/plain": [
       "<Figure size 432x288 with 1 Axes>"
      ]
     },
     "metadata": {
      "needs_background": "light"
     },
     "output_type": "display_data"
    }
   ],
   "source": [
    "plt.hist(y_train_resampled)"
   ]
  },
  {
   "cell_type": "code",
   "execution_count": 81,
   "id": "5ddb6d30-b488-4de9-8fa4-1b8d8e488985",
   "metadata": {},
   "outputs": [],
   "source": [
    "model = model = SVC()\n",
    "\n",
    "history = model.fit(X_train_resampled, y_train_resampled)"
   ]
  },
  {
   "cell_type": "code",
   "execution_count": 82,
   "id": "25f0fd22-dddb-4c5b-8631-05d7640353fd",
   "metadata": {},
   "outputs": [],
   "source": [
    "train_accuracy = model.score(X_train_resampled, y_train_resampled)\n",
    "test_accuracy = model.score(X_test_std, y_test)"
   ]
  },
  {
   "cell_type": "code",
   "execution_count": 83,
   "id": "1534c716-5989-496a-a6df-5b1a3d638a39",
   "metadata": {},
   "outputs": [
    {
     "data": {
      "text/plain": [
       "0.5992455158014616"
      ]
     },
     "execution_count": 83,
     "metadata": {},
     "output_type": "execute_result"
    }
   ],
   "source": [
    "train_accuracy"
   ]
  },
  {
   "cell_type": "code",
   "execution_count": 84,
   "id": "c02c76d8-43f7-4650-842e-d822bcdb223b",
   "metadata": {},
   "outputs": [
    {
     "data": {
      "text/plain": [
       "0.42893935846405995"
      ]
     },
     "execution_count": 84,
     "metadata": {},
     "output_type": "execute_result"
    }
   ],
   "source": [
    "test_accuracy"
   ]
  },
  {
   "cell_type": "code",
   "execution_count": null,
   "id": "f9ed01e1-b5f3-4432-b530-b848f8d7adc5",
   "metadata": {},
   "outputs": [],
   "source": []
  }
 ],
 "metadata": {
  "kernelspec": {
   "display_name": "Python [conda env:tf] *",
   "language": "python",
   "name": "conda-env-tf-py"
  },
  "language_info": {
   "codemirror_mode": {
    "name": "ipython",
    "version": 3
   },
   "file_extension": ".py",
   "mimetype": "text/x-python",
   "name": "python",
   "nbconvert_exporter": "python",
   "pygments_lexer": "ipython3",
   "version": "3.9.12"
  }
 },
 "nbformat": 4,
 "nbformat_minor": 5
}
