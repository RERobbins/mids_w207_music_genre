{
 "cells": [
  {
   "cell_type": "markdown",
   "id": "dd0060a7-74bf-4941-a0f0-71f7784c6f5b",
   "metadata": {},
   "source": [
    "## This notebook is built from the combined dataset that Lawrence has assembled and supplements Danny's EDA."
   ]
  },
  {
   "cell_type": "markdown",
   "id": "fee4e6cc-d5f9-4ac6-bbd1-2544faac5686",
   "metadata": {
    "tags": []
   },
   "source": [
    "### Imports and Useful Constants"
   ]
  },
  {
   "cell_type": "code",
   "execution_count": 65,
   "id": "f9d044ca-8c9d-4e07-b108-de7380b98268",
   "metadata": {},
   "outputs": [],
   "source": [
    "import pickle\n",
    "from collections import Counter\n",
    "\n",
    "import numpy as np\n",
    "import pandas as pd\n",
    "from sklearn.preprocessing import OneHotEncoder\n",
    "\n",
    "filename = \"../../datasets/acousticbrainz_all_flattened_labeled.pickle.bz2\"\n",
    "\n",
    "base_genres = [\n",
    "    \"genre_blues\",\n",
    "    \"genre_classical\",\n",
    "    \"genre_country\",\n",
    "    \"genre_disco\",\n",
    "    \"genre_hiphop\",\n",
    "    \"genre_jazz\",\n",
    "    \"genre_metal\",\n",
    "    \"genre_pop\",\n",
    "    \"genre_reggae\",\n",
    "    \"genre_rock\",\n",
    "]\n",
    "\n",
    "subgenres = [\n",
    "    \"genre_orchestral\",\n",
    "    \"genre_poprock\",\n",
    "    \"genre_instrumentalpop\",\n",
    "    \"genre_rap\",\n",
    "    \"genre_punkrock\",\n",
    "    \"genre_symphonic\",\n",
    "    \"genre_instrumentalrock\",\n",
    "    \"genre_hardrock\",\n",
    "    \"genre_grunge\",\n",
    "    \"genre_rocknroll\",\n",
    "    \"genre_acidjazz\",\n",
    "    \"genre_heavymetal\",\n",
    "    \"genre_classicrock\",\n",
    "    \"genre_jazzfusion\",\n",
    "    \"genre_alternativerock\",\n",
    "]\n",
    "\n",
    "unidentified_genres = [\n",
    "    \"genre_alternative\",\n",
    "    \"genre_dance\",\n",
    "    \"genre_indie\",\n",
    "    \"genre_folk\",\n",
    "    \"genre_popfolk\",\n",
    "    \"genre_triphop\",\n",
    "    \"genre_funk\",\n",
    "    \"genre_rnb\",\n",
    "    \"genre_soul\",\n",
    "    \"genre_ska\",\n",
    "    \"genre_groove\",\n",
    "    \"genre_jazzfunk\",\n",
    "    \"genre_swing\",\n",
    "    \"genre_bossanova\",\n",
    "    \"genre_bluesrock\",\n",
    "]\n",
    "\n",
    "# The genre_map_ranks dictionary provides the ranking genre mapping\n",
    "# that we can use to disambiguate tracks with multiple base tags.\n",
    "# Here, a lower number is a higher rank where the idea is to prefer\n",
    "# lesser represented genres over more well represented genres in the\n",
    "# data set.\n",
    "\n",
    "genre_map_ranks = {\n",
    "    \"genre_disco\": 1,\n",
    "    \"genre_country\": 2,\n",
    "    \"genre_blues\": 3,\n",
    "    \"genre_metal\": 4,\n",
    "    \"genre_reggae\": 5,\n",
    "    \"genre_jazz\": 6,\n",
    "    \"genre_hiphop\": 7,\n",
    "    \"genre_rock\": 8,\n",
    "    \"genre_classical\": 9,\n",
    "    \"genre_pop\": 10,\n",
    "}"
   ]
  },
  {
   "cell_type": "markdown",
   "id": "1f211eb0-8e8b-4afa-b438-761866d94cac",
   "metadata": {},
   "source": [
    "### Useful Functions"
   ]
  },
  {
   "cell_type": "code",
   "execution_count": 2,
   "id": "ebcdee92-7721-45c9-bb78-e5b0afb3fadd",
   "metadata": {},
   "outputs": [],
   "source": [
    "def to_base_genre_label(index):\n",
    "    \"\"\"Return the base genre label for a dense genre index.\"\"\"\n",
    "    return base_genres[index]\n",
    "\n",
    "\n",
    "def to_base_genre_index(label):\n",
    "    \"\"\"Return the dense genre index for a base genre label.\"\"\"\n",
    "    return base_genres.index(label)\n",
    "\n",
    "\n",
    "def multi_genre_mapping_label(genre_ids, verbose=False):\n",
    "    \"\"\"Return the highest rank base genre label given a list of dense genre indices.\"\"\"\n",
    "\n",
    "    if verbose:\n",
    "        print(\n",
    "            f\"Evaluating: {[to_base_genre_label(id) for id in genre_ids]} ==> \", end=\"\"\n",
    "        )\n",
    "\n",
    "    rank_list = [genre_map_ranks[to_base_genre_label(id)] for id in genre_ids]\n",
    "    best_rank = min(rank_list)\n",
    "    for (key, val) in genre_map_ranks.items():\n",
    "        if best_rank == val:\n",
    "            if verbose:\n",
    "                print(key)\n",
    "            return key\n",
    "    return None"
   ]
  },
  {
   "cell_type": "markdown",
   "id": "d9748f9c-cd06-4825-85f5-c49a04b836f5",
   "metadata": {},
   "source": [
    "### Load dataset and confirm shape"
   ]
  },
  {
   "cell_type": "code",
   "execution_count": 3,
   "id": "e361d37a-cb36-48c1-92e9-76977d99c830",
   "metadata": {},
   "outputs": [
    {
     "data": {
      "text/plain": [
       "(55213, 2877)"
      ]
     },
     "execution_count": 3,
     "metadata": {},
     "output_type": "execute_result"
    }
   ],
   "source": [
    "df = pd.read_pickle(filename)\n",
    "df.shape"
   ]
  },
  {
   "cell_type": "markdown",
   "id": "500e4683-f485-4c84-9c3d-7e3f98caf396",
   "metadata": {},
   "source": [
    "### Remove features since we are only looking at labels in this notebook"
   ]
  },
  {
   "cell_type": "code",
   "execution_count": 4,
   "id": "df060d55-f8f0-4a8b-8150-3b3bcc20fcf8",
   "metadata": {},
   "outputs": [
    {
     "data": {
      "text/plain": [
       "(55213, 95)"
      ]
     },
     "execution_count": 4,
     "metadata": {},
     "output_type": "execute_result"
    }
   ],
   "source": [
    "df = df.filter(regex=\"^genre\")\n",
    "df.shape"
   ]
  },
  {
   "cell_type": "code",
   "execution_count": 5,
   "id": "b6f2169f-f7c0-4f7a-9787-359422da6848",
   "metadata": {},
   "outputs": [
    {
     "data": {
      "text/plain": [
       "Index(['genre_60s', 'genre_70s', 'genre_80s', 'genre_90s', 'genre_acidjazz',\n",
       "       'genre_african', 'genre_alternative', 'genre_alternativerock',\n",
       "       'genre_ambient', 'genre_atmospheric', 'genre_blues', 'genre_bluesrock',\n",
       "       'genre_bossanova', 'genre_breakbeat', 'genre_celtic', 'genre_chanson',\n",
       "       'genre_chillout', 'genre_choir', 'genre_classical', 'genre_classicrock',\n",
       "       'genre_club', 'genre_contemporary', 'genre_country', 'genre_dance',\n",
       "       'genre_darkambient', 'genre_darkwave', 'genre_deephouse', 'genre_disco',\n",
       "       'genre_downtempo', 'genre_drumnbass', 'genre_dub', 'genre_dubstep',\n",
       "       'genre_easylistening', 'genre_edm', 'genre_electronic',\n",
       "       'genre_electronica', 'genre_electropop', 'genre_ethnicrock',\n",
       "       'genre_ethno', 'genre_eurodance', 'genre_experimental', 'genre_folk',\n",
       "       'genre_funk', 'genre_fusion', 'genre_gothic', 'genre_groove',\n",
       "       'genre_grunge', 'genre_hard', 'genre_hardrock', 'genre_heavymetal',\n",
       "       'genre_hiphop', 'genre_house', 'genre_idm', 'genre_improvisation',\n",
       "       'genre_indie', 'genre_industrial', 'genre_instrumentalpop',\n",
       "       'genre_instrumentalrock', 'genre_jazz', 'genre_jazzfunk',\n",
       "       'genre_jazzfusion', 'genre_latin', 'genre_lounge', 'genre_medieval',\n",
       "       'genre_metal', 'genre_minimal', 'genre_newage', 'genre_newwave',\n",
       "       'genre_orchestral', 'genre_oriental', 'genre_pop', 'genre_popfolk',\n",
       "       'genre_poprock', 'genre_postrock', 'genre_progressive',\n",
       "       'genre_psychedelic', 'genre_punkrock', 'genre_rap', 'genre_reggae',\n",
       "       'genre_rnb', 'genre_rock', 'genre_rocknroll', 'genre_singersongwriter',\n",
       "       'genre_ska', 'genre_soul', 'genre_soundtrack', 'genre_swing',\n",
       "       'genre_symphonic', 'genre_synthpop', 'genre_techno', 'genre_trance',\n",
       "       'genre_tribal', 'genre_triphop', 'genre_world', 'genre_worldfusion'],\n",
       "      dtype='object')"
      ]
     },
     "execution_count": 5,
     "metadata": {},
     "output_type": "execute_result"
    }
   ],
   "source": [
    "df.columns"
   ]
  },
  {
   "cell_type": "markdown",
   "id": "cd69cc7a-d66e-4975-8ebf-813c872deb12",
   "metadata": {},
   "source": [
    "#### Partition the data into tracks tagged as being in one of the base genres and those that are not."
   ]
  },
  {
   "cell_type": "code",
   "execution_count": 6,
   "id": "7e63b91b-7fc1-4486-b3b6-40d12c51ab31",
   "metadata": {},
   "outputs": [],
   "source": [
    "df_base = df[df[base_genres].sum(axis=1) > 0]\n",
    "df_base_excluded = df[df[base_genres].sum(axis=1) == 0]"
   ]
  },
  {
   "cell_type": "code",
   "execution_count": 7,
   "id": "fe54a8bb-dfb7-405d-99e3-aa7f5a134e7b",
   "metadata": {},
   "outputs": [
    {
     "name": "stdout",
     "output_type": "stream",
     "text": [
      "Tracks in base genre set: 25,562\n",
      "Tracks not in base genre set: 29,651\n",
      "Tracks in complete collection: 55,213\n"
     ]
    }
   ],
   "source": [
    "print(f\"Tracks in base genre set: {df_base.shape[0]:,}\")\n",
    "print(f\"Tracks not in base genre set: {df_base_excluded.shape[0]:,}\")\n",
    "print(f\"Tracks in complete collection: {df.shape[0]:,}\")"
   ]
  },
  {
   "cell_type": "markdown",
   "id": "f1ac81c7-d0f5-4a2b-87af-b11faaf14c23",
   "metadata": {},
   "source": [
    "#### Replicating base class genre information from Danny's EDA"
   ]
  },
  {
   "cell_type": "code",
   "execution_count": 8,
   "id": "5b84d38c-1e27-4553-8dc0-2e550e26a5dd",
   "metadata": {},
   "outputs": [
    {
     "data": {
      "text/plain": [
       "genre_pop          7805\n",
       "genre_rock         6865\n",
       "genre_classical    5602\n",
       "genre_hiphop       2657\n",
       "genre_jazz         2371\n",
       "genre_metal        1435\n",
       "genre_reggae       1245\n",
       "genre_blues        1082\n",
       "genre_country       584\n",
       "genre_disco         447\n",
       "dtype: int64"
      ]
     },
     "execution_count": 8,
     "metadata": {},
     "output_type": "execute_result"
    }
   ],
   "source": [
    "df[base_genres].sum(axis=0).sort_values(ascending=False)"
   ]
  },
  {
   "cell_type": "markdown",
   "id": "509dbc92-f0bc-4eab-940f-70537052dbbb",
   "metadata": {},
   "source": [
    "Let's see how many tracks in this set are in more than one base genre.  In order to look at this, we only look at the columns in the data frame that correspond to base labels."
   ]
  },
  {
   "cell_type": "code",
   "execution_count": 9,
   "id": "f8985de3-7c39-4e0c-8d43-42d33aad2aea",
   "metadata": {},
   "outputs": [
    {
     "data": {
      "text/plain": [
       "(25562, 10)"
      ]
     },
     "execution_count": 9,
     "metadata": {},
     "output_type": "execute_result"
    }
   ],
   "source": [
    "df_base[base_genres].shape"
   ]
  },
  {
   "cell_type": "code",
   "execution_count": 10,
   "id": "28d282ce-7f6a-4d13-bc5e-f7177c7bc7f1",
   "metadata": {},
   "outputs": [
    {
     "data": {
      "text/plain": [
       "1    21351\n",
       "2     3910\n",
       "3      283\n",
       "4       17\n",
       "5        1\n",
       "dtype: int64"
      ]
     },
     "execution_count": 10,
     "metadata": {},
     "output_type": "execute_result"
    }
   ],
   "source": [
    "df_base[base_genres].sum(axis=1).value_counts()"
   ]
  },
  {
   "cell_type": "code",
   "execution_count": 11,
   "id": "f3802a28-9235-4509-b993-1e3a6d2b1ac9",
   "metadata": {},
   "outputs": [
    {
     "data": {
      "text/plain": [
       "<AxesSubplot:>"
      ]
     },
     "execution_count": 11,
     "metadata": {},
     "output_type": "execute_result"
    },
    {
     "data": {
      "image/png": "[encoded data removed]",
      "text/plain": [
       "<Figure size 432x288 with 1 Axes>"
      ]
     },
     "metadata": {
      "needs_background": "light"
     },
     "output_type": "display_data"
    }
   ],
   "source": [
    "df_base[base_genres].sum(axis=1).hist()"
   ]
  },
  {
   "cell_type": "markdown",
   "id": "60212813-d41f-47ef-bbf7-fcea2eae30c9",
   "metadata": {},
   "source": [
    "#### Replicating identified subgenre information from Danny's EDA\n",
    "\n",
    "Note that these tracks are those that are not already tagged as being in any of our base genres.  So, for example, if a track is tagged as `rock` and also `rocknroll` it is captured above and not reflected here.  On the other hand, if a track is tagged as `rocknroll` but not otherwise tagged as being in one of our base genres, it is reflected here.  So, any mapping we do with this set into the base groups will be effective to enlarge the base groups."
   ]
  },
  {
   "cell_type": "code",
   "execution_count": 12,
   "id": "f6e19c07-6bdb-49c8-8696-ef09da99cf9e",
   "metadata": {},
   "outputs": [
    {
     "data": {
      "text/plain": [
       "genre_orchestral          2432\n",
       "genre_poprock             2172\n",
       "genre_instrumentalpop     1477\n",
       "genre_rap                  993\n",
       "genre_punkrock             729\n",
       "genre_symphonic            712\n",
       "genre_instrumentalrock     598\n",
       "genre_hardrock             490\n",
       "genre_grunge               375\n",
       "genre_rocknroll            342\n",
       "genre_acidjazz             304\n",
       "genre_heavymetal           222\n",
       "genre_classicrock          222\n",
       "genre_jazzfusion           221\n",
       "genre_alternativerock      215\n",
       "dtype: int64"
      ]
     },
     "execution_count": 12,
     "metadata": {},
     "output_type": "execute_result"
    }
   ],
   "source": [
    "df[subgenres].sum(axis=0).sort_values(ascending=False)"
   ]
  },
  {
   "cell_type": "markdown",
   "id": "8396bbc0-8b3f-4bd2-8f9c-c9ab4138acd0",
   "metadata": {},
   "source": [
    "#### Continuing EDA after removing any tracks in either the base or identified subgenre collections\n",
    "\n",
    "This analysis continues by looking at the set of tracks in the `unidentified_genres` set after removing from consideration any tracks in either the base set or identified subgenre set."
   ]
  },
  {
   "cell_type": "code",
   "execution_count": 13,
   "id": "430a73fa-a7cf-478f-9c3e-ad299d8d139e",
   "metadata": {},
   "outputs": [],
   "source": [
    "df_base_and_subgenres_excluded = df[df[base_genres + subgenres].sum(axis=1) == 0]"
   ]
  },
  {
   "cell_type": "markdown",
   "id": "4360a45c-c876-400d-841b-7470619b0883",
   "metadata": {},
   "source": [
    "If we built this dataframe correctly, none of the tracks should have `base` or `identified_subgenres` tags."
   ]
  },
  {
   "cell_type": "code",
   "execution_count": 14,
   "id": "5dbcb963-f9d6-4e3b-ac68-b774543d8efe",
   "metadata": {},
   "outputs": [
    {
     "data": {
      "text/plain": [
       "genre_acidjazz            0\n",
       "genre_alternativerock     0\n",
       "genre_blues               0\n",
       "genre_classical           0\n",
       "genre_classicrock         0\n",
       "genre_country             0\n",
       "genre_disco               0\n",
       "genre_grunge              0\n",
       "genre_hardrock            0\n",
       "genre_heavymetal          0\n",
       "genre_hiphop              0\n",
       "genre_instrumentalpop     0\n",
       "genre_instrumentalrock    0\n",
       "genre_jazz                0\n",
       "genre_jazzfusion          0\n",
       "genre_metal               0\n",
       "genre_orchestral          0\n",
       "genre_pop                 0\n",
       "genre_poprock             0\n",
       "genre_punkrock            0\n",
       "genre_rap                 0\n",
       "genre_reggae              0\n",
       "genre_rock                0\n",
       "genre_rocknroll           0\n",
       "genre_symphonic           0\n",
       "dtype: int64"
      ]
     },
     "execution_count": 14,
     "metadata": {},
     "output_type": "execute_result"
    }
   ],
   "source": [
    "temp = df_base_and_subgenres_excluded.sum(axis=0)\n",
    "temp[temp == 0]"
   ]
  },
  {
   "cell_type": "markdown",
   "id": "90d3cd1d-988d-4738-87bf-599e7eea6140",
   "metadata": {},
   "source": [
    "It looks like we have excluded tracks that are in the base or identified_subgenre groups from the set as we hoped.  Now lets focus on the distribution of unidentified_genre tracks in what remains."
   ]
  },
  {
   "cell_type": "code",
   "execution_count": 15,
   "id": "0fff2d6f-8b53-4428-8a6f-9cda431a8c62",
   "metadata": {},
   "outputs": [
    {
     "data": {
      "text/plain": [
       "genre_alternative    1767\n",
       "genre_dance          2059\n",
       "genre_indie           758\n",
       "genre_folk           1120\n",
       "genre_popfolk         691\n",
       "genre_triphop         692\n",
       "genre_funk            398\n",
       "genre_rnb             154\n",
       "genre_soul            139\n",
       "genre_ska              58\n",
       "genre_groove           84\n",
       "genre_jazzfunk         68\n",
       "genre_swing            40\n",
       "genre_bossanova        54\n",
       "genre_bluesrock         3\n",
       "dtype: int64"
      ]
     },
     "execution_count": 15,
     "metadata": {},
     "output_type": "execute_result"
    }
   ],
   "source": [
    "df_base_and_subgenres_excluded[unidentified_genres].sum(axis=0)"
   ]
  },
  {
   "cell_type": "code",
   "execution_count": 16,
   "id": "95b45a60-8636-49d5-9d6c-8c7df12e7a34",
   "metadata": {},
   "outputs": [
    {
     "data": {
      "text/plain": [
       "genre_folk           1120\n",
       "genre_electronic    12977\n",
       "genre_edm             243\n",
       "dtype: int64"
      ]
     },
     "execution_count": 16,
     "metadata": {},
     "output_type": "execute_result"
    }
   ],
   "source": [
    "df_base_and_subgenres_excluded[[\"genre_folk\", \"genre_electronic\", \"genre_edm\"]].sum(\n",
    "    axis=0\n",
    ")"
   ]
  },
  {
   "cell_type": "markdown",
   "id": "2639b92e-56f6-4115-a783-2c16ecab0df8",
   "metadata": {},
   "source": [
    "### Techniques for Working With Our One Hot Encoded Classes\n",
    "\n",
    "Here are some simple techniques we can uses to convert from sparse to dense genre encodings and to get a label for a genre from a dense encoding.\n",
    "\n",
    "The numpy argmax function can be used to identify the index in a cluster of one hot encoded columns where the 1 value appears.  If two columns have a 1 in them the function will return the first such column index.  We will likely want to avoid this with data preprocessing.\n",
    "\n",
    "Here are the dense encodings for the first fifteen tracks in base genres.  I'm not sure how to do this directly in pandas so I convert the data frame to a numpy array first."
   ]
  },
  {
   "cell_type": "code",
   "execution_count": 17,
   "id": "95c65e82-7823-4a4e-afb7-6f4d6f387303",
   "metadata": {},
   "outputs": [
    {
     "data": {
      "text/plain": [
       "array([1, 9, 1, 5, 9, 5, 1, 7, 8, 9, 7, 1, 1, 7, 5])"
      ]
     },
     "metadata": {},
     "output_type": "display_data"
    }
   ],
   "source": [
    "some_dense_encodings = np.argmax(df_base[base_genres].to_numpy(), axis=1)[:15]\n",
    "display(some_dense_encodings)"
   ]
  },
  {
   "cell_type": "markdown",
   "id": "c57c2bf4-2209-41e8-9e4d-1d82c07e6fb1",
   "metadata": {},
   "source": [
    "Here are the one hot encodings for the same first fifteen tracks."
   ]
  },
  {
   "cell_type": "code",
   "execution_count": 18,
   "id": "486d361f-6273-4743-a122-15f2dadc5517",
   "metadata": {},
   "outputs": [
    {
     "data": {
      "text/html": [
       "<div>\n",
       "<style scoped>\n",
       "    .dataframe tbody tr th:only-of-type {\n",
       "        vertical-align: middle;\n",
       "    }\n",
       "\n",
       "    .dataframe tbody tr th {\n",
       "        vertical-align: top;\n",
       "    }\n",
       "\n",
       "    .dataframe thead th {\n",
       "        text-align: right;\n",
       "    }\n",
       "</style>\n",
       "<table border=\"1\" class=\"dataframe\">\n",
       "  <thead>\n",
       "    <tr style=\"text-align: right;\">\n",
       "      <th></th>\n",
       "      <th>genre_blues</th>\n",
       "      <th>genre_classical</th>\n",
       "      <th>genre_country</th>\n",
       "      <th>genre_disco</th>\n",
       "      <th>genre_hiphop</th>\n",
       "      <th>genre_jazz</th>\n",
       "      <th>genre_metal</th>\n",
       "      <th>genre_pop</th>\n",
       "      <th>genre_reggae</th>\n",
       "      <th>genre_rock</th>\n",
       "    </tr>\n",
       "  </thead>\n",
       "  <tbody>\n",
       "    <tr>\n",
       "      <th>2</th>\n",
       "      <td>0</td>\n",
       "      <td>1</td>\n",
       "      <td>0</td>\n",
       "      <td>0</td>\n",
       "      <td>0</td>\n",
       "      <td>0</td>\n",
       "      <td>0</td>\n",
       "      <td>0</td>\n",
       "      <td>0</td>\n",
       "      <td>0</td>\n",
       "    </tr>\n",
       "    <tr>\n",
       "      <th>3</th>\n",
       "      <td>0</td>\n",
       "      <td>0</td>\n",
       "      <td>0</td>\n",
       "      <td>0</td>\n",
       "      <td>0</td>\n",
       "      <td>0</td>\n",
       "      <td>0</td>\n",
       "      <td>0</td>\n",
       "      <td>0</td>\n",
       "      <td>1</td>\n",
       "    </tr>\n",
       "    <tr>\n",
       "      <th>4</th>\n",
       "      <td>0</td>\n",
       "      <td>1</td>\n",
       "      <td>0</td>\n",
       "      <td>0</td>\n",
       "      <td>0</td>\n",
       "      <td>0</td>\n",
       "      <td>0</td>\n",
       "      <td>0</td>\n",
       "      <td>0</td>\n",
       "      <td>0</td>\n",
       "    </tr>\n",
       "    <tr>\n",
       "      <th>5</th>\n",
       "      <td>0</td>\n",
       "      <td>0</td>\n",
       "      <td>0</td>\n",
       "      <td>0</td>\n",
       "      <td>0</td>\n",
       "      <td>1</td>\n",
       "      <td>0</td>\n",
       "      <td>0</td>\n",
       "      <td>0</td>\n",
       "      <td>0</td>\n",
       "    </tr>\n",
       "    <tr>\n",
       "      <th>6</th>\n",
       "      <td>0</td>\n",
       "      <td>0</td>\n",
       "      <td>0</td>\n",
       "      <td>0</td>\n",
       "      <td>0</td>\n",
       "      <td>0</td>\n",
       "      <td>0</td>\n",
       "      <td>0</td>\n",
       "      <td>0</td>\n",
       "      <td>1</td>\n",
       "    </tr>\n",
       "    <tr>\n",
       "      <th>11</th>\n",
       "      <td>0</td>\n",
       "      <td>0</td>\n",
       "      <td>0</td>\n",
       "      <td>0</td>\n",
       "      <td>0</td>\n",
       "      <td>1</td>\n",
       "      <td>0</td>\n",
       "      <td>0</td>\n",
       "      <td>0</td>\n",
       "      <td>0</td>\n",
       "    </tr>\n",
       "    <tr>\n",
       "      <th>12</th>\n",
       "      <td>0</td>\n",
       "      <td>1</td>\n",
       "      <td>0</td>\n",
       "      <td>0</td>\n",
       "      <td>0</td>\n",
       "      <td>0</td>\n",
       "      <td>0</td>\n",
       "      <td>0</td>\n",
       "      <td>0</td>\n",
       "      <td>0</td>\n",
       "    </tr>\n",
       "    <tr>\n",
       "      <th>14</th>\n",
       "      <td>0</td>\n",
       "      <td>0</td>\n",
       "      <td>0</td>\n",
       "      <td>0</td>\n",
       "      <td>0</td>\n",
       "      <td>0</td>\n",
       "      <td>0</td>\n",
       "      <td>1</td>\n",
       "      <td>0</td>\n",
       "      <td>0</td>\n",
       "    </tr>\n",
       "    <tr>\n",
       "      <th>16</th>\n",
       "      <td>0</td>\n",
       "      <td>0</td>\n",
       "      <td>0</td>\n",
       "      <td>0</td>\n",
       "      <td>0</td>\n",
       "      <td>0</td>\n",
       "      <td>0</td>\n",
       "      <td>0</td>\n",
       "      <td>1</td>\n",
       "      <td>0</td>\n",
       "    </tr>\n",
       "    <tr>\n",
       "      <th>19</th>\n",
       "      <td>0</td>\n",
       "      <td>0</td>\n",
       "      <td>0</td>\n",
       "      <td>0</td>\n",
       "      <td>0</td>\n",
       "      <td>0</td>\n",
       "      <td>0</td>\n",
       "      <td>0</td>\n",
       "      <td>0</td>\n",
       "      <td>1</td>\n",
       "    </tr>\n",
       "    <tr>\n",
       "      <th>20</th>\n",
       "      <td>0</td>\n",
       "      <td>0</td>\n",
       "      <td>0</td>\n",
       "      <td>0</td>\n",
       "      <td>0</td>\n",
       "      <td>0</td>\n",
       "      <td>0</td>\n",
       "      <td>1</td>\n",
       "      <td>0</td>\n",
       "      <td>1</td>\n",
       "    </tr>\n",
       "    <tr>\n",
       "      <th>22</th>\n",
       "      <td>0</td>\n",
       "      <td>1</td>\n",
       "      <td>0</td>\n",
       "      <td>0</td>\n",
       "      <td>0</td>\n",
       "      <td>0</td>\n",
       "      <td>0</td>\n",
       "      <td>0</td>\n",
       "      <td>0</td>\n",
       "      <td>0</td>\n",
       "    </tr>\n",
       "    <tr>\n",
       "      <th>23</th>\n",
       "      <td>0</td>\n",
       "      <td>1</td>\n",
       "      <td>0</td>\n",
       "      <td>0</td>\n",
       "      <td>0</td>\n",
       "      <td>0</td>\n",
       "      <td>0</td>\n",
       "      <td>0</td>\n",
       "      <td>0</td>\n",
       "      <td>0</td>\n",
       "    </tr>\n",
       "    <tr>\n",
       "      <th>25</th>\n",
       "      <td>0</td>\n",
       "      <td>0</td>\n",
       "      <td>0</td>\n",
       "      <td>0</td>\n",
       "      <td>0</td>\n",
       "      <td>0</td>\n",
       "      <td>0</td>\n",
       "      <td>1</td>\n",
       "      <td>0</td>\n",
       "      <td>0</td>\n",
       "    </tr>\n",
       "    <tr>\n",
       "      <th>26</th>\n",
       "      <td>0</td>\n",
       "      <td>0</td>\n",
       "      <td>0</td>\n",
       "      <td>0</td>\n",
       "      <td>0</td>\n",
       "      <td>1</td>\n",
       "      <td>0</td>\n",
       "      <td>0</td>\n",
       "      <td>0</td>\n",
       "      <td>0</td>\n",
       "    </tr>\n",
       "  </tbody>\n",
       "</table>\n",
       "</div>"
      ],
      "text/plain": [
       "    genre_blues  genre_classical  genre_country  genre_disco  genre_hiphop  \\\n",
       "2             0                1              0            0             0   \n",
       "3             0                0              0            0             0   \n",
       "4             0                1              0            0             0   \n",
       "5             0                0              0            0             0   \n",
       "6             0                0              0            0             0   \n",
       "11            0                0              0            0             0   \n",
       "12            0                1              0            0             0   \n",
       "14            0                0              0            0             0   \n",
       "16            0                0              0            0             0   \n",
       "19            0                0              0            0             0   \n",
       "20            0                0              0            0             0   \n",
       "22            0                1              0            0             0   \n",
       "23            0                1              0            0             0   \n",
       "25            0                0              0            0             0   \n",
       "26            0                0              0            0             0   \n",
       "\n",
       "    genre_jazz  genre_metal  genre_pop  genre_reggae  genre_rock  \n",
       "2            0            0          0             0           0  \n",
       "3            0            0          0             0           1  \n",
       "4            0            0          0             0           0  \n",
       "5            1            0          0             0           0  \n",
       "6            0            0          0             0           1  \n",
       "11           1            0          0             0           0  \n",
       "12           0            0          0             0           0  \n",
       "14           0            0          1             0           0  \n",
       "16           0            0          0             1           0  \n",
       "19           0            0          0             0           1  \n",
       "20           0            0          1             0           1  \n",
       "22           0            0          0             0           0  \n",
       "23           0            0          0             0           0  \n",
       "25           0            0          1             0           0  \n",
       "26           1            0          0             0           0  "
      ]
     },
     "execution_count": 18,
     "metadata": {},
     "output_type": "execute_result"
    }
   ],
   "source": [
    "df_base[base_genres][:15]"
   ]
  },
  {
   "cell_type": "markdown",
   "id": "f9277ff0-9015-498e-b5f4-ffd2a81915af",
   "metadata": {},
   "source": [
    "Map from a list of base genre indexes to the label strings using the to_base_genre_label helper function defined above."
   ]
  },
  {
   "cell_type": "code",
   "execution_count": 19,
   "id": "639e370b-6443-4754-ae59-1a2a95f33b46",
   "metadata": {},
   "outputs": [
    {
     "data": {
      "text/plain": [
       "['genre_classical',\n",
       " 'genre_rock',\n",
       " 'genre_classical',\n",
       " 'genre_jazz',\n",
       " 'genre_rock',\n",
       " 'genre_jazz',\n",
       " 'genre_classical',\n",
       " 'genre_pop',\n",
       " 'genre_reggae',\n",
       " 'genre_rock',\n",
       " 'genre_pop',\n",
       " 'genre_classical',\n",
       " 'genre_classical',\n",
       " 'genre_pop',\n",
       " 'genre_jazz']"
      ]
     },
     "execution_count": 19,
     "metadata": {},
     "output_type": "execute_result"
    }
   ],
   "source": [
    "[*map(to_base_genre_label, some_dense_encodings)]"
   ]
  },
  {
   "cell_type": "markdown",
   "id": "f3bbafd2-f92b-45fd-9ec6-f5af9a7dbaeb",
   "metadata": {},
   "source": [
    "### Tracks Tagged In More Than One Base Genre\n",
    "\n",
    "Lets take a closer look at the 4,211 tracks that are tagged to more than one base genre using a mask to identify tracks with more than one of our base genre fields set to 1."
   ]
  },
  {
   "cell_type": "code",
   "execution_count": 20,
   "id": "cbf7735f-f53c-4753-8070-f8a6ffa933d4",
   "metadata": {},
   "outputs": [
    {
     "data": {
      "text/html": [
       "<div>\n",
       "<style scoped>\n",
       "    .dataframe tbody tr th:only-of-type {\n",
       "        vertical-align: middle;\n",
       "    }\n",
       "\n",
       "    .dataframe tbody tr th {\n",
       "        vertical-align: top;\n",
       "    }\n",
       "\n",
       "    .dataframe thead th {\n",
       "        text-align: right;\n",
       "    }\n",
       "</style>\n",
       "<table border=\"1\" class=\"dataframe\">\n",
       "  <thead>\n",
       "    <tr style=\"text-align: right;\">\n",
       "      <th></th>\n",
       "      <th>genre_blues</th>\n",
       "      <th>genre_classical</th>\n",
       "      <th>genre_country</th>\n",
       "      <th>genre_disco</th>\n",
       "      <th>genre_hiphop</th>\n",
       "      <th>genre_jazz</th>\n",
       "      <th>genre_metal</th>\n",
       "      <th>genre_pop</th>\n",
       "      <th>genre_reggae</th>\n",
       "      <th>genre_rock</th>\n",
       "    </tr>\n",
       "  </thead>\n",
       "  <tbody>\n",
       "    <tr>\n",
       "      <th>20</th>\n",
       "      <td>0</td>\n",
       "      <td>0</td>\n",
       "      <td>0</td>\n",
       "      <td>0</td>\n",
       "      <td>0</td>\n",
       "      <td>0</td>\n",
       "      <td>0</td>\n",
       "      <td>1</td>\n",
       "      <td>0</td>\n",
       "      <td>1</td>\n",
       "    </tr>\n",
       "    <tr>\n",
       "      <th>39</th>\n",
       "      <td>0</td>\n",
       "      <td>0</td>\n",
       "      <td>0</td>\n",
       "      <td>0</td>\n",
       "      <td>0</td>\n",
       "      <td>0</td>\n",
       "      <td>1</td>\n",
       "      <td>0</td>\n",
       "      <td>0</td>\n",
       "      <td>1</td>\n",
       "    </tr>\n",
       "    <tr>\n",
       "      <th>42</th>\n",
       "      <td>1</td>\n",
       "      <td>0</td>\n",
       "      <td>0</td>\n",
       "      <td>0</td>\n",
       "      <td>0</td>\n",
       "      <td>0</td>\n",
       "      <td>0</td>\n",
       "      <td>0</td>\n",
       "      <td>0</td>\n",
       "      <td>1</td>\n",
       "    </tr>\n",
       "    <tr>\n",
       "      <th>43</th>\n",
       "      <td>0</td>\n",
       "      <td>0</td>\n",
       "      <td>0</td>\n",
       "      <td>0</td>\n",
       "      <td>0</td>\n",
       "      <td>0</td>\n",
       "      <td>0</td>\n",
       "      <td>1</td>\n",
       "      <td>0</td>\n",
       "      <td>1</td>\n",
       "    </tr>\n",
       "    <tr>\n",
       "      <th>56</th>\n",
       "      <td>0</td>\n",
       "      <td>1</td>\n",
       "      <td>0</td>\n",
       "      <td>0</td>\n",
       "      <td>0</td>\n",
       "      <td>0</td>\n",
       "      <td>0</td>\n",
       "      <td>1</td>\n",
       "      <td>0</td>\n",
       "      <td>1</td>\n",
       "    </tr>\n",
       "  </tbody>\n",
       "</table>\n",
       "</div>"
      ],
      "text/plain": [
       "    genre_blues  genre_classical  genre_country  genre_disco  genre_hiphop  \\\n",
       "20            0                0              0            0             0   \n",
       "39            0                0              0            0             0   \n",
       "42            1                0              0            0             0   \n",
       "43            0                0              0            0             0   \n",
       "56            0                1              0            0             0   \n",
       "\n",
       "    genre_jazz  genre_metal  genre_pop  genre_reggae  genre_rock  \n",
       "20           0            0          1             0           1  \n",
       "39           0            1          0             0           1  \n",
       "42           0            0          0             0           1  \n",
       "43           0            0          1             0           1  \n",
       "56           0            0          1             0           1  "
      ]
     },
     "metadata": {},
     "output_type": "display_data"
    },
    {
     "data": {
      "text/plain": [
       "(4211, 10)"
      ]
     },
     "metadata": {},
     "output_type": "display_data"
    }
   ],
   "source": [
    "mask = df_base[base_genres].sum(axis=1) > 1\n",
    "multiple_base_tracks = df_base[mask][base_genres]\n",
    "display(multiple_base_tracks[0:5])\n",
    "display(multiple_base_tracks.shape)"
   ]
  },
  {
   "cell_type": "markdown",
   "id": "921f08fb-eda4-45af-b1f4-a3b8531e6e23",
   "metadata": {},
   "source": [
    "We use np.nonzero to identify indexes with nonzero genre column values in each row.  We convert the numpy arrays that nonzero returns to tuples so we can drop the tuples into a Counter object (something we can't do with arrays since arrays are not hashable).\n",
    "\n",
    "It turns out that there are 78 unique groupings that appear in our dataset."
   ]
  },
  {
   "cell_type": "code",
   "execution_count": 21,
   "id": "e2ea8013-a1a7-4f10-baa4-031f78200f5f",
   "metadata": {},
   "outputs": [
    {
     "data": {
      "text/plain": [
       "[(7, 9), (6, 9), (0, 9), (7, 9), (1, 7, 9)]"
      ]
     },
     "execution_count": 21,
     "metadata": {},
     "output_type": "execute_result"
    }
   ],
   "source": [
    "multiple_base_genres = [tuple(row.nonzero()[0]) for row in multiple_base_tracks.values]\n",
    "multiple_base_genres[0:5]"
   ]
  },
  {
   "cell_type": "code",
   "execution_count": 22,
   "id": "1b0e43e9-3d78-4857-8264-3b9e43a23e49",
   "metadata": {},
   "outputs": [],
   "source": [
    "counts = Counter(multiple_base_genres)"
   ]
  },
  {
   "cell_type": "code",
   "execution_count": 23,
   "id": "3fbb781f-f556-45aa-820d-ddd60b8498b3",
   "metadata": {},
   "outputs": [
    {
     "data": {
      "text/plain": [
       "78"
      ]
     },
     "execution_count": 23,
     "metadata": {},
     "output_type": "execute_result"
    }
   ],
   "source": [
    "len(counts)"
   ]
  },
  {
   "cell_type": "code",
   "execution_count": 24,
   "id": "4a49b669-9406-427c-a910-ddb7ea2819aa",
   "metadata": {},
   "outputs": [
    {
     "name": "stdout",
     "output_type": "stream",
     "text": [
      "1667 ['genre_pop', 'genre_rock']\n",
      " 503 ['genre_metal', 'genre_rock']\n",
      " 239 ['genre_hiphop', 'genre_jazz']\n",
      " 207 ['genre_blues', 'genre_rock']\n",
      " 148 ['genre_hiphop', 'genre_pop']\n",
      " 141 ['genre_jazz', 'genre_pop']\n",
      " 123 ['genre_classical', 'genre_jazz']\n",
      " 101 ['genre_blues', 'genre_jazz']\n",
      "  80 ['genre_classical', 'genre_pop']\n",
      "  76 ['genre_blues', 'genre_pop']\n",
      "  72 ['genre_reggae', 'genre_rock']\n",
      "  71 ['genre_hiphop', 'genre_reggae']\n",
      "  65 ['genre_disco', 'genre_pop']\n",
      "  63 ['genre_blues', 'genre_pop', 'genre_rock']\n",
      "  59 ['genre_jazz', 'genre_rock']\n",
      "  50 ['genre_country', 'genre_rock']\n",
      "  43 ['genre_country', 'genre_pop']\n",
      "  39 ['genre_pop', 'genre_reggae']\n",
      "  34 ['genre_classical', 'genre_metal']\n",
      "  33 ['genre_pop', 'genre_reggae', 'genre_rock']\n",
      "  29 ['genre_classical', 'genre_rock']\n",
      "  29 ['genre_blues', 'genre_country']\n",
      "  28 ['genre_hiphop', 'genre_rock']\n",
      "  27 ['genre_jazz', 'genre_reggae']\n",
      "  22 ['genre_jazz', 'genre_pop', 'genre_rock']\n",
      "  21 ['genre_blues', 'genre_jazz', 'genre_rock']\n",
      "  15 ['genre_blues', 'genre_country', 'genre_rock']\n",
      "  15 ['genre_blues', 'genre_classical']\n",
      "  14 ['genre_metal', 'genre_pop', 'genre_rock']\n",
      "  13 ['genre_blues', 'genre_jazz', 'genre_pop']\n",
      "  12 ['genre_blues', 'genre_jazz', 'genre_pop', 'genre_rock']\n",
      "  12 ['genre_blues', 'genre_metal', 'genre_rock']\n",
      "  12 ['genre_blues', 'genre_hiphop', 'genre_jazz']\n",
      "  12 ['genre_classical', 'genre_hiphop']\n",
      "  11 ['genre_metal', 'genre_pop']\n",
      "  11 ['genre_blues', 'genre_classical', 'genre_jazz']\n",
      "   9 ['genre_hiphop', 'genre_pop', 'genre_rock']\n",
      "   9 ['genre_classical', 'genre_metal', 'genre_rock']\n",
      "   7 ['genre_jazz', 'genre_metal']\n",
      "   7 ['genre_country', 'genre_pop', 'genre_rock']\n",
      "   7 ['genre_blues', 'genre_reggae']\n",
      "   7 ['genre_classical', 'genre_country']\n",
      "   7 ['genre_blues', 'genre_country', 'genre_jazz']\n",
      "   6 ['genre_disco', 'genre_pop', 'genre_rock']\n",
      "   5 ['genre_blues', 'genre_country', 'genre_jazz', 'genre_rock']\n",
      "   4 ['genre_disco', 'genre_rock']\n",
      "   4 ['genre_jazz', 'genre_metal', 'genre_rock']\n",
      "   3 ['genre_jazz', 'genre_reggae', 'genre_rock']\n",
      "   2 ['genre_classical', 'genre_pop', 'genre_rock']\n",
      "   2 ['genre_blues', 'genre_country', 'genre_pop']\n",
      "   2 ['genre_blues', 'genre_hiphop']\n",
      "   2 ['genre_metal', 'genre_reggae']\n",
      "   2 ['genre_country', 'genre_metal']\n",
      "   2 ['genre_classical', 'genre_country', 'genre_rock']\n",
      "   2 ['genre_disco', 'genre_jazz']\n",
      "   2 ['genre_disco', 'genre_hiphop']\n",
      "   2 ['genre_hiphop', 'genre_metal']\n",
      "   1 ['genre_hiphop', 'genre_reggae', 'genre_rock']\n",
      "   1 ['genre_disco', 'genre_pop', 'genre_reggae']\n",
      "   1 ['genre_jazz', 'genre_pop', 'genre_reggae']\n",
      "   1 ['genre_country', 'genre_jazz', 'genre_pop']\n",
      "   1 ['genre_hiphop', 'genre_pop', 'genre_reggae']\n",
      "   1 ['genre_blues', 'genre_jazz', 'genre_metal']\n",
      "   1 ['genre_hiphop', 'genre_metal', 'genre_rock']\n",
      "   1 ['genre_disco', 'genre_hiphop', 'genre_pop']\n",
      "   1 ['genre_disco', 'genre_metal', 'genre_rock']\n",
      "   1 ['genre_blues', 'genre_country', 'genre_jazz', 'genre_pop', 'genre_rock']\n",
      "   1 ['genre_blues', 'genre_disco']\n",
      "   1 ['genre_classical', 'genre_disco']\n",
      "   1 ['genre_country', 'genre_jazz']\n",
      "   1 ['genre_blues', 'genre_country', 'genre_reggae']\n",
      "   1 ['genre_classical', 'genre_jazz', 'genre_pop']\n",
      "   1 ['genre_metal', 'genre_reggae', 'genre_rock']\n",
      "   1 ['genre_hiphop', 'genre_jazz', 'genre_pop']\n",
      "   1 ['genre_country', 'genre_jazz', 'genre_rock']\n",
      "   1 ['genre_country', 'genre_disco']\n",
      "   1 ['genre_hiphop', 'genre_jazz', 'genre_rock']\n",
      "   1 ['genre_disco', 'genre_jazz', 'genre_pop']\n"
     ]
    }
   ],
   "source": [
    "for count in counts.most_common():\n",
    "    print(f\"{count[1]:>4} {[*map(to_base_genre_label, count[0])]}\")"
   ]
  },
  {
   "cell_type": "markdown",
   "id": "bc22affa-ccbb-41d4-8dec-26718d260074",
   "metadata": {},
   "source": [
    "#### The `multi_genre_mapping_label` function.\n",
    "\n",
    "One strategy for handling tracks tagged to multiple base genres is to prefer the least represented genre in the set of genres for which a track is associated.  The `multi_genre_mapping_label` function relies on the `genre_map_ranks` dictionary to implement that strategy.  The function returns the preferred genre label for a set of dense genre labels.  \n",
    "\n",
    "The following cell shows the operation of that function on each unique collection in the dataset."
   ]
  },
  {
   "cell_type": "code",
   "execution_count": 25,
   "id": "17bdeb51-4d30-40b0-8eb0-41b07be4df45",
   "metadata": {},
   "outputs": [
    {
     "name": "stdout",
     "output_type": "stream",
     "text": [
      "Evaluating: ['genre_hiphop', 'genre_rock'] ==> genre_hiphop\n",
      "Evaluating: ['genre_classical', 'genre_jazz', 'genre_pop'] ==> genre_jazz\n",
      "Evaluating: ['genre_blues', 'genre_jazz', 'genre_pop', 'genre_rock'] ==> genre_blues\n",
      "Evaluating: ['genre_reggae', 'genre_rock'] ==> genre_reggae\n",
      "Evaluating: ['genre_blues', 'genre_jazz'] ==> genre_blues\n",
      "Evaluating: ['genre_disco', 'genre_pop', 'genre_reggae'] ==> genre_disco\n",
      "Evaluating: ['genre_blues', 'genre_pop'] ==> genre_blues\n",
      "Evaluating: ['genre_hiphop', 'genre_metal', 'genre_rock'] ==> genre_metal\n",
      "Evaluating: ['genre_hiphop', 'genre_pop', 'genre_reggae'] ==> genre_reggae\n",
      "Evaluating: ['genre_hiphop', 'genre_reggae', 'genre_rock'] ==> genre_reggae\n",
      "Evaluating: ['genre_blues', 'genre_rock'] ==> genre_blues\n",
      "Evaluating: ['genre_blues', 'genre_country', 'genre_jazz', 'genre_rock'] ==> genre_country\n",
      "Evaluating: ['genre_blues', 'genre_country', 'genre_reggae'] ==> genre_country\n",
      "Evaluating: ['genre_jazz', 'genre_pop'] ==> genre_jazz\n",
      "Evaluating: ['genre_blues', 'genre_country'] ==> genre_country\n",
      "Evaluating: ['genre_classical', 'genre_disco'] ==> genre_disco\n",
      "Evaluating: ['genre_disco', 'genre_hiphop', 'genre_pop'] ==> genre_disco\n",
      "Evaluating: ['genre_jazz', 'genre_pop', 'genre_rock'] ==> genre_jazz\n",
      "Evaluating: ['genre_blues', 'genre_pop', 'genre_rock'] ==> genre_blues\n",
      "Evaluating: ['genre_blues', 'genre_classical', 'genre_jazz'] ==> genre_blues\n",
      "Evaluating: ['genre_jazz', 'genre_rock'] ==> genre_jazz\n",
      "Evaluating: ['genre_classical', 'genre_jazz'] ==> genre_jazz\n",
      "Evaluating: ['genre_pop', 'genre_rock'] ==> genre_rock\n",
      "Evaluating: ['genre_disco', 'genre_jazz'] ==> genre_disco\n",
      "Evaluating: ['genre_classical', 'genre_pop'] ==> genre_classical\n",
      "Evaluating: ['genre_country', 'genre_metal'] ==> genre_country\n",
      "Evaluating: ['genre_blues', 'genre_country', 'genre_jazz'] ==> genre_country\n",
      "Evaluating: ['genre_metal', 'genre_pop', 'genre_rock'] ==> genre_metal\n",
      "Evaluating: ['genre_blues', 'genre_jazz', 'genre_pop'] ==> genre_blues\n",
      "Evaluating: ['genre_classical', 'genre_metal', 'genre_rock'] ==> genre_metal\n",
      "Evaluating: ['genre_disco', 'genre_pop'] ==> genre_disco\n",
      "Evaluating: ['genre_hiphop', 'genre_metal'] ==> genre_metal\n",
      "Evaluating: ['genre_hiphop', 'genre_pop', 'genre_rock'] ==> genre_hiphop\n",
      "Evaluating: ['genre_classical', 'genre_rock'] ==> genre_rock\n",
      "Evaluating: ['genre_blues', 'genre_country', 'genre_pop'] ==> genre_country\n",
      "Evaluating: ['genre_metal', 'genre_reggae'] ==> genre_metal\n",
      "Evaluating: ['genre_blues', 'genre_jazz', 'genre_rock'] ==> genre_blues\n",
      "Evaluating: ['genre_disco', 'genre_rock'] ==> genre_disco\n",
      "Evaluating: ['genre_jazz', 'genre_metal'] ==> genre_metal\n",
      "Evaluating: ['genre_hiphop', 'genre_reggae'] ==> genre_reggae\n",
      "Evaluating: ['genre_pop', 'genre_reggae', 'genre_rock'] ==> genre_reggae\n",
      "Evaluating: ['genre_country', 'genre_pop', 'genre_rock'] ==> genre_country\n",
      "Evaluating: ['genre_classical', 'genre_country'] ==> genre_country\n",
      "Evaluating: ['genre_blues', 'genre_hiphop'] ==> genre_blues\n",
      "Evaluating: ['genre_jazz', 'genre_pop', 'genre_reggae'] ==> genre_reggae\n",
      "Evaluating: ['genre_disco', 'genre_metal', 'genre_rock'] ==> genre_disco\n",
      "Evaluating: ['genre_blues', 'genre_metal', 'genre_rock'] ==> genre_blues\n",
      "Evaluating: ['genre_jazz', 'genre_reggae', 'genre_rock'] ==> genre_reggae\n",
      "Evaluating: ['genre_jazz', 'genre_metal', 'genre_rock'] ==> genre_metal\n",
      "Evaluating: ['genre_hiphop', 'genre_jazz', 'genre_pop'] ==> genre_jazz\n",
      "Evaluating: ['genre_classical', 'genre_country', 'genre_rock'] ==> genre_country\n",
      "Evaluating: ['genre_classical', 'genre_hiphop'] ==> genre_hiphop\n",
      "Evaluating: ['genre_country', 'genre_disco'] ==> genre_disco\n",
      "Evaluating: ['genre_blues', 'genre_hiphop', 'genre_jazz'] ==> genre_blues\n",
      "Evaluating: ['genre_disco', 'genre_hiphop'] ==> genre_disco\n",
      "Evaluating: ['genre_country', 'genre_jazz', 'genre_pop'] ==> genre_country\n",
      "Evaluating: ['genre_disco', 'genre_pop', 'genre_rock'] ==> genre_disco\n",
      "Evaluating: ['genre_hiphop', 'genre_jazz', 'genre_rock'] ==> genre_jazz\n",
      "Evaluating: ['genre_classical', 'genre_metal'] ==> genre_metal\n",
      "Evaluating: ['genre_blues', 'genre_reggae'] ==> genre_blues\n",
      "Evaluating: ['genre_country', 'genre_jazz'] ==> genre_country\n",
      "Evaluating: ['genre_blues', 'genre_jazz', 'genre_metal'] ==> genre_blues\n",
      "Evaluating: ['genre_hiphop', 'genre_jazz'] ==> genre_jazz\n",
      "Evaluating: ['genre_metal', 'genre_reggae', 'genre_rock'] ==> genre_metal\n",
      "Evaluating: ['genre_classical', 'genre_pop', 'genre_rock'] ==> genre_rock\n",
      "Evaluating: ['genre_country', 'genre_jazz', 'genre_rock'] ==> genre_country\n",
      "Evaluating: ['genre_blues', 'genre_classical'] ==> genre_blues\n",
      "Evaluating: ['genre_country', 'genre_pop'] ==> genre_country\n",
      "Evaluating: ['genre_metal', 'genre_pop'] ==> genre_metal\n",
      "Evaluating: ['genre_blues', 'genre_country', 'genre_rock'] ==> genre_country\n",
      "Evaluating: ['genre_hiphop', 'genre_pop'] ==> genre_hiphop\n",
      "Evaluating: ['genre_disco', 'genre_jazz', 'genre_pop'] ==> genre_disco\n",
      "Evaluating: ['genre_jazz', 'genre_reggae'] ==> genre_reggae\n",
      "Evaluating: ['genre_blues', 'genre_disco'] ==> genre_disco\n",
      "Evaluating: ['genre_blues', 'genre_country', 'genre_jazz', 'genre_pop', 'genre_rock'] ==> genre_country\n",
      "Evaluating: ['genre_country', 'genre_rock'] ==> genre_country\n",
      "Evaluating: ['genre_metal', 'genre_rock'] ==> genre_metal\n",
      "Evaluating: ['genre_pop', 'genre_reggae'] ==> genre_reggae\n"
     ]
    }
   ],
   "source": [
    "for tags in set(multiple_base_genres):\n",
    "    multi_genre_mapping_label(tags, verbose=True)"
   ]
  },
  {
   "cell_type": "markdown",
   "id": "2a7a9d48-d544-4c25-a826-84c51e973d9a",
   "metadata": {},
   "source": [
    "#### What does the base dataset look like if we eliminate tracks tagged to multiple genres?"
   ]
  },
  {
   "cell_type": "code",
   "execution_count": 26,
   "id": "15ad1aed-61d6-4213-b282-1d46020d70ca",
   "metadata": {},
   "outputs": [
    {
     "data": {
      "text/plain": [
       "(21351, 10)"
      ]
     },
     "execution_count": 26,
     "metadata": {},
     "output_type": "execute_result"
    }
   ],
   "source": [
    "mask = df_base[base_genres].sum(axis=1) == 1\n",
    "df_base[mask][base_genres].shape"
   ]
  },
  {
   "cell_type": "code",
   "execution_count": 27,
   "id": "2c88cd4d-9aab-4e1b-93e6-ef3646e3e764",
   "metadata": {},
   "outputs": [
    {
     "data": {
      "text/html": [
       "<div>\n",
       "<style scoped>\n",
       "    .dataframe tbody tr th:only-of-type {\n",
       "        vertical-align: middle;\n",
       "    }\n",
       "\n",
       "    .dataframe tbody tr th {\n",
       "        vertical-align: top;\n",
       "    }\n",
       "\n",
       "    .dataframe thead th {\n",
       "        text-align: right;\n",
       "    }\n",
       "</style>\n",
       "<table border=\"1\" class=\"dataframe\">\n",
       "  <thead>\n",
       "    <tr style=\"text-align: right;\">\n",
       "      <th></th>\n",
       "      <th>w/tracks in multiple classes</th>\n",
       "      <th>w/o tracks in multiple classes</th>\n",
       "    </tr>\n",
       "  </thead>\n",
       "  <tbody>\n",
       "    <tr>\n",
       "      <th>genre_pop</th>\n",
       "      <td>7805</td>\n",
       "      <td>5343</td>\n",
       "    </tr>\n",
       "    <tr>\n",
       "      <th>genre_rock</th>\n",
       "      <td>6865</td>\n",
       "      <td>4000</td>\n",
       "    </tr>\n",
       "    <tr>\n",
       "      <th>genre_classical</th>\n",
       "      <td>5602</td>\n",
       "      <td>5276</td>\n",
       "    </tr>\n",
       "    <tr>\n",
       "      <th>genre_hiphop</th>\n",
       "      <td>2657</td>\n",
       "      <td>2126</td>\n",
       "    </tr>\n",
       "    <tr>\n",
       "      <th>genre_jazz</th>\n",
       "      <td>2371</td>\n",
       "      <td>1552</td>\n",
       "    </tr>\n",
       "    <tr>\n",
       "      <th>genre_metal</th>\n",
       "      <td>1435</td>\n",
       "      <td>831</td>\n",
       "    </tr>\n",
       "    <tr>\n",
       "      <th>genre_reggae</th>\n",
       "      <td>1245</td>\n",
       "      <td>985</td>\n",
       "    </tr>\n",
       "    <tr>\n",
       "      <th>genre_blues</th>\n",
       "      <td>1082</td>\n",
       "      <td>468</td>\n",
       "    </tr>\n",
       "    <tr>\n",
       "      <th>genre_country</th>\n",
       "      <td>584</td>\n",
       "      <td>409</td>\n",
       "    </tr>\n",
       "    <tr>\n",
       "      <th>genre_disco</th>\n",
       "      <td>447</td>\n",
       "      <td>361</td>\n",
       "    </tr>\n",
       "  </tbody>\n",
       "</table>\n",
       "</div>"
      ],
      "text/plain": [
       "                 w/tracks in multiple classes  w/o tracks in multiple classes\n",
       "genre_pop                                7805                            5343\n",
       "genre_rock                               6865                            4000\n",
       "genre_classical                          5602                            5276\n",
       "genre_hiphop                             2657                            2126\n",
       "genre_jazz                               2371                            1552\n",
       "genre_metal                              1435                             831\n",
       "genre_reggae                             1245                             985\n",
       "genre_blues                              1082                             468\n",
       "genre_country                             584                             409\n",
       "genre_disco                               447                             361"
      ]
     },
     "metadata": {},
     "output_type": "display_data"
    }
   ],
   "source": [
    "display(\n",
    "    pd.merge(\n",
    "        df_base[base_genres]\n",
    "        .sum(axis=0)\n",
    "        .sort_values(ascending=False)\n",
    "        .rename(\"w/tracks in multiple classes\"),\n",
    "        df_base[mask][base_genres]\n",
    "        .sum(axis=0)\n",
    "        .sort_values(ascending=False)\n",
    "        .rename(\"w/o tracks in multiple classes\"),\n",
    "        right_index=True,\n",
    "        left_index=True,\n",
    "    )\n",
    ")"
   ]
  },
  {
   "cell_type": "markdown",
   "id": "cb4bd780-90f3-49d7-be9b-b9c5d0a7e8d2",
   "metadata": {},
   "source": [
    "#### Assume dataset limited to base genre tracks tagged to a single genre\n",
    "Create a single column data frame with labels"
   ]
  },
  {
   "cell_type": "code",
   "execution_count": 46,
   "id": "007cd496-b748-4fe8-9d53-839c3bfa885e",
   "metadata": {},
   "outputs": [],
   "source": [
    "pro_forma_Y = df_base[mask][base_genres].copy()"
   ]
  },
  {
   "cell_type": "code",
   "execution_count": 47,
   "id": "656401c8-fe98-4ba7-b39c-ecc18380215b",
   "metadata": {},
   "outputs": [
    {
     "data": {
      "text/html": [
       "<div>\n",
       "<style scoped>\n",
       "    .dataframe tbody tr th:only-of-type {\n",
       "        vertical-align: middle;\n",
       "    }\n",
       "\n",
       "    .dataframe tbody tr th {\n",
       "        vertical-align: top;\n",
       "    }\n",
       "\n",
       "    .dataframe thead th {\n",
       "        text-align: right;\n",
       "    }\n",
       "</style>\n",
       "<table border=\"1\" class=\"dataframe\">\n",
       "  <thead>\n",
       "    <tr style=\"text-align: right;\">\n",
       "      <th></th>\n",
       "      <th>genre_blues</th>\n",
       "      <th>genre_classical</th>\n",
       "      <th>genre_country</th>\n",
       "      <th>genre_disco</th>\n",
       "      <th>genre_hiphop</th>\n",
       "      <th>genre_jazz</th>\n",
       "      <th>genre_metal</th>\n",
       "      <th>genre_pop</th>\n",
       "      <th>genre_reggae</th>\n",
       "      <th>genre_rock</th>\n",
       "    </tr>\n",
       "  </thead>\n",
       "  <tbody>\n",
       "    <tr>\n",
       "      <th>2</th>\n",
       "      <td>0</td>\n",
       "      <td>1</td>\n",
       "      <td>0</td>\n",
       "      <td>0</td>\n",
       "      <td>0</td>\n",
       "      <td>0</td>\n",
       "      <td>0</td>\n",
       "      <td>0</td>\n",
       "      <td>0</td>\n",
       "      <td>0</td>\n",
       "    </tr>\n",
       "    <tr>\n",
       "      <th>3</th>\n",
       "      <td>0</td>\n",
       "      <td>0</td>\n",
       "      <td>0</td>\n",
       "      <td>0</td>\n",
       "      <td>0</td>\n",
       "      <td>0</td>\n",
       "      <td>0</td>\n",
       "      <td>0</td>\n",
       "      <td>0</td>\n",
       "      <td>1</td>\n",
       "    </tr>\n",
       "    <tr>\n",
       "      <th>4</th>\n",
       "      <td>0</td>\n",
       "      <td>1</td>\n",
       "      <td>0</td>\n",
       "      <td>0</td>\n",
       "      <td>0</td>\n",
       "      <td>0</td>\n",
       "      <td>0</td>\n",
       "      <td>0</td>\n",
       "      <td>0</td>\n",
       "      <td>0</td>\n",
       "    </tr>\n",
       "    <tr>\n",
       "      <th>5</th>\n",
       "      <td>0</td>\n",
       "      <td>0</td>\n",
       "      <td>0</td>\n",
       "      <td>0</td>\n",
       "      <td>0</td>\n",
       "      <td>1</td>\n",
       "      <td>0</td>\n",
       "      <td>0</td>\n",
       "      <td>0</td>\n",
       "      <td>0</td>\n",
       "    </tr>\n",
       "    <tr>\n",
       "      <th>6</th>\n",
       "      <td>0</td>\n",
       "      <td>0</td>\n",
       "      <td>0</td>\n",
       "      <td>0</td>\n",
       "      <td>0</td>\n",
       "      <td>0</td>\n",
       "      <td>0</td>\n",
       "      <td>0</td>\n",
       "      <td>0</td>\n",
       "      <td>1</td>\n",
       "    </tr>\n",
       "    <tr>\n",
       "      <th>...</th>\n",
       "      <td>...</td>\n",
       "      <td>...</td>\n",
       "      <td>...</td>\n",
       "      <td>...</td>\n",
       "      <td>...</td>\n",
       "      <td>...</td>\n",
       "      <td>...</td>\n",
       "      <td>...</td>\n",
       "      <td>...</td>\n",
       "      <td>...</td>\n",
       "    </tr>\n",
       "    <tr>\n",
       "      <th>55203</th>\n",
       "      <td>0</td>\n",
       "      <td>0</td>\n",
       "      <td>1</td>\n",
       "      <td>0</td>\n",
       "      <td>0</td>\n",
       "      <td>0</td>\n",
       "      <td>0</td>\n",
       "      <td>0</td>\n",
       "      <td>0</td>\n",
       "      <td>0</td>\n",
       "    </tr>\n",
       "    <tr>\n",
       "      <th>55206</th>\n",
       "      <td>0</td>\n",
       "      <td>1</td>\n",
       "      <td>0</td>\n",
       "      <td>0</td>\n",
       "      <td>0</td>\n",
       "      <td>0</td>\n",
       "      <td>0</td>\n",
       "      <td>0</td>\n",
       "      <td>0</td>\n",
       "      <td>0</td>\n",
       "    </tr>\n",
       "    <tr>\n",
       "      <th>55208</th>\n",
       "      <td>0</td>\n",
       "      <td>1</td>\n",
       "      <td>0</td>\n",
       "      <td>0</td>\n",
       "      <td>0</td>\n",
       "      <td>0</td>\n",
       "      <td>0</td>\n",
       "      <td>0</td>\n",
       "      <td>0</td>\n",
       "      <td>0</td>\n",
       "    </tr>\n",
       "    <tr>\n",
       "      <th>55209</th>\n",
       "      <td>0</td>\n",
       "      <td>0</td>\n",
       "      <td>0</td>\n",
       "      <td>0</td>\n",
       "      <td>0</td>\n",
       "      <td>0</td>\n",
       "      <td>0</td>\n",
       "      <td>1</td>\n",
       "      <td>0</td>\n",
       "      <td>0</td>\n",
       "    </tr>\n",
       "    <tr>\n",
       "      <th>55211</th>\n",
       "      <td>0</td>\n",
       "      <td>0</td>\n",
       "      <td>0</td>\n",
       "      <td>0</td>\n",
       "      <td>0</td>\n",
       "      <td>0</td>\n",
       "      <td>0</td>\n",
       "      <td>1</td>\n",
       "      <td>0</td>\n",
       "      <td>0</td>\n",
       "    </tr>\n",
       "  </tbody>\n",
       "</table>\n",
       "<p>21351 rows × 10 columns</p>\n",
       "</div>"
      ],
      "text/plain": [
       "       genre_blues  genre_classical  genre_country  genre_disco  genre_hiphop  \\\n",
       "2                0                1              0            0             0   \n",
       "3                0                0              0            0             0   \n",
       "4                0                1              0            0             0   \n",
       "5                0                0              0            0             0   \n",
       "6                0                0              0            0             0   \n",
       "...            ...              ...            ...          ...           ...   \n",
       "55203            0                0              1            0             0   \n",
       "55206            0                1              0            0             0   \n",
       "55208            0                1              0            0             0   \n",
       "55209            0                0              0            0             0   \n",
       "55211            0                0              0            0             0   \n",
       "\n",
       "       genre_jazz  genre_metal  genre_pop  genre_reggae  genre_rock  \n",
       "2               0            0          0             0           0  \n",
       "3               0            0          0             0           1  \n",
       "4               0            0          0             0           0  \n",
       "5               1            0          0             0           0  \n",
       "6               0            0          0             0           1  \n",
       "...           ...          ...        ...           ...         ...  \n",
       "55203           0            0          0             0           0  \n",
       "55206           0            0          0             0           0  \n",
       "55208           0            0          0             0           0  \n",
       "55209           0            0          1             0           0  \n",
       "55211           0            0          1             0           0  \n",
       "\n",
       "[21351 rows x 10 columns]"
      ]
     },
     "execution_count": 47,
     "metadata": {},
     "output_type": "execute_result"
    }
   ],
   "source": [
    "pro_forma_Y"
   ]
  },
  {
   "cell_type": "code",
   "execution_count": 64,
   "id": "485cfb30-5405-44e7-b640-aebae37933f9",
   "metadata": {},
   "outputs": [
    {
     "data": {
      "text/html": [
       "<div>\n",
       "<style scoped>\n",
       "    .dataframe tbody tr th:only-of-type {\n",
       "        vertical-align: middle;\n",
       "    }\n",
       "\n",
       "    .dataframe tbody tr th {\n",
       "        vertical-align: top;\n",
       "    }\n",
       "\n",
       "    .dataframe thead th {\n",
       "        text-align: right;\n",
       "    }\n",
       "</style>\n",
       "<table border=\"1\" class=\"dataframe\">\n",
       "  <thead>\n",
       "    <tr style=\"text-align: right;\">\n",
       "      <th></th>\n",
       "      <th>label</th>\n",
       "    </tr>\n",
       "  </thead>\n",
       "  <tbody>\n",
       "    <tr>\n",
       "      <th>2</th>\n",
       "      <td>genre_classical</td>\n",
       "    </tr>\n",
       "    <tr>\n",
       "      <th>3</th>\n",
       "      <td>genre_rock</td>\n",
       "    </tr>\n",
       "    <tr>\n",
       "      <th>4</th>\n",
       "      <td>genre_classical</td>\n",
       "    </tr>\n",
       "    <tr>\n",
       "      <th>5</th>\n",
       "      <td>genre_jazz</td>\n",
       "    </tr>\n",
       "    <tr>\n",
       "      <th>6</th>\n",
       "      <td>genre_rock</td>\n",
       "    </tr>\n",
       "    <tr>\n",
       "      <th>...</th>\n",
       "      <td>...</td>\n",
       "    </tr>\n",
       "    <tr>\n",
       "      <th>55203</th>\n",
       "      <td>genre_country</td>\n",
       "    </tr>\n",
       "    <tr>\n",
       "      <th>55206</th>\n",
       "      <td>genre_classical</td>\n",
       "    </tr>\n",
       "    <tr>\n",
       "      <th>55208</th>\n",
       "      <td>genre_classical</td>\n",
       "    </tr>\n",
       "    <tr>\n",
       "      <th>55209</th>\n",
       "      <td>genre_pop</td>\n",
       "    </tr>\n",
       "    <tr>\n",
       "      <th>55211</th>\n",
       "      <td>genre_pop</td>\n",
       "    </tr>\n",
       "  </tbody>\n",
       "</table>\n",
       "<p>21351 rows × 1 columns</p>\n",
       "</div>"
      ],
      "text/plain": [
       "                 label\n",
       "2      genre_classical\n",
       "3           genre_rock\n",
       "4      genre_classical\n",
       "5           genre_jazz\n",
       "6           genre_rock\n",
       "...                ...\n",
       "55203    genre_country\n",
       "55206  genre_classical\n",
       "55208  genre_classical\n",
       "55209        genre_pop\n",
       "55211        genre_pop\n",
       "\n",
       "[21351 rows x 1 columns]"
      ]
     },
     "execution_count": 64,
     "metadata": {},
     "output_type": "execute_result"
    }
   ],
   "source": [
    "pro_forma_Y = df_base[mask][base_genres].copy()\n",
    "dense_labels = np.argmax(pro_forma_Y.values, axis=1)\n",
    "labels = [to_base_genre_label(dense_label) for dense_label in dense_labels]\n",
    "pro_forma_Y.insert(0, \"label\", labels, allow_duplicates=True)\n",
    "pro_forma_Y.drop(base_genres, inplace=True, axis=1)\n",
    "pro_forma_Y"
   ]
  },
  {
   "cell_type": "code",
   "execution_count": 63,
   "id": "c0399a17-4b2d-48e2-8a70-e1e5cccd4fb9",
   "metadata": {},
   "outputs": [
    {
     "data": {
      "text/html": [
       "<div>\n",
       "<style scoped>\n",
       "    .dataframe tbody tr th:only-of-type {\n",
       "        vertical-align: middle;\n",
       "    }\n",
       "\n",
       "    .dataframe tbody tr th {\n",
       "        vertical-align: top;\n",
       "    }\n",
       "\n",
       "    .dataframe thead th {\n",
       "        text-align: right;\n",
       "    }\n",
       "</style>\n",
       "<table border=\"1\" class=\"dataframe\">\n",
       "  <thead>\n",
       "    <tr style=\"text-align: right;\">\n",
       "      <th></th>\n",
       "      <th>label</th>\n",
       "    </tr>\n",
       "  </thead>\n",
       "  <tbody>\n",
       "    <tr>\n",
       "      <th>2</th>\n",
       "      <td>genre_classical</td>\n",
       "    </tr>\n",
       "    <tr>\n",
       "      <th>3</th>\n",
       "      <td>genre_rock</td>\n",
       "    </tr>\n",
       "    <tr>\n",
       "      <th>4</th>\n",
       "      <td>genre_classical</td>\n",
       "    </tr>\n",
       "    <tr>\n",
       "      <th>5</th>\n",
       "      <td>genre_jazz</td>\n",
       "    </tr>\n",
       "    <tr>\n",
       "      <th>6</th>\n",
       "      <td>genre_rock</td>\n",
       "    </tr>\n",
       "    <tr>\n",
       "      <th>...</th>\n",
       "      <td>...</td>\n",
       "    </tr>\n",
       "    <tr>\n",
       "      <th>55203</th>\n",
       "      <td>genre_country</td>\n",
       "    </tr>\n",
       "    <tr>\n",
       "      <th>55206</th>\n",
       "      <td>genre_classical</td>\n",
       "    </tr>\n",
       "    <tr>\n",
       "      <th>55208</th>\n",
       "      <td>genre_classical</td>\n",
       "    </tr>\n",
       "    <tr>\n",
       "      <th>55209</th>\n",
       "      <td>genre_pop</td>\n",
       "    </tr>\n",
       "    <tr>\n",
       "      <th>55211</th>\n",
       "      <td>genre_pop</td>\n",
       "    </tr>\n",
       "  </tbody>\n",
       "</table>\n",
       "<p>21351 rows × 1 columns</p>\n",
       "</div>"
      ],
      "text/plain": [
       "                 label\n",
       "2      genre_classical\n",
       "3           genre_rock\n",
       "4      genre_classical\n",
       "5           genre_jazz\n",
       "6           genre_rock\n",
       "...                ...\n",
       "55203    genre_country\n",
       "55206  genre_classical\n",
       "55208  genre_classical\n",
       "55209        genre_pop\n",
       "55211        genre_pop\n",
       "\n",
       "[21351 rows x 1 columns]"
      ]
     },
     "metadata": {},
     "output_type": "display_data"
    }
   ],
   "source": [
    "display(pro_forma_Y)"
   ]
  },
  {
   "cell_type": "markdown",
   "id": "2267bf49-299e-4015-b798-e4734cbae8cd",
   "metadata": {},
   "source": [
    "#### Use sklearn.preprocessing OneHotEncoder"
   ]
  },
  {
   "cell_type": "code",
   "execution_count": 79,
   "id": "21166c95-1d40-4c50-9b53-1467d18544b9",
   "metadata": {},
   "outputs": [],
   "source": [
    "encoder=OneHotEncoder()"
   ]
  },
  {
   "cell_type": "code",
   "execution_count": 80,
   "id": "eac2dc19-6f3e-430a-b1b2-17ef1500cf99",
   "metadata": {},
   "outputs": [
    {
     "data": {
      "text/plain": [
       "OneHotEncoder()"
      ]
     },
     "execution_count": 80,
     "metadata": {},
     "output_type": "execute_result"
    }
   ],
   "source": [
    "encoder.fit(pro_forma_Y)"
   ]
  },
  {
   "cell_type": "code",
   "execution_count": 81,
   "id": "63853e2a-a98e-443b-ab2d-99774ebb2b02",
   "metadata": {},
   "outputs": [
    {
     "data": {
      "text/plain": [
       "[array(['genre_blues', 'genre_classical', 'genre_country', 'genre_disco',\n",
       "        'genre_hiphop', 'genre_jazz', 'genre_metal', 'genre_pop',\n",
       "        'genre_reggae', 'genre_rock'], dtype=object)]"
      ]
     },
     "execution_count": 81,
     "metadata": {},
     "output_type": "execute_result"
    }
   ],
   "source": [
    "encoder.categories_"
   ]
  },
  {
   "cell_type": "code",
   "execution_count": 82,
   "id": "125a6eb0-678c-4eb7-8255-908e5f26979e",
   "metadata": {},
   "outputs": [],
   "source": [
    "encoded_labels = encoder.transform(pro_forma_Y)"
   ]
  },
  {
   "cell_type": "code",
   "execution_count": 83,
   "id": "efee3ea6-a467-435b-a10a-498a8b16bac5",
   "metadata": {},
   "outputs": [
    {
     "name": "stdout",
     "output_type": "stream",
     "text": [
      "  (0, 1)\t1.0\n",
      "  (1, 9)\t1.0\n",
      "  (2, 1)\t1.0\n",
      "  (3, 5)\t1.0\n",
      "  (4, 9)\t1.0\n",
      "  (5, 5)\t1.0\n",
      "  (6, 1)\t1.0\n",
      "  (7, 7)\t1.0\n",
      "  (8, 8)\t1.0\n",
      "  (9, 9)\t1.0\n",
      "  (10, 1)\t1.0\n",
      "  (11, 1)\t1.0\n",
      "  (12, 7)\t1.0\n",
      "  (13, 5)\t1.0\n",
      "  (14, 1)\t1.0\n",
      "  (15, 5)\t1.0\n",
      "  (16, 1)\t1.0\n",
      "  (17, 9)\t1.0\n",
      "  (18, 7)\t1.0\n",
      "  (19, 7)\t1.0\n",
      "  (20, 8)\t1.0\n",
      "  (21, 1)\t1.0\n",
      "  (22, 5)\t1.0\n",
      "  (23, 7)\t1.0\n",
      "  (24, 9)\t1.0\n",
      "  :\t:\n",
      "  (21326, 1)\t1.0\n",
      "  (21327, 4)\t1.0\n",
      "  (21328, 9)\t1.0\n",
      "  (21329, 9)\t1.0\n",
      "  (21330, 7)\t1.0\n",
      "  (21331, 4)\t1.0\n",
      "  (21332, 9)\t1.0\n",
      "  (21333, 4)\t1.0\n",
      "  (21334, 1)\t1.0\n",
      "  (21335, 5)\t1.0\n",
      "  (21336, 9)\t1.0\n",
      "  (21337, 1)\t1.0\n",
      "  (21338, 4)\t1.0\n",
      "  (21339, 3)\t1.0\n",
      "  (21340, 1)\t1.0\n",
      "  (21341, 6)\t1.0\n",
      "  (21342, 1)\t1.0\n",
      "  (21343, 7)\t1.0\n",
      "  (21344, 1)\t1.0\n",
      "  (21345, 1)\t1.0\n",
      "  (21346, 2)\t1.0\n",
      "  (21347, 1)\t1.0\n",
      "  (21348, 1)\t1.0\n",
      "  (21349, 7)\t1.0\n",
      "  (21350, 7)\t1.0\n"
     ]
    }
   ],
   "source": [
    "print(encoded_labels)"
   ]
  }
 ],
 "metadata": {
  "kernelspec": {
   "display_name": "Python [conda env:tf]",
   "language": "python",
   "name": "conda-env-tf-py"
  },
  "language_info": {
   "codemirror_mode": {
    "name": "ipython",
    "version": 3
   },
   "file_extension": ".py",
   "mimetype": "text/x-python",
   "name": "python",
   "nbconvert_exporter": "python",
   "pygments_lexer": "ipython3",
   "version": "3.9.12"
  }
 },
 "nbformat": 4,
 "nbformat_minor": 5
}
