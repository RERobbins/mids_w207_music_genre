{
 "cells": [
  {
   "cell_type": "markdown",
   "id": "dd0060a7-74bf-4941-a0f0-71f7784c6f5b",
   "metadata": {},
   "source": [
    "## This notebook is built from the combined dataset that Lawrence has assembled and supplements Danny's EDA."
   ]
  },
  {
   "cell_type": "markdown",
   "id": "fee4e6cc-d5f9-4ac6-bbd1-2544faac5686",
   "metadata": {
    "tags": []
   },
   "source": [
    "### Imports and Useful Constants"
   ]
  },
  {
   "cell_type": "code",
   "execution_count": 30,
   "id": "f9d044ca-8c9d-4e07-b108-de7380b98268",
   "metadata": {},
   "outputs": [],
   "source": [
    "import pickle\n",
    "import numpy as np\n",
    "import pandas as pd\n",
    "\n",
    "filename = \"../../datasets/acousticbrainz_all_flattened_labeled.pickle.bz2\"\n",
    "\n",
    "base_genres = [\n",
    "    \"genre_blues\",\n",
    "    \"genre_classical\",\n",
    "    \"genre_country\",\n",
    "    \"genre_disco\",\n",
    "    \"genre_hiphop\",\n",
    "    \"genre_jazz\",\n",
    "    \"genre_metal\",\n",
    "    \"genre_pop\",\n",
    "    \"genre_reggae\",\n",
    "    \"genre_rock\",\n",
    "]\n",
    "\n",
    "subgenres = [\n",
    "    \"genre_orchestral\",\n",
    "    \"genre_poprock\",\n",
    "    \"genre_instrumentalpop\",\n",
    "    \"genre_rap\",\n",
    "    \"genre_punkrock\",\n",
    "    \"genre_symphonic\",\n",
    "    \"genre_instrumentalrock\",\n",
    "    \"genre_hardrock\",\n",
    "    \"genre_grunge\",\n",
    "    \"genre_rocknroll\",\n",
    "    \"genre_acidjazz\",\n",
    "    \"genre_heavymetal\",\n",
    "    \"genre_classicrock\",\n",
    "    \"genre_jazzfusion\",\n",
    "    \"genre_alternativerock\",\n",
    "]\n",
    "\n",
    "unidentified_genres = [\n",
    "    \"genre_alternative\",\n",
    "    \"genre_dance\",\n",
    "    \"genre_indie\",\n",
    "    \"genre_folk\",\n",
    "    \"genre_popfolk\",\n",
    "    \"genre_triphop\",\n",
    "    \"genre_funk\",\n",
    "    \"genre_rnb\",\n",
    "    \"genre_soul\",\n",
    "    \"genre_ska\",\n",
    "    \"genre_groove\",\n",
    "    \"genre_jazzfunk\",\n",
    "    \"genre_swing\",\n",
    "    \"genre_bossanova\",\n",
    "    \"genre_bluesrock\",\n",
    "]"
   ]
  },
  {
   "cell_type": "markdown",
   "id": "d9748f9c-cd06-4825-85f5-c49a04b836f5",
   "metadata": {},
   "source": [
    "### Load dataset and confirm shape"
   ]
  },
  {
   "cell_type": "code",
   "execution_count": 2,
   "id": "e361d37a-cb36-48c1-92e9-76977d99c830",
   "metadata": {},
   "outputs": [
    {
     "data": {
      "text/plain": [
       "(55213, 2877)"
      ]
     },
     "execution_count": 2,
     "metadata": {},
     "output_type": "execute_result"
    }
   ],
   "source": [
    "df = pd.read_pickle(filename)\n",
    "df.shape"
   ]
  },
  {
   "cell_type": "markdown",
   "id": "500e4683-f485-4c84-9c3d-7e3f98caf396",
   "metadata": {},
   "source": [
    "### Remove features since we are only looking at labels in this notebook"
   ]
  },
  {
   "cell_type": "code",
   "execution_count": 3,
   "id": "df060d55-f8f0-4a8b-8150-3b3bcc20fcf8",
   "metadata": {},
   "outputs": [
    {
     "data": {
      "text/plain": [
       "(55213, 95)"
      ]
     },
     "execution_count": 3,
     "metadata": {},
     "output_type": "execute_result"
    }
   ],
   "source": [
    "df = df.filter(regex=\"^genre\")\n",
    "df.shape"
   ]
  },
  {
   "cell_type": "code",
   "execution_count": 4,
   "id": "b6f2169f-f7c0-4f7a-9787-359422da6848",
   "metadata": {},
   "outputs": [
    {
     "data": {
      "text/plain": [
       "Index(['genre_60s', 'genre_70s', 'genre_80s', 'genre_90s', 'genre_acidjazz',\n",
       "       'genre_african', 'genre_alternative', 'genre_alternativerock',\n",
       "       'genre_ambient', 'genre_atmospheric', 'genre_blues', 'genre_bluesrock',\n",
       "       'genre_bossanova', 'genre_breakbeat', 'genre_celtic', 'genre_chanson',\n",
       "       'genre_chillout', 'genre_choir', 'genre_classical', 'genre_classicrock',\n",
       "       'genre_club', 'genre_contemporary', 'genre_country', 'genre_dance',\n",
       "       'genre_darkambient', 'genre_darkwave', 'genre_deephouse', 'genre_disco',\n",
       "       'genre_downtempo', 'genre_drumnbass', 'genre_dub', 'genre_dubstep',\n",
       "       'genre_easylistening', 'genre_edm', 'genre_electronic',\n",
       "       'genre_electronica', 'genre_electropop', 'genre_ethnicrock',\n",
       "       'genre_ethno', 'genre_eurodance', 'genre_experimental', 'genre_folk',\n",
       "       'genre_funk', 'genre_fusion', 'genre_gothic', 'genre_groove',\n",
       "       'genre_grunge', 'genre_hard', 'genre_hardrock', 'genre_heavymetal',\n",
       "       'genre_hiphop', 'genre_house', 'genre_idm', 'genre_improvisation',\n",
       "       'genre_indie', 'genre_industrial', 'genre_instrumentalpop',\n",
       "       'genre_instrumentalrock', 'genre_jazz', 'genre_jazzfunk',\n",
       "       'genre_jazzfusion', 'genre_latin', 'genre_lounge', 'genre_medieval',\n",
       "       'genre_metal', 'genre_minimal', 'genre_newage', 'genre_newwave',\n",
       "       'genre_orchestral', 'genre_oriental', 'genre_pop', 'genre_popfolk',\n",
       "       'genre_poprock', 'genre_postrock', 'genre_progressive',\n",
       "       'genre_psychedelic', 'genre_punkrock', 'genre_rap', 'genre_reggae',\n",
       "       'genre_rnb', 'genre_rock', 'genre_rocknroll', 'genre_singersongwriter',\n",
       "       'genre_ska', 'genre_soul', 'genre_soundtrack', 'genre_swing',\n",
       "       'genre_symphonic', 'genre_synthpop', 'genre_techno', 'genre_trance',\n",
       "       'genre_tribal', 'genre_triphop', 'genre_world', 'genre_worldfusion'],\n",
       "      dtype='object')"
      ]
     },
     "execution_count": 4,
     "metadata": {},
     "output_type": "execute_result"
    }
   ],
   "source": [
    "df.columns"
   ]
  },
  {
   "cell_type": "markdown",
   "id": "cd69cc7a-d66e-4975-8ebf-813c872deb12",
   "metadata": {},
   "source": [
    "#### Partition the data into tracks tagged as being in one of the base genres and those that are not."
   ]
  },
  {
   "cell_type": "code",
   "execution_count": 5,
   "id": "7e63b91b-7fc1-4486-b3b6-40d12c51ab31",
   "metadata": {},
   "outputs": [],
   "source": [
    "df_base = df[df[base_genres].sum(axis=1) > 0]\n",
    "df_base_excluded = df[df[base_genres].sum(axis=1) == 0]"
   ]
  },
  {
   "cell_type": "code",
   "execution_count": 6,
   "id": "fe54a8bb-dfb7-405d-99e3-aa7f5a134e7b",
   "metadata": {},
   "outputs": [
    {
     "name": "stdout",
     "output_type": "stream",
     "text": [
      "Tracks in base genre set: 25,562\n",
      "Tracks not in base genre set: 29,651\n",
      "Tracks in complete collection: 55,213\n"
     ]
    }
   ],
   "source": [
    "print(f\"Tracks in base genre set: {df_base.shape[0]:,}\")\n",
    "print(f\"Tracks not in base genre set: {df_base_excluded.shape[0]:,}\")\n",
    "print(f\"Tracks in complete collection: {df.shape[0]:,}\")"
   ]
  },
  {
   "cell_type": "markdown",
   "id": "f1ac81c7-d0f5-4a2b-87af-b11faaf14c23",
   "metadata": {},
   "source": [
    "#### Replicating base class genre information from Danny's EDA"
   ]
  },
  {
   "cell_type": "code",
   "execution_count": 7,
   "id": "5b84d38c-1e27-4553-8dc0-2e550e26a5dd",
   "metadata": {},
   "outputs": [
    {
     "data": {
      "text/plain": [
       "genre_pop          7805\n",
       "genre_rock         6865\n",
       "genre_classical    5602\n",
       "genre_hiphop       2657\n",
       "genre_jazz         2371\n",
       "genre_metal        1435\n",
       "genre_reggae       1245\n",
       "genre_blues        1082\n",
       "genre_country       584\n",
       "genre_disco         447\n",
       "dtype: int64"
      ]
     },
     "execution_count": 7,
     "metadata": {},
     "output_type": "execute_result"
    }
   ],
   "source": [
    "df[base_genres].sum(axis=0).sort_values(ascending=False)"
   ]
  },
  {
   "cell_type": "markdown",
   "id": "509dbc92-f0bc-4eab-940f-70537052dbbb",
   "metadata": {},
   "source": [
    "Let's see how many tracks in this set are in more than one base genre.  In order to look at this, we only look at the columns in the data frame that correspond to base labels."
   ]
  },
  {
   "cell_type": "code",
   "execution_count": 8,
   "id": "f8985de3-7c39-4e0c-8d43-42d33aad2aea",
   "metadata": {},
   "outputs": [
    {
     "data": {
      "text/plain": [
       "(25562, 10)"
      ]
     },
     "execution_count": 8,
     "metadata": {},
     "output_type": "execute_result"
    }
   ],
   "source": [
    "df_base[base_genres].shape"
   ]
  },
  {
   "cell_type": "code",
   "execution_count": 9,
   "id": "28d282ce-7f6a-4d13-bc5e-f7177c7bc7f1",
   "metadata": {},
   "outputs": [
    {
     "data": {
      "text/plain": [
       "1    21351\n",
       "2     3910\n",
       "3      283\n",
       "4       17\n",
       "5        1\n",
       "dtype: int64"
      ]
     },
     "execution_count": 9,
     "metadata": {},
     "output_type": "execute_result"
    }
   ],
   "source": [
    "df_base[base_genres].sum(axis=1).value_counts()"
   ]
  },
  {
   "cell_type": "code",
   "execution_count": 10,
   "id": "f3802a28-9235-4509-b993-1e3a6d2b1ac9",
   "metadata": {},
   "outputs": [
    {
     "data": {
      "text/plain": [
       "<AxesSubplot:>"
      ]
     },
     "execution_count": 10,
     "metadata": {},
     "output_type": "execute_result"
    },
    {
     "data": {
      "image/png": "[encoded data removed]",
      "text/plain": [
       "<Figure size 432x288 with 1 Axes>"
      ]
     },
     "metadata": {
      "needs_background": "light"
     },
     "output_type": "display_data"
    }
   ],
   "source": [
    "df_base[base_genres].sum(axis=1).hist()"
   ]
  },
  {
   "cell_type": "markdown",
   "id": "60212813-d41f-47ef-bbf7-fcea2eae30c9",
   "metadata": {},
   "source": [
    "#### Replicating identified subgenre information from Danny's EDA\n",
    "\n",
    "Note that these tracks are those that are not already tagged as being in any of our base genres.  So, for example, if a track is tagged as `rock` and also `rocknroll` it is captured above and not reflected here.  On the other hand, if a track is tagged as `rocknroll` but not otherwise tagged as being in one of our base genres, it is reflected here.  So, any mapping we do with this set into the base groups will be effective to enlarge the base groups."
   ]
  },
  {
   "cell_type": "code",
   "execution_count": 11,
   "id": "f6e19c07-6bdb-49c8-8696-ef09da99cf9e",
   "metadata": {},
   "outputs": [
    {
     "data": {
      "text/plain": [
       "genre_orchestral          2432\n",
       "genre_poprock             2172\n",
       "genre_instrumentalpop     1477\n",
       "genre_rap                  993\n",
       "genre_punkrock             729\n",
       "genre_symphonic            712\n",
       "genre_instrumentalrock     598\n",
       "genre_hardrock             490\n",
       "genre_grunge               375\n",
       "genre_rocknroll            342\n",
       "genre_acidjazz             304\n",
       "genre_heavymetal           222\n",
       "genre_classicrock          222\n",
       "genre_jazzfusion           221\n",
       "genre_alternativerock      215\n",
       "dtype: int64"
      ]
     },
     "execution_count": 11,
     "metadata": {},
     "output_type": "execute_result"
    }
   ],
   "source": [
    "df[subgenres].sum(axis=0).sort_values(ascending=False)"
   ]
  },
  {
   "cell_type": "markdown",
   "id": "8396bbc0-8b3f-4bd2-8f9c-c9ab4138acd0",
   "metadata": {},
   "source": [
    "#### Continuing EDA after removing any tracks in either the base or identified subgenre collections\n",
    "\n",
    "This analysis continues by looking at the set of tracks in the `unidentified_genres` set after removing from consideration any tracks in either the base set or identified subgenre set."
   ]
  },
  {
   "cell_type": "code",
   "execution_count": 12,
   "id": "430a73fa-a7cf-478f-9c3e-ad299d8d139e",
   "metadata": {},
   "outputs": [],
   "source": [
    "df_base_and_subgenres_excluded = df[df[base_genres + subgenres].sum(axis=1) == 0]"
   ]
  },
  {
   "cell_type": "markdown",
   "id": "4360a45c-c876-400d-841b-7470619b0883",
   "metadata": {},
   "source": [
    "If we built this dataframe correctly, none of the tracks should have `base` or `identified_subgenres` tags."
   ]
  },
  {
   "cell_type": "code",
   "execution_count": 13,
   "id": "5dbcb963-f9d6-4e3b-ac68-b774543d8efe",
   "metadata": {},
   "outputs": [
    {
     "data": {
      "text/plain": [
       "genre_acidjazz            0\n",
       "genre_alternativerock     0\n",
       "genre_blues               0\n",
       "genre_classical           0\n",
       "genre_classicrock         0\n",
       "genre_country             0\n",
       "genre_disco               0\n",
       "genre_grunge              0\n",
       "genre_hardrock            0\n",
       "genre_heavymetal          0\n",
       "genre_hiphop              0\n",
       "genre_instrumentalpop     0\n",
       "genre_instrumentalrock    0\n",
       "genre_jazz                0\n",
       "genre_jazzfusion          0\n",
       "genre_metal               0\n",
       "genre_orchestral          0\n",
       "genre_pop                 0\n",
       "genre_poprock             0\n",
       "genre_punkrock            0\n",
       "genre_rap                 0\n",
       "genre_reggae              0\n",
       "genre_rock                0\n",
       "genre_rocknroll           0\n",
       "genre_symphonic           0\n",
       "dtype: int64"
      ]
     },
     "execution_count": 13,
     "metadata": {},
     "output_type": "execute_result"
    }
   ],
   "source": [
    "temp = df_base_and_subgenres_excluded.sum(axis=0)\n",
    "temp[temp == 0]"
   ]
  },
  {
   "cell_type": "markdown",
   "id": "90d3cd1d-988d-4738-87bf-599e7eea6140",
   "metadata": {},
   "source": [
    "It looks like we have excluded tracks that are in the base or identified_subgenre groups from the set as we hoped.  Now lets focus on the distribution of unidentified_genre tracks in what remains."
   ]
  },
  {
   "cell_type": "code",
   "execution_count": 14,
   "id": "0fff2d6f-8b53-4428-8a6f-9cda431a8c62",
   "metadata": {},
   "outputs": [
    {
     "data": {
      "text/plain": [
       "genre_alternative    1767\n",
       "genre_dance          2059\n",
       "genre_indie           758\n",
       "genre_folk           1120\n",
       "genre_popfolk         691\n",
       "genre_triphop         692\n",
       "genre_funk            398\n",
       "genre_rnb             154\n",
       "genre_soul            139\n",
       "genre_ska              58\n",
       "genre_groove           84\n",
       "genre_jazzfunk         68\n",
       "genre_swing            40\n",
       "genre_bossanova        54\n",
       "genre_bluesrock         3\n",
       "dtype: int64"
      ]
     },
     "execution_count": 14,
     "metadata": {},
     "output_type": "execute_result"
    }
   ],
   "source": [
    "df_base_and_subgenres_excluded[unidentified_genres].sum(axis=0)"
   ]
  },
  {
   "cell_type": "markdown",
   "id": "2639b92e-56f6-4115-a783-2c16ecab0df8",
   "metadata": {},
   "source": [
    "### Techniques for Working With Our One Hot Encoded Classes\n",
    "\n",
    "Here are some simple techniques we can uses to convert from sparse to dense genre encodings and to get a label for a genre from a dense encoding.\n",
    "\n",
    "The numpy argmax function can be used to identify the index in a cluster of one hot encoded columns where the 1 value appears.  If two columns have a 1 in them the function will return the first such column index.  We will likely want to avoid this with data preprocessing.\n",
    "\n",
    "Here are the dense encodings for the first fifteen tracks in base genres.  I'm not sure how to do this directly in pandas so I convert the data frame to a numpy array first."
   ]
  },
  {
   "cell_type": "code",
   "execution_count": 67,
   "id": "95c65e82-7823-4a4e-afb7-6f4d6f387303",
   "metadata": {},
   "outputs": [
    {
     "data": {
      "text/plain": [
       "array([1, 9, 1, 5, 9, 5, 1, 7, 8, 9, 7, 1, 1, 7, 5])"
      ]
     },
     "metadata": {},
     "output_type": "display_data"
    }
   ],
   "source": [
    "some_dense_encodings = np.argmax(df_base[base_genres].to_numpy(), axis=1)[:15]\n",
    "display(some_dense_encodings)"
   ]
  },
  {
   "cell_type": "markdown",
   "id": "c57c2bf4-2209-41e8-9e4d-1d82c07e6fb1",
   "metadata": {},
   "source": [
    "Here are the one hot encodings for the same first fifteen tracks."
   ]
  },
  {
   "cell_type": "code",
   "execution_count": 65,
   "id": "486d361f-6273-4743-a122-15f2dadc5517",
   "metadata": {},
   "outputs": [
    {
     "data": {
      "text/html": [
       "<div>\n",
       "<style scoped>\n",
       "    .dataframe tbody tr th:only-of-type {\n",
       "        vertical-align: middle;\n",
       "    }\n",
       "\n",
       "    .dataframe tbody tr th {\n",
       "        vertical-align: top;\n",
       "    }\n",
       "\n",
       "    .dataframe thead th {\n",
       "        text-align: right;\n",
       "    }\n",
       "</style>\n",
       "<table border=\"1\" class=\"dataframe\">\n",
       "  <thead>\n",
       "    <tr style=\"text-align: right;\">\n",
       "      <th></th>\n",
       "      <th>genre_blues</th>\n",
       "      <th>genre_classical</th>\n",
       "      <th>genre_country</th>\n",
       "      <th>genre_disco</th>\n",
       "      <th>genre_hiphop</th>\n",
       "      <th>genre_jazz</th>\n",
       "      <th>genre_metal</th>\n",
       "      <th>genre_pop</th>\n",
       "      <th>genre_reggae</th>\n",
       "      <th>genre_rock</th>\n",
       "    </tr>\n",
       "  </thead>\n",
       "  <tbody>\n",
       "    <tr>\n",
       "      <th>2</th>\n",
       "      <td>0</td>\n",
       "      <td>1</td>\n",
       "      <td>0</td>\n",
       "      <td>0</td>\n",
       "      <td>0</td>\n",
       "      <td>0</td>\n",
       "      <td>0</td>\n",
       "      <td>0</td>\n",
       "      <td>0</td>\n",
       "      <td>0</td>\n",
       "    </tr>\n",
       "    <tr>\n",
       "      <th>3</th>\n",
       "      <td>0</td>\n",
       "      <td>0</td>\n",
       "      <td>0</td>\n",
       "      <td>0</td>\n",
       "      <td>0</td>\n",
       "      <td>0</td>\n",
       "      <td>0</td>\n",
       "      <td>0</td>\n",
       "      <td>0</td>\n",
       "      <td>1</td>\n",
       "    </tr>\n",
       "    <tr>\n",
       "      <th>4</th>\n",
       "      <td>0</td>\n",
       "      <td>1</td>\n",
       "      <td>0</td>\n",
       "      <td>0</td>\n",
       "      <td>0</td>\n",
       "      <td>0</td>\n",
       "      <td>0</td>\n",
       "      <td>0</td>\n",
       "      <td>0</td>\n",
       "      <td>0</td>\n",
       "    </tr>\n",
       "    <tr>\n",
       "      <th>5</th>\n",
       "      <td>0</td>\n",
       "      <td>0</td>\n",
       "      <td>0</td>\n",
       "      <td>0</td>\n",
       "      <td>0</td>\n",
       "      <td>1</td>\n",
       "      <td>0</td>\n",
       "      <td>0</td>\n",
       "      <td>0</td>\n",
       "      <td>0</td>\n",
       "    </tr>\n",
       "    <tr>\n",
       "      <th>6</th>\n",
       "      <td>0</td>\n",
       "      <td>0</td>\n",
       "      <td>0</td>\n",
       "      <td>0</td>\n",
       "      <td>0</td>\n",
       "      <td>0</td>\n",
       "      <td>0</td>\n",
       "      <td>0</td>\n",
       "      <td>0</td>\n",
       "      <td>1</td>\n",
       "    </tr>\n",
       "    <tr>\n",
       "      <th>11</th>\n",
       "      <td>0</td>\n",
       "      <td>0</td>\n",
       "      <td>0</td>\n",
       "      <td>0</td>\n",
       "      <td>0</td>\n",
       "      <td>1</td>\n",
       "      <td>0</td>\n",
       "      <td>0</td>\n",
       "      <td>0</td>\n",
       "      <td>0</td>\n",
       "    </tr>\n",
       "    <tr>\n",
       "      <th>12</th>\n",
       "      <td>0</td>\n",
       "      <td>1</td>\n",
       "      <td>0</td>\n",
       "      <td>0</td>\n",
       "      <td>0</td>\n",
       "      <td>0</td>\n",
       "      <td>0</td>\n",
       "      <td>0</td>\n",
       "      <td>0</td>\n",
       "      <td>0</td>\n",
       "    </tr>\n",
       "    <tr>\n",
       "      <th>14</th>\n",
       "      <td>0</td>\n",
       "      <td>0</td>\n",
       "      <td>0</td>\n",
       "      <td>0</td>\n",
       "      <td>0</td>\n",
       "      <td>0</td>\n",
       "      <td>0</td>\n",
       "      <td>1</td>\n",
       "      <td>0</td>\n",
       "      <td>0</td>\n",
       "    </tr>\n",
       "    <tr>\n",
       "      <th>16</th>\n",
       "      <td>0</td>\n",
       "      <td>0</td>\n",
       "      <td>0</td>\n",
       "      <td>0</td>\n",
       "      <td>0</td>\n",
       "      <td>0</td>\n",
       "      <td>0</td>\n",
       "      <td>0</td>\n",
       "      <td>1</td>\n",
       "      <td>0</td>\n",
       "    </tr>\n",
       "    <tr>\n",
       "      <th>19</th>\n",
       "      <td>0</td>\n",
       "      <td>0</td>\n",
       "      <td>0</td>\n",
       "      <td>0</td>\n",
       "      <td>0</td>\n",
       "      <td>0</td>\n",
       "      <td>0</td>\n",
       "      <td>0</td>\n",
       "      <td>0</td>\n",
       "      <td>1</td>\n",
       "    </tr>\n",
       "    <tr>\n",
       "      <th>20</th>\n",
       "      <td>0</td>\n",
       "      <td>0</td>\n",
       "      <td>0</td>\n",
       "      <td>0</td>\n",
       "      <td>0</td>\n",
       "      <td>0</td>\n",
       "      <td>0</td>\n",
       "      <td>1</td>\n",
       "      <td>0</td>\n",
       "      <td>1</td>\n",
       "    </tr>\n",
       "    <tr>\n",
       "      <th>22</th>\n",
       "      <td>0</td>\n",
       "      <td>1</td>\n",
       "      <td>0</td>\n",
       "      <td>0</td>\n",
       "      <td>0</td>\n",
       "      <td>0</td>\n",
       "      <td>0</td>\n",
       "      <td>0</td>\n",
       "      <td>0</td>\n",
       "      <td>0</td>\n",
       "    </tr>\n",
       "    <tr>\n",
       "      <th>23</th>\n",
       "      <td>0</td>\n",
       "      <td>1</td>\n",
       "      <td>0</td>\n",
       "      <td>0</td>\n",
       "      <td>0</td>\n",
       "      <td>0</td>\n",
       "      <td>0</td>\n",
       "      <td>0</td>\n",
       "      <td>0</td>\n",
       "      <td>0</td>\n",
       "    </tr>\n",
       "    <tr>\n",
       "      <th>25</th>\n",
       "      <td>0</td>\n",
       "      <td>0</td>\n",
       "      <td>0</td>\n",
       "      <td>0</td>\n",
       "      <td>0</td>\n",
       "      <td>0</td>\n",
       "      <td>0</td>\n",
       "      <td>1</td>\n",
       "      <td>0</td>\n",
       "      <td>0</td>\n",
       "    </tr>\n",
       "    <tr>\n",
       "      <th>26</th>\n",
       "      <td>0</td>\n",
       "      <td>0</td>\n",
       "      <td>0</td>\n",
       "      <td>0</td>\n",
       "      <td>0</td>\n",
       "      <td>1</td>\n",
       "      <td>0</td>\n",
       "      <td>0</td>\n",
       "      <td>0</td>\n",
       "      <td>0</td>\n",
       "    </tr>\n",
       "  </tbody>\n",
       "</table>\n",
       "</div>"
      ],
      "text/plain": [
       "    genre_blues  genre_classical  genre_country  genre_disco  genre_hiphop  \\\n",
       "2             0                1              0            0             0   \n",
       "3             0                0              0            0             0   \n",
       "4             0                1              0            0             0   \n",
       "5             0                0              0            0             0   \n",
       "6             0                0              0            0             0   \n",
       "11            0                0              0            0             0   \n",
       "12            0                1              0            0             0   \n",
       "14            0                0              0            0             0   \n",
       "16            0                0              0            0             0   \n",
       "19            0                0              0            0             0   \n",
       "20            0                0              0            0             0   \n",
       "22            0                1              0            0             0   \n",
       "23            0                1              0            0             0   \n",
       "25            0                0              0            0             0   \n",
       "26            0                0              0            0             0   \n",
       "\n",
       "    genre_jazz  genre_metal  genre_pop  genre_reggae  genre_rock  \n",
       "2            0            0          0             0           0  \n",
       "3            0            0          0             0           1  \n",
       "4            0            0          0             0           0  \n",
       "5            1            0          0             0           0  \n",
       "6            0            0          0             0           1  \n",
       "11           1            0          0             0           0  \n",
       "12           0            0          0             0           0  \n",
       "14           0            0          1             0           0  \n",
       "16           0            0          0             1           0  \n",
       "19           0            0          0             0           1  \n",
       "20           0            0          1             0           1  \n",
       "22           0            0          0             0           0  \n",
       "23           0            0          0             0           0  \n",
       "25           0            0          1             0           0  \n",
       "26           1            0          0             0           0  "
      ]
     },
     "execution_count": 65,
     "metadata": {},
     "output_type": "execute_result"
    }
   ],
   "source": [
    "df_base[base_genres][:15]"
   ]
  },
  {
   "cell_type": "markdown",
   "id": "f9277ff0-9015-498e-b5f4-ffd2a81915af",
   "metadata": {},
   "source": [
    "And finally, a simple list comprehension to assemble a list of labels for those dense encodings."
   ]
  },
  {
   "cell_type": "code",
   "execution_count": 68,
   "id": "a995d0d0-0e16-4dfe-b078-ff5ffc988b2f",
   "metadata": {},
   "outputs": [
    {
     "data": {
      "text/plain": [
       "['genre_classical',\n",
       " 'genre_rock',\n",
       " 'genre_classical',\n",
       " 'genre_jazz',\n",
       " 'genre_rock',\n",
       " 'genre_jazz',\n",
       " 'genre_classical',\n",
       " 'genre_pop',\n",
       " 'genre_reggae',\n",
       " 'genre_rock',\n",
       " 'genre_pop',\n",
       " 'genre_classical',\n",
       " 'genre_classical',\n",
       " 'genre_pop',\n",
       " 'genre_jazz']"
      ]
     },
     "execution_count": 68,
     "metadata": {},
     "output_type": "execute_result"
    }
   ],
   "source": [
    "[base_genres[index] for index in some_dense_encodings]"
   ]
  },
  {
   "cell_type": "code",
   "execution_count": null,
   "id": "179c4a1d-b5ed-4787-a73f-4ab9a95592f7",
   "metadata": {},
   "outputs": [],
   "source": []
  }
 ],
 "metadata": {
  "kernelspec": {
   "display_name": "Python [conda env:tf]",
   "language": "python",
   "name": "conda-env-tf-py"
  },
  "language_info": {
   "codemirror_mode": {
    "name": "ipython",
    "version": 3
   },
   "file_extension": ".py",
   "mimetype": "text/x-python",
   "name": "python",
   "nbconvert_exporter": "python",
   "pygments_lexer": "ipython3",
   "version": "3.9.12"
  }
 },
 "nbformat": 4,
 "nbformat_minor": 5
}
