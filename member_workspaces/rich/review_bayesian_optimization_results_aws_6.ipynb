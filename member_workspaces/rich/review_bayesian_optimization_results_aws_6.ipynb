{
 "cells": [
  {
   "cell_type": "code",
   "execution_count": 1,
   "metadata": {},
   "outputs": [],
   "source": [
    "import json\n",
    "import pandas as pd"
   ]
  },
  {
   "cell_type": "code",
   "execution_count": 2,
   "metadata": {},
   "outputs": [],
   "source": [
    "filename=\"../rich/bayesian_optimization_aws_gpu_6_logs.json\""
   ]
  },
  {
   "cell_type": "code",
   "execution_count": 3,
   "metadata": {},
   "outputs": [],
   "source": [
    "with open (filename, \"r\") as infile:\n",
    "    json_list = [json.loads(line) for line in infile]\n",
    "df=pd.json_normalize(json_list)"
   ]
  },
  {
   "cell_type": "markdown",
   "metadata": {},
   "source": [
    "**Current best mcc, f1_macro and accuracy results, respectively.**"
   ]
  },
  {
   "cell_type": "code",
   "execution_count": 4,
   "metadata": {},
   "outputs": [
    {
     "data": {
      "text/html": [
       "<div>\n",
       "<style scoped>\n",
       "    .dataframe tbody tr th:only-of-type {\n",
       "        vertical-align: middle;\n",
       "    }\n",
       "\n",
       "    .dataframe tbody tr th {\n",
       "        vertical-align: top;\n",
       "    }\n",
       "\n",
       "    .dataframe thead th {\n",
       "        text-align: right;\n",
       "    }\n",
       "</style>\n",
       "<table border=\"1\" class=\"dataframe\">\n",
       "  <thead>\n",
       "    <tr style=\"text-align: right;\">\n",
       "      <th></th>\n",
       "      <th>model</th>\n",
       "      <th>dataset</th>\n",
       "      <th>scaled</th>\n",
       "      <th>pca_components</th>\n",
       "      <th>resampling</th>\n",
       "      <th>matthews_corrcoef</th>\n",
       "      <th>f1_macro</th>\n",
       "      <th>accuracy</th>\n",
       "    </tr>\n",
       "  </thead>\n",
       "  <tbody>\n",
       "    <tr>\n",
       "      <th>41</th>\n",
       "      <td>XGBoostClassifier</td>\n",
       "      <td>dataset_06_pvtt_mean.pickle</td>\n",
       "      <td>yes</td>\n",
       "      <td>0.0</td>\n",
       "      <td>none</td>\n",
       "      <td>0.511877</td>\n",
       "      <td>0.431531</td>\n",
       "      <td>0.606850</td>\n",
       "    </tr>\n",
       "    <tr>\n",
       "      <th>83</th>\n",
       "      <td>XGBoostClassifier</td>\n",
       "      <td>dataset_06_pvtt_mean.pickle</td>\n",
       "      <td>yes</td>\n",
       "      <td>0.0</td>\n",
       "      <td>SMOTE</td>\n",
       "      <td>0.498740</td>\n",
       "      <td>0.464803</td>\n",
       "      <td>0.582787</td>\n",
       "    </tr>\n",
       "    <tr>\n",
       "      <th>41</th>\n",
       "      <td>XGBoostClassifier</td>\n",
       "      <td>dataset_06_pvtt_mean.pickle</td>\n",
       "      <td>yes</td>\n",
       "      <td>0.0</td>\n",
       "      <td>none</td>\n",
       "      <td>0.511877</td>\n",
       "      <td>0.431531</td>\n",
       "      <td>0.606850</td>\n",
       "    </tr>\n",
       "  </tbody>\n",
       "</table>\n",
       "</div>"
      ],
      "text/plain": [
       "                model                      dataset scaled  pca_components  \\\n",
       "41  XGBoostClassifier  dataset_06_pvtt_mean.pickle    yes             0.0   \n",
       "83  XGBoostClassifier  dataset_06_pvtt_mean.pickle    yes             0.0   \n",
       "41  XGBoostClassifier  dataset_06_pvtt_mean.pickle    yes             0.0   \n",
       "\n",
       "   resampling  matthews_corrcoef  f1_macro  accuracy  \n",
       "41       none           0.511877  0.431531  0.606850  \n",
       "83      SMOTE           0.498740  0.464803  0.582787  \n",
       "41       none           0.511877  0.431531  0.606850  "
      ]
     },
     "execution_count": 4,
     "metadata": {},
     "output_type": "execute_result"
    }
   ],
   "source": [
    "best_mcc_f1_accuracy_indices = [df['matthews_corrcoef'].idxmax(),\n",
    "                                df['f1_macro'].idxmax(),\n",
    "                                df['accuracy'].idxmax()]\n",
    "df.iloc[best_mcc_f1_accuracy_indices][['model', 'dataset', 'scaled', 'pca_components', \n",
    "                                       'resampling', 'matthews_corrcoef', 'f1_macro', 'accuracy']]"
   ]
  },
  {
   "cell_type": "markdown",
   "metadata": {},
   "source": [
    "**Detailed summary of current best mcc result.**"
   ]
  },
  {
   "cell_type": "code",
   "execution_count": 5,
   "metadata": {},
   "outputs": [
    {
     "data": {
      "text/plain": [
       "model                          XGBoostClassifier\n",
       "dataset              dataset_06_pvtt_mean.pickle\n",
       "timestamp                             1658231398\n",
       "scaled                                       yes\n",
       "pca_components                               0.0\n",
       "resampling                                  none\n",
       "learning_rate                           0.131115\n",
       "n_estimators                                 425\n",
       "max_depth                                      9\n",
       "gamma                                   0.111303\n",
       "reg_alpha                               4.802068\n",
       "seed                                        1962\n",
       "fit_tim                               112.341991\n",
       "core_tim                                0.142053\n",
       "matthews_corrcoef                       0.511877\n",
       "f1_macro                                0.431531\n",
       "accuracy                                 0.60685\n",
       "Name: 41, dtype: object"
      ]
     },
     "execution_count": 5,
     "metadata": {},
     "output_type": "execute_result"
    }
   ],
   "source": [
    "df.iloc[best_mcc_f1_accuracy_indices[0]]"
   ]
  },
  {
   "cell_type": "markdown",
   "metadata": {},
   "source": [
    "**Number of trials logged.**"
   ]
  },
  {
   "cell_type": "code",
   "execution_count": 6,
   "metadata": {
    "scrolled": true
   },
   "outputs": [
    {
     "data": {
      "text/plain": [
       "440"
      ]
     },
     "execution_count": 6,
     "metadata": {},
     "output_type": "execute_result"
    }
   ],
   "source": [
    "df.shape[0]"
   ]
  },
  {
   "cell_type": "markdown",
   "metadata": {},
   "source": [
    "**Group results by timestamp, resampling and pca_components, then show current best mcc by group.**"
   ]
  },
  {
   "cell_type": "code",
   "execution_count": 7,
   "metadata": {},
   "outputs": [
    {
     "data": {
      "text/html": [
       "<div>\n",
       "<style scoped>\n",
       "    .dataframe tbody tr th:only-of-type {\n",
       "        vertical-align: middle;\n",
       "    }\n",
       "\n",
       "    .dataframe tbody tr th {\n",
       "        vertical-align: top;\n",
       "    }\n",
       "\n",
       "    .dataframe thead th {\n",
       "        text-align: right;\n",
       "    }\n",
       "</style>\n",
       "<table border=\"1\" class=\"dataframe\">\n",
       "  <thead>\n",
       "    <tr style=\"text-align: right;\">\n",
       "      <th></th>\n",
       "      <th>model</th>\n",
       "      <th>dataset</th>\n",
       "      <th>scaled</th>\n",
       "      <th>pca_components</th>\n",
       "      <th>resampling</th>\n",
       "      <th>matthews_corrcoef</th>\n",
       "      <th>f1_macro</th>\n",
       "      <th>accuracy</th>\n",
       "    </tr>\n",
       "  </thead>\n",
       "  <tbody>\n",
       "    <tr>\n",
       "      <th>83</th>\n",
       "      <td>XGBoostClassifier</td>\n",
       "      <td>dataset_06_pvtt_mean.pickle</td>\n",
       "      <td>yes</td>\n",
       "      <td>0.00</td>\n",
       "      <td>SMOTE</td>\n",
       "      <td>0.498740</td>\n",
       "      <td>0.464803</td>\n",
       "      <td>0.582787</td>\n",
       "    </tr>\n",
       "    <tr>\n",
       "      <th>312</th>\n",
       "      <td>XGBoostClassifier</td>\n",
       "      <td>dataset_06_pvtt_mean.pickle</td>\n",
       "      <td>yes</td>\n",
       "      <td>0.95</td>\n",
       "      <td>SMOTE</td>\n",
       "      <td>0.451977</td>\n",
       "      <td>0.420371</td>\n",
       "      <td>0.544204</td>\n",
       "    </tr>\n",
       "    <tr>\n",
       "      <th>163</th>\n",
       "      <td>XGBoostClassifier</td>\n",
       "      <td>dataset_06_pvtt_mean.pickle</td>\n",
       "      <td>yes</td>\n",
       "      <td>0.00</td>\n",
       "      <td>SMOTEENN</td>\n",
       "      <td>0.445900</td>\n",
       "      <td>0.411105</td>\n",
       "      <td>0.506440</td>\n",
       "    </tr>\n",
       "    <tr>\n",
       "      <th>345</th>\n",
       "      <td>XGBoostClassifier</td>\n",
       "      <td>dataset_06_pvtt_mean.pickle</td>\n",
       "      <td>yes</td>\n",
       "      <td>0.95</td>\n",
       "      <td>SMOTEENN</td>\n",
       "      <td>0.401433</td>\n",
       "      <td>0.369256</td>\n",
       "      <td>0.468208</td>\n",
       "    </tr>\n",
       "    <tr>\n",
       "      <th>206</th>\n",
       "      <td>XGBoostClassifier</td>\n",
       "      <td>dataset_06_pvtt_mean.pickle</td>\n",
       "      <td>yes</td>\n",
       "      <td>0.00</td>\n",
       "      <td>SMOTETOMEK</td>\n",
       "      <td>0.511877</td>\n",
       "      <td>0.431531</td>\n",
       "      <td>0.606850</td>\n",
       "    </tr>\n",
       "    <tr>\n",
       "      <th>426</th>\n",
       "      <td>XGBoostClassifier</td>\n",
       "      <td>dataset_06_pvtt_mean.pickle</td>\n",
       "      <td>yes</td>\n",
       "      <td>0.95</td>\n",
       "      <td>SMOTETOMEK</td>\n",
       "      <td>0.466482</td>\n",
       "      <td>0.385388</td>\n",
       "      <td>0.571311</td>\n",
       "    </tr>\n",
       "    <tr>\n",
       "      <th>41</th>\n",
       "      <td>XGBoostClassifier</td>\n",
       "      <td>dataset_06_pvtt_mean.pickle</td>\n",
       "      <td>yes</td>\n",
       "      <td>0.00</td>\n",
       "      <td>none</td>\n",
       "      <td>0.511877</td>\n",
       "      <td>0.431531</td>\n",
       "      <td>0.606850</td>\n",
       "    </tr>\n",
       "    <tr>\n",
       "      <th>261</th>\n",
       "      <td>XGBoostClassifier</td>\n",
       "      <td>dataset_06_pvtt_mean.pickle</td>\n",
       "      <td>yes</td>\n",
       "      <td>0.95</td>\n",
       "      <td>none</td>\n",
       "      <td>0.466482</td>\n",
       "      <td>0.385388</td>\n",
       "      <td>0.571311</td>\n",
       "    </tr>\n",
       "  </tbody>\n",
       "</table>\n",
       "</div>"
      ],
      "text/plain": [
       "                 model                      dataset scaled  pca_components  \\\n",
       "83   XGBoostClassifier  dataset_06_pvtt_mean.pickle    yes            0.00   \n",
       "312  XGBoostClassifier  dataset_06_pvtt_mean.pickle    yes            0.95   \n",
       "163  XGBoostClassifier  dataset_06_pvtt_mean.pickle    yes            0.00   \n",
       "345  XGBoostClassifier  dataset_06_pvtt_mean.pickle    yes            0.95   \n",
       "206  XGBoostClassifier  dataset_06_pvtt_mean.pickle    yes            0.00   \n",
       "426  XGBoostClassifier  dataset_06_pvtt_mean.pickle    yes            0.95   \n",
       "41   XGBoostClassifier  dataset_06_pvtt_mean.pickle    yes            0.00   \n",
       "261  XGBoostClassifier  dataset_06_pvtt_mean.pickle    yes            0.95   \n",
       "\n",
       "     resampling  matthews_corrcoef  f1_macro  accuracy  \n",
       "83        SMOTE           0.498740  0.464803  0.582787  \n",
       "312       SMOTE           0.451977  0.420371  0.544204  \n",
       "163    SMOTEENN           0.445900  0.411105  0.506440  \n",
       "345    SMOTEENN           0.401433  0.369256  0.468208  \n",
       "206  SMOTETOMEK           0.511877  0.431531  0.606850  \n",
       "426  SMOTETOMEK           0.466482  0.385388  0.571311  \n",
       "41         none           0.511877  0.431531  0.606850  \n",
       "261        none           0.466482  0.385388  0.571311  "
      ]
     },
     "execution_count": 7,
     "metadata": {},
     "output_type": "execute_result"
    }
   ],
   "source": [
    "indices_for_best_mcc = df.groupby(['timestamp', 'resampling', 'pca_components', 'scaled'])['matthews_corrcoef'].idxmax()\n",
    "df.iloc[indices_for_best_mcc][\n",
    "    ['model', 'dataset', 'scaled', 'pca_components', 'resampling', 'matthews_corrcoef', 'f1_macro', 'accuracy']\n",
    "]"
   ]
  }
 ],
 "metadata": {
  "kernelspec": {
   "display_name": "Python 3",
   "language": "python",
   "name": "python3"
  },
  "language_info": {
   "codemirror_mode": {
    "name": "ipython",
    "version": 3
   },
   "file_extension": ".py",
   "mimetype": "text/x-python",
   "name": "python",
   "nbconvert_exporter": "python",
   "pygments_lexer": "ipython3",
   "version": "3.8.10"
  }
 },
 "nbformat": 4,
 "nbformat_minor": 2
}
