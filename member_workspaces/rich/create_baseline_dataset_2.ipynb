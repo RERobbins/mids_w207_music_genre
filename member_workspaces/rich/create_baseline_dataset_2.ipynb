{
 "cells": [
  {
   "cell_type": "code",
   "execution_count": 1,
   "id": "0b2237e0-f3dc-4476-92bf-8d8ddb7d805b",
   "metadata": {},
   "outputs": [],
   "source": [
    "import sys\n",
    "\n",
    "import numpy as np\n",
    "import pandas as pd\n",
    "\n",
    "sys.path.append(\"../../\")\n",
    "\n",
    "from helpers.reduce import load_and_distill\n",
    "from helpers.constants import BASE_FEATURES_2"
   ]
  },
  {
   "cell_type": "code",
   "execution_count": 2,
   "id": "451a4fe4-09e3-4445-b14d-6584feb70b45",
   "metadata": {},
   "outputs": [
    {
     "data": {
      "text/plain": [
       "(21351, 192)"
      ]
     },
     "execution_count": 2,
     "metadata": {},
     "output_type": "execute_result"
    }
   ],
   "source": [
    "df = load_and_distill(features=BASE_FEATURES_2, pickle= \"../../datasets/baseline_dataset_2.pickle\")\n",
    "df.shape"
   ]
  },
  {
   "cell_type": "code",
   "execution_count": 9,
   "id": "50047bc0-d93a-47a5-838e-01bcff00a802",
   "metadata": {},
   "outputs": [
    {
     "data": {
      "text/plain": [
       "['genre_blues',\n",
       " 'genre_classical',\n",
       " 'genre_country',\n",
       " 'genre_disco',\n",
       " 'genre_hiphop',\n",
       " 'genre_jazz',\n",
       " 'genre_metal',\n",
       " 'genre_pop',\n",
       " 'genre_reggae',\n",
       " 'genre_rock']"
      ]
     },
     "execution_count": 9,
     "metadata": {},
     "output_type": "execute_result"
    }
   ],
   "source": [
    "[name for name in df.columns if \"genre\" in name]"
   ]
  },
  {
   "cell_type": "code",
   "execution_count": 13,
   "id": "e0b2f8e8-0302-4c03-8066-5b4d40d3ee74",
   "metadata": {},
   "outputs": [
    {
     "data": {
      "text/plain": [
       "['mfcc_mean_0',\n",
       " 'mfcc_mean_1',\n",
       " 'mfcc_mean_2',\n",
       " 'mfcc_mean_3',\n",
       " 'mfcc_mean_4',\n",
       " 'mfcc_mean_5',\n",
       " 'mfcc_mean_6',\n",
       " 'mfcc_mean_7',\n",
       " 'mfcc_mean_8',\n",
       " 'mfcc_mean_9',\n",
       " 'mfcc_mean_10',\n",
       " 'mfcc_mean_11',\n",
       " 'mfcc_mean_12']"
      ]
     },
     "execution_count": 13,
     "metadata": {},
     "output_type": "execute_result"
    }
   ],
   "source": [
    "[name for name in df.columns if \"mfcc_mean\" in name]"
   ]
  },
  {
   "cell_type": "code",
   "execution_count": 15,
   "id": "2d300611-aa00-4e8d-becf-b4a95b723ed9",
   "metadata": {},
   "outputs": [
    {
     "data": {
      "text/plain": [
       "['mfcc_cov_0_0',\n",
       " 'mfcc_cov_0_1',\n",
       " 'mfcc_cov_0_2',\n",
       " 'mfcc_cov_0_3',\n",
       " 'mfcc_cov_0_4',\n",
       " 'mfcc_cov_0_5',\n",
       " 'mfcc_cov_0_6',\n",
       " 'mfcc_cov_0_7',\n",
       " 'mfcc_cov_0_8',\n",
       " 'mfcc_cov_0_9',\n",
       " 'mfcc_cov_0_10',\n",
       " 'mfcc_cov_0_11',\n",
       " 'mfcc_cov_0_12',\n",
       " 'mfcc_cov_1_0',\n",
       " 'mfcc_cov_1_1',\n",
       " 'mfcc_cov_1_2',\n",
       " 'mfcc_cov_1_3',\n",
       " 'mfcc_cov_1_4',\n",
       " 'mfcc_cov_1_5',\n",
       " 'mfcc_cov_1_6',\n",
       " 'mfcc_cov_1_7',\n",
       " 'mfcc_cov_1_8',\n",
       " 'mfcc_cov_1_9',\n",
       " 'mfcc_cov_1_10',\n",
       " 'mfcc_cov_1_11',\n",
       " 'mfcc_cov_1_12',\n",
       " 'mfcc_cov_2_0',\n",
       " 'mfcc_cov_2_1',\n",
       " 'mfcc_cov_2_2',\n",
       " 'mfcc_cov_2_3',\n",
       " 'mfcc_cov_2_4',\n",
       " 'mfcc_cov_2_5',\n",
       " 'mfcc_cov_2_6',\n",
       " 'mfcc_cov_2_7',\n",
       " 'mfcc_cov_2_8',\n",
       " 'mfcc_cov_2_9',\n",
       " 'mfcc_cov_2_10',\n",
       " 'mfcc_cov_2_11',\n",
       " 'mfcc_cov_2_12',\n",
       " 'mfcc_cov_3_0',\n",
       " 'mfcc_cov_3_1',\n",
       " 'mfcc_cov_3_2',\n",
       " 'mfcc_cov_3_3',\n",
       " 'mfcc_cov_3_4',\n",
       " 'mfcc_cov_3_5',\n",
       " 'mfcc_cov_3_6',\n",
       " 'mfcc_cov_3_7',\n",
       " 'mfcc_cov_3_8',\n",
       " 'mfcc_cov_3_9',\n",
       " 'mfcc_cov_3_10',\n",
       " 'mfcc_cov_3_11',\n",
       " 'mfcc_cov_3_12',\n",
       " 'mfcc_cov_4_0',\n",
       " 'mfcc_cov_4_1',\n",
       " 'mfcc_cov_4_2',\n",
       " 'mfcc_cov_4_3',\n",
       " 'mfcc_cov_4_4',\n",
       " 'mfcc_cov_4_5',\n",
       " 'mfcc_cov_4_6',\n",
       " 'mfcc_cov_4_7',\n",
       " 'mfcc_cov_4_8',\n",
       " 'mfcc_cov_4_9',\n",
       " 'mfcc_cov_4_10',\n",
       " 'mfcc_cov_4_11',\n",
       " 'mfcc_cov_4_12',\n",
       " 'mfcc_cov_5_0',\n",
       " 'mfcc_cov_5_1',\n",
       " 'mfcc_cov_5_2',\n",
       " 'mfcc_cov_5_3',\n",
       " 'mfcc_cov_5_4',\n",
       " 'mfcc_cov_5_5',\n",
       " 'mfcc_cov_5_6',\n",
       " 'mfcc_cov_5_7',\n",
       " 'mfcc_cov_5_8',\n",
       " 'mfcc_cov_5_9',\n",
       " 'mfcc_cov_5_10',\n",
       " 'mfcc_cov_5_11',\n",
       " 'mfcc_cov_5_12',\n",
       " 'mfcc_cov_6_0',\n",
       " 'mfcc_cov_6_1',\n",
       " 'mfcc_cov_6_2',\n",
       " 'mfcc_cov_6_3',\n",
       " 'mfcc_cov_6_4',\n",
       " 'mfcc_cov_6_5',\n",
       " 'mfcc_cov_6_6',\n",
       " 'mfcc_cov_6_7',\n",
       " 'mfcc_cov_6_8',\n",
       " 'mfcc_cov_6_9',\n",
       " 'mfcc_cov_6_10',\n",
       " 'mfcc_cov_6_11',\n",
       " 'mfcc_cov_6_12',\n",
       " 'mfcc_cov_7_0',\n",
       " 'mfcc_cov_7_1',\n",
       " 'mfcc_cov_7_2',\n",
       " 'mfcc_cov_7_3',\n",
       " 'mfcc_cov_7_4',\n",
       " 'mfcc_cov_7_5',\n",
       " 'mfcc_cov_7_6',\n",
       " 'mfcc_cov_7_7',\n",
       " 'mfcc_cov_7_8',\n",
       " 'mfcc_cov_7_9',\n",
       " 'mfcc_cov_7_10',\n",
       " 'mfcc_cov_7_11',\n",
       " 'mfcc_cov_7_12',\n",
       " 'mfcc_cov_8_0',\n",
       " 'mfcc_cov_8_1',\n",
       " 'mfcc_cov_8_2',\n",
       " 'mfcc_cov_8_3',\n",
       " 'mfcc_cov_8_4',\n",
       " 'mfcc_cov_8_5',\n",
       " 'mfcc_cov_8_6',\n",
       " 'mfcc_cov_8_7',\n",
       " 'mfcc_cov_8_8',\n",
       " 'mfcc_cov_8_9',\n",
       " 'mfcc_cov_8_10',\n",
       " 'mfcc_cov_8_11',\n",
       " 'mfcc_cov_8_12',\n",
       " 'mfcc_cov_9_0',\n",
       " 'mfcc_cov_9_1',\n",
       " 'mfcc_cov_9_2',\n",
       " 'mfcc_cov_9_3',\n",
       " 'mfcc_cov_9_4',\n",
       " 'mfcc_cov_9_5',\n",
       " 'mfcc_cov_9_6',\n",
       " 'mfcc_cov_9_7',\n",
       " 'mfcc_cov_9_8',\n",
       " 'mfcc_cov_9_9',\n",
       " 'mfcc_cov_9_10',\n",
       " 'mfcc_cov_9_11',\n",
       " 'mfcc_cov_9_12',\n",
       " 'mfcc_cov_10_0',\n",
       " 'mfcc_cov_10_1',\n",
       " 'mfcc_cov_10_2',\n",
       " 'mfcc_cov_10_3',\n",
       " 'mfcc_cov_10_4',\n",
       " 'mfcc_cov_10_5',\n",
       " 'mfcc_cov_10_6',\n",
       " 'mfcc_cov_10_7',\n",
       " 'mfcc_cov_10_8',\n",
       " 'mfcc_cov_10_9',\n",
       " 'mfcc_cov_10_10',\n",
       " 'mfcc_cov_10_11',\n",
       " 'mfcc_cov_10_12',\n",
       " 'mfcc_cov_11_0',\n",
       " 'mfcc_cov_11_1',\n",
       " 'mfcc_cov_11_2',\n",
       " 'mfcc_cov_11_3',\n",
       " 'mfcc_cov_11_4',\n",
       " 'mfcc_cov_11_5',\n",
       " 'mfcc_cov_11_6',\n",
       " 'mfcc_cov_11_7',\n",
       " 'mfcc_cov_11_8',\n",
       " 'mfcc_cov_11_9',\n",
       " 'mfcc_cov_11_10',\n",
       " 'mfcc_cov_11_11',\n",
       " 'mfcc_cov_11_12',\n",
       " 'mfcc_cov_12_0',\n",
       " 'mfcc_cov_12_1',\n",
       " 'mfcc_cov_12_2',\n",
       " 'mfcc_cov_12_3',\n",
       " 'mfcc_cov_12_4',\n",
       " 'mfcc_cov_12_5',\n",
       " 'mfcc_cov_12_6',\n",
       " 'mfcc_cov_12_7',\n",
       " 'mfcc_cov_12_8',\n",
       " 'mfcc_cov_12_9',\n",
       " 'mfcc_cov_12_10',\n",
       " 'mfcc_cov_12_11',\n",
       " 'mfcc_cov_12_12']"
      ]
     },
     "execution_count": 15,
     "metadata": {},
     "output_type": "execute_result"
    }
   ],
   "source": [
    "[name for name in df.columns if \"mfcc_cov\" in name]"
   ]
  }
 ],
 "metadata": {
  "interpreter": {
   "hash": "35d15a1cd8dadd50efd7dc67d5d4964ef4d6df162d72ab0491992c60321de6b1"
  },
  "kernelspec": {
   "display_name": "Python 3 (ipykernel)",
   "language": "python",
   "name": "python3"
  },
  "language_info": {
   "codemirror_mode": {
    "name": "ipython",
    "version": 3
   },
   "file_extension": ".py",
   "mimetype": "text/x-python",
   "name": "python",
   "nbconvert_exporter": "python",
   "pygments_lexer": "ipython3",
   "version": "3.9.12"
  }
 },
 "nbformat": 4,
 "nbformat_minor": 5
}
