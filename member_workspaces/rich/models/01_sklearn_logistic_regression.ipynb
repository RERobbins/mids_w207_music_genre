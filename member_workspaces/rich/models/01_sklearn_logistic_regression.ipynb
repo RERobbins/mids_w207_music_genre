{
 "cells": [
  {
   "cell_type": "code",
   "execution_count": null,
   "id": "b223e5e3-01fe-4df3-8c86-f8801c3506c2",
   "metadata": {},
   "outputs": [],
   "source": [
    "import os\n",
    "import glob\n",
    "import sys\n",
    "\n",
    "import matplotlib.pyplot as plt\n",
    "import numpy as np\n",
    "import pandas as pd\n",
    "import seaborn as sns\n",
    "\n",
    "sys.path.append(\"../../../\")\n",
    "\n",
    "from sklearn.linear_model import LogisticRegression, LogisticRegressionCV\n",
    "\n",
    "from helpers.split import tag_label_feature_split, make_train_test_split\n",
    "from helpers.assess import make_confusion_matrix, make_classification_report"
   ]
  },
  {
   "cell_type": "code",
   "execution_count": null,
   "id": "113f6ff4-3f9c-4a4d-b16a-ea71a4398d46",
   "metadata": {},
   "outputs": [],
   "source": [
    "def logistic_regression_experiment(\n",
    "    dataset, optimizer=\"lbfgs\", max_iteration=1000, verbose=0\n",
    "):\n",
    "\n",
    "    # load data and separate label strings from features,\n",
    "    # then encode label strings\n",
    "\n",
    "    print(f\"\\n\\nDataset: {dataset}\\n\")    \n",
    "\n",
    "    df = pd.read_pickle(dataset)\n",
    "    _, (y, le) , X = tag_label_feature_split(df,label_format='encoded')\n",
    "\n",
    "    # divide into train and test data sets\n",
    "    X_train_std, X_test_std, y_train, y_test = make_train_test_split(\n",
    "        X, y, test_size=0.2, random_state=10, stratify=y,x_scaler=\"standard\"\n",
    "    )\n",
    "\n",
    "    model = LogisticRegression(\n",
    "        C=100.0,\n",
    "        solver=optimizer,\n",
    "        multi_class=\"multinomial\",\n",
    "        class_weight=\"balanced\",\n",
    "        max_iter=max_iteration,\n",
    "        verbose=verbose,\n",
    "    )\n",
    "\n",
    "    model.fit(X_train_std, y_train)\n",
    "\n",
    "    predictions = model.predict(X_test_std)\n",
    "    train_accuracy = model.score(X_train_std, y_train)\n",
    "    test_accuracy = model.score(X_test_std, y_test)\n",
    " \n",
    "    print(f\"Train: {train_accuracy = :f}\\n\")\n",
    "    make_classification_report(y_train,model=model,x=X_train_std,label_encoder=le,print_report=True)\n",
    "    print(f\"Test: {test_accuracy = :f}\\n\")\n",
    "    make_classification_report(y_test, y_pred=predictions, digits=4,label_encoder=le,print_report=True)\n",
    "    \n",
    "    name = os.path.basename(dataset).split(\".\")[0]\n",
    "    make_confusion_matrix(\n",
    "        y_test,\n",
    "        y_pred=predictions,\n",
    "        label_encoder=le,\n",
    "        title=f\"{name} test (row normalized)\"\n",
    "    )\n",
    "\n",
    "    return model"
   ]
  },
  {
   "cell_type": "code",
   "execution_count": null,
   "id": "c67320a4-fd88-4b6e-9249-02dd0c79ad84",
   "metadata": {},
   "outputs": [],
   "source": [
    "dataset_folder = \"../../../datasets/\"\n",
    "datasets = sorted([name for name in glob.glob(dataset_folder + \"*.pickle\")])\n",
    "for dataset in datasets:\n",
    "    logistic_regression_experiment (dataset)"
   ]
  }
 ],
 "metadata": {
  "kernelspec": {
   "display_name": "Python 3",
   "language": "python",
   "name": "python3"
  },
  "language_info": {
   "codemirror_mode": {
    "name": "ipython",
    "version": 3
   },
   "file_extension": ".py",
   "mimetype": "text/x-python",
   "name": "python",
   "nbconvert_exporter": "python",
   "pygments_lexer": "ipython3",
   "version": "3.8.8"
  }
 },
 "nbformat": 4,
 "nbformat_minor": 5
}
