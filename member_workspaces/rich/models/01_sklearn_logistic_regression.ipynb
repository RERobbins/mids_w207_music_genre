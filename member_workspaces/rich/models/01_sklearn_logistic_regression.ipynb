{
 "cells": [
  {
   "cell_type": "code",
   "execution_count": 1,
   "id": "b223e5e3-01fe-4df3-8c86-f8801c3506c2",
   "metadata": {},
   "outputs": [],
   "source": [
    "import glob\n",
    "import os\n",
    "import sys\n",
    "\n",
    "import matplotlib.pyplot as plt\n",
    "import numpy as np\n",
    "import pandas as pd\n",
    "import seaborn as sns\n",
    "\n",
    "sys.path.append(\"../../../\")\n",
    "\n",
    "from sklearn.linear_model import LogisticRegression, LogisticRegressionCV\n",
    "\n",
    "from helpers.assess import make_classification_report, make_confusion_matrix\n",
    "from helpers.split import make_train_test_split, tag_label_feature_split"
   ]
  },
  {
   "cell_type": "code",
   "execution_count": 2,
   "id": "113f6ff4-3f9c-4a4d-b16a-ea71a4398d46",
   "metadata": {},
   "outputs": [],
   "source": [
    "def logistic_regression_experiment(\n",
    "    dataset, optimizer='lbfgs', penalty='l2', max_iteration=100, verbose=0\n",
    "):\n",
    "\n",
    "    dataset_name = os.path.basename(dataset).split(\".\")[0]\n",
    "    experiment_label = \"logistic_regression_\" + dataset_name\n",
    "    print(f\"\\n\\nExperiment: {experiment_label}\\n\")\n",
    "    \n",
    "    # load data and separate label strings from features,\n",
    "    # then encode label strings\n",
    "\n",
    "    df = pd.read_pickle(dataset)\n",
    "    _, (y, le), X = tag_label_feature_split(df, label_format=\"encoded\")\n",
    "\n",
    "    # divide into train and test data sets\n",
    "    X_train_std, X_test_std, y_train, y_test = make_train_test_split(\n",
    "        X, y, test_size=0.2, random_state=10, stratify=y, x_scaler=\"standard\"\n",
    "    )\n",
    "\n",
    "    model = LogisticRegression(\n",
    "        C=10.0,\n",
    "        solver=optimizer,\n",
    "        penalty=penalty,\n",
    "        multi_class=\"auto\",\n",
    "        class_weight=\"balanced\",\n",
    "        max_iter=max_iteration,\n",
    "        verbose=verbose,\n",
    "    )\n",
    "\n",
    "    model.fit(X_train_std, y_train)\n",
    "\n",
    "    predictions = model.predict(X_test_std)\n",
    "    train_accuracy = model.score(X_train_std, y_train)\n",
    "    test_accuracy = model.score(X_test_std, y_test)\n",
    "\n",
    "    print(f\"Train: {train_accuracy = :f}\\n\")\n",
    "    make_classification_report(\n",
    "        y_train,\n",
    "        model=model,\n",
    "        x=X_train_std,\n",
    "        digits=4,\n",
    "        label_encoder=le,\n",
    "        print_report=True,\n",
    "        save_result=True,\n",
    "        result_filename=\"rich_results.json\",\n",
    "        model_name=experiment_label+\"_train\",\n",
    "        repeat=True\n",
    "    )\n",
    "    print(f\"\\nTest: {test_accuracy = :f}\\n\")\n",
    "    make_classification_report(\n",
    "        y_test, \n",
    "        y_pred=predictions, \n",
    "        digits=4, \n",
    "        label_encoder=le, \n",
    "        print_report=True,\n",
    "        save_result=True,\n",
    "        result_filename=\"rich_results.json\",\n",
    "        model_name=experiment_label+\"_test\",\n",
    "        repeat=True\n",
    "    )\n",
    "\n",
    "    make_confusion_matrix(\n",
    "        y_test,\n",
    "        y_pred=predictions,\n",
    "        label_encoder=le,\n",
    "        title=f\"{dataset_name} test (row normalized)\",\n",
    "    )\n",
    "\n",
    "    return model"
   ]
  },
  {
   "cell_type": "code",
   "execution_count": null,
   "id": "c67320a4-fd88-4b6e-9249-02dd0c79ad84",
   "metadata": {},
   "outputs": [
    {
     "name": "stdout",
     "output_type": "stream",
     "text": [
      "\n",
      "\n",
      "Experiment: logistic_regression_dataset_00_all\n",
      "\n"
     ]
    }
   ],
   "source": [
    "dataset_folder = \"../../../datasets/\"\n",
    "datasets = sorted([name for name in glob.glob(dataset_folder + \"dataset_*.pickle\")])\n",
    "for dataset in datasets:\n",
    "    logistic_regression_experiment(dataset, optimizer='liblinear', penalty='l1')"
   ]
  }
 ],
 "metadata": {
  "kernelspec": {
   "display_name": "Python 3 (ipykernel)",
   "language": "python",
   "name": "python3"
  },
  "language_info": {
   "codemirror_mode": {
    "name": "ipython",
    "version": 3
   },
   "file_extension": ".py",
   "mimetype": "text/x-python",
   "name": "python",
   "nbconvert_exporter": "python",
   "pygments_lexer": "ipython3",
   "version": "3.9.13"
  }
 },
 "nbformat": 4,
 "nbformat_minor": 5
}
