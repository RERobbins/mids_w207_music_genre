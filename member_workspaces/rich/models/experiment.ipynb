{
 "cells": [
  {
   "cell_type": "code",
   "execution_count": null,
   "id": "b223e5e3-01fe-4df3-8c86-f8801c3506c2",
   "metadata": {},
   "outputs": [],
   "source": [
    "import glob\n",
    "import os\n",
    "import sys\n",
    "\n",
    "import numpy as np\n",
    "import pandas as pd\n",
    "\n",
    "sys.path.append(\"../../../\")\n",
    "\n",
    "from sklearn.linear_model import LogisticRegression, LogisticRegressionCV\n",
    "from helpers.experiment import experiment\n"
   ]
  },
  {
   "cell_type": "code",
   "execution_count": null,
   "id": "113f6ff4-3f9c-4a4d-b16a-ea71a4398d46",
   "metadata": {},
   "outputs": [],
   "source": [
    "dataset_folder = \"../../../datasets/\"\n",
    "datasets = sorted([name for name in glob.glob(dataset_folder + \"dataset_*.pickle\")])\n",
    "\n",
    "for dataset in datasets:\n",
    "\n",
    "    model = LogisticRegression(\n",
    "    C=10.0,\n",
    "    solver='liblinear',\n",
    "    penalty='l1',\n",
    "    multi_class=\"auto\",\n",
    "    class_weight=\"balanced\",\n",
    ")\n",
    "    \n",
    "    experiment(model, dataset)\n"
   ]
  }
 ],
 "metadata": {
  "kernelspec": {
   "display_name": "Python 3 (ipykernel)",
   "language": "python",
   "name": "python3"
  },
  "language_info": {
   "codemirror_mode": {
    "name": "ipython",
    "version": 3
   },
   "file_extension": ".py",
   "mimetype": "text/x-python",
   "name": "python",
   "nbconvert_exporter": "python",
   "pygments_lexer": "ipython3",
   "version": "3.9.13"
  }
 },
 "nbformat": 4,
 "nbformat_minor": 5
}
