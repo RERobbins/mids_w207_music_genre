{
 "cells": [
  {
   "cell_type": "code",
   "execution_count": 1,
   "metadata": {},
   "outputs": [],
   "source": [
    "import json\n",
    "import pandas as pd"
   ]
  },
  {
   "cell_type": "code",
   "execution_count": 2,
   "metadata": {},
   "outputs": [],
   "source": [
    "filename=\"../rich/bayesian_optimization_cpu_1_logs.json\""
   ]
  },
  {
   "cell_type": "code",
   "execution_count": 3,
   "metadata": {},
   "outputs": [],
   "source": [
    "with open (filename, \"r\") as infile:\n",
    "    json_list = [json.loads(line) for line in infile]\n",
    "df=pd.json_normalize(json_list)"
   ]
  },
  {
   "cell_type": "markdown",
   "metadata": {},
   "source": [
    "**Current best mcc, f1_macro and accuracy results, respectively.**"
   ]
  },
  {
   "cell_type": "code",
   "execution_count": 4,
   "metadata": {},
   "outputs": [
    {
     "data": {
      "text/html": [
       "<div>\n",
       "<style scoped>\n",
       "    .dataframe tbody tr th:only-of-type {\n",
       "        vertical-align: middle;\n",
       "    }\n",
       "\n",
       "    .dataframe tbody tr th {\n",
       "        vertical-align: top;\n",
       "    }\n",
       "\n",
       "    .dataframe thead th {\n",
       "        text-align: right;\n",
       "    }\n",
       "</style>\n",
       "<table border=\"1\" class=\"dataframe\">\n",
       "  <thead>\n",
       "    <tr style=\"text-align: right;\">\n",
       "      <th></th>\n",
       "      <th>model</th>\n",
       "      <th>dataset</th>\n",
       "      <th>scaled</th>\n",
       "      <th>pca_components</th>\n",
       "      <th>resampling</th>\n",
       "      <th>matthews_corrcoef</th>\n",
       "      <th>f1_macro</th>\n",
       "      <th>accuracy</th>\n",
       "    </tr>\n",
       "  </thead>\n",
       "  <tbody>\n",
       "    <tr>\n",
       "      <th>471</th>\n",
       "      <td>XGBoostClassifier</td>\n",
       "      <td>dataset_09_pvtt_mean_cov_icov.pickle</td>\n",
       "      <td>yes</td>\n",
       "      <td>0.0</td>\n",
       "      <td>none</td>\n",
       "      <td>0.578974</td>\n",
       "      <td>0.515688</td>\n",
       "      <td>0.659895</td>\n",
       "    </tr>\n",
       "    <tr>\n",
       "      <th>536</th>\n",
       "      <td>XGBoostClassifier</td>\n",
       "      <td>dataset_09_pvtt_mean_cov_icov.pickle</td>\n",
       "      <td>yes</td>\n",
       "      <td>0.0</td>\n",
       "      <td>SMOTE</td>\n",
       "      <td>0.575212</td>\n",
       "      <td>0.549063</td>\n",
       "      <td>0.651230</td>\n",
       "    </tr>\n",
       "    <tr>\n",
       "      <th>471</th>\n",
       "      <td>XGBoostClassifier</td>\n",
       "      <td>dataset_09_pvtt_mean_cov_icov.pickle</td>\n",
       "      <td>yes</td>\n",
       "      <td>0.0</td>\n",
       "      <td>none</td>\n",
       "      <td>0.578974</td>\n",
       "      <td>0.515688</td>\n",
       "      <td>0.659895</td>\n",
       "    </tr>\n",
       "  </tbody>\n",
       "</table>\n",
       "</div>"
      ],
      "text/plain": [
       "                 model                               dataset scaled  \\\n",
       "471  XGBoostClassifier  dataset_09_pvtt_mean_cov_icov.pickle    yes   \n",
       "536  XGBoostClassifier  dataset_09_pvtt_mean_cov_icov.pickle    yes   \n",
       "471  XGBoostClassifier  dataset_09_pvtt_mean_cov_icov.pickle    yes   \n",
       "\n",
       "     pca_components resampling  matthews_corrcoef  f1_macro  accuracy  \n",
       "471             0.0       none           0.578974  0.515688  0.659895  \n",
       "536             0.0      SMOTE           0.575212  0.549063  0.651230  \n",
       "471             0.0       none           0.578974  0.515688  0.659895  "
      ]
     },
     "execution_count": 4,
     "metadata": {},
     "output_type": "execute_result"
    }
   ],
   "source": [
    "best_mcc_f1_accuracy_indices = [df['matthews_corrcoef'].idxmax(),\n",
    "                                df['f1_macro'].idxmax(),\n",
    "                                df['accuracy'].idxmax()]\n",
    "df.iloc[best_mcc_f1_accuracy_indices][['model', 'dataset', 'scaled', 'pca_components', \n",
    "                                       'resampling', 'matthews_corrcoef', 'f1_macro', 'accuracy']]"
   ]
  },
  {
   "cell_type": "markdown",
   "metadata": {},
   "source": [
    "**Detailed summary of current best mcc result.**"
   ]
  },
  {
   "cell_type": "code",
   "execution_count": 5,
   "metadata": {},
   "outputs": [
    {
     "data": {
      "text/plain": [
       "model                                   XGBoostClassifier\n",
       "dataset              dataset_09_pvtt_mean_cov_icov.pickle\n",
       "timestamp                                      1658071601\n",
       "scaled                                                yes\n",
       "pca_components                                        0.0\n",
       "resampling                                           none\n",
       "learning_rate                                    0.063618\n",
       "n_estimators                                          428\n",
       "max_depth                                               6\n",
       "gamma                                            0.048286\n",
       "reg_alpha                                         9.32768\n",
       "seed                                                 1962\n",
       "fit_tim                                        671.156402\n",
       "core_tim                                         0.286807\n",
       "matthews_corrcoef                                0.578974\n",
       "f1_macro                                         0.515688\n",
       "accuracy                                         0.659895\n",
       "Name: 471, dtype: object"
      ]
     },
     "execution_count": 5,
     "metadata": {},
     "output_type": "execute_result"
    }
   ],
   "source": [
    "df.iloc[best_mcc_f1_accuracy_indices[0]]"
   ]
  },
  {
   "cell_type": "markdown",
   "metadata": {},
   "source": [
    "**Number of trials logged.**"
   ]
  },
  {
   "cell_type": "code",
   "execution_count": 6,
   "metadata": {
    "scrolled": true
   },
   "outputs": [
    {
     "data": {
      "text/plain": [
       "552"
      ]
     },
     "execution_count": 6,
     "metadata": {},
     "output_type": "execute_result"
    }
   ],
   "source": [
    "df.shape[0]"
   ]
  },
  {
   "cell_type": "markdown",
   "metadata": {},
   "source": [
    "**Group results by timestamp, resampling and pca_components, then show current best mcc by group.**"
   ]
  },
  {
   "cell_type": "code",
   "execution_count": 7,
   "metadata": {},
   "outputs": [
    {
     "data": {
      "text/html": [
       "<div>\n",
       "<style scoped>\n",
       "    .dataframe tbody tr th:only-of-type {\n",
       "        vertical-align: middle;\n",
       "    }\n",
       "\n",
       "    .dataframe tbody tr th {\n",
       "        vertical-align: top;\n",
       "    }\n",
       "\n",
       "    .dataframe thead th {\n",
       "        text-align: right;\n",
       "    }\n",
       "</style>\n",
       "<table border=\"1\" class=\"dataframe\">\n",
       "  <thead>\n",
       "    <tr style=\"text-align: right;\">\n",
       "      <th></th>\n",
       "      <th>model</th>\n",
       "      <th>dataset</th>\n",
       "      <th>scaled</th>\n",
       "      <th>pca_components</th>\n",
       "      <th>resampling</th>\n",
       "      <th>matthews_corrcoef</th>\n",
       "      <th>f1_macro</th>\n",
       "      <th>accuracy</th>\n",
       "    </tr>\n",
       "  </thead>\n",
       "  <tbody>\n",
       "    <tr>\n",
       "      <th>103</th>\n",
       "      <td>XGBoostClassifier</td>\n",
       "      <td>dataset_09_pvtt_mean_cov_icov.pickle</td>\n",
       "      <td>no</td>\n",
       "      <td>0.00</td>\n",
       "      <td>SMOTE</td>\n",
       "      <td>0.574095</td>\n",
       "      <td>0.544460</td>\n",
       "      <td>0.649941</td>\n",
       "    </tr>\n",
       "    <tr>\n",
       "      <th>536</th>\n",
       "      <td>XGBoostClassifier</td>\n",
       "      <td>dataset_09_pvtt_mean_cov_icov.pickle</td>\n",
       "      <td>yes</td>\n",
       "      <td>0.00</td>\n",
       "      <td>SMOTE</td>\n",
       "      <td>0.575212</td>\n",
       "      <td>0.549063</td>\n",
       "      <td>0.651230</td>\n",
       "    </tr>\n",
       "    <tr>\n",
       "      <th>326</th>\n",
       "      <td>XGBoostClassifier</td>\n",
       "      <td>dataset_09_pvtt_mean_cov_icov.pickle</td>\n",
       "      <td>no</td>\n",
       "      <td>0.95</td>\n",
       "      <td>SMOTE</td>\n",
       "      <td>0.231698</td>\n",
       "      <td>0.232389</td>\n",
       "      <td>0.332670</td>\n",
       "    </tr>\n",
       "    <tr>\n",
       "      <th>139</th>\n",
       "      <td>XGBoostClassifier</td>\n",
       "      <td>dataset_09_pvtt_mean_cov_icov.pickle</td>\n",
       "      <td>no</td>\n",
       "      <td>0.00</td>\n",
       "      <td>SMOTEENN</td>\n",
       "      <td>0.480318</td>\n",
       "      <td>0.452676</td>\n",
       "      <td>0.534543</td>\n",
       "    </tr>\n",
       "    <tr>\n",
       "      <th>550</th>\n",
       "      <td>XGBoostClassifier</td>\n",
       "      <td>dataset_09_pvtt_mean_cov_icov.pickle</td>\n",
       "      <td>yes</td>\n",
       "      <td>0.00</td>\n",
       "      <td>SMOTEENN</td>\n",
       "      <td>0.477794</td>\n",
       "      <td>0.448421</td>\n",
       "      <td>0.532143</td>\n",
       "    </tr>\n",
       "    <tr>\n",
       "      <th>360</th>\n",
       "      <td>XGBoostClassifier</td>\n",
       "      <td>dataset_09_pvtt_mean_cov_icov.pickle</td>\n",
       "      <td>no</td>\n",
       "      <td>0.95</td>\n",
       "      <td>SMOTEENN</td>\n",
       "      <td>0.202233</td>\n",
       "      <td>0.195558</td>\n",
       "      <td>0.268560</td>\n",
       "    </tr>\n",
       "    <tr>\n",
       "      <th>191</th>\n",
       "      <td>XGBoostClassifier</td>\n",
       "      <td>dataset_09_pvtt_mean_cov_icov.pickle</td>\n",
       "      <td>no</td>\n",
       "      <td>0.00</td>\n",
       "      <td>SMOTETOMEK</td>\n",
       "      <td>0.573562</td>\n",
       "      <td>0.506320</td>\n",
       "      <td>0.655738</td>\n",
       "    </tr>\n",
       "    <tr>\n",
       "      <th>422</th>\n",
       "      <td>XGBoostClassifier</td>\n",
       "      <td>dataset_09_pvtt_mean_cov_icov.pickle</td>\n",
       "      <td>no</td>\n",
       "      <td>0.95</td>\n",
       "      <td>SMOTETOMEK</td>\n",
       "      <td>0.283201</td>\n",
       "      <td>0.193686</td>\n",
       "      <td>0.435070</td>\n",
       "    </tr>\n",
       "    <tr>\n",
       "      <th>26</th>\n",
       "      <td>XGBoostClassifier</td>\n",
       "      <td>dataset_09_pvtt_mean_cov_icov.pickle</td>\n",
       "      <td>no</td>\n",
       "      <td>0.00</td>\n",
       "      <td>none</td>\n",
       "      <td>0.573562</td>\n",
       "      <td>0.506320</td>\n",
       "      <td>0.655738</td>\n",
       "    </tr>\n",
       "    <tr>\n",
       "      <th>471</th>\n",
       "      <td>XGBoostClassifier</td>\n",
       "      <td>dataset_09_pvtt_mean_cov_icov.pickle</td>\n",
       "      <td>yes</td>\n",
       "      <td>0.00</td>\n",
       "      <td>none</td>\n",
       "      <td>0.578974</td>\n",
       "      <td>0.515688</td>\n",
       "      <td>0.659895</td>\n",
       "    </tr>\n",
       "    <tr>\n",
       "      <th>257</th>\n",
       "      <td>XGBoostClassifier</td>\n",
       "      <td>dataset_09_pvtt_mean_cov_icov.pickle</td>\n",
       "      <td>no</td>\n",
       "      <td>0.95</td>\n",
       "      <td>none</td>\n",
       "      <td>0.283201</td>\n",
       "      <td>0.193686</td>\n",
       "      <td>0.435070</td>\n",
       "    </tr>\n",
       "  </tbody>\n",
       "</table>\n",
       "</div>"
      ],
      "text/plain": [
       "                 model                               dataset scaled  \\\n",
       "103  XGBoostClassifier  dataset_09_pvtt_mean_cov_icov.pickle     no   \n",
       "536  XGBoostClassifier  dataset_09_pvtt_mean_cov_icov.pickle    yes   \n",
       "326  XGBoostClassifier  dataset_09_pvtt_mean_cov_icov.pickle     no   \n",
       "139  XGBoostClassifier  dataset_09_pvtt_mean_cov_icov.pickle     no   \n",
       "550  XGBoostClassifier  dataset_09_pvtt_mean_cov_icov.pickle    yes   \n",
       "360  XGBoostClassifier  dataset_09_pvtt_mean_cov_icov.pickle     no   \n",
       "191  XGBoostClassifier  dataset_09_pvtt_mean_cov_icov.pickle     no   \n",
       "422  XGBoostClassifier  dataset_09_pvtt_mean_cov_icov.pickle     no   \n",
       "26   XGBoostClassifier  dataset_09_pvtt_mean_cov_icov.pickle     no   \n",
       "471  XGBoostClassifier  dataset_09_pvtt_mean_cov_icov.pickle    yes   \n",
       "257  XGBoostClassifier  dataset_09_pvtt_mean_cov_icov.pickle     no   \n",
       "\n",
       "     pca_components  resampling  matthews_corrcoef  f1_macro  accuracy  \n",
       "103            0.00       SMOTE           0.574095  0.544460  0.649941  \n",
       "536            0.00       SMOTE           0.575212  0.549063  0.651230  \n",
       "326            0.95       SMOTE           0.231698  0.232389  0.332670  \n",
       "139            0.00    SMOTEENN           0.480318  0.452676  0.534543  \n",
       "550            0.00    SMOTEENN           0.477794  0.448421  0.532143  \n",
       "360            0.95    SMOTEENN           0.202233  0.195558  0.268560  \n",
       "191            0.00  SMOTETOMEK           0.573562  0.506320  0.655738  \n",
       "422            0.95  SMOTETOMEK           0.283201  0.193686  0.435070  \n",
       "26             0.00        none           0.573562  0.506320  0.655738  \n",
       "471            0.00        none           0.578974  0.515688  0.659895  \n",
       "257            0.95        none           0.283201  0.193686  0.435070  "
      ]
     },
     "execution_count": 7,
     "metadata": {},
     "output_type": "execute_result"
    }
   ],
   "source": [
    "indices_for_best_mcc = df.groupby(['timestamp', 'resampling', 'pca_components', 'scaled'])['matthews_corrcoef'].idxmax()\n",
    "df.iloc[indices_for_best_mcc][\n",
    "    ['model', 'dataset', 'scaled', 'pca_components', 'resampling', 'matthews_corrcoef', 'f1_macro', 'accuracy']\n",
    "]"
   ]
  }
 ],
 "metadata": {
  "kernelspec": {
   "display_name": "Python 3",
   "language": "python",
   "name": "python3"
  },
  "language_info": {
   "codemirror_mode": {
    "name": "ipython",
    "version": 3
   },
   "file_extension": ".py",
   "mimetype": "text/x-python",
   "name": "python",
   "nbconvert_exporter": "python",
   "pygments_lexer": "ipython3",
   "version": "3.8.10"
  }
 },
 "nbformat": 4,
 "nbformat_minor": 2
}
