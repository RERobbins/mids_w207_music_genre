{
 "cells": [
  {
   "cell_type": "code",
   "execution_count": 1,
   "metadata": {},
   "outputs": [],
   "source": [
    "import json\n",
    "import pandas as pd"
   ]
  },
  {
   "cell_type": "code",
   "execution_count": 2,
   "metadata": {},
   "outputs": [],
   "source": [
    "filename=\"../rich/bayesian_optimization_aws_gpu_6_dataset_02_logs.json\""
   ]
  },
  {
   "cell_type": "code",
   "execution_count": 3,
   "metadata": {},
   "outputs": [],
   "source": [
    "with open (filename, \"r\") as infile:\n",
    "    json_list = [json.loads(line) for line in infile]\n",
    "df=pd.json_normalize(json_list)"
   ]
  },
  {
   "cell_type": "markdown",
   "metadata": {},
   "source": [
    "**Current best mcc, f1_macro and accuracy results, respectively.**"
   ]
  },
  {
   "cell_type": "code",
   "execution_count": 4,
   "metadata": {},
   "outputs": [
    {
     "data": {
      "text/html": [
       "<div>\n",
       "<style scoped>\n",
       "    .dataframe tbody tr th:only-of-type {\n",
       "        vertical-align: middle;\n",
       "    }\n",
       "\n",
       "    .dataframe tbody tr th {\n",
       "        vertical-align: top;\n",
       "    }\n",
       "\n",
       "    .dataframe thead th {\n",
       "        text-align: right;\n",
       "    }\n",
       "</style>\n",
       "<table border=\"1\" class=\"dataframe\">\n",
       "  <thead>\n",
       "    <tr style=\"text-align: right;\">\n",
       "      <th></th>\n",
       "      <th>model</th>\n",
       "      <th>dataset</th>\n",
       "      <th>scaled</th>\n",
       "      <th>pca_components</th>\n",
       "      <th>resampling</th>\n",
       "      <th>matthews_corrcoef</th>\n",
       "      <th>f1_macro</th>\n",
       "      <th>accuracy</th>\n",
       "    </tr>\n",
       "  </thead>\n",
       "  <tbody>\n",
       "    <tr>\n",
       "      <th>48</th>\n",
       "      <td>XGBoostClassifier</td>\n",
       "      <td>dataset_02_mean_cov.pickle</td>\n",
       "      <td>yes</td>\n",
       "      <td>0.0</td>\n",
       "      <td>none</td>\n",
       "      <td>0.546841</td>\n",
       "      <td>0.480513</td>\n",
       "      <td>0.63466</td>\n",
       "    </tr>\n",
       "    <tr>\n",
       "      <th>59</th>\n",
       "      <td>XGBoostClassifier</td>\n",
       "      <td>dataset_02_mean_cov.pickle</td>\n",
       "      <td>yes</td>\n",
       "      <td>0.0</td>\n",
       "      <td>SMOTE</td>\n",
       "      <td>0.543907</td>\n",
       "      <td>0.518983</td>\n",
       "      <td>0.62500</td>\n",
       "    </tr>\n",
       "    <tr>\n",
       "      <th>48</th>\n",
       "      <td>XGBoostClassifier</td>\n",
       "      <td>dataset_02_mean_cov.pickle</td>\n",
       "      <td>yes</td>\n",
       "      <td>0.0</td>\n",
       "      <td>none</td>\n",
       "      <td>0.546841</td>\n",
       "      <td>0.480513</td>\n",
       "      <td>0.63466</td>\n",
       "    </tr>\n",
       "  </tbody>\n",
       "</table>\n",
       "</div>"
      ],
      "text/plain": [
       "                model                     dataset scaled  pca_components  \\\n",
       "48  XGBoostClassifier  dataset_02_mean_cov.pickle    yes             0.0   \n",
       "59  XGBoostClassifier  dataset_02_mean_cov.pickle    yes             0.0   \n",
       "48  XGBoostClassifier  dataset_02_mean_cov.pickle    yes             0.0   \n",
       "\n",
       "   resampling  matthews_corrcoef  f1_macro  accuracy  \n",
       "48       none           0.546841  0.480513   0.63466  \n",
       "59      SMOTE           0.543907  0.518983   0.62500  \n",
       "48       none           0.546841  0.480513   0.63466  "
      ]
     },
     "execution_count": 4,
     "metadata": {},
     "output_type": "execute_result"
    }
   ],
   "source": [
    "best_mcc_f1_accuracy_indices = [df['matthews_corrcoef'].idxmax(),\n",
    "                                df['f1_macro'].idxmax(),\n",
    "                                df['accuracy'].idxmax()]\n",
    "df.iloc[best_mcc_f1_accuracy_indices][['model', 'dataset', 'scaled', 'pca_components', \n",
    "                                       'resampling', 'matthews_corrcoef', 'f1_macro', 'accuracy']]"
   ]
  },
  {
   "cell_type": "markdown",
   "metadata": {},
   "source": [
    "**Detailed summary of current best mcc result.**"
   ]
  },
  {
   "cell_type": "code",
   "execution_count": 5,
   "metadata": {},
   "outputs": [
    {
     "data": {
      "text/plain": [
       "model                         XGBoostClassifier\n",
       "dataset              dataset_02_mean_cov.pickle\n",
       "timestamp                            1658283263\n",
       "scaled                                      yes\n",
       "pca_components                              0.0\n",
       "resampling                                 none\n",
       "learning_rate                          0.237694\n",
       "n_estimators                                571\n",
       "max_depth                                     8\n",
       "gamma                                  0.023816\n",
       "reg_alpha                              7.709625\n",
       "seed                                       1962\n",
       "fit_tim                              122.956517\n",
       "core_tim                               0.144036\n",
       "matthews_corrcoef                      0.546841\n",
       "f1_macro                               0.480513\n",
       "accuracy                                0.63466\n",
       "Name: 48, dtype: object"
      ]
     },
     "execution_count": 5,
     "metadata": {},
     "output_type": "execute_result"
    }
   ],
   "source": [
    "df.iloc[best_mcc_f1_accuracy_indices[0]]"
   ]
  },
  {
   "cell_type": "markdown",
   "metadata": {},
   "source": [
    "**Number of trials logged.**"
   ]
  },
  {
   "cell_type": "code",
   "execution_count": 6,
   "metadata": {
    "scrolled": true
   },
   "outputs": [
    {
     "data": {
      "text/plain": [
       "440"
      ]
     },
     "execution_count": 6,
     "metadata": {},
     "output_type": "execute_result"
    }
   ],
   "source": [
    "df.shape[0]"
   ]
  },
  {
   "cell_type": "markdown",
   "metadata": {},
   "source": [
    "**Group results by timestamp, resampling and pca_components, then show current best mcc by group.**"
   ]
  },
  {
   "cell_type": "code",
   "execution_count": 7,
   "metadata": {},
   "outputs": [
    {
     "data": {
      "text/html": [
       "<div>\n",
       "<style scoped>\n",
       "    .dataframe tbody tr th:only-of-type {\n",
       "        vertical-align: middle;\n",
       "    }\n",
       "\n",
       "    .dataframe tbody tr th {\n",
       "        vertical-align: top;\n",
       "    }\n",
       "\n",
       "    .dataframe thead th {\n",
       "        text-align: right;\n",
       "    }\n",
       "</style>\n",
       "<table border=\"1\" class=\"dataframe\">\n",
       "  <thead>\n",
       "    <tr style=\"text-align: right;\">\n",
       "      <th></th>\n",
       "      <th>model</th>\n",
       "      <th>dataset</th>\n",
       "      <th>scaled</th>\n",
       "      <th>pca_components</th>\n",
       "      <th>resampling</th>\n",
       "      <th>matthews_corrcoef</th>\n",
       "      <th>f1_macro</th>\n",
       "      <th>accuracy</th>\n",
       "    </tr>\n",
       "  </thead>\n",
       "  <tbody>\n",
       "    <tr>\n",
       "      <th>59</th>\n",
       "      <td>XGBoostClassifier</td>\n",
       "      <td>dataset_02_mean_cov.pickle</td>\n",
       "      <td>yes</td>\n",
       "      <td>0.00</td>\n",
       "      <td>SMOTE</td>\n",
       "      <td>0.543907</td>\n",
       "      <td>0.518983</td>\n",
       "      <td>0.625000</td>\n",
       "    </tr>\n",
       "    <tr>\n",
       "      <th>327</th>\n",
       "      <td>XGBoostClassifier</td>\n",
       "      <td>dataset_02_mean_cov.pickle</td>\n",
       "      <td>yes</td>\n",
       "      <td>0.95</td>\n",
       "      <td>SMOTE</td>\n",
       "      <td>0.502293</td>\n",
       "      <td>0.482784</td>\n",
       "      <td>0.591745</td>\n",
       "    </tr>\n",
       "    <tr>\n",
       "      <th>130</th>\n",
       "      <td>XGBoostClassifier</td>\n",
       "      <td>dataset_02_mean_cov.pickle</td>\n",
       "      <td>yes</td>\n",
       "      <td>0.00</td>\n",
       "      <td>SMOTEENN</td>\n",
       "      <td>0.460767</td>\n",
       "      <td>0.432217</td>\n",
       "      <td>0.521077</td>\n",
       "    </tr>\n",
       "    <tr>\n",
       "      <th>358</th>\n",
       "      <td>XGBoostClassifier</td>\n",
       "      <td>dataset_02_mean_cov.pickle</td>\n",
       "      <td>yes</td>\n",
       "      <td>0.95</td>\n",
       "      <td>SMOTEENN</td>\n",
       "      <td>0.426681</td>\n",
       "      <td>0.407073</td>\n",
       "      <td>0.490515</td>\n",
       "    </tr>\n",
       "    <tr>\n",
       "      <th>213</th>\n",
       "      <td>XGBoostClassifier</td>\n",
       "      <td>dataset_02_mean_cov.pickle</td>\n",
       "      <td>yes</td>\n",
       "      <td>0.00</td>\n",
       "      <td>SMOTETOMEK</td>\n",
       "      <td>0.546841</td>\n",
       "      <td>0.480513</td>\n",
       "      <td>0.634660</td>\n",
       "    </tr>\n",
       "    <tr>\n",
       "      <th>424</th>\n",
       "      <td>XGBoostClassifier</td>\n",
       "      <td>dataset_02_mean_cov.pickle</td>\n",
       "      <td>yes</td>\n",
       "      <td>0.95</td>\n",
       "      <td>SMOTETOMEK</td>\n",
       "      <td>0.506074</td>\n",
       "      <td>0.438786</td>\n",
       "      <td>0.603044</td>\n",
       "    </tr>\n",
       "    <tr>\n",
       "      <th>48</th>\n",
       "      <td>XGBoostClassifier</td>\n",
       "      <td>dataset_02_mean_cov.pickle</td>\n",
       "      <td>yes</td>\n",
       "      <td>0.00</td>\n",
       "      <td>none</td>\n",
       "      <td>0.546841</td>\n",
       "      <td>0.480513</td>\n",
       "      <td>0.634660</td>\n",
       "    </tr>\n",
       "    <tr>\n",
       "      <th>259</th>\n",
       "      <td>XGBoostClassifier</td>\n",
       "      <td>dataset_02_mean_cov.pickle</td>\n",
       "      <td>yes</td>\n",
       "      <td>0.95</td>\n",
       "      <td>none</td>\n",
       "      <td>0.506074</td>\n",
       "      <td>0.438786</td>\n",
       "      <td>0.603044</td>\n",
       "    </tr>\n",
       "  </tbody>\n",
       "</table>\n",
       "</div>"
      ],
      "text/plain": [
       "                 model                     dataset scaled  pca_components  \\\n",
       "59   XGBoostClassifier  dataset_02_mean_cov.pickle    yes            0.00   \n",
       "327  XGBoostClassifier  dataset_02_mean_cov.pickle    yes            0.95   \n",
       "130  XGBoostClassifier  dataset_02_mean_cov.pickle    yes            0.00   \n",
       "358  XGBoostClassifier  dataset_02_mean_cov.pickle    yes            0.95   \n",
       "213  XGBoostClassifier  dataset_02_mean_cov.pickle    yes            0.00   \n",
       "424  XGBoostClassifier  dataset_02_mean_cov.pickle    yes            0.95   \n",
       "48   XGBoostClassifier  dataset_02_mean_cov.pickle    yes            0.00   \n",
       "259  XGBoostClassifier  dataset_02_mean_cov.pickle    yes            0.95   \n",
       "\n",
       "     resampling  matthews_corrcoef  f1_macro  accuracy  \n",
       "59        SMOTE           0.543907  0.518983  0.625000  \n",
       "327       SMOTE           0.502293  0.482784  0.591745  \n",
       "130    SMOTEENN           0.460767  0.432217  0.521077  \n",
       "358    SMOTEENN           0.426681  0.407073  0.490515  \n",
       "213  SMOTETOMEK           0.546841  0.480513  0.634660  \n",
       "424  SMOTETOMEK           0.506074  0.438786  0.603044  \n",
       "48         none           0.546841  0.480513  0.634660  \n",
       "259        none           0.506074  0.438786  0.603044  "
      ]
     },
     "execution_count": 7,
     "metadata": {},
     "output_type": "execute_result"
    }
   ],
   "source": [
    "indices_for_best_mcc = df.groupby(['timestamp', 'resampling', 'pca_components', 'scaled'])['matthews_corrcoef'].idxmax()\n",
    "df.iloc[indices_for_best_mcc][\n",
    "    ['model', 'dataset', 'scaled', 'pca_components', 'resampling', 'matthews_corrcoef', 'f1_macro', 'accuracy']\n",
    "]"
   ]
  }
 ],
 "metadata": {
  "kernelspec": {
   "display_name": "Python 3",
   "language": "python",
   "name": "python3"
  },
  "language_info": {
   "codemirror_mode": {
    "name": "ipython",
    "version": 3
   },
   "file_extension": ".py",
   "mimetype": "text/x-python",
   "name": "python",
   "nbconvert_exporter": "python",
   "pygments_lexer": "ipython3",
   "version": "3.8.10"
  }
 },
 "nbformat": 4,
 "nbformat_minor": 2
}
