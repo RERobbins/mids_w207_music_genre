{
 "cells": [
  {
   "cell_type": "code",
   "execution_count": 1,
   "metadata": {},
   "outputs": [],
   "source": [
    "import json\n",
    "import pandas as pd"
   ]
  },
  {
   "cell_type": "code",
   "execution_count": 2,
   "metadata": {},
   "outputs": [],
   "source": [
    "filename=\"../rich/bayesian_optimization_aws_gpu_5_logs.json\""
   ]
  },
  {
   "cell_type": "code",
   "execution_count": 3,
   "metadata": {},
   "outputs": [],
   "source": [
    "with open (filename, \"r\") as infile:\n",
    "    json_list = [json.loads(line) for line in infile]\n",
    "df=pd.json_normalize(json_list)"
   ]
  },
  {
   "cell_type": "markdown",
   "metadata": {},
   "source": [
    "**Current best mcc, f1_macro and accuracy results, respectively.**"
   ]
  },
  {
   "cell_type": "code",
   "execution_count": 4,
   "metadata": {},
   "outputs": [
    {
     "data": {
      "text/html": [
       "<div>\n",
       "<style scoped>\n",
       "    .dataframe tbody tr th:only-of-type {\n",
       "        vertical-align: middle;\n",
       "    }\n",
       "\n",
       "    .dataframe tbody tr th {\n",
       "        vertical-align: top;\n",
       "    }\n",
       "\n",
       "    .dataframe thead th {\n",
       "        text-align: right;\n",
       "    }\n",
       "</style>\n",
       "<table border=\"1\" class=\"dataframe\">\n",
       "  <thead>\n",
       "    <tr style=\"text-align: right;\">\n",
       "      <th></th>\n",
       "      <th>model</th>\n",
       "      <th>dataset</th>\n",
       "      <th>scaled</th>\n",
       "      <th>pca_components</th>\n",
       "      <th>resampling</th>\n",
       "      <th>matthews_corrcoef</th>\n",
       "      <th>f1_macro</th>\n",
       "      <th>accuracy</th>\n",
       "    </tr>\n",
       "  </thead>\n",
       "  <tbody>\n",
       "    <tr>\n",
       "      <th>33</th>\n",
       "      <td>XGBoostClassifier</td>\n",
       "      <td>dataset_05_pvtt.pickle</td>\n",
       "      <td>yes</td>\n",
       "      <td>0.0</td>\n",
       "      <td>none</td>\n",
       "      <td>0.438515</td>\n",
       "      <td>0.334268</td>\n",
       "      <td>0.549824</td>\n",
       "    </tr>\n",
       "    <tr>\n",
       "      <th>78</th>\n",
       "      <td>XGBoostClassifier</td>\n",
       "      <td>dataset_05_pvtt.pickle</td>\n",
       "      <td>yes</td>\n",
       "      <td>0.0</td>\n",
       "      <td>SMOTE</td>\n",
       "      <td>0.397727</td>\n",
       "      <td>0.364307</td>\n",
       "      <td>0.488525</td>\n",
       "    </tr>\n",
       "    <tr>\n",
       "      <th>33</th>\n",
       "      <td>XGBoostClassifier</td>\n",
       "      <td>dataset_05_pvtt.pickle</td>\n",
       "      <td>yes</td>\n",
       "      <td>0.0</td>\n",
       "      <td>none</td>\n",
       "      <td>0.438515</td>\n",
       "      <td>0.334268</td>\n",
       "      <td>0.549824</td>\n",
       "    </tr>\n",
       "  </tbody>\n",
       "</table>\n",
       "</div>"
      ],
      "text/plain": [
       "                model                 dataset scaled  pca_components  \\\n",
       "33  XGBoostClassifier  dataset_05_pvtt.pickle    yes             0.0   \n",
       "78  XGBoostClassifier  dataset_05_pvtt.pickle    yes             0.0   \n",
       "33  XGBoostClassifier  dataset_05_pvtt.pickle    yes             0.0   \n",
       "\n",
       "   resampling  matthews_corrcoef  f1_macro  accuracy  \n",
       "33       none           0.438515  0.334268  0.549824  \n",
       "78      SMOTE           0.397727  0.364307  0.488525  \n",
       "33       none           0.438515  0.334268  0.549824  "
      ]
     },
     "execution_count": 4,
     "metadata": {},
     "output_type": "execute_result"
    }
   ],
   "source": [
    "best_mcc_f1_accuracy_indices = [df['matthews_corrcoef'].idxmax(),\n",
    "                                df['f1_macro'].idxmax(),\n",
    "                                df['accuracy'].idxmax()]\n",
    "df.iloc[best_mcc_f1_accuracy_indices][['model', 'dataset', 'scaled', 'pca_components', \n",
    "                                       'resampling', 'matthews_corrcoef', 'f1_macro', 'accuracy']]"
   ]
  },
  {
   "cell_type": "markdown",
   "metadata": {},
   "source": [
    "**Detailed summary of current best mcc result.**"
   ]
  },
  {
   "cell_type": "code",
   "execution_count": 5,
   "metadata": {},
   "outputs": [
    {
     "data": {
      "text/plain": [
       "model                     XGBoostClassifier\n",
       "dataset              dataset_05_pvtt.pickle\n",
       "timestamp                        1658231356\n",
       "scaled                                  yes\n",
       "pca_components                          0.0\n",
       "resampling                             none\n",
       "learning_rate                      0.305203\n",
       "n_estimators                            445\n",
       "max_depth                                 3\n",
       "gamma                               0.25588\n",
       "reg_alpha                          0.234273\n",
       "seed                                   1962\n",
       "fit_tim                           32.015052\n",
       "core_tim                           0.061028\n",
       "matthews_corrcoef                  0.438515\n",
       "f1_macro                           0.334268\n",
       "accuracy                           0.549824\n",
       "Name: 33, dtype: object"
      ]
     },
     "execution_count": 5,
     "metadata": {},
     "output_type": "execute_result"
    }
   ],
   "source": [
    "df.iloc[best_mcc_f1_accuracy_indices[0]]"
   ]
  },
  {
   "cell_type": "markdown",
   "metadata": {},
   "source": [
    "**Number of trials logged.**"
   ]
  },
  {
   "cell_type": "code",
   "execution_count": 6,
   "metadata": {
    "scrolled": true
   },
   "outputs": [
    {
     "data": {
      "text/plain": [
       "440"
      ]
     },
     "execution_count": 6,
     "metadata": {},
     "output_type": "execute_result"
    }
   ],
   "source": [
    "df.shape[0]"
   ]
  },
  {
   "cell_type": "markdown",
   "metadata": {},
   "source": [
    "**Group results by timestamp, resampling and pca_components, then show current best mcc by group.**"
   ]
  },
  {
   "cell_type": "code",
   "execution_count": 7,
   "metadata": {},
   "outputs": [
    {
     "data": {
      "text/html": [
       "<div>\n",
       "<style scoped>\n",
       "    .dataframe tbody tr th:only-of-type {\n",
       "        vertical-align: middle;\n",
       "    }\n",
       "\n",
       "    .dataframe tbody tr th {\n",
       "        vertical-align: top;\n",
       "    }\n",
       "\n",
       "    .dataframe thead th {\n",
       "        text-align: right;\n",
       "    }\n",
       "</style>\n",
       "<table border=\"1\" class=\"dataframe\">\n",
       "  <thead>\n",
       "    <tr style=\"text-align: right;\">\n",
       "      <th></th>\n",
       "      <th>model</th>\n",
       "      <th>dataset</th>\n",
       "      <th>scaled</th>\n",
       "      <th>pca_components</th>\n",
       "      <th>resampling</th>\n",
       "      <th>matthews_corrcoef</th>\n",
       "      <th>f1_macro</th>\n",
       "      <th>accuracy</th>\n",
       "    </tr>\n",
       "  </thead>\n",
       "  <tbody>\n",
       "    <tr>\n",
       "      <th>71</th>\n",
       "      <td>XGBoostClassifier</td>\n",
       "      <td>dataset_05_pvtt.pickle</td>\n",
       "      <td>yes</td>\n",
       "      <td>0.00</td>\n",
       "      <td>SMOTE</td>\n",
       "      <td>0.398013</td>\n",
       "      <td>0.364117</td>\n",
       "      <td>0.490925</td>\n",
       "    </tr>\n",
       "    <tr>\n",
       "      <th>285</th>\n",
       "      <td>XGBoostClassifier</td>\n",
       "      <td>dataset_05_pvtt.pickle</td>\n",
       "      <td>yes</td>\n",
       "      <td>0.95</td>\n",
       "      <td>SMOTE</td>\n",
       "      <td>0.315690</td>\n",
       "      <td>0.283151</td>\n",
       "      <td>0.393150</td>\n",
       "    </tr>\n",
       "    <tr>\n",
       "      <th>160</th>\n",
       "      <td>XGBoostClassifier</td>\n",
       "      <td>dataset_05_pvtt.pickle</td>\n",
       "      <td>yes</td>\n",
       "      <td>0.00</td>\n",
       "      <td>SMOTEENN</td>\n",
       "      <td>0.352095</td>\n",
       "      <td>0.321239</td>\n",
       "      <td>0.413993</td>\n",
       "    </tr>\n",
       "    <tr>\n",
       "      <th>355</th>\n",
       "      <td>XGBoostClassifier</td>\n",
       "      <td>dataset_05_pvtt.pickle</td>\n",
       "      <td>yes</td>\n",
       "      <td>0.95</td>\n",
       "      <td>SMOTEENN</td>\n",
       "      <td>0.287467</td>\n",
       "      <td>0.256963</td>\n",
       "      <td>0.350995</td>\n",
       "    </tr>\n",
       "    <tr>\n",
       "      <th>198</th>\n",
       "      <td>XGBoostClassifier</td>\n",
       "      <td>dataset_05_pvtt.pickle</td>\n",
       "      <td>yes</td>\n",
       "      <td>0.00</td>\n",
       "      <td>SMOTETOMEK</td>\n",
       "      <td>0.438515</td>\n",
       "      <td>0.334268</td>\n",
       "      <td>0.549824</td>\n",
       "    </tr>\n",
       "    <tr>\n",
       "      <th>385</th>\n",
       "      <td>XGBoostClassifier</td>\n",
       "      <td>dataset_05_pvtt.pickle</td>\n",
       "      <td>yes</td>\n",
       "      <td>0.95</td>\n",
       "      <td>SMOTETOMEK</td>\n",
       "      <td>0.389592</td>\n",
       "      <td>0.234468</td>\n",
       "      <td>0.515105</td>\n",
       "    </tr>\n",
       "    <tr>\n",
       "      <th>33</th>\n",
       "      <td>XGBoostClassifier</td>\n",
       "      <td>dataset_05_pvtt.pickle</td>\n",
       "      <td>yes</td>\n",
       "      <td>0.00</td>\n",
       "      <td>none</td>\n",
       "      <td>0.438515</td>\n",
       "      <td>0.334268</td>\n",
       "      <td>0.549824</td>\n",
       "    </tr>\n",
       "    <tr>\n",
       "      <th>220</th>\n",
       "      <td>XGBoostClassifier</td>\n",
       "      <td>dataset_05_pvtt.pickle</td>\n",
       "      <td>yes</td>\n",
       "      <td>0.95</td>\n",
       "      <td>none</td>\n",
       "      <td>0.389592</td>\n",
       "      <td>0.234468</td>\n",
       "      <td>0.515105</td>\n",
       "    </tr>\n",
       "  </tbody>\n",
       "</table>\n",
       "</div>"
      ],
      "text/plain": [
       "                 model                 dataset scaled  pca_components  \\\n",
       "71   XGBoostClassifier  dataset_05_pvtt.pickle    yes            0.00   \n",
       "285  XGBoostClassifier  dataset_05_pvtt.pickle    yes            0.95   \n",
       "160  XGBoostClassifier  dataset_05_pvtt.pickle    yes            0.00   \n",
       "355  XGBoostClassifier  dataset_05_pvtt.pickle    yes            0.95   \n",
       "198  XGBoostClassifier  dataset_05_pvtt.pickle    yes            0.00   \n",
       "385  XGBoostClassifier  dataset_05_pvtt.pickle    yes            0.95   \n",
       "33   XGBoostClassifier  dataset_05_pvtt.pickle    yes            0.00   \n",
       "220  XGBoostClassifier  dataset_05_pvtt.pickle    yes            0.95   \n",
       "\n",
       "     resampling  matthews_corrcoef  f1_macro  accuracy  \n",
       "71        SMOTE           0.398013  0.364117  0.490925  \n",
       "285       SMOTE           0.315690  0.283151  0.393150  \n",
       "160    SMOTEENN           0.352095  0.321239  0.413993  \n",
       "355    SMOTEENN           0.287467  0.256963  0.350995  \n",
       "198  SMOTETOMEK           0.438515  0.334268  0.549824  \n",
       "385  SMOTETOMEK           0.389592  0.234468  0.515105  \n",
       "33         none           0.438515  0.334268  0.549824  \n",
       "220        none           0.389592  0.234468  0.515105  "
      ]
     },
     "execution_count": 7,
     "metadata": {},
     "output_type": "execute_result"
    }
   ],
   "source": [
    "indices_for_best_mcc = df.groupby(['timestamp', 'resampling', 'pca_components', 'scaled'])['matthews_corrcoef'].idxmax()\n",
    "df.iloc[indices_for_best_mcc][\n",
    "    ['model', 'dataset', 'scaled', 'pca_components', 'resampling', 'matthews_corrcoef', 'f1_macro', 'accuracy']\n",
    "]"
   ]
  }
 ],
 "metadata": {
  "kernelspec": {
   "display_name": "Python 3",
   "language": "python",
   "name": "python3"
  },
  "language_info": {
   "codemirror_mode": {
    "name": "ipython",
    "version": 3
   },
   "file_extension": ".py",
   "mimetype": "text/x-python",
   "name": "python",
   "nbconvert_exporter": "python",
   "pygments_lexer": "ipython3",
   "version": "3.8.10"
  }
 },
 "nbformat": 4,
 "nbformat_minor": 2
}
