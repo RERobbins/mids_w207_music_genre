{
 "cells": [
  {
   "cell_type": "code",
   "execution_count": 1,
   "metadata": {},
   "outputs": [],
   "source": [
    "import json\n",
    "import pandas as pd"
   ]
  },
  {
   "cell_type": "code",
   "execution_count": 2,
   "metadata": {},
   "outputs": [],
   "source": [
    "filename=\"../rich/bayesian_optimization_aws_gpu_3_logs.json\""
   ]
  },
  {
   "cell_type": "code",
   "execution_count": 3,
   "metadata": {},
   "outputs": [],
   "source": [
    "with open (filename, \"r\") as infile:\n",
    "    json_list = [json.loads(line) for line in infile]\n",
    "df=pd.json_normalize(json_list)"
   ]
  },
  {
   "cell_type": "markdown",
   "metadata": {},
   "source": [
    "**Current best mcc, f1_macro and accuracy results, respectively.**"
   ]
  },
  {
   "cell_type": "code",
   "execution_count": 4,
   "metadata": {},
   "outputs": [
    {
     "data": {
      "text/html": [
       "<div>\n",
       "<style scoped>\n",
       "    .dataframe tbody tr th:only-of-type {\n",
       "        vertical-align: middle;\n",
       "    }\n",
       "\n",
       "    .dataframe tbody tr th {\n",
       "        vertical-align: top;\n",
       "    }\n",
       "\n",
       "    .dataframe thead th {\n",
       "        text-align: right;\n",
       "    }\n",
       "</style>\n",
       "<table border=\"1\" class=\"dataframe\">\n",
       "  <thead>\n",
       "    <tr style=\"text-align: right;\">\n",
       "      <th></th>\n",
       "      <th>model</th>\n",
       "      <th>dataset</th>\n",
       "      <th>scaled</th>\n",
       "      <th>pca_components</th>\n",
       "      <th>resampling</th>\n",
       "      <th>matthews_corrcoef</th>\n",
       "      <th>f1_macro</th>\n",
       "      <th>accuracy</th>\n",
       "    </tr>\n",
       "  </thead>\n",
       "  <tbody>\n",
       "    <tr>\n",
       "      <th>94</th>\n",
       "      <td>XGBoostClassifier</td>\n",
       "      <td>dataset_03_mean_icov.pickle</td>\n",
       "      <td>yes</td>\n",
       "      <td>0.0</td>\n",
       "      <td>SMOTE</td>\n",
       "      <td>0.541714</td>\n",
       "      <td>0.509942</td>\n",
       "      <td>0.624063</td>\n",
       "    </tr>\n",
       "    <tr>\n",
       "      <th>59</th>\n",
       "      <td>XGBoostClassifier</td>\n",
       "      <td>dataset_03_mean_icov.pickle</td>\n",
       "      <td>yes</td>\n",
       "      <td>0.0</td>\n",
       "      <td>SMOTE</td>\n",
       "      <td>0.538717</td>\n",
       "      <td>0.510041</td>\n",
       "      <td>0.620316</td>\n",
       "    </tr>\n",
       "    <tr>\n",
       "      <th>4</th>\n",
       "      <td>XGBoostClassifier</td>\n",
       "      <td>dataset_03_mean_icov.pickle</td>\n",
       "      <td>yes</td>\n",
       "      <td>0.0</td>\n",
       "      <td>none</td>\n",
       "      <td>0.538544</td>\n",
       "      <td>0.462917</td>\n",
       "      <td>0.628630</td>\n",
       "    </tr>\n",
       "  </tbody>\n",
       "</table>\n",
       "</div>"
      ],
      "text/plain": [
       "                model                      dataset scaled  pca_components  \\\n",
       "94  XGBoostClassifier  dataset_03_mean_icov.pickle    yes             0.0   \n",
       "59  XGBoostClassifier  dataset_03_mean_icov.pickle    yes             0.0   \n",
       "4   XGBoostClassifier  dataset_03_mean_icov.pickle    yes             0.0   \n",
       "\n",
       "   resampling  matthews_corrcoef  f1_macro  accuracy  \n",
       "94      SMOTE           0.541714  0.509942  0.624063  \n",
       "59      SMOTE           0.538717  0.510041  0.620316  \n",
       "4        none           0.538544  0.462917  0.628630  "
      ]
     },
     "execution_count": 4,
     "metadata": {},
     "output_type": "execute_result"
    }
   ],
   "source": [
    "best_mcc_f1_accuracy_indices = [df['matthews_corrcoef'].idxmax(),\n",
    "                                df['f1_macro'].idxmax(),\n",
    "                                df['accuracy'].idxmax()]\n",
    "df.iloc[best_mcc_f1_accuracy_indices][['model', 'dataset', 'scaled', 'pca_components', \n",
    "                                       'resampling', 'matthews_corrcoef', 'f1_macro', 'accuracy']]"
   ]
  },
  {
   "cell_type": "markdown",
   "metadata": {},
   "source": [
    "**Detailed summary of current best mcc result.**"
   ]
  },
  {
   "cell_type": "code",
   "execution_count": 5,
   "metadata": {},
   "outputs": [
    {
     "data": {
      "text/plain": [
       "model                          XGBoostClassifier\n",
       "dataset              dataset_03_mean_icov.pickle\n",
       "timestamp                             1658231271\n",
       "scaled                                       yes\n",
       "pca_components                               0.0\n",
       "resampling                                 SMOTE\n",
       "learning_rate                           0.256627\n",
       "n_estimators                                 410\n",
       "max_depth                                      6\n",
       "gamma                                   0.138946\n",
       "reg_alpha                               2.396923\n",
       "seed                                        1962\n",
       "fit_tim                               106.566023\n",
       "core_tim                                0.150214\n",
       "matthews_corrcoef                       0.541714\n",
       "f1_macro                                0.509942\n",
       "accuracy                                0.624063\n",
       "Name: 94, dtype: object"
      ]
     },
     "execution_count": 5,
     "metadata": {},
     "output_type": "execute_result"
    }
   ],
   "source": [
    "df.iloc[best_mcc_f1_accuracy_indices[0]]"
   ]
  },
  {
   "cell_type": "markdown",
   "metadata": {},
   "source": [
    "**Number of trials logged.**"
   ]
  },
  {
   "cell_type": "code",
   "execution_count": 6,
   "metadata": {
    "scrolled": true
   },
   "outputs": [
    {
     "data": {
      "text/plain": [
       "440"
      ]
     },
     "execution_count": 6,
     "metadata": {},
     "output_type": "execute_result"
    }
   ],
   "source": [
    "df.shape[0]"
   ]
  },
  {
   "cell_type": "markdown",
   "metadata": {},
   "source": [
    "**Group results by timestamp, resampling and pca_components, then show current best mcc by group.**"
   ]
  },
  {
   "cell_type": "code",
   "execution_count": 7,
   "metadata": {},
   "outputs": [
    {
     "data": {
      "text/html": [
       "<div>\n",
       "<style scoped>\n",
       "    .dataframe tbody tr th:only-of-type {\n",
       "        vertical-align: middle;\n",
       "    }\n",
       "\n",
       "    .dataframe tbody tr th {\n",
       "        vertical-align: top;\n",
       "    }\n",
       "\n",
       "    .dataframe thead th {\n",
       "        text-align: right;\n",
       "    }\n",
       "</style>\n",
       "<table border=\"1\" class=\"dataframe\">\n",
       "  <thead>\n",
       "    <tr style=\"text-align: right;\">\n",
       "      <th></th>\n",
       "      <th>model</th>\n",
       "      <th>dataset</th>\n",
       "      <th>scaled</th>\n",
       "      <th>pca_components</th>\n",
       "      <th>resampling</th>\n",
       "      <th>matthews_corrcoef</th>\n",
       "      <th>f1_macro</th>\n",
       "      <th>accuracy</th>\n",
       "    </tr>\n",
       "  </thead>\n",
       "  <tbody>\n",
       "    <tr>\n",
       "      <th>94</th>\n",
       "      <td>XGBoostClassifier</td>\n",
       "      <td>dataset_03_mean_icov.pickle</td>\n",
       "      <td>yes</td>\n",
       "      <td>0.00</td>\n",
       "      <td>SMOTE</td>\n",
       "      <td>0.541714</td>\n",
       "      <td>0.509942</td>\n",
       "      <td>0.624063</td>\n",
       "    </tr>\n",
       "    <tr>\n",
       "      <th>279</th>\n",
       "      <td>XGBoostClassifier</td>\n",
       "      <td>dataset_03_mean_icov.pickle</td>\n",
       "      <td>yes</td>\n",
       "      <td>0.95</td>\n",
       "      <td>SMOTE</td>\n",
       "      <td>0.269141</td>\n",
       "      <td>0.261097</td>\n",
       "      <td>0.347658</td>\n",
       "    </tr>\n",
       "    <tr>\n",
       "      <th>149</th>\n",
       "      <td>XGBoostClassifier</td>\n",
       "      <td>dataset_03_mean_icov.pickle</td>\n",
       "      <td>yes</td>\n",
       "      <td>0.00</td>\n",
       "      <td>SMOTEENN</td>\n",
       "      <td>0.476904</td>\n",
       "      <td>0.450192</td>\n",
       "      <td>0.538993</td>\n",
       "    </tr>\n",
       "    <tr>\n",
       "      <th>346</th>\n",
       "      <td>XGBoostClassifier</td>\n",
       "      <td>dataset_03_mean_icov.pickle</td>\n",
       "      <td>yes</td>\n",
       "      <td>0.95</td>\n",
       "      <td>SMOTEENN</td>\n",
       "      <td>0.233820</td>\n",
       "      <td>0.230974</td>\n",
       "      <td>0.294906</td>\n",
       "    </tr>\n",
       "    <tr>\n",
       "      <th>169</th>\n",
       "      <td>XGBoostClassifier</td>\n",
       "      <td>dataset_03_mean_icov.pickle</td>\n",
       "      <td>yes</td>\n",
       "      <td>0.00</td>\n",
       "      <td>SMOTETOMEK</td>\n",
       "      <td>0.538544</td>\n",
       "      <td>0.462917</td>\n",
       "      <td>0.628630</td>\n",
       "    </tr>\n",
       "    <tr>\n",
       "      <th>409</th>\n",
       "      <td>XGBoostClassifier</td>\n",
       "      <td>dataset_03_mean_icov.pickle</td>\n",
       "      <td>yes</td>\n",
       "      <td>0.95</td>\n",
       "      <td>SMOTETOMEK</td>\n",
       "      <td>0.344862</td>\n",
       "      <td>0.234906</td>\n",
       "      <td>0.481792</td>\n",
       "    </tr>\n",
       "    <tr>\n",
       "      <th>4</th>\n",
       "      <td>XGBoostClassifier</td>\n",
       "      <td>dataset_03_mean_icov.pickle</td>\n",
       "      <td>yes</td>\n",
       "      <td>0.00</td>\n",
       "      <td>none</td>\n",
       "      <td>0.538544</td>\n",
       "      <td>0.462917</td>\n",
       "      <td>0.628630</td>\n",
       "    </tr>\n",
       "    <tr>\n",
       "      <th>244</th>\n",
       "      <td>XGBoostClassifier</td>\n",
       "      <td>dataset_03_mean_icov.pickle</td>\n",
       "      <td>yes</td>\n",
       "      <td>0.95</td>\n",
       "      <td>none</td>\n",
       "      <td>0.344862</td>\n",
       "      <td>0.234906</td>\n",
       "      <td>0.481792</td>\n",
       "    </tr>\n",
       "  </tbody>\n",
       "</table>\n",
       "</div>"
      ],
      "text/plain": [
       "                 model                      dataset scaled  pca_components  \\\n",
       "94   XGBoostClassifier  dataset_03_mean_icov.pickle    yes            0.00   \n",
       "279  XGBoostClassifier  dataset_03_mean_icov.pickle    yes            0.95   \n",
       "149  XGBoostClassifier  dataset_03_mean_icov.pickle    yes            0.00   \n",
       "346  XGBoostClassifier  dataset_03_mean_icov.pickle    yes            0.95   \n",
       "169  XGBoostClassifier  dataset_03_mean_icov.pickle    yes            0.00   \n",
       "409  XGBoostClassifier  dataset_03_mean_icov.pickle    yes            0.95   \n",
       "4    XGBoostClassifier  dataset_03_mean_icov.pickle    yes            0.00   \n",
       "244  XGBoostClassifier  dataset_03_mean_icov.pickle    yes            0.95   \n",
       "\n",
       "     resampling  matthews_corrcoef  f1_macro  accuracy  \n",
       "94        SMOTE           0.541714  0.509942  0.624063  \n",
       "279       SMOTE           0.269141  0.261097  0.347658  \n",
       "149    SMOTEENN           0.476904  0.450192  0.538993  \n",
       "346    SMOTEENN           0.233820  0.230974  0.294906  \n",
       "169  SMOTETOMEK           0.538544  0.462917  0.628630  \n",
       "409  SMOTETOMEK           0.344862  0.234906  0.481792  \n",
       "4          none           0.538544  0.462917  0.628630  \n",
       "244        none           0.344862  0.234906  0.481792  "
      ]
     },
     "execution_count": 7,
     "metadata": {},
     "output_type": "execute_result"
    }
   ],
   "source": [
    "indices_for_best_mcc = df.groupby(['timestamp', 'resampling', 'pca_components', 'scaled'])['matthews_corrcoef'].idxmax()\n",
    "df.iloc[indices_for_best_mcc][\n",
    "    ['model', 'dataset', 'scaled', 'pca_components', 'resampling', 'matthews_corrcoef', 'f1_macro', 'accuracy']\n",
    "]"
   ]
  }
 ],
 "metadata": {
  "kernelspec": {
   "display_name": "Python 3",
   "language": "python",
   "name": "python3"
  },
  "language_info": {
   "codemirror_mode": {
    "name": "ipython",
    "version": 3
   },
   "file_extension": ".py",
   "mimetype": "text/x-python",
   "name": "python",
   "nbconvert_exporter": "python",
   "pygments_lexer": "ipython3",
   "version": "3.8.10"
  }
 },
 "nbformat": 4,
 "nbformat_minor": 2
}
