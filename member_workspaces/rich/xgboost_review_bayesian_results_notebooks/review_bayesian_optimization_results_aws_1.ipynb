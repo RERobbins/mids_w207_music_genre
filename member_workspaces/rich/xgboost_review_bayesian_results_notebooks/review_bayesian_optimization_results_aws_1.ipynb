{
 "cells": [
  {
   "cell_type": "code",
   "execution_count": 1,
   "metadata": {},
   "outputs": [],
   "source": [
    "import json\n",
    "import pandas as pd"
   ]
  },
  {
   "cell_type": "code",
   "execution_count": 2,
   "metadata": {},
   "outputs": [],
   "source": [
    "filename=\"../rich/bayesian_optimization_aws_gpu_1_logs.json\""
   ]
  },
  {
   "cell_type": "code",
   "execution_count": 3,
   "metadata": {},
   "outputs": [],
   "source": [
    "with open (filename, \"r\") as infile:\n",
    "    json_list = [json.loads(line) for line in infile]\n",
    "df=pd.json_normalize(json_list)"
   ]
  },
  {
   "cell_type": "markdown",
   "metadata": {},
   "source": [
    "**Current best mcc, f1_macro and accuracy results, respectively.**"
   ]
  },
  {
   "cell_type": "code",
   "execution_count": 4,
   "metadata": {},
   "outputs": [
    {
     "data": {
      "text/html": [
       "<div>\n",
       "<style scoped>\n",
       "    .dataframe tbody tr th:only-of-type {\n",
       "        vertical-align: middle;\n",
       "    }\n",
       "\n",
       "    .dataframe tbody tr th {\n",
       "        vertical-align: top;\n",
       "    }\n",
       "\n",
       "    .dataframe thead th {\n",
       "        text-align: right;\n",
       "    }\n",
       "</style>\n",
       "<table border=\"1\" class=\"dataframe\">\n",
       "  <thead>\n",
       "    <tr style=\"text-align: right;\">\n",
       "      <th></th>\n",
       "      <th>model</th>\n",
       "      <th>dataset</th>\n",
       "      <th>scaled</th>\n",
       "      <th>pca_components</th>\n",
       "      <th>resampling</th>\n",
       "      <th>matthews_corrcoef</th>\n",
       "      <th>f1_macro</th>\n",
       "      <th>accuracy</th>\n",
       "    </tr>\n",
       "  </thead>\n",
       "  <tbody>\n",
       "    <tr>\n",
       "      <th>266</th>\n",
       "      <td>XGBoostClassifier</td>\n",
       "      <td>dataset_00_all.pickle</td>\n",
       "      <td>yes</td>\n",
       "      <td>0</td>\n",
       "      <td>SMOTETOMEK</td>\n",
       "      <td>0.666237</td>\n",
       "      <td>0.608285</td>\n",
       "      <td>0.729215</td>\n",
       "    </tr>\n",
       "    <tr>\n",
       "      <th>139</th>\n",
       "      <td>XGBoostClassifier</td>\n",
       "      <td>dataset_00_all.pickle</td>\n",
       "      <td>yes</td>\n",
       "      <td>0</td>\n",
       "      <td>SMOTE</td>\n",
       "      <td>0.637998</td>\n",
       "      <td>0.620410</td>\n",
       "      <td>0.702635</td>\n",
       "    </tr>\n",
       "    <tr>\n",
       "      <th>266</th>\n",
       "      <td>XGBoostClassifier</td>\n",
       "      <td>dataset_00_all.pickle</td>\n",
       "      <td>yes</td>\n",
       "      <td>0</td>\n",
       "      <td>SMOTETOMEK</td>\n",
       "      <td>0.666237</td>\n",
       "      <td>0.608285</td>\n",
       "      <td>0.729215</td>\n",
       "    </tr>\n",
       "  </tbody>\n",
       "</table>\n",
       "</div>"
      ],
      "text/plain": [
       "                 model                dataset scaled  pca_components  \\\n",
       "266  XGBoostClassifier  dataset_00_all.pickle    yes               0   \n",
       "139  XGBoostClassifier  dataset_00_all.pickle    yes               0   \n",
       "266  XGBoostClassifier  dataset_00_all.pickle    yes               0   \n",
       "\n",
       "     resampling  matthews_corrcoef  f1_macro  accuracy  \n",
       "266  SMOTETOMEK           0.666237  0.608285  0.729215  \n",
       "139       SMOTE           0.637998  0.620410  0.702635  \n",
       "266  SMOTETOMEK           0.666237  0.608285  0.729215  "
      ]
     },
     "execution_count": 4,
     "metadata": {},
     "output_type": "execute_result"
    }
   ],
   "source": [
    "best_mcc_f1_accuracy_indices = [df['matthews_corrcoef'].idxmax(),\n",
    "                                df['f1_macro'].idxmax(),\n",
    "                                df['accuracy'].idxmax()]\n",
    "df.iloc[best_mcc_f1_accuracy_indices][['model', 'dataset', 'scaled', 'pca_components', \n",
    "                                       'resampling', 'matthews_corrcoef', 'f1_macro', 'accuracy']]"
   ]
  },
  {
   "cell_type": "markdown",
   "metadata": {},
   "source": [
    "**Detailed summary of current best mcc result.**"
   ]
  },
  {
   "cell_type": "code",
   "execution_count": 5,
   "metadata": {},
   "outputs": [
    {
     "data": {
      "text/plain": [
       "model                    XGBoostClassifier\n",
       "dataset              dataset_00_all.pickle\n",
       "timestamp                       1658136355\n",
       "scaled                                 yes\n",
       "pca_components                           0\n",
       "resampling                      SMOTETOMEK\n",
       "learning_rate                     0.221461\n",
       "n_estimators                           827\n",
       "max_depth                                4\n",
       "gamma                             0.524969\n",
       "reg_alpha                         4.327827\n",
       "seed                                  1962\n",
       "fit_tim                         193.808802\n",
       "core_tim                           0.37062\n",
       "matthews_corrcoef                 0.666237\n",
       "f1_macro                          0.608285\n",
       "accuracy                          0.729215\n",
       "Name: 266, dtype: object"
      ]
     },
     "execution_count": 5,
     "metadata": {},
     "output_type": "execute_result"
    }
   ],
   "source": [
    "df.iloc[best_mcc_f1_accuracy_indices[0]]"
   ]
  },
  {
   "cell_type": "markdown",
   "metadata": {},
   "source": [
    "**Number of trials logged.**"
   ]
  },
  {
   "cell_type": "code",
   "execution_count": 6,
   "metadata": {
    "scrolled": true
   },
   "outputs": [
    {
     "data": {
      "text/plain": [
       "269"
      ]
     },
     "execution_count": 6,
     "metadata": {},
     "output_type": "execute_result"
    }
   ],
   "source": [
    "df.shape[0]"
   ]
  },
  {
   "cell_type": "markdown",
   "metadata": {},
   "source": [
    "**Group results by timestamp, resampling and pca_components, then show current best mcc by group.**"
   ]
  },
  {
   "cell_type": "code",
   "execution_count": 7,
   "metadata": {},
   "outputs": [
    {
     "data": {
      "text/html": [
       "<div>\n",
       "<style scoped>\n",
       "    .dataframe tbody tr th:only-of-type {\n",
       "        vertical-align: middle;\n",
       "    }\n",
       "\n",
       "    .dataframe tbody tr th {\n",
       "        vertical-align: top;\n",
       "    }\n",
       "\n",
       "    .dataframe thead th {\n",
       "        text-align: right;\n",
       "    }\n",
       "</style>\n",
       "<table border=\"1\" class=\"dataframe\">\n",
       "  <thead>\n",
       "    <tr style=\"text-align: right;\">\n",
       "      <th></th>\n",
       "      <th>model</th>\n",
       "      <th>dataset</th>\n",
       "      <th>timestamp</th>\n",
       "      <th>scaled</th>\n",
       "      <th>pca_components</th>\n",
       "      <th>resampling</th>\n",
       "      <th>matthews_corrcoef</th>\n",
       "      <th>f1_macro</th>\n",
       "      <th>accuracy</th>\n",
       "    </tr>\n",
       "  </thead>\n",
       "  <tbody>\n",
       "    <tr>\n",
       "      <th>48</th>\n",
       "      <td>XGBoostClassifier</td>\n",
       "      <td>dataset_00_all.pickle</td>\n",
       "      <td>1658092106</td>\n",
       "      <td>yes</td>\n",
       "      <td>0</td>\n",
       "      <td>none</td>\n",
       "      <td>0.659560</td>\n",
       "      <td>0.597724</td>\n",
       "      <td>0.723888</td>\n",
       "    </tr>\n",
       "    <tr>\n",
       "      <th>139</th>\n",
       "      <td>XGBoostClassifier</td>\n",
       "      <td>dataset_00_all.pickle</td>\n",
       "      <td>1658136355</td>\n",
       "      <td>yes</td>\n",
       "      <td>0</td>\n",
       "      <td>SMOTE</td>\n",
       "      <td>0.637998</td>\n",
       "      <td>0.620410</td>\n",
       "      <td>0.702635</td>\n",
       "    </tr>\n",
       "    <tr>\n",
       "      <th>163</th>\n",
       "      <td>XGBoostClassifier</td>\n",
       "      <td>dataset_00_all.pickle</td>\n",
       "      <td>1658136355</td>\n",
       "      <td>yes</td>\n",
       "      <td>0</td>\n",
       "      <td>SMOTEENN</td>\n",
       "      <td>0.566431</td>\n",
       "      <td>0.540275</td>\n",
       "      <td>0.617447</td>\n",
       "    </tr>\n",
       "    <tr>\n",
       "      <th>266</th>\n",
       "      <td>XGBoostClassifier</td>\n",
       "      <td>dataset_00_all.pickle</td>\n",
       "      <td>1658136355</td>\n",
       "      <td>yes</td>\n",
       "      <td>0</td>\n",
       "      <td>SMOTETOMEK</td>\n",
       "      <td>0.666237</td>\n",
       "      <td>0.608285</td>\n",
       "      <td>0.729215</td>\n",
       "    </tr>\n",
       "    <tr>\n",
       "      <th>53</th>\n",
       "      <td>XGBoostClassifier</td>\n",
       "      <td>dataset_00_all.pickle</td>\n",
       "      <td>1658136355</td>\n",
       "      <td>yes</td>\n",
       "      <td>0</td>\n",
       "      <td>none</td>\n",
       "      <td>0.658313</td>\n",
       "      <td>0.598556</td>\n",
       "      <td>0.723009</td>\n",
       "    </tr>\n",
       "  </tbody>\n",
       "</table>\n",
       "</div>"
      ],
      "text/plain": [
       "                 model                dataset   timestamp scaled  \\\n",
       "48   XGBoostClassifier  dataset_00_all.pickle  1658092106    yes   \n",
       "139  XGBoostClassifier  dataset_00_all.pickle  1658136355    yes   \n",
       "163  XGBoostClassifier  dataset_00_all.pickle  1658136355    yes   \n",
       "266  XGBoostClassifier  dataset_00_all.pickle  1658136355    yes   \n",
       "53   XGBoostClassifier  dataset_00_all.pickle  1658136355    yes   \n",
       "\n",
       "     pca_components  resampling  matthews_corrcoef  f1_macro  accuracy  \n",
       "48                0        none           0.659560  0.597724  0.723888  \n",
       "139               0       SMOTE           0.637998  0.620410  0.702635  \n",
       "163               0    SMOTEENN           0.566431  0.540275  0.617447  \n",
       "266               0  SMOTETOMEK           0.666237  0.608285  0.729215  \n",
       "53                0        none           0.658313  0.598556  0.723009  "
      ]
     },
     "execution_count": 7,
     "metadata": {},
     "output_type": "execute_result"
    }
   ],
   "source": [
    "indices_for_best_mcc = df.groupby(['timestamp', 'resampling', 'pca_components', 'scaled'])['matthews_corrcoef'].idxmax()\n",
    "df.iloc[indices_for_best_mcc][\n",
    "    ['model', 'dataset', 'timestamp', 'scaled', 'pca_components', 'resampling', 'matthews_corrcoef', 'f1_macro', 'accuracy']\n",
    "]"
   ]
  },
  {
   "cell_type": "code",
   "execution_count": null,
   "metadata": {},
   "outputs": [],
   "source": []
  }
 ],
 "metadata": {
  "kernelspec": {
   "display_name": "Python 3",
   "language": "python",
   "name": "python3"
  },
  "language_info": {
   "codemirror_mode": {
    "name": "ipython",
    "version": 3
   },
   "file_extension": ".py",
   "mimetype": "text/x-python",
   "name": "python",
   "nbconvert_exporter": "python",
   "pygments_lexer": "ipython3",
   "version": "3.8.10"
  }
 },
 "nbformat": 4,
 "nbformat_minor": 2
}
