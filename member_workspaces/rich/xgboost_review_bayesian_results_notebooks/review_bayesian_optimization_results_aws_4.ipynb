{
 "cells": [
  {
   "cell_type": "code",
   "execution_count": 1,
   "metadata": {},
   "outputs": [],
   "source": [
    "import json\n",
    "import pandas as pd"
   ]
  },
  {
   "cell_type": "code",
   "execution_count": 2,
   "metadata": {},
   "outputs": [],
   "source": [
    "filename=\"../dataset_09_log.json\""
   ]
  },
  {
   "cell_type": "code",
   "execution_count": 3,
   "metadata": {},
   "outputs": [],
   "source": [
    "with open (filename, \"r\") as infile:\n",
    "    json_list = [json.loads(line) for line in infile]\n",
    "df=pd.json_normalize(json_list)"
   ]
  },
  {
   "cell_type": "markdown",
   "metadata": {},
   "source": [
    "**Current best mcc, f1_macro and accuracy results, respectively.**"
   ]
  },
  {
   "cell_type": "code",
   "execution_count": 4,
   "metadata": {},
   "outputs": [
    {
     "data": {
      "text/html": [
       "<div>\n",
       "<style scoped>\n",
       "    .dataframe tbody tr th:only-of-type {\n",
       "        vertical-align: middle;\n",
       "    }\n",
       "\n",
       "    .dataframe tbody tr th {\n",
       "        vertical-align: top;\n",
       "    }\n",
       "\n",
       "    .dataframe thead th {\n",
       "        text-align: right;\n",
       "    }\n",
       "</style>\n",
       "<table border=\"1\" class=\"dataframe\">\n",
       "  <thead>\n",
       "    <tr style=\"text-align: right;\">\n",
       "      <th></th>\n",
       "      <th>model</th>\n",
       "      <th>dataset</th>\n",
       "      <th>scaled</th>\n",
       "      <th>pca_components</th>\n",
       "      <th>resampling</th>\n",
       "      <th>matthews_corrcoef</th>\n",
       "      <th>f1_macro</th>\n",
       "      <th>accuracy</th>\n",
       "    </tr>\n",
       "  </thead>\n",
       "  <tbody>\n",
       "    <tr>\n",
       "      <th>107</th>\n",
       "      <td>XGBoostClassifier</td>\n",
       "      <td>dataset_09_pvtt_mean_cov_icov.pickle</td>\n",
       "      <td>yes</td>\n",
       "      <td>0.0</td>\n",
       "      <td>SMOTE</td>\n",
       "      <td>0.577025</td>\n",
       "      <td>0.550293</td>\n",
       "      <td>0.652927</td>\n",
       "    </tr>\n",
       "    <tr>\n",
       "      <th>107</th>\n",
       "      <td>XGBoostClassifier</td>\n",
       "      <td>dataset_09_pvtt_mean_cov_icov.pickle</td>\n",
       "      <td>yes</td>\n",
       "      <td>0.0</td>\n",
       "      <td>SMOTE</td>\n",
       "      <td>0.577025</td>\n",
       "      <td>0.550293</td>\n",
       "      <td>0.652927</td>\n",
       "    </tr>\n",
       "    <tr>\n",
       "      <th>52</th>\n",
       "      <td>XGBoostClassifier</td>\n",
       "      <td>dataset_09_pvtt_mean_cov_icov.pickle</td>\n",
       "      <td>yes</td>\n",
       "      <td>0.0</td>\n",
       "      <td>none</td>\n",
       "      <td>0.575895</td>\n",
       "      <td>0.511781</td>\n",
       "      <td>0.657143</td>\n",
       "    </tr>\n",
       "  </tbody>\n",
       "</table>\n",
       "</div>"
      ],
      "text/plain": [
       "                 model                               dataset scaled  \\\n",
       "107  XGBoostClassifier  dataset_09_pvtt_mean_cov_icov.pickle    yes   \n",
       "107  XGBoostClassifier  dataset_09_pvtt_mean_cov_icov.pickle    yes   \n",
       "52   XGBoostClassifier  dataset_09_pvtt_mean_cov_icov.pickle    yes   \n",
       "\n",
       "     pca_components resampling  matthews_corrcoef  f1_macro  accuracy  \n",
       "107             0.0      SMOTE           0.577025  0.550293  0.652927  \n",
       "107             0.0      SMOTE           0.577025  0.550293  0.652927  \n",
       "52              0.0       none           0.575895  0.511781  0.657143  "
      ]
     },
     "execution_count": 4,
     "metadata": {},
     "output_type": "execute_result"
    }
   ],
   "source": [
    "best_mcc_f1_accuracy_indices = [df['matthews_corrcoef'].idxmax(),\n",
    "                                df['f1_macro'].idxmax(),\n",
    "                                df['accuracy'].idxmax()]\n",
    "df.iloc[best_mcc_f1_accuracy_indices][['model', 'dataset', 'scaled', 'pca_components', \n",
    "                                       'resampling', 'matthews_corrcoef', 'f1_macro', 'accuracy']]"
   ]
  },
  {
   "cell_type": "markdown",
   "metadata": {},
   "source": [
    "**Detailed summary of current best mcc result.**"
   ]
  },
  {
   "cell_type": "code",
   "execution_count": 5,
   "metadata": {},
   "outputs": [
    {
     "data": {
      "text/plain": [
       "model                                   XGBoostClassifier\n",
       "dataset              dataset_09_pvtt_mean_cov_icov.pickle\n",
       "timestamp                                      1658312960\n",
       "scaled                                                yes\n",
       "pca_components                                        0.0\n",
       "resampling                                          SMOTE\n",
       "learning_rate                                    0.061025\n",
       "n_estimators                                          425\n",
       "max_depth                                               9\n",
       "gamma                                            0.151822\n",
       "reg_alpha                                        7.722392\n",
       "seed                                                 1962\n",
       "fit_tim                                        802.724015\n",
       "core_tim                                           0.5464\n",
       "matthews_corrcoef                                0.577025\n",
       "f1_macro                                         0.550293\n",
       "accuracy                                         0.652927\n",
       "Name: 107, dtype: object"
      ]
     },
     "execution_count": 5,
     "metadata": {},
     "output_type": "execute_result"
    }
   ],
   "source": [
    "df.iloc[best_mcc_f1_accuracy_indices[0]]"
   ]
  },
  {
   "cell_type": "markdown",
   "metadata": {},
   "source": [
    "**Number of trials logged.**"
   ]
  },
  {
   "cell_type": "code",
   "execution_count": 6,
   "metadata": {
    "scrolled": true
   },
   "outputs": [
    {
     "data": {
      "text/plain": [
       "440"
      ]
     },
     "execution_count": 6,
     "metadata": {},
     "output_type": "execute_result"
    }
   ],
   "source": [
    "df.shape[0]"
   ]
  },
  {
   "cell_type": "markdown",
   "metadata": {},
   "source": [
    "**Group results by timestamp, resampling and pca_components, then show current best mcc by group.**"
   ]
  },
  {
   "cell_type": "code",
   "execution_count": 7,
   "metadata": {},
   "outputs": [
    {
     "data": {
      "text/html": [
       "<div>\n",
       "<style scoped>\n",
       "    .dataframe tbody tr th:only-of-type {\n",
       "        vertical-align: middle;\n",
       "    }\n",
       "\n",
       "    .dataframe tbody tr th {\n",
       "        vertical-align: top;\n",
       "    }\n",
       "\n",
       "    .dataframe thead th {\n",
       "        text-align: right;\n",
       "    }\n",
       "</style>\n",
       "<table border=\"1\" class=\"dataframe\">\n",
       "  <thead>\n",
       "    <tr style=\"text-align: right;\">\n",
       "      <th></th>\n",
       "      <th>model</th>\n",
       "      <th>dataset</th>\n",
       "      <th>scaled</th>\n",
       "      <th>pca_components</th>\n",
       "      <th>resampling</th>\n",
       "      <th>matthews_corrcoef</th>\n",
       "      <th>f1_macro</th>\n",
       "      <th>accuracy</th>\n",
       "    </tr>\n",
       "  </thead>\n",
       "  <tbody>\n",
       "    <tr>\n",
       "      <th>107</th>\n",
       "      <td>XGBoostClassifier</td>\n",
       "      <td>dataset_09_pvtt_mean_cov_icov.pickle</td>\n",
       "      <td>yes</td>\n",
       "      <td>0.00</td>\n",
       "      <td>SMOTE</td>\n",
       "      <td>0.577025</td>\n",
       "      <td>0.550293</td>\n",
       "      <td>0.652927</td>\n",
       "    </tr>\n",
       "    <tr>\n",
       "      <th>328</th>\n",
       "      <td>XGBoostClassifier</td>\n",
       "      <td>dataset_09_pvtt_mean_cov_icov.pickle</td>\n",
       "      <td>yes</td>\n",
       "      <td>0.95</td>\n",
       "      <td>SMOTE</td>\n",
       "      <td>0.504883</td>\n",
       "      <td>0.480437</td>\n",
       "      <td>0.591569</td>\n",
       "    </tr>\n",
       "    <tr>\n",
       "      <th>114</th>\n",
       "      <td>XGBoostClassifier</td>\n",
       "      <td>dataset_09_pvtt_mean_cov_icov.pickle</td>\n",
       "      <td>yes</td>\n",
       "      <td>0.00</td>\n",
       "      <td>SMOTEENN</td>\n",
       "      <td>0.489241</td>\n",
       "      <td>0.458190</td>\n",
       "      <td>0.545199</td>\n",
       "    </tr>\n",
       "    <tr>\n",
       "      <th>339</th>\n",
       "      <td>XGBoostClassifier</td>\n",
       "      <td>dataset_09_pvtt_mean_cov_icov.pickle</td>\n",
       "      <td>yes</td>\n",
       "      <td>0.95</td>\n",
       "      <td>SMOTEENN</td>\n",
       "      <td>0.437705</td>\n",
       "      <td>0.407819</td>\n",
       "      <td>0.500468</td>\n",
       "    </tr>\n",
       "    <tr>\n",
       "      <th>217</th>\n",
       "      <td>XGBoostClassifier</td>\n",
       "      <td>dataset_09_pvtt_mean_cov_icov.pickle</td>\n",
       "      <td>yes</td>\n",
       "      <td>0.00</td>\n",
       "      <td>SMOTETOMEK</td>\n",
       "      <td>0.575895</td>\n",
       "      <td>0.511781</td>\n",
       "      <td>0.657143</td>\n",
       "    </tr>\n",
       "    <tr>\n",
       "      <th>433</th>\n",
       "      <td>XGBoostClassifier</td>\n",
       "      <td>dataset_09_pvtt_mean_cov_icov.pickle</td>\n",
       "      <td>yes</td>\n",
       "      <td>0.95</td>\n",
       "      <td>SMOTETOMEK</td>\n",
       "      <td>0.507854</td>\n",
       "      <td>0.440324</td>\n",
       "      <td>0.603981</td>\n",
       "    </tr>\n",
       "    <tr>\n",
       "      <th>52</th>\n",
       "      <td>XGBoostClassifier</td>\n",
       "      <td>dataset_09_pvtt_mean_cov_icov.pickle</td>\n",
       "      <td>yes</td>\n",
       "      <td>0.00</td>\n",
       "      <td>none</td>\n",
       "      <td>0.575895</td>\n",
       "      <td>0.511781</td>\n",
       "      <td>0.657143</td>\n",
       "    </tr>\n",
       "    <tr>\n",
       "      <th>268</th>\n",
       "      <td>XGBoostClassifier</td>\n",
       "      <td>dataset_09_pvtt_mean_cov_icov.pickle</td>\n",
       "      <td>yes</td>\n",
       "      <td>0.95</td>\n",
       "      <td>none</td>\n",
       "      <td>0.507854</td>\n",
       "      <td>0.440324</td>\n",
       "      <td>0.603981</td>\n",
       "    </tr>\n",
       "  </tbody>\n",
       "</table>\n",
       "</div>"
      ],
      "text/plain": [
       "                 model                               dataset scaled  \\\n",
       "107  XGBoostClassifier  dataset_09_pvtt_mean_cov_icov.pickle    yes   \n",
       "328  XGBoostClassifier  dataset_09_pvtt_mean_cov_icov.pickle    yes   \n",
       "114  XGBoostClassifier  dataset_09_pvtt_mean_cov_icov.pickle    yes   \n",
       "339  XGBoostClassifier  dataset_09_pvtt_mean_cov_icov.pickle    yes   \n",
       "217  XGBoostClassifier  dataset_09_pvtt_mean_cov_icov.pickle    yes   \n",
       "433  XGBoostClassifier  dataset_09_pvtt_mean_cov_icov.pickle    yes   \n",
       "52   XGBoostClassifier  dataset_09_pvtt_mean_cov_icov.pickle    yes   \n",
       "268  XGBoostClassifier  dataset_09_pvtt_mean_cov_icov.pickle    yes   \n",
       "\n",
       "     pca_components  resampling  matthews_corrcoef  f1_macro  accuracy  \n",
       "107            0.00       SMOTE           0.577025  0.550293  0.652927  \n",
       "328            0.95       SMOTE           0.504883  0.480437  0.591569  \n",
       "114            0.00    SMOTEENN           0.489241  0.458190  0.545199  \n",
       "339            0.95    SMOTEENN           0.437705  0.407819  0.500468  \n",
       "217            0.00  SMOTETOMEK           0.575895  0.511781  0.657143  \n",
       "433            0.95  SMOTETOMEK           0.507854  0.440324  0.603981  \n",
       "52             0.00        none           0.575895  0.511781  0.657143  \n",
       "268            0.95        none           0.507854  0.440324  0.603981  "
      ]
     },
     "execution_count": 7,
     "metadata": {},
     "output_type": "execute_result"
    }
   ],
   "source": [
    "indices_for_best_mcc = df.groupby(['timestamp', 'resampling', 'pca_components', 'scaled'])['matthews_corrcoef'].idxmax()\n",
    "df.iloc[indices_for_best_mcc][\n",
    "    ['model', 'dataset', 'scaled', 'pca_components', 'resampling', 'matthews_corrcoef', 'f1_macro', 'accuracy']\n",
    "]"
   ]
  }
 ],
 "metadata": {
  "kernelspec": {
   "display_name": "Python 3",
   "language": "python",
   "name": "python3"
  },
  "language_info": {
   "codemirror_mode": {
    "name": "ipython",
    "version": 3
   },
   "file_extension": ".py",
   "mimetype": "text/x-python",
   "name": "python",
   "nbconvert_exporter": "python",
   "pygments_lexer": "ipython3",
   "version": "3.8.10"
  }
 },
 "nbformat": 4,
 "nbformat_minor": 2
}
