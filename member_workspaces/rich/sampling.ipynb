{
 "cells": [
  {
   "cell_type": "code",
   "execution_count": 1,
   "id": "0b2237e0-f3dc-4476-92bf-8d8ddb7d805b",
   "metadata": {},
   "outputs": [],
   "source": [
    "import sys\n",
    "\n",
    "import numpy as np\n",
    "import pandas as pd\n",
    "\n",
    "sys.path.append(\"../../\")\n",
    "\n",
    "from collections import Counter\n",
    "\n",
    "from helpers.reduce import load_and_distill\n",
    "from helpers.split import tag_label_feature_split\n",
    "from imblearn.combine import SMOTETomek\n",
    "from imblearn.over_sampling import SMOTE, RandomOverSampler"
   ]
  },
  {
   "cell_type": "code",
   "execution_count": 2,
   "id": "f5143cf9-f87d-4a72-8bbe-2bcb56705ac9",
   "metadata": {},
   "outputs": [],
   "source": [
    "base_genres = [\n",
    "    \"genre_blues\",\n",
    "    \"genre_classical\",\n",
    "    \"genre_country\",\n",
    "    \"genre_disco\",\n",
    "    \"genre_hiphop\",\n",
    "    \"genre_jazz\",\n",
    "    \"genre_metal\",\n",
    "    \"genre_pop\",\n",
    "    \"genre_reggae\",\n",
    "    \"genre_rock\",\n",
    "]"
   ]
  },
  {
   "cell_type": "code",
   "execution_count": 3,
   "id": "4d7f7d88-cca9-40d3-999d-d86ddbbb6641",
   "metadata": {},
   "outputs": [],
   "source": [
    "def to_base_genre_label(index):\n",
    "    \"\"\"Return the base genre label for a dense genre index.\"\"\"\n",
    "    return base_genres[index]\n",
    "\n",
    "\n",
    "def to_base_genre_index(label):\n",
    "    \"\"\"Return the dense genre index for a base genre label.\"\"\"\n",
    "    return base_genres.index(label)\n",
    "\n",
    "\n",
    "def sparse_to_dense(labels):\n",
    "    return np.argmax(labels.to_numpy(), axis=1)"
   ]
  },
  {
   "cell_type": "code",
   "execution_count": 4,
   "id": "451a4fe4-09e3-4445-b14d-6584feb70b45",
   "metadata": {},
   "outputs": [],
   "source": [
    "df = load_and_distill(multi_label=False, tags=True)"
   ]
  },
  {
   "cell_type": "markdown",
   "id": "70b54953-5243-4d98-9a25-8671ef5bece6",
   "metadata": {},
   "source": [
    "### Undersample the 7 Most Represented Genres\n",
    "\n",
    "Reconstitute the dataset by drawing random samples from the seven most represented genres.  Maintain all data from the three least represented genres."
   ]
  },
  {
   "cell_type": "code",
   "execution_count": 5,
   "id": "a7c2510e-2cd7-4118-977b-bd059904e84c",
   "metadata": {},
   "outputs": [],
   "source": [
    "def undersample(data, count=500):\n",
    "    return pd.concat(\n",
    "        [\n",
    "            df[df.genre_pop == 1].sample(n=count, axis=0),\n",
    "            df[df.genre_rock == 1].sample(n=count, axis=0),\n",
    "            df[df.genre_classical == 1].sample(n=count, axis=0),\n",
    "            df[df.genre_hiphop == 1].sample(n=count, axis=0),\n",
    "            df[df.genre_jazz == 1].sample(n=count, axis=0),\n",
    "            df[df.genre_metal == 1].sample(n=count, axis=0),\n",
    "            df[df.genre_reggae == 1].sample(n=count, axis=0),\n",
    "            df[df.genre_blues == 1],\n",
    "            df[df.genre_country == 1],\n",
    "            df[df.genre_disco == 1],\n",
    "        ]\n",
    "    )\n",
    "\n",
    "\n",
    "df_undersampled = undersample(df)\n",
    "tags, one_hot_encoded_labels, X = tag_label_feature_split(df_undersampled)"
   ]
  },
  {
   "cell_type": "code",
   "execution_count": 6,
   "id": "7ec6d051-e4d5-4d95-b406-84d6f34391eb",
   "metadata": {},
   "outputs": [
    {
     "data": {
      "text/plain": [
       "genre_classical    500\n",
       "genre_hiphop       500\n",
       "genre_jazz         500\n",
       "genre_metal        500\n",
       "genre_pop          500\n",
       "genre_reggae       500\n",
       "genre_rock         500\n",
       "genre_blues        468\n",
       "genre_country      409\n",
       "genre_disco        361\n",
       "dtype: int64"
      ]
     },
     "execution_count": 6,
     "metadata": {},
     "output_type": "execute_result"
    }
   ],
   "source": [
    "one_hot_encoded_labels.sum(axis=0).sort_values(ascending=False)"
   ]
  },
  {
   "cell_type": "code",
   "execution_count": 7,
   "id": "d08d37a7-ffa7-48f4-9e3f-bad3311318e2",
   "metadata": {},
   "outputs": [],
   "source": [
    "y = np.array(sparse_to_dense(one_hot_encoded_labels))\n",
    "X = X.filter(regex=\"^mfcc_mean_\", axis=1)"
   ]
  },
  {
   "cell_type": "code",
   "execution_count": 8,
   "id": "9e2cb875-2efe-495b-8e8e-5bdabbec93b9",
   "metadata": {},
   "outputs": [
    {
     "data": {
      "text/html": [
       "<div>\n",
       "<style scoped>\n",
       "    .dataframe tbody tr th:only-of-type {\n",
       "        vertical-align: middle;\n",
       "    }\n",
       "\n",
       "    .dataframe tbody tr th {\n",
       "        vertical-align: top;\n",
       "    }\n",
       "\n",
       "    .dataframe thead th {\n",
       "        text-align: right;\n",
       "    }\n",
       "</style>\n",
       "<table border=\"1\" class=\"dataframe\">\n",
       "  <thead>\n",
       "    <tr style=\"text-align: right;\">\n",
       "      <th></th>\n",
       "      <th>mfcc_mean_0</th>\n",
       "      <th>mfcc_mean_1</th>\n",
       "      <th>mfcc_mean_2</th>\n",
       "      <th>mfcc_mean_3</th>\n",
       "      <th>mfcc_mean_4</th>\n",
       "      <th>mfcc_mean_5</th>\n",
       "      <th>mfcc_mean_6</th>\n",
       "      <th>mfcc_mean_7</th>\n",
       "      <th>mfcc_mean_8</th>\n",
       "      <th>mfcc_mean_9</th>\n",
       "      <th>mfcc_mean_10</th>\n",
       "      <th>mfcc_mean_11</th>\n",
       "      <th>mfcc_mean_12</th>\n",
       "    </tr>\n",
       "  </thead>\n",
       "  <tbody>\n",
       "    <tr>\n",
       "      <th>21203</th>\n",
       "      <td>-731.881775</td>\n",
       "      <td>167.506622</td>\n",
       "      <td>29.992678</td>\n",
       "      <td>1.775042</td>\n",
       "      <td>1.936840</td>\n",
       "      <td>-9.039070</td>\n",
       "      <td>-9.526371</td>\n",
       "      <td>-4.563849</td>\n",
       "      <td>-16.687853</td>\n",
       "      <td>-7.122833</td>\n",
       "      <td>-15.314518</td>\n",
       "      <td>-16.636948</td>\n",
       "      <td>-13.811142</td>\n",
       "    </tr>\n",
       "    <tr>\n",
       "      <th>20220</th>\n",
       "      <td>-664.110291</td>\n",
       "      <td>105.939636</td>\n",
       "      <td>22.050243</td>\n",
       "      <td>38.953522</td>\n",
       "      <td>13.110357</td>\n",
       "      <td>10.277453</td>\n",
       "      <td>-1.718638</td>\n",
       "      <td>1.985022</td>\n",
       "      <td>-0.669255</td>\n",
       "      <td>-0.344212</td>\n",
       "      <td>-0.499223</td>\n",
       "      <td>-2.054155</td>\n",
       "      <td>-3.001413</td>\n",
       "    </tr>\n",
       "    <tr>\n",
       "      <th>16124</th>\n",
       "      <td>-723.657471</td>\n",
       "      <td>196.583786</td>\n",
       "      <td>24.963108</td>\n",
       "      <td>31.553154</td>\n",
       "      <td>18.826328</td>\n",
       "      <td>2.369676</td>\n",
       "      <td>6.779541</td>\n",
       "      <td>4.450876</td>\n",
       "      <td>-1.235345</td>\n",
       "      <td>-2.750925</td>\n",
       "      <td>-1.712977</td>\n",
       "      <td>6.077117</td>\n",
       "      <td>6.785930</td>\n",
       "    </tr>\n",
       "    <tr>\n",
       "      <th>25296</th>\n",
       "      <td>-742.324829</td>\n",
       "      <td>139.031128</td>\n",
       "      <td>52.591686</td>\n",
       "      <td>29.302963</td>\n",
       "      <td>12.369719</td>\n",
       "      <td>10.226247</td>\n",
       "      <td>-0.952145</td>\n",
       "      <td>4.378653</td>\n",
       "      <td>-3.542637</td>\n",
       "      <td>4.350736</td>\n",
       "      <td>0.654128</td>\n",
       "      <td>-2.043166</td>\n",
       "      <td>-1.407209</td>\n",
       "    </tr>\n",
       "    <tr>\n",
       "      <th>3264</th>\n",
       "      <td>-725.935974</td>\n",
       "      <td>147.901428</td>\n",
       "      <td>31.002018</td>\n",
       "      <td>-7.678528</td>\n",
       "      <td>-15.015887</td>\n",
       "      <td>-4.974175</td>\n",
       "      <td>-1.185524</td>\n",
       "      <td>2.995163</td>\n",
       "      <td>-0.389467</td>\n",
       "      <td>-2.269662</td>\n",
       "      <td>-0.995318</td>\n",
       "      <td>-1.642543</td>\n",
       "      <td>-2.220340</td>\n",
       "    </tr>\n",
       "    <tr>\n",
       "      <th>...</th>\n",
       "      <td>...</td>\n",
       "      <td>...</td>\n",
       "      <td>...</td>\n",
       "      <td>...</td>\n",
       "      <td>...</td>\n",
       "      <td>...</td>\n",
       "      <td>...</td>\n",
       "      <td>...</td>\n",
       "      <td>...</td>\n",
       "      <td>...</td>\n",
       "      <td>...</td>\n",
       "      <td>...</td>\n",
       "      <td>...</td>\n",
       "    </tr>\n",
       "    <tr>\n",
       "      <th>54236</th>\n",
       "      <td>-690.560669</td>\n",
       "      <td>98.972618</td>\n",
       "      <td>-15.824314</td>\n",
       "      <td>12.942833</td>\n",
       "      <td>5.728589</td>\n",
       "      <td>0.392425</td>\n",
       "      <td>1.604278</td>\n",
       "      <td>0.400300</td>\n",
       "      <td>-2.473933</td>\n",
       "      <td>-0.332941</td>\n",
       "      <td>4.158844</td>\n",
       "      <td>-1.676747</td>\n",
       "      <td>-1.073218</td>\n",
       "    </tr>\n",
       "    <tr>\n",
       "      <th>54368</th>\n",
       "      <td>-666.252075</td>\n",
       "      <td>79.289360</td>\n",
       "      <td>29.025909</td>\n",
       "      <td>30.546505</td>\n",
       "      <td>7.162126</td>\n",
       "      <td>19.828424</td>\n",
       "      <td>11.959628</td>\n",
       "      <td>11.099643</td>\n",
       "      <td>6.065190</td>\n",
       "      <td>8.011757</td>\n",
       "      <td>3.916399</td>\n",
       "      <td>1.223691</td>\n",
       "      <td>2.666147</td>\n",
       "    </tr>\n",
       "    <tr>\n",
       "      <th>54749</th>\n",
       "      <td>-698.271912</td>\n",
       "      <td>121.905960</td>\n",
       "      <td>-9.023279</td>\n",
       "      <td>9.455445</td>\n",
       "      <td>-2.001290</td>\n",
       "      <td>-6.252756</td>\n",
       "      <td>-3.672734</td>\n",
       "      <td>4.375753</td>\n",
       "      <td>2.454486</td>\n",
       "      <td>5.336717</td>\n",
       "      <td>2.882187</td>\n",
       "      <td>1.964112</td>\n",
       "      <td>-2.579552</td>\n",
       "    </tr>\n",
       "    <tr>\n",
       "      <th>54794</th>\n",
       "      <td>-744.579224</td>\n",
       "      <td>99.917603</td>\n",
       "      <td>33.313694</td>\n",
       "      <td>18.761524</td>\n",
       "      <td>11.070148</td>\n",
       "      <td>13.391991</td>\n",
       "      <td>3.485552</td>\n",
       "      <td>0.974179</td>\n",
       "      <td>1.767911</td>\n",
       "      <td>8.345790</td>\n",
       "      <td>8.030129</td>\n",
       "      <td>8.866822</td>\n",
       "      <td>8.322719</td>\n",
       "    </tr>\n",
       "    <tr>\n",
       "      <th>54809</th>\n",
       "      <td>-627.119690</td>\n",
       "      <td>117.339905</td>\n",
       "      <td>-10.572755</td>\n",
       "      <td>25.481213</td>\n",
       "      <td>0.968963</td>\n",
       "      <td>2.762358</td>\n",
       "      <td>-6.921042</td>\n",
       "      <td>2.635372</td>\n",
       "      <td>-2.188619</td>\n",
       "      <td>0.064962</td>\n",
       "      <td>-2.348172</td>\n",
       "      <td>-0.938880</td>\n",
       "      <td>-6.392673</td>\n",
       "    </tr>\n",
       "  </tbody>\n",
       "</table>\n",
       "<p>4738 rows × 13 columns</p>\n",
       "</div>"
      ],
      "text/plain": [
       "       mfcc_mean_0  mfcc_mean_1  mfcc_mean_2  mfcc_mean_3  mfcc_mean_4  \\\n",
       "21203  -731.881775   167.506622    29.992678     1.775042     1.936840   \n",
       "20220  -664.110291   105.939636    22.050243    38.953522    13.110357   \n",
       "16124  -723.657471   196.583786    24.963108    31.553154    18.826328   \n",
       "25296  -742.324829   139.031128    52.591686    29.302963    12.369719   \n",
       "3264   -725.935974   147.901428    31.002018    -7.678528   -15.015887   \n",
       "...            ...          ...          ...          ...          ...   \n",
       "54236  -690.560669    98.972618   -15.824314    12.942833     5.728589   \n",
       "54368  -666.252075    79.289360    29.025909    30.546505     7.162126   \n",
       "54749  -698.271912   121.905960    -9.023279     9.455445    -2.001290   \n",
       "54794  -744.579224    99.917603    33.313694    18.761524    11.070148   \n",
       "54809  -627.119690   117.339905   -10.572755    25.481213     0.968963   \n",
       "\n",
       "       mfcc_mean_5  mfcc_mean_6  mfcc_mean_7  mfcc_mean_8  mfcc_mean_9  \\\n",
       "21203    -9.039070    -9.526371    -4.563849   -16.687853    -7.122833   \n",
       "20220    10.277453    -1.718638     1.985022    -0.669255    -0.344212   \n",
       "16124     2.369676     6.779541     4.450876    -1.235345    -2.750925   \n",
       "25296    10.226247    -0.952145     4.378653    -3.542637     4.350736   \n",
       "3264     -4.974175    -1.185524     2.995163    -0.389467    -2.269662   \n",
       "...            ...          ...          ...          ...          ...   \n",
       "54236     0.392425     1.604278     0.400300    -2.473933    -0.332941   \n",
       "54368    19.828424    11.959628    11.099643     6.065190     8.011757   \n",
       "54749    -6.252756    -3.672734     4.375753     2.454486     5.336717   \n",
       "54794    13.391991     3.485552     0.974179     1.767911     8.345790   \n",
       "54809     2.762358    -6.921042     2.635372    -2.188619     0.064962   \n",
       "\n",
       "       mfcc_mean_10  mfcc_mean_11  mfcc_mean_12  \n",
       "21203    -15.314518    -16.636948    -13.811142  \n",
       "20220     -0.499223     -2.054155     -3.001413  \n",
       "16124     -1.712977      6.077117      6.785930  \n",
       "25296      0.654128     -2.043166     -1.407209  \n",
       "3264      -0.995318     -1.642543     -2.220340  \n",
       "...             ...           ...           ...  \n",
       "54236      4.158844     -1.676747     -1.073218  \n",
       "54368      3.916399      1.223691      2.666147  \n",
       "54749      2.882187      1.964112     -2.579552  \n",
       "54794      8.030129      8.866822      8.322719  \n",
       "54809     -2.348172     -0.938880     -6.392673  \n",
       "\n",
       "[4738 rows x 13 columns]"
      ]
     },
     "execution_count": 8,
     "metadata": {},
     "output_type": "execute_result"
    }
   ],
   "source": [
    "X"
   ]
  },
  {
   "cell_type": "markdown",
   "id": "d6f085b3-6874-4c37-9a27-35d3b7d6bbdf",
   "metadata": {},
   "source": [
    "### Naive RandomOverSample to Boost the 3 Least Represented Genres"
   ]
  },
  {
   "cell_type": "code",
   "execution_count": 9,
   "id": "28c2fea0-97d6-41d2-a958-66d14d4c9d53",
   "metadata": {},
   "outputs": [
    {
     "name": "stdout",
     "output_type": "stream",
     "text": [
      "[(0, 500), (1, 500), (2, 500), (3, 500), (4, 500), (5, 500), (6, 500), (7, 500), (8, 500), (9, 500)]\n"
     ]
    }
   ],
   "source": [
    "X_resampled, y_resampled = RandomOverSampler(random_state=0).fit_resample(X, y)\n",
    "print(sorted(Counter(y_resampled).items()))"
   ]
  },
  {
   "cell_type": "markdown",
   "id": "63338ac6-6101-48fd-a359-c97a4eb0d292",
   "metadata": {},
   "source": [
    "### SMOTE to Boost the 3 Least Represented Genres"
   ]
  },
  {
   "cell_type": "code",
   "execution_count": 10,
   "id": "6453c88d-a035-4d27-bbfe-bb3bb1dea5d6",
   "metadata": {},
   "outputs": [
    {
     "name": "stdout",
     "output_type": "stream",
     "text": [
      "[(0, 500), (1, 500), (2, 500), (3, 500), (4, 500), (5, 500), (6, 500), (7, 500), (8, 500), (9, 500)]\n"
     ]
    }
   ],
   "source": [
    "X_SMOTE, y_SMOTE = SMOTE().fit_resample(X, y)\n",
    "print(sorted(Counter(y_SMOTE).items()))"
   ]
  },
  {
   "cell_type": "markdown",
   "id": "2d00cd9a-a032-4c3c-9207-3a0ca329c4d1",
   "metadata": {},
   "source": [
    "### SMOTETomek Combined Approach to Balance the Data\n",
    "#### On the Full Dataset"
   ]
  },
  {
   "cell_type": "code",
   "execution_count": 11,
   "id": "eb2a21ac-4684-4565-b7e6-f920aae25fa3",
   "metadata": {},
   "outputs": [
    {
     "name": "stdout",
     "output_type": "stream",
     "text": [
      "[(0, 5327), (1, 5120), (2, 5340), (3, 5334), (4, 5298), (5, 5302), (6, 5335), (7, 5011), (8, 5324), (9, 5157)]\n"
     ]
    }
   ],
   "source": [
    "tags, one_hot_encoded_labels, X = tag_label_feature_split(df)\n",
    "y = np.array(sparse_to_dense(one_hot_encoded_labels))\n",
    "X = X.filter(regex=\"^mfcc_mean_\", axis=1)\n",
    "\n",
    "X_SMOTE_tomek, y_SMOTE_tomek = SMOTETomek(random_state=0).fit_resample(X, y)\n",
    "print(sorted(Counter(y_SMOTE_tomek).items()))"
   ]
  },
  {
   "cell_type": "markdown",
   "id": "94e3c7f9-af25-4f29-82cc-f03dd8e80c5a",
   "metadata": {},
   "source": [
    "#### On the Undersampled Dataset"
   ]
  },
  {
   "cell_type": "code",
   "execution_count": 12,
   "id": "1b8de4f0-b210-4fdb-9433-8d5be282cafb",
   "metadata": {},
   "outputs": [
    {
     "name": "stdout",
     "output_type": "stream",
     "text": [
      "[(0, 404), (1, 439), (2, 451), (3, 434), (4, 385), (5, 373), (6, 427), (7, 357), (8, 386), (9, 384)]\n"
     ]
    }
   ],
   "source": [
    "tags, one_hot_encoded_labels, X = tag_label_feature_split(df_undersampled)\n",
    "y = np.array(sparse_to_dense(one_hot_encoded_labels))\n",
    "X = X.filter(regex=\"^mfcc_mean_\", axis=1)\n",
    "\n",
    "X_SMOTE_tomek, y_SMOTE_tomek = SMOTETomek(random_state=0).fit_resample(X, y)\n",
    "print(sorted(Counter(y_SMOTE_tomek).items()))"
   ]
  },
  {
   "cell_type": "code",
   "execution_count": null,
   "id": "a180d3a5-2e5c-4ad4-9dd8-c7c9af23d03f",
   "metadata": {},
   "outputs": [],
   "source": []
  }
 ],
 "metadata": {
  "kernelspec": {
   "display_name": "Python [conda env:tf] *",
   "language": "python",
   "name": "conda-env-tf-py"
  },
  "language_info": {
   "codemirror_mode": {
    "name": "ipython",
    "version": 3
   },
   "file_extension": ".py",
   "mimetype": "text/x-python",
   "name": "python",
   "nbconvert_exporter": "python",
   "pygments_lexer": "ipython3",
   "version": "3.9.12"
  }
 },
 "nbformat": 4,
 "nbformat_minor": 5
}
