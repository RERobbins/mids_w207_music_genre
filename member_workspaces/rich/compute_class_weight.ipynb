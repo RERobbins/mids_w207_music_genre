{
 "cells": [
  {
   "cell_type": "code",
   "execution_count": 1,
   "id": "0b2237e0-f3dc-4476-92bf-8d8ddb7d805b",
   "metadata": {},
   "outputs": [],
   "source": [
    "import sys\n",
    "\n",
    "import numpy as np\n",
    "import pandas as pd\n",
    "\n",
    "sys.path.append(\"../../\")\n",
    "\n",
    "from helpers.split import tag_label_feature_split, label_strings\n",
    "from sklearn.utils.class_weight import compute_class_weight, compute_sample_weight"
   ]
  },
  {
   "cell_type": "code",
   "execution_count": 2,
   "id": "451a4fe4-09e3-4445-b14d-6584feb70b45",
   "metadata": {},
   "outputs": [],
   "source": [
    "df = pd.read_pickle(\"../../datasets/baseline_dataset.pickle\")\n",
    "_, one_hot_labels, _ = tag_label_feature_split(df)"
   ]
  },
  {
   "cell_type": "code",
   "execution_count": 3,
   "id": "c67af7b7-5fc4-4577-963d-e2f65c159b6a",
   "metadata": {},
   "outputs": [
    {
     "data": {
      "text/html": [
       "<div>\n",
       "<style scoped>\n",
       "    .dataframe tbody tr th:only-of-type {\n",
       "        vertical-align: middle;\n",
       "    }\n",
       "\n",
       "    .dataframe tbody tr th {\n",
       "        vertical-align: top;\n",
       "    }\n",
       "\n",
       "    .dataframe thead th {\n",
       "        text-align: right;\n",
       "    }\n",
       "</style>\n",
       "<table border=\"1\" class=\"dataframe\">\n",
       "  <thead>\n",
       "    <tr style=\"text-align: right;\">\n",
       "      <th></th>\n",
       "      <th>genre_blues</th>\n",
       "      <th>genre_classical</th>\n",
       "      <th>genre_country</th>\n",
       "      <th>genre_disco</th>\n",
       "      <th>genre_hiphop</th>\n",
       "      <th>genre_jazz</th>\n",
       "      <th>genre_metal</th>\n",
       "      <th>genre_pop</th>\n",
       "      <th>genre_reggae</th>\n",
       "      <th>genre_rock</th>\n",
       "    </tr>\n",
       "  </thead>\n",
       "  <tbody>\n",
       "    <tr>\n",
       "      <th>2</th>\n",
       "      <td>0</td>\n",
       "      <td>0</td>\n",
       "      <td>0</td>\n",
       "      <td>0</td>\n",
       "      <td>0</td>\n",
       "      <td>0</td>\n",
       "      <td>0</td>\n",
       "      <td>1</td>\n",
       "      <td>0</td>\n",
       "      <td>0</td>\n",
       "    </tr>\n",
       "    <tr>\n",
       "      <th>6</th>\n",
       "      <td>0</td>\n",
       "      <td>0</td>\n",
       "      <td>0</td>\n",
       "      <td>0</td>\n",
       "      <td>0</td>\n",
       "      <td>0</td>\n",
       "      <td>0</td>\n",
       "      <td>0</td>\n",
       "      <td>0</td>\n",
       "      <td>1</td>\n",
       "    </tr>\n",
       "    <tr>\n",
       "      <th>7</th>\n",
       "      <td>0</td>\n",
       "      <td>0</td>\n",
       "      <td>0</td>\n",
       "      <td>0</td>\n",
       "      <td>0</td>\n",
       "      <td>0</td>\n",
       "      <td>0</td>\n",
       "      <td>1</td>\n",
       "      <td>0</td>\n",
       "      <td>0</td>\n",
       "    </tr>\n",
       "    <tr>\n",
       "      <th>10</th>\n",
       "      <td>0</td>\n",
       "      <td>0</td>\n",
       "      <td>0</td>\n",
       "      <td>0</td>\n",
       "      <td>0</td>\n",
       "      <td>0</td>\n",
       "      <td>0</td>\n",
       "      <td>0</td>\n",
       "      <td>0</td>\n",
       "      <td>1</td>\n",
       "    </tr>\n",
       "    <tr>\n",
       "      <th>12</th>\n",
       "      <td>0</td>\n",
       "      <td>1</td>\n",
       "      <td>0</td>\n",
       "      <td>0</td>\n",
       "      <td>0</td>\n",
       "      <td>0</td>\n",
       "      <td>0</td>\n",
       "      <td>0</td>\n",
       "      <td>0</td>\n",
       "      <td>0</td>\n",
       "    </tr>\n",
       "    <tr>\n",
       "      <th>...</th>\n",
       "      <td>...</td>\n",
       "      <td>...</td>\n",
       "      <td>...</td>\n",
       "      <td>...</td>\n",
       "      <td>...</td>\n",
       "      <td>...</td>\n",
       "      <td>...</td>\n",
       "      <td>...</td>\n",
       "      <td>...</td>\n",
       "      <td>...</td>\n",
       "    </tr>\n",
       "    <tr>\n",
       "      <th>55202</th>\n",
       "      <td>0</td>\n",
       "      <td>0</td>\n",
       "      <td>0</td>\n",
       "      <td>0</td>\n",
       "      <td>0</td>\n",
       "      <td>0</td>\n",
       "      <td>0</td>\n",
       "      <td>1</td>\n",
       "      <td>0</td>\n",
       "      <td>0</td>\n",
       "    </tr>\n",
       "    <tr>\n",
       "      <th>55204</th>\n",
       "      <td>0</td>\n",
       "      <td>0</td>\n",
       "      <td>0</td>\n",
       "      <td>0</td>\n",
       "      <td>0</td>\n",
       "      <td>1</td>\n",
       "      <td>0</td>\n",
       "      <td>0</td>\n",
       "      <td>0</td>\n",
       "      <td>0</td>\n",
       "    </tr>\n",
       "    <tr>\n",
       "      <th>55205</th>\n",
       "      <td>0</td>\n",
       "      <td>0</td>\n",
       "      <td>0</td>\n",
       "      <td>0</td>\n",
       "      <td>0</td>\n",
       "      <td>1</td>\n",
       "      <td>0</td>\n",
       "      <td>0</td>\n",
       "      <td>0</td>\n",
       "      <td>0</td>\n",
       "    </tr>\n",
       "    <tr>\n",
       "      <th>55208</th>\n",
       "      <td>0</td>\n",
       "      <td>0</td>\n",
       "      <td>0</td>\n",
       "      <td>0</td>\n",
       "      <td>0</td>\n",
       "      <td>0</td>\n",
       "      <td>0</td>\n",
       "      <td>1</td>\n",
       "      <td>0</td>\n",
       "      <td>0</td>\n",
       "    </tr>\n",
       "    <tr>\n",
       "      <th>55212</th>\n",
       "      <td>0</td>\n",
       "      <td>0</td>\n",
       "      <td>0</td>\n",
       "      <td>0</td>\n",
       "      <td>0</td>\n",
       "      <td>1</td>\n",
       "      <td>0</td>\n",
       "      <td>0</td>\n",
       "      <td>0</td>\n",
       "      <td>0</td>\n",
       "    </tr>\n",
       "  </tbody>\n",
       "</table>\n",
       "<p>21351 rows × 10 columns</p>\n",
       "</div>"
      ],
      "text/plain": [
       "       genre_blues  genre_classical  genre_country  genre_disco  genre_hiphop  \\\n",
       "2                0                0              0            0             0   \n",
       "6                0                0              0            0             0   \n",
       "7                0                0              0            0             0   \n",
       "10               0                0              0            0             0   \n",
       "12               0                1              0            0             0   \n",
       "...            ...              ...            ...          ...           ...   \n",
       "55202            0                0              0            0             0   \n",
       "55204            0                0              0            0             0   \n",
       "55205            0                0              0            0             0   \n",
       "55208            0                0              0            0             0   \n",
       "55212            0                0              0            0             0   \n",
       "\n",
       "       genre_jazz  genre_metal  genre_pop  genre_reggae  genre_rock  \n",
       "2               0            0          1             0           0  \n",
       "6               0            0          0             0           1  \n",
       "7               0            0          1             0           0  \n",
       "10              0            0          0             0           1  \n",
       "12              0            0          0             0           0  \n",
       "...           ...          ...        ...           ...         ...  \n",
       "55202           0            0          1             0           0  \n",
       "55204           1            0          0             0           0  \n",
       "55205           1            0          0             0           0  \n",
       "55208           0            0          1             0           0  \n",
       "55212           1            0          0             0           0  \n",
       "\n",
       "[21351 rows x 10 columns]"
      ]
     },
     "execution_count": 3,
     "metadata": {},
     "output_type": "execute_result"
    }
   ],
   "source": [
    "one_hot_labels"
   ]
  },
  {
   "cell_type": "markdown",
   "id": "3a63605c-eeee-481f-b3b2-8693e5d058db",
   "metadata": {},
   "source": [
    "Get the DataFrame with Label Strings"
   ]
  },
  {
   "cell_type": "code",
   "execution_count": 4,
   "id": "de1142cf-04ff-43d8-9e6a-7d14b25ddf00",
   "metadata": {},
   "outputs": [
    {
     "data": {
      "text/html": [
       "<div>\n",
       "<style scoped>\n",
       "    .dataframe tbody tr th:only-of-type {\n",
       "        vertical-align: middle;\n",
       "    }\n",
       "\n",
       "    .dataframe tbody tr th {\n",
       "        vertical-align: top;\n",
       "    }\n",
       "\n",
       "    .dataframe thead th {\n",
       "        text-align: right;\n",
       "    }\n",
       "</style>\n",
       "<table border=\"1\" class=\"dataframe\">\n",
       "  <thead>\n",
       "    <tr style=\"text-align: right;\">\n",
       "      <th></th>\n",
       "      <th>label</th>\n",
       "    </tr>\n",
       "  </thead>\n",
       "  <tbody>\n",
       "    <tr>\n",
       "      <th>2</th>\n",
       "      <td>genre_pop</td>\n",
       "    </tr>\n",
       "    <tr>\n",
       "      <th>6</th>\n",
       "      <td>genre_rock</td>\n",
       "    </tr>\n",
       "    <tr>\n",
       "      <th>7</th>\n",
       "      <td>genre_pop</td>\n",
       "    </tr>\n",
       "    <tr>\n",
       "      <th>10</th>\n",
       "      <td>genre_rock</td>\n",
       "    </tr>\n",
       "    <tr>\n",
       "      <th>12</th>\n",
       "      <td>genre_classical</td>\n",
       "    </tr>\n",
       "    <tr>\n",
       "      <th>...</th>\n",
       "      <td>...</td>\n",
       "    </tr>\n",
       "    <tr>\n",
       "      <th>55202</th>\n",
       "      <td>genre_pop</td>\n",
       "    </tr>\n",
       "    <tr>\n",
       "      <th>55204</th>\n",
       "      <td>genre_jazz</td>\n",
       "    </tr>\n",
       "    <tr>\n",
       "      <th>55205</th>\n",
       "      <td>genre_jazz</td>\n",
       "    </tr>\n",
       "    <tr>\n",
       "      <th>55208</th>\n",
       "      <td>genre_pop</td>\n",
       "    </tr>\n",
       "    <tr>\n",
       "      <th>55212</th>\n",
       "      <td>genre_jazz</td>\n",
       "    </tr>\n",
       "  </tbody>\n",
       "</table>\n",
       "<p>21351 rows × 1 columns</p>\n",
       "</div>"
      ],
      "text/plain": [
       "                 label\n",
       "2            genre_pop\n",
       "6           genre_rock\n",
       "7            genre_pop\n",
       "10          genre_rock\n",
       "12     genre_classical\n",
       "...                ...\n",
       "55202        genre_pop\n",
       "55204       genre_jazz\n",
       "55205       genre_jazz\n",
       "55208        genre_pop\n",
       "55212       genre_jazz\n",
       "\n",
       "[21351 rows x 1 columns]"
      ]
     },
     "execution_count": 4,
     "metadata": {},
     "output_type": "execute_result"
    }
   ],
   "source": [
    "labels = label_strings(one_hot_labels)\n",
    "labels"
   ]
  },
  {
   "cell_type": "markdown",
   "id": "60f874e8-2b0c-48b9-9bbe-93ceb5df7bca",
   "metadata": {},
   "source": [
    "Cast the labels as an array"
   ]
  },
  {
   "cell_type": "code",
   "execution_count": 5,
   "id": "3fa9563f-1958-41eb-8c62-06e795bc01b8",
   "metadata": {},
   "outputs": [
    {
     "data": {
      "text/plain": [
       "array(['genre_pop', 'genre_rock', 'genre_pop', ..., 'genre_jazz',\n",
       "       'genre_pop', 'genre_jazz'], dtype=object)"
      ]
     },
     "execution_count": 5,
     "metadata": {},
     "output_type": "execute_result"
    }
   ],
   "source": [
    "labels = labels.label.ravel()\n",
    "labels"
   ]
  },
  {
   "cell_type": "markdown",
   "id": "2abb4491-ce9e-47ab-872e-bed7260314e8",
   "metadata": {},
   "source": [
    "Confirm the unique values look right"
   ]
  },
  {
   "cell_type": "code",
   "execution_count": 6,
   "id": "3f1c139a-14b4-4981-9aed-a13d8f094006",
   "metadata": {},
   "outputs": [
    {
     "data": {
      "text/plain": [
       "array(['genre_blues', 'genre_classical', 'genre_country', 'genre_disco',\n",
       "       'genre_hiphop', 'genre_jazz', 'genre_metal', 'genre_pop',\n",
       "       'genre_reggae', 'genre_rock'], dtype=object)"
      ]
     },
     "execution_count": 6,
     "metadata": {},
     "output_type": "execute_result"
    }
   ],
   "source": [
    "np.unique(labels)"
   ]
  },
  {
   "cell_type": "markdown",
   "id": "626be1f6-a859-4668-9077-3576090b13ec",
   "metadata": {},
   "source": [
    "Estimate the class weights for our dataset"
   ]
  },
  {
   "cell_type": "code",
   "execution_count": 7,
   "id": "48c0e429-5f58-444e-b20a-da8b987f21f3",
   "metadata": {},
   "outputs": [
    {
     "data": {
      "text/plain": [
       "array([4.56217949, 0.40468158, 5.2202934 , 5.91440443, 1.00428034,\n",
       "       1.37570876, 2.56931408, 0.39960696, 2.16761421, 0.533775  ])"
      ]
     },
     "execution_count": 7,
     "metadata": {},
     "output_type": "execute_result"
    }
   ],
   "source": [
    "weights = compute_class_weight(class_weight='balanced', classes=np.unique(labels), y=labels)\n",
    "weights"
   ]
  },
  {
   "cell_type": "markdown",
   "id": "6dfb1ba1-8003-4834-9091-d2ad91e60f55",
   "metadata": {},
   "source": [
    "Make a dictionary with the weights"
   ]
  },
  {
   "cell_type": "code",
   "execution_count": 8,
   "id": "a9643ead-536b-4523-99be-04b0a5bbd4ee",
   "metadata": {},
   "outputs": [
    {
     "data": {
      "text/plain": [
       "{'genre_blues': 4.562179487179487,\n",
       " 'genre_classical': 0.40468157695223655,\n",
       " 'genre_country': 5.220293398533007,\n",
       " 'genre_disco': 5.914404432132964,\n",
       " 'genre_hiphop': 1.0042803386641581,\n",
       " 'genre_jazz': 1.375708762886598,\n",
       " 'genre_metal': 2.5693140794223828,\n",
       " 'genre_pop': 0.399606962380685,\n",
       " 'genre_reggae': 2.1676142131979694,\n",
       " 'genre_rock': 0.533775}"
      ]
     },
     "execution_count": 8,
     "metadata": {},
     "output_type": "execute_result"
    }
   ],
   "source": [
    "dict(zip(np.unique(labels), weights))"
   ]
  }
 ],
 "metadata": {
  "kernelspec": {
   "display_name": "Python 3 (ipykernel)",
   "language": "python",
   "name": "python3"
  },
  "language_info": {
   "codemirror_mode": {
    "name": "ipython",
    "version": 3
   },
   "file_extension": ".py",
   "mimetype": "text/x-python",
   "name": "python",
   "nbconvert_exporter": "python",
   "pygments_lexer": "ipython3",
   "version": "3.9.12"
  }
 },
 "nbformat": 4,
 "nbformat_minor": 5
}
