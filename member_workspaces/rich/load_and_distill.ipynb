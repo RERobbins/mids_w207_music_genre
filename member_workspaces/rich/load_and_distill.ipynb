{
 "cells": [
  {
   "cell_type": "code",
   "execution_count": 1,
   "id": "0b2237e0-f3dc-4476-92bf-8d8ddb7d805b",
   "metadata": {},
   "outputs": [],
   "source": [
    "import sys\n",
    "\n",
    "import numpy as np\n",
    "import pandas as pd\n",
    "\n",
    "sys.path.append(\"../../\")\n",
    "\n",
    "from helpers.reduce import load_and_distill"
   ]
  },
  {
   "cell_type": "markdown",
   "id": "e66f5f0f-b994-438a-8db7-ba63a06f0fe1",
   "metadata": {},
   "source": [
    "`load_and_distill` loads our dataset, limits it to tracks that are tagged as being in exactly one of our base genres, and returns that reduced dataset.  It also removes all genre columns other than the hot encoded columns for the base genres."
   ]
  },
  {
   "cell_type": "code",
   "execution_count": 2,
   "id": "451a4fe4-09e3-4445-b14d-6584feb70b45",
   "metadata": {},
   "outputs": [
    {
     "data": {
      "text/plain": [
       "(21351, 2791)"
      ]
     },
     "execution_count": 2,
     "metadata": {},
     "output_type": "execute_result"
    }
   ],
   "source": [
    "df = load_and_distill()\n",
    "df.shape"
   ]
  },
  {
   "cell_type": "markdown",
   "id": "de7c0561-6131-4913-9c31-62bf5e829ddf",
   "metadata": {},
   "source": [
    "If `load_and_distill` is called with `multi_label=True` then tracks tagged as being in one or more of our base genres will be returned."
   ]
  },
  {
   "cell_type": "code",
   "execution_count": 3,
   "id": "f2bd76d3-e91a-4a12-9865-073e1ba3fc15",
   "metadata": {},
   "outputs": [
    {
     "data": {
      "text/plain": [
       "(25562, 2791)"
      ]
     },
     "execution_count": 3,
     "metadata": {},
     "output_type": "execute_result"
    }
   ],
   "source": [
    "df = load_and_distill(multi_label=True)\n",
    "df.shape"
   ]
  }
 ],
 "metadata": {
  "kernelspec": {
   "display_name": "Python 3 (ipykernel)",
   "language": "python",
   "name": "python3"
  },
  "language_info": {
   "codemirror_mode": {
    "name": "ipython",
    "version": 3
   },
   "file_extension": ".py",
   "mimetype": "text/x-python",
   "name": "python",
   "nbconvert_exporter": "python",
   "pygments_lexer": "ipython3",
   "version": "3.9.12"
  }
 },
 "nbformat": 4,
 "nbformat_minor": 5
}
