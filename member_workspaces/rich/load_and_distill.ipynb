{
 "cells": [
  {
   "cell_type": "code",
   "execution_count": 1,
   "id": "0b2237e0-f3dc-4476-92bf-8d8ddb7d805b",
   "metadata": {},
   "outputs": [],
   "source": [
    "import sys\n",
    "\n",
    "import numpy as np\n",
    "import pandas as pd\n",
    "\n",
    "sys.path.append(\"../../\")\n",
    "\n",
    "from helpers.constants import BASE_FEATURES_2, P_VAL_TOP_TEN\n",
    "from helpers.reduce import load_and_distill"
   ]
  },
  {
   "cell_type": "markdown",
   "id": "e66f5f0f-b994-438a-8db7-ba63a06f0fe1",
   "metadata": {},
   "source": [
    "`load_and_distill` loads our dataset, limits it to tracks that are tagged as being in exactly one of our base genres, and returns that reduced dataset.  It also removes all genre columns other than the hot encoded columns for the base genres."
   ]
  },
  {
   "cell_type": "code",
   "execution_count": null,
   "id": "451a4fe4-09e3-4445-b14d-6584feb70b45",
   "metadata": {},
   "outputs": [],
   "source": [
    "df = load_and_distill(tags=[\"tags_genre\"])\n",
    "df.shape"
   ]
  },
  {
   "cell_type": "code",
   "execution_count": null,
   "id": "50047bc0-d93a-47a5-838e-01bcff00a802",
   "metadata": {},
   "outputs": [],
   "source": [
    "df"
   ]
  },
  {
   "cell_type": "markdown",
   "id": "de7c0561-6131-4913-9c31-62bf5e829ddf",
   "metadata": {},
   "source": [
    "If `load_and_distill` is called with `multi_label=True` then tracks tagged as being in one or more of our base genres will be returned."
   ]
  },
  {
   "cell_type": "code",
   "execution_count": null,
   "id": "f2bd76d3-e91a-4a12-9865-073e1ba3fc15",
   "metadata": {},
   "outputs": [],
   "source": [
    "df = load_and_distill(multi_label=True, tags=\"all\")\n",
    "df.shape"
   ]
  },
  {
   "cell_type": "code",
   "execution_count": null,
   "id": "f32f361b-1bec-4794-8617-473d2eba95fe",
   "metadata": {},
   "outputs": [],
   "source": [
    "df"
   ]
  },
  {
   "cell_type": "code",
   "execution_count": null,
   "id": "e0b2f8e8-0302-4c03-8066-5b4d40d3ee74",
   "metadata": {},
   "outputs": [],
   "source": [
    "df.columns"
   ]
  },
  {
   "cell_type": "code",
   "execution_count": null,
   "id": "2d300611-aa00-4e8d-becf-b4a95b723ed9",
   "metadata": {},
   "outputs": [],
   "source": [
    "df = load_and_distill(pickle=\"../../datasets/baseline_dataset.pickle\")"
   ]
  },
  {
   "cell_type": "code",
   "execution_count": null,
   "id": "334d492c-5c9c-4679-a4a1-aeeace28147b",
   "metadata": {},
   "outputs": [],
   "source": [
    "df.shape"
   ]
  },
  {
   "cell_type": "code",
   "execution_count": null,
   "id": "aff13f76-0530-49d2-81e1-4cbd531da02e",
   "metadata": {},
   "outputs": [],
   "source": [
    "df.columns"
   ]
  },
  {
   "cell_type": "code",
   "execution_count": null,
   "id": "1a356a3d-d58b-43c5-b888-ba765edb5932",
   "metadata": {},
   "outputs": [],
   "source": [
    "df = load_and_distill(\n",
    "    features=BASE_FEATURES_2, \n",
    "    pickle=\"../../datasets/baseline_dataset_2.pickle\"\n",
    ")"
   ]
  },
  {
   "cell_type": "code",
   "execution_count": null,
   "id": "9461ccc3-c1ef-4c04-9baa-85876e069d83",
   "metadata": {},
   "outputs": [],
   "source": [
    "df.shape"
   ]
  },
  {
   "cell_type": "code",
   "execution_count": null,
   "id": "2ce83dc1-90d8-4b45-9e9c-f9c16398eae5",
   "metadata": {},
   "outputs": [],
   "source": [
    "df = load_and_distill(\n",
    "    features='all', \n",
    "    pickle=\"../../datasets/baseline_dataset_all.pickle.bz2\"\n",
    ")"
   ]
  },
  {
   "cell_type": "code",
   "execution_count": null,
   "id": "72c3ec16-a75a-4edc-963f-e97e7938dd25",
   "metadata": {},
   "outputs": [],
   "source": [
    "df.columns"
   ]
  },
  {
   "cell_type": "code",
   "execution_count": null,
   "id": "e1c6993b-c9a0-430b-9824-8a0682d7e664",
   "metadata": {},
   "outputs": [],
   "source": [
    "df.shape"
   ]
  },
  {
   "cell_type": "code",
   "execution_count": null,
   "id": "27b0447a-8030-4a17-a47b-cfe12ffe9423",
   "metadata": {},
   "outputs": [],
   "source": [
    "df = load_and_distill(\n",
    "    features=BASE_FEATURES_2 + P_VAL_TOP_TEN, \n",
    "    pickle=\"../../datasets/baseline_dataset_3.pickle\"\n",
    ")"
   ]
  },
  {
   "cell_type": "code",
   "execution_count": null,
   "id": "51ecf3dc-65f1-47e9-973a-ef1f20bcf656",
   "metadata": {},
   "outputs": [],
   "source": [
    "df.shape"
   ]
  },
  {
   "cell_type": "code",
   "execution_count": null,
   "id": "ed69dbe7-a1c7-4488-93b9-c3cec93799c8",
   "metadata": {},
   "outputs": [],
   "source": [
    "df = load_and_distill(\n",
    "    features=P_VAL_TOP_TEN, \n",
    "    pickle=\"../../datasets/p_val_top_ten_dataset.pickle\"\n",
    ")"
   ]
  },
  {
   "cell_type": "code",
   "execution_count": null,
   "id": "1a13b8f1-fe66-4092-9460-443f81fe5346",
   "metadata": {},
   "outputs": [],
   "source": [
    "df.shape"
   ]
  }
 ],
 "metadata": {
  "interpreter": {
   "hash": "35d15a1cd8dadd50efd7dc67d5d4964ef4d6df162d72ab0491992c60321de6b1"
  },
  "kernelspec": {
   "display_name": "Python 3 (ipykernel)",
   "language": "python",
   "name": "python3"
  },
  "language_info": {
   "codemirror_mode": {
    "name": "ipython",
    "version": 3
   },
   "file_extension": ".py",
   "mimetype": "text/x-python",
   "name": "python",
   "nbconvert_exporter": "python",
   "pygments_lexer": "ipython3",
   "version": "3.9.12"
  }
 },
 "nbformat": 4,
 "nbformat_minor": 5
}
