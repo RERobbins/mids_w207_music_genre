{
 "cells": [
  {
   "cell_type": "code",
   "execution_count": 16,
   "id": "0b0fa2d6-cb14-41dc-bcee-68bdbb430d82",
   "metadata": {},
   "outputs": [],
   "source": [
    "import sys\n",
    "import warnings\n",
    "\n",
    "import numpy as np\n",
    "import pandas as pd\n",
    "\n",
    "import matplotlib.pyplot as plt\n",
    "import seaborn as sns\n",
    "sns.set_style(\"darkgrid\")\n",
    "\n",
    "from sklearn.model_selection import train_test_split\n",
    "from sklearn.preprocessing import StandardScaler\n",
    "from sklearn.decomposition import PCA, KernelPCA\n",
    "from sklearn.metrics import accuracy_score, matthews_corrcoef\n",
    "from sklearn.model_selection import cross_val_score, cross_validate, StratifiedKFold\n",
    "\n",
    "\n",
    "from imblearn.pipeline import Pipeline\n",
    "from imblearn.combine import SMOTEENN, SMOTETomek\n",
    "from imblearn.over_sampling import SMOTE\n",
    "from imblearn.under_sampling import RandomUnderSampler\n",
    "\n",
    "from xgboost import XGBClassifier, XGBRFClassifier\n",
    "\n",
    "sys.path.append(\"../../\")\n",
    "\n",
    "from helpers.split import make_train_test_split, tag_label_feature_split\n",
    "from helpers.assess import make_classification_report, make_confusion_matrix\n",
    "\n",
    "DATASET_FOLDER = \"../../datasets/\""
   ]
  },
  {
   "cell_type": "code",
   "execution_count": 108,
   "id": "cb333121-e563-49ad-b6b4-0bf566351626",
   "metadata": {},
   "outputs": [],
   "source": [
    "# read a data set\n",
    "df = pd.read_pickle(DATASET_FOLDER + \"dataset_01_mean.pickle\")"
   ]
  },
  {
   "cell_type": "code",
   "execution_count": 109,
   "id": "14c39c54-bdfb-43b5-a96c-2dff2601af76",
   "metadata": {},
   "outputs": [],
   "source": [
    "# get labels, a label encoder and features\n",
    "_, (y, le), X = tag_label_feature_split(df, label_format=\"encoded\", samples_per_genre=350)"
   ]
  },
  {
   "cell_type": "code",
   "execution_count": 110,
   "id": "0c0a9f76",
   "metadata": {},
   "outputs": [
    {
     "data": {
      "text/plain": [
       "7    350\n",
       "9    350\n",
       "1    350\n",
       "8    350\n",
       "0    350\n",
       "4    350\n",
       "6    350\n",
       "5    350\n",
       "2    350\n",
       "3    350\n",
       "dtype: int64"
      ]
     },
     "execution_count": 110,
     "metadata": {},
     "output_type": "execute_result"
    }
   ],
   "source": [
    "pd.Series(y).value_counts()"
   ]
  },
  {
   "cell_type": "code",
   "execution_count": 111,
   "id": "ece1cb8a-f796-4873-9050-3cb71fcd3166",
   "metadata": {},
   "outputs": [
    {
     "name": "stdout",
     "output_type": "stream",
     "text": [
      "X.shape= (3500, 13) y.shape= (3500,)\n"
     ]
    }
   ],
   "source": [
    "# review the shapes\n",
    "print(f\"{X.shape= } {y.shape= }\")"
   ]
  },
  {
   "cell_type": "code",
   "execution_count": 112,
   "id": "23a14e1a",
   "metadata": {},
   "outputs": [],
   "source": [
    "# split the data for training and testing with shuffling and stratification\n",
    "X_train, X_test, y_train, y_test = train_test_split(\n",
    "    X, y, test_size=0.2, random_state=1962, shuffle=True, stratify=y\n",
    ")"
   ]
  },
  {
   "cell_type": "code",
   "execution_count": 113,
   "id": "61fb517c",
   "metadata": {},
   "outputs": [
    {
     "name": "stdout",
     "output_type": "stream",
     "text": [
      "X_train.shape = (2800, 13)\ty_train.shape = (2800,)\n",
      "X_test.shape =  (700, 13)\ty_test.shape =  (700,)\n"
     ]
    }
   ],
   "source": [
    "# review the shapes\n",
    "print(f\"{X_train.shape = }\\t{y_train.shape = }\")\n",
    "print(f\"{X_test.shape =  }\\t{y_test.shape =  }\")"
   ]
  },
  {
   "cell_type": "code",
   "execution_count": 114,
   "id": "e1a2e977",
   "metadata": {},
   "outputs": [
    {
     "data": {
      "image/png": "[encoded data removed]",
      "text/plain": [
       "<Figure size 800x400 with 1 Axes>"
      ]
     },
     "metadata": {},
     "output_type": "display_data"
    }
   ],
   "source": [
    "plt.figure(figsize=(8,4))\n",
    "plt.hist([y, y_train, y_test],\n",
    "         label=['y', 'y_train', 'y_test'])\n",
    "plt.xlabel(\"Genre ID\")\n",
    "plt.legend()\n",
    "plt.show()"
   ]
  },
  {
   "cell_type": "code",
   "execution_count": 115,
   "metadata": {},
   "outputs": [],
   "source": [
    "scaler = StandardScaler()\n",
    "X_train_scaled = scaler.fit_transform(X_train)\n",
    "X_test_scaled = scaler.transform(X_test)\n",
    "\n",
    "pca=PCA(random_state=1962, n_components=.95)\n",
    "X_train_pca = pca.fit_transform(X_train_scaled)\n",
    "X_test_pca = pca.transform(X_test_scaled)"
   ]
  },
  {
   "cell_type": "code",
   "execution_count": 124,
   "metadata": {},
   "outputs": [
    {
     "name": "stdout",
     "output_type": "stream",
     "text": [
      "resample\n",
      "create classifier\n",
      "resample\n",
      "create classifier\n",
      "resample\n",
      "create classifier\n",
      "resample\n",
      "create classifier\n",
      "resample\n",
      "create classifier\n"
     ]
    }
   ],
   "source": [
    "skf = StratifiedKFold(n_splits=5, shuffle=True, random_state=1962)\n",
    "\n",
    "classifiers = []\n",
    "\n",
    "for train_idx, validate_idx in skf.split(X_train, y_train):\n",
    "    X_fold_train, X_fold_validate = X_train_scaled[train_idx], X_train_scaled[validate_idx]\n",
    "    y_fold_train, y_fold_validate = y[train_idx], y[validate_idx]\n",
    "    \n",
    "#    smt = SMOTETomek(random_state=1962, n_jobs=-1)\n",
    "#    smt = SMOTE(random_state=1962, n_jobs=--1)\n",
    "    \n",
    "    print (\"resample\")\n",
    "#    X_fold_train_resampled, y_fold_train_resampled = smt.fit_resample(X_fold_train, y_fold_train)\n",
    "\n",
    "    X_fold_train_resampled = X_fold_train\n",
    "    y_fold_train_resampled = y_fold_train\n",
    "    \n",
    "    print (\"create classifier\")\n",
    "    classifier = XGBClassifier(\n",
    "#        learning_rate=.221461,\n",
    "#        n_estimators=827,\n",
    "#        max_depth=4,\n",
    "#        gamma=.524969,\n",
    "#        reg_alpha=4.327827,\n",
    "        use_label_encoder=False,\n",
    "        tree_method=\"gpu_hist\",\n",
    "        sampling_method=\"gradient_based\",\n",
    "        objective=\"multi:softprob\",\n",
    "        eval_metric=[\"mlogloss\", \"auc\"], \n",
    "        early_stopping_rounds=10,\n",
    "        seed=1962,\n",
    "    )\n",
    "\n",
    "    eval_set = [(X_fold_train_resampled, y_fold_train_resampled), (X_fold_validate, y_fold_validate)]\n",
    "    classifier.fit(X_fold_train_resampled, y_fold_train_resampled,\n",
    "                   \n",
    "                   eval_set=eval_set, \n",
    "                   verbose=False)\n",
    "    \n",
    "    classifiers.append(classifier)\n",
    "    "
   ]
  },
  {
   "cell_type": "code",
   "execution_count": 125,
   "metadata": {},
   "outputs": [
    {
     "name": "stdout",
     "output_type": "stream",
     "text": [
      "validation_0\n",
      "validation_1\n"
     ]
    }
   ],
   "source": [
    "test_model = classifiers[4]\n",
    "test_model_results = test_model.evals_result()\n",
    "for key, val in test_model_results.items():\n",
    "    print(key)"
   ]
  },
  {
   "cell_type": "code",
   "execution_count": 126,
   "metadata": {},
   "outputs": [],
   "source": [
    "train_results=test_model_results['validation_0']\n",
    "test_results=test_model_results['validation_1']"
   ]
  },
  {
   "cell_type": "code",
   "execution_count": 127,
   "metadata": {},
   "outputs": [
    {
     "data": {
      "image/png": "[encoded data removed]",
      "text/plain": [
       "<Figure size 640x480 with 1 Axes>"
      ]
     },
     "metadata": {},
     "output_type": "display_data"
    }
   ],
   "source": [
    "plt.plot(train_results['mlogloss'], label='train')\n",
    "plt.plot(test_results['mlogloss'], label='test')\n",
    "plt.legend()\n",
    "plt.show()"
   ]
  },
  {
   "cell_type": "code",
   "execution_count": 128,
   "metadata": {},
   "outputs": [
    {
     "data": {
      "image/png": "[encoded data removed]",
      "text/plain": [
       "<Figure size 640x480 with 1 Axes>"
      ]
     },
     "metadata": {},
     "output_type": "display_data"
    }
   ],
   "source": [
    "plt.plot(train_results['auc'], label='train')\n",
    "plt.plot(test_results['auc'], label='test')\n",
    "plt.legend()\n",
    "plt.show()"
   ]
  },
  {
   "cell_type": "code",
   "execution_count": 129,
   "metadata": {},
   "outputs": [
    {
     "data": {
      "text/plain": [
       "0.09571428571428571"
      ]
     },
     "execution_count": 129,
     "metadata": {},
     "output_type": "execute_result"
    }
   ],
   "source": [
    "accuracy_score(y_test, test_model.predict(X_test_scaled))"
   ]
  },
  {
   "cell_type": "code",
   "execution_count": 130,
   "metadata": {},
   "outputs": [
    {
     "data": {
      "text/plain": [
       "-0.004843288017762267"
      ]
     },
     "execution_count": 130,
     "metadata": {},
     "output_type": "execute_result"
    }
   ],
   "source": [
    "matthews_corrcoef(y_test, test_model.predict(X_test_scaled))"
   ]
  },
  {
   "cell_type": "code",
   "execution_count": null,
   "metadata": {},
   "outputs": [],
   "source": []
  }
 ],
 "metadata": {
  "kernelspec": {
   "display_name": "Python 3",
   "language": "python",
   "name": "python3"
  },
  "language_info": {
   "codemirror_mode": {
    "name": "ipython",
    "version": 3
   },
   "file_extension": ".py",
   "mimetype": "text/x-python",
   "name": "python",
   "nbconvert_exporter": "python",
   "pygments_lexer": "ipython3",
   "version": "3.8.10"
  }
 },
 "nbformat": 4,
 "nbformat_minor": 5
}
