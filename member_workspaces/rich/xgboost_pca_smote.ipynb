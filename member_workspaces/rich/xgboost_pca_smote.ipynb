{
 "cells": [
  {
   "cell_type": "code",
   "execution_count": 17,
   "id": "0b0fa2d6-cb14-41dc-bcee-68bdbb430d82",
   "metadata": {},
   "outputs": [],
   "source": [
    "import sys\n",
    "\n",
    "import numpy as np\n",
    "import pandas as pd\n",
    "\n",
    "import matplotlib.pyplot as plt\n",
    "import seaborn as sns\n",
    "sns.set_style(\"darkgrid\")\n",
    "\n",
    "from sklearn.model_selection import train_test_split\n",
    "from sklearn.pipeline import Pipeline\n",
    "from sklearn.preprocessing import StandardScaler\n",
    "from sklearn.decomposition import PCA, KernelPCA\n",
    "from sklearn.metrics import accuracy_score, matthews_corrcoef\n",
    "from sklearn.model_selection import cross_val_score, cross_validate, KFold\n",
    "\n",
    "from imblearn.combine import SMOTEENN, SMOTETomek\n",
    "from imblearn.over_sampling import SMOTE\n",
    "from imblearn.under_sampling import EditedNearestNeighbours\n",
    "\n",
    "from xgboost import XGBClassifier, XGBRFClassifier\n",
    "\n",
    "sys.path.append(\"../../../\")\n",
    "\n",
    "from helpers.split import make_train_test_split, tag_label_feature_split\n",
    "from helpers.assess import make_classification_report, make_confusion_matrix\n",
    "\n",
    "DATASET_FOLDER = \"../../../datasets/\""
   ]
  },
  {
   "cell_type": "code",
   "execution_count": 2,
   "id": "cb333121-e563-49ad-b6b4-0bf566351626",
   "metadata": {},
   "outputs": [],
   "source": [
    "# read a data set\n",
    "df = pd.read_pickle(DATASET_FOLDER + \"dataset_01_mean.pickle\")"
   ]
  },
  {
   "cell_type": "code",
   "execution_count": 3,
   "id": "14c39c54-bdfb-43b5-a96c-2dff2601af76",
   "metadata": {},
   "outputs": [],
   "source": [
    "# get labels, a label encoder and features\n",
    "_, (y, le), X = tag_label_feature_split(df, label_format=\"encoded\")"
   ]
  },
  {
   "cell_type": "code",
   "execution_count": 4,
   "metadata": {},
   "outputs": [
    {
     "data": {
      "text/plain": [
       "7    5343\n",
       "1    5276\n",
       "9    4000\n",
       "4    2126\n",
       "5    1552\n",
       "8     985\n",
       "6     831\n",
       "0     468\n",
       "2     409\n",
       "3     361\n",
       "dtype: int64"
      ]
     },
     "execution_count": 4,
     "metadata": {},
     "output_type": "execute_result"
    }
   ],
   "source": [
    "pd.Series(y).value_counts()"
   ]
  },
  {
   "cell_type": "code",
   "execution_count": 5,
   "id": "ece1cb8a-f796-4873-9050-3cb71fcd3166",
   "metadata": {},
   "outputs": [
    {
     "name": "stdout",
     "output_type": "stream",
     "text": [
      "X.shape= (21351, 13) y.shape= (21351,)\n"
     ]
    }
   ],
   "source": [
    "# review the shapes\n",
    "print(f\"{X.shape= } {y.shape= }\")"
   ]
  },
  {
   "cell_type": "code",
   "execution_count": 6,
   "metadata": {},
   "outputs": [],
   "source": [
    "# split the data for training and testing with shuffling and stratification\n",
    "X_train, X_test, y_train, y_test = train_test_split(\n",
    "    X, y, test_size=0.2, random_state=10, shuffle=True, stratify=y, \n",
    ")"
   ]
  },
  {
   "cell_type": "code",
   "execution_count": 7,
   "metadata": {},
   "outputs": [
    {
     "name": "stdout",
     "output_type": "stream",
     "text": [
      "X_train.shape = (17080, 13)\ty_train.shape = (17080,)\n",
      "X_test.shape =  (4271, 13)\ty_test.shape =  (4271,)\n"
     ]
    }
   ],
   "source": [
    "# review the shapes\n",
    "print(f\"{X_train.shape = }\\t{y_train.shape = }\")\n",
    "print(f\"{X_test.shape =  }\\t{y_test.shape =  }\")"
   ]
  },
  {
   "cell_type": "code",
   "execution_count": 8,
   "metadata": {},
   "outputs": [
    {
     "data": {
      "image/png": "[encoded data removed]",
      "text/plain": [
       "<Figure size 800x400 with 1 Axes>"
      ]
     },
     "metadata": {},
     "output_type": "display_data"
    }
   ],
   "source": [
    "plt.figure(figsize=(8,4))\n",
    "plt.hist([y, y_train, y_test],\n",
    "         label=['y', 'y_train', 'y_test'])\n",
    "plt.xlabel(\"Genre ID\")\n",
    "plt.legend()\n",
    "plt.show()"
   ]
  },
  {
   "cell_type": "code",
   "execution_count": 9,
   "metadata": {},
   "outputs": [],
   "source": [
    "scaler=StandardScaler()\n",
    "#pca=KernelPCA(random_state=1962, n_components=200, n_jobs=-1)\n",
    "#pca=PCA(random_state=1962, n_components=.85)\n",
    "#pipe = Pipeline([('scaler', scaler),\n",
    "#                 ('pca', pca)\n",
    "#                ])\n",
    "\n",
    "#No pipe -- just scale the features\n",
    "pipe=scaler"
   ]
  },
  {
   "cell_type": "code",
   "execution_count": 10,
   "metadata": {},
   "outputs": [],
   "source": [
    "# run the scaling/PCA extraction pipe\n",
    "X_train_pca = pipe.fit_transform(X_train)\n",
    "X_test_pca = pipe.transform(X_test)"
   ]
  },
  {
   "cell_type": "code",
   "execution_count": 11,
   "id": "2c1296a1-a68e-409a-8063-84908eafcb96",
   "metadata": {},
   "outputs": [
    {
     "name": "stdout",
     "output_type": "stream",
     "text": [
      "X_train_pca.shape= (17080, 13) X_test_pca.shape= (4271, 13)\n"
     ]
    }
   ],
   "source": [
    "# review the shapes\n",
    "print(f\"{X_train_pca.shape= } {X_test_pca.shape= }\")"
   ]
  },
  {
   "cell_type": "code",
   "execution_count": 12,
   "id": "40c68fc0-c85d-40d8-ac30-cf33dd84694c",
   "metadata": {},
   "outputs": [],
   "source": [
    "# Use SMOTE or SMOTE variant to resample the training data\n",
    "\n",
    "#smt = SMOTE (random_state=1962, n_jobs=-1)\n",
    "\n",
    "#enn = EditedNearestNeighbours(kind_sel='mode', n_neighbors=3, n_jobs=-1)\n",
    "#smt = SMOTEENN (random_state=1962, enn=enn)\n",
    "\n",
    "#smt = SMOTETomek(random_state=1962, n_jobs=-1)\n",
    "\n",
    "#X_train_resampled, y_train_resampled = smt.fit_resample(X_train_pca, y_train)\n",
    "\n",
    "# Pass through, no resampling, this is our baseline\n",
    "X_train_resampled, y_train_resampled = X_train_pca, y_train"
   ]
  },
  {
   "cell_type": "code",
   "execution_count": 13,
   "id": "11172bfb-2863-4394-987e-c9f94c7d8f78",
   "metadata": {},
   "outputs": [
    {
     "name": "stdout",
     "output_type": "stream",
     "text": [
      "[[   0  374]\n",
      " [   1 4221]\n",
      " [   2  327]\n",
      " [   3  289]\n",
      " [   4 1701]\n",
      " [   5 1241]\n",
      " [   6  665]\n",
      " [   7 4274]\n",
      " [   8  788]\n",
      " [   9 3200]]\n"
     ]
    }
   ],
   "source": [
    "unique, counts = np.unique(y_train_resampled, return_counts=True)\n",
    "print(np.asarray((unique, counts)).T)"
   ]
  },
  {
   "cell_type": "code",
   "execution_count": 14,
   "id": "97455827-b49b-400d-a64e-2a16ebda42e4",
   "metadata": {},
   "outputs": [
    {
     "data": {
      "image/png": "[encoded data removed]",
      "text/plain": [
       "<Figure size 800x400 with 1 Axes>"
      ]
     },
     "metadata": {},
     "output_type": "display_data"
    }
   ],
   "source": [
    "plt.figure(figsize=(8,4))\n",
    "plt.hist([y_train, y_train_resampled],\n",
    "         label=['y_train', 'y_train_resampled'])\n",
    "plt.xlabel(\"Genre ID\")\n",
    "plt.legend()\n",
    "plt.show()"
   ]
  },
  {
   "cell_type": "markdown",
   "metadata": {},
   "source": [
    "**Preliminary Baseline**"
   ]
  },
  {
   "cell_type": "code",
   "execution_count": 15,
   "metadata": {},
   "outputs": [],
   "source": [
    "model = XGBClassifier(\n",
    "    use_label_encoder=False,\n",
    "    tree_method='gpu_hist', \n",
    "    eta=.05,\n",
    "    max_depth=6,\n",
    "    reg_alpha=10,\n",
    "    sampling_method='gradient_based',\n",
    "    objective=\"multi:softprob\", \n",
    "    eval_metric=\"mlogloss\",\n",
    "    seed=1962,\n",
    ")"
   ]
  },
  {
   "cell_type": "code",
   "execution_count": null,
   "id": "5ddb6d30-b488-4de9-8fa4-1b8d8e488985",
   "metadata": {},
   "outputs": [],
   "source": [
    "# Let's just fit the model on our training data\n",
    "model.fit(X_train_resampled, y_train_resampled)"
   ]
  },
  {
   "cell_type": "code",
   "execution_count": 16,
   "metadata": {},
   "outputs": [
    {
     "name": "stdout",
     "output_type": "stream",
     "text": [
      "Mean train cross-validation mcc score: 0.4203\n"
     ]
    }
   ],
   "source": [
    "scores = \n",
    "print(\"Mean train cross-validation mcc score: %.4f\" % scores.mean())"
   ]
  },
  {
   "cell_type": "code",
   "execution_count": null,
   "metadata": {},
   "outputs": [],
   "source": [
    "y_pred=model.predict(X_test_pca)"
   ]
  },
  {
   "cell_type": "code",
   "execution_count": 38,
   "metadata": {},
   "outputs": [
    {
     "data": {
      "text/plain": [
       "{'fit_time': array([1.79787016, 1.79496908]),\n",
       " 'score_time': array([0.02035999, 0.02016592]),\n",
       " 'test_matthews_corrcoef': array([0.41262651, 0.41483174]),\n",
       " 'test_f1_macro': array([0.29201674, 0.2819408 ]),\n",
       " 'test_accuracy': array([0.53255269, 0.53477752]),\n",
       " 'test_precision_macro': array([0.40829651, 0.33648209]),\n",
       " 'test_recall_macro': array([0.28448731, 0.28175604])}"
      ]
     },
     "execution_count": 38,
     "metadata": {},
     "output_type": "execute_result"
    }
   ],
   "source": [
    "import json\n",
    "import warnings\n",
    "\n",
    "scoring=['matthews_corrcoef', 'f1_macro', 'accuracy', 'precision_macro', 'recall_macro']\n",
    "\n",
    "with warnings.catch_warnings():\n",
    "    warnings.simplefilter('ignore')\n",
    "    scores = cross_validate (model, X_train_resampled, y_train_resampled, scoring=scoring, cv=2, error_score=0)\n",
    "\n",
    "scores"
   ]
  },
  {
   "cell_type": "code",
   "execution_count": 39,
   "metadata": {},
   "outputs": [
    {
     "data": {
      "text/plain": [
       "{'matthews_corrcoef': 0.41372912509972193,\n",
       " 'f1_macro': 0.28697877151865614,\n",
       " 'accuracy': 0.5336651053864169,\n",
       " 'precision_macro': 0.3723892973468411,\n",
       " 'recall_macro': 0.2831216743215845}"
      ]
     },
     "execution_count": 39,
     "metadata": {},
     "output_type": "execute_result"
    }
   ],
   "source": [
    "{key.strip(\"test_\"): value.mean() for key, value in scores.items() if \"test\" in key}"
   ]
  },
  {
   "cell_type": "code",
   "execution_count": 32,
   "metadata": {},
   "outputs": [
    {
     "data": {
      "text/plain": [
       "'{\"matthews_corrcoef\": 0.41372912509972193, \"f1_macro\": 0.28697877151865614, \"accuracy\": 0.5336651053864169}'"
      ]
     },
     "execution_count": 32,
     "metadata": {},
     "output_type": "execute_result"
    }
   ],
   "source": [
    "import json\n",
    "json.dumps({key.strip(\"test_\"): value.mean() for key, value in scores.items() if \"test\" in key})"
   ]
  },
  {
   "cell_type": "code",
   "execution_count": null,
   "metadata": {},
   "outputs": [],
   "source": [
    "print(f\"Training accuracy\")\n",
    "make_classification_report(\n",
    "    y_train_resampled,\n",
    "    model=model,\n",
    "    x=X_train_resampled,\n",
    "    digits=4,\n",
    "    label_encoder=le,\n",
    "    print_report=True,\n",
    "    save_result=True,\n",
    "    result_filename=\"rich_xgboost_results.json\",\n",
    "    model_name=\"XGBClassifier_baseline\",\n",
    "    dataset_name=\"dataset_00_all\",\n",
    "    phase=\"train\",\n",
    "    repeat=True,\n",
    "    )\n",
    "print(f\"\\nTesting accuracy\")\n",
    "make_classification_report(\n",
    "    y_test,\n",
    "    y_pred=y_pred,\n",
    "    digits=4,\n",
    "    label_encoder=le,\n",
    "    print_report=True,\n",
    "    save_result=True,\n",
    "    result_filename=\"rich_xgboost_results.json\",\n",
    "    model_name=\"XGBClassifier_baseline\",\n",
    "    dataset_name=\"dataset_00_all\",\n",
    "    phase=\"test\",\n",
    "    repeat=True,\n",
    "    )\n",
    "pass"
   ]
  },
  {
   "cell_type": "code",
   "execution_count": null,
   "metadata": {},
   "outputs": [],
   "source": [
    "dataset_name=\"Preliminary Baseline\"\n",
    "make_confusion_matrix(\n",
    "    y_test,\n",
    "    y_pred=y_pred,\n",
    "    label_encoder=le,\n",
    "    title=f\"{dataset_name} test (row normalized)\",\n",
    ")\n",
    "pass"
   ]
  },
  {
   "cell_type": "markdown",
   "metadata": {},
   "source": [
    "**Optimized Model**"
   ]
  },
  {
   "cell_type": "code",
   "execution_count": null,
   "metadata": {},
   "outputs": [],
   "source": [
    "model = XGBClassifier(\n",
    "    \n",
    "    learning_rate= 0.11484036953359722,\n",
    "    gamma = 0.327162074525032, \n",
    "    max_depth = 8, \n",
    "    n_estimators = 427, \n",
    "    reg_alpha= 6.88045418099, \n",
    "    use_label_encoder=False,\n",
    "    tree_method='gpu_hist', \n",
    "    sampling_method='gradient_based',\n",
    "    objective=\"multi:softprob\", \n",
    "    eval_metric=\"mlogloss\",\n",
    "    seed=1962,\n",
    ")"
   ]
  },
  {
   "cell_type": "code",
   "execution_count": null,
   "metadata": {},
   "outputs": [],
   "source": [
    "model.fit(X_train_resampled, y_train_resampled)"
   ]
  },
  {
   "cell_type": "code",
   "execution_count": null,
   "metadata": {},
   "outputs": [],
   "source": [
    "scores = cross_val_score(model, X_train_resampled, y_train_resampled, \n",
    "                         scoring=\"matthews_corrcoef\", cv=5,  n_jobs=-1, )\n",
    "print(\"Mean train cross-validation mcc score: %.4f\" % scores.mean())"
   ]
  },
  {
   "cell_type": "code",
   "execution_count": null,
   "metadata": {},
   "outputs": [],
   "source": [
    "y_pred=model.predict(X_test_pca)"
   ]
  },
  {
   "cell_type": "code",
   "execution_count": null,
   "metadata": {},
   "outputs": [],
   "source": [
    "print(f\"Training accuracy\")\n",
    "make_classification_report(\n",
    "    y_train_resampled,\n",
    "    model=model,\n",
    "    x=X_train_resampled,\n",
    "    digits=4,\n",
    "    label_encoder=le,\n",
    "    print_report=True,\n",
    "    save_result=True,\n",
    "    result_filename=\"rich_xgboost_results.json\",\n",
    "    model_name=\"XGBClassifier_baseline_tuned\",\n",
    "    dataset_name=\"dataset_00_all\",\n",
    "    phase=\"train\",\n",
    "    repeat=True,\n",
    "    )\n",
    "print(f\"\\nTesting accuracy\")\n",
    "make_classification_report(\n",
    "    y_test,\n",
    "    y_pred=y_pred,\n",
    "    digits=4,\n",
    "    label_encoder=le,\n",
    "    print_report=True,\n",
    "    save_result=True,\n",
    "    result_filename=\"rich_xgboost_results.json\",\n",
    "    model_name=\"XGBClassifier_baseline_tuned\",\n",
    "    dataset_name=\"dataset_00_all\",\n",
    "    phase=\"test\",\n",
    "    repeat=True,\n",
    "    )\n",
    "pass"
   ]
  },
  {
   "cell_type": "code",
   "execution_count": null,
   "metadata": {},
   "outputs": [],
   "source": [
    "dataset_name=\"Optimized Baseline\"\n",
    "make_confusion_matrix(\n",
    "    y_test,\n",
    "    y_pred=y_pred,\n",
    "    label_encoder=le,\n",
    "    title=f\"{dataset_name} test (row normalized)\",\n",
    ")\n",
    "pass"
   ]
  }
 ],
 "metadata": {
  "kernelspec": {
   "display_name": "Python 3",
   "language": "python",
   "name": "python3"
  },
  "language_info": {
   "codemirror_mode": {
    "name": "ipython",
    "version": 3
   },
   "file_extension": ".py",
   "mimetype": "text/x-python",
   "name": "python",
   "nbconvert_exporter": "python",
   "pygments_lexer": "ipython3",
   "version": "3.8.10"
  }
 },
 "nbformat": 4,
 "nbformat_minor": 5
}
