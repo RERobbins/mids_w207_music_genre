{
 "cells": [
  {
   "cell_type": "code",
   "execution_count": 1,
   "id": "0b0fa2d6-cb14-41dc-bcee-68bdbb430d82",
   "metadata": {},
   "outputs": [],
   "source": [
    "import sys\n",
    "import warnings\n",
    "\n",
    "import numpy as np\n",
    "import pandas as pd\n",
    "\n",
    "import matplotlib.pyplot as plt\n",
    "import seaborn as sns\n",
    "sns.set_style(\"darkgrid\")\n",
    "\n",
    "from sklearn.model_selection import train_test_split\n",
    "from sklearn.preprocessing import StandardScaler\n",
    "from sklearn.metrics import accuracy_score, matthews_corrcoef\n",
    "from sklearn.model_selection import cross_val_score, cross_validate, StratifiedKFold\n",
    "\n",
    "from imblearn.pipeline import Pipeline\n",
    "from imblearn.combine import SMOTEENN, SMOTETomek\n",
    "from imblearn.over_sampling import SMOTE\n",
    "\n",
    "from xgboost import XGBClassifier, XGBRFClassifier\n",
    "\n",
    "sys.path.append(\"../../\")\n",
    "\n",
    "from helpers.split import tag_label_feature_split\n",
    "from helpers.assess import make_classification_report, make_confusion_matrix\n",
    "\n",
    "DATASET_FOLDER = \"../../datasets/\""
   ]
  },
  {
   "cell_type": "code",
   "execution_count": 2,
   "metadata": {},
   "outputs": [],
   "source": [
    "# read a data set\n",
    "df = pd.read_pickle(DATASET_FOLDER + \"dataset_00_all.pickle\")"
   ]
  },
  {
   "cell_type": "code",
   "execution_count": 3,
   "id": "14c39c54-bdfb-43b5-a96c-2dff2601af76",
   "metadata": {},
   "outputs": [],
   "source": [
    "# get labels, a label encoder and features\n",
    "_, (y, le), X = tag_label_feature_split(df, label_format=\"encoded\")"
   ]
  },
  {
   "cell_type": "code",
   "execution_count": 4,
   "metadata": {},
   "outputs": [],
   "source": [
    "# split the data for training and testing with shuffling and stratification\n",
    "X_train, X_test, y_train, y_test = train_test_split(\n",
    "    X, y, test_size=0.2, random_state=1962, shuffle=True, stratify=y\n",
    ")"
   ]
  },
  {
   "cell_type": "code",
   "execution_count": 5,
   "metadata": {},
   "outputs": [],
   "source": [
    "# standardize the features\n",
    "scaler = StandardScaler()\n",
    "X_train_scaled = scaler.fit_transform(X_train)\n",
    "X_test_scaled = scaler.transform(X_test)"
   ]
  },
  {
   "cell_type": "code",
   "execution_count": null,
   "metadata": {},
   "outputs": [],
   "source": [
    "skf = StratifiedKFold(n_splits=5, shuffle=True, random_state=1962)\n",
    "\n",
    "classifiers = []\n",
    "\n",
    "for train_idx, validate_idx in skf.split(X_train, y_train):\n",
    "    X_fold_train, X_fold_validate = X_train_scaled[train_idx], X_train_scaled[validate_idx]\n",
    "    y_fold_train, y_fold_validate = y[train_idx], y[validate_idx]\n",
    "    \n",
    "    smt = SMOTETomek(random_state=1962, n_jobs=-1)\n",
    "   \n",
    "    print (\"resample\")\n",
    "    X_fold_train_resampled, y_fold_train_resampled = smt.fit_resample(X_fold_train, y_fold_train)\n",
    "   \n",
    "    print (\"create classifier\")\n",
    "    classifier = XGBClassifier(\n",
    "        learning_rate=.221461,\n",
    "        n_estimators=827,\n",
    "        max_depth=4,\n",
    "        gamma=.524969,\n",
    "        reg_alpha=4.327827,\n",
    "        use_label_encoder=False,\n",
    "        tree_method=\"gpu_hist\",\n",
    "        sampling_method=\"gradient_based\",\n",
    "        objective=\"multi:softprob\",\n",
    "        eval_metric=[\"mlogloss\", \"auc\"], \n",
    "        early_stopping_rounds=40,\n",
    "        seed=1962,\n",
    "    )\n",
    "\n",
    "    eval_set = [(X_fold_train_resampled, y_fold_train_resampled), (X_fold_validate, y_fold_validate)]\n",
    "    classifier.fit(X_fold_train_resampled, y_fold_train_resampled,\n",
    "                   eval\n",
    "                   eval_set=eval_set, \n",
    "                   verbose=False)\n",
    "    \n",
    "    classifiers.append(classifier)\n",
    "    "
   ]
  },
  {
   "cell_type": "code",
   "execution_count": null,
   "metadata": {},
   "outputs": [],
   "source": [
    "test_model = classifiers[4]\n",
    "test_model_results = test_model.evals_result()\n",
    "for key, val in test_model_results.items():\n",
    "    print(key)"
   ]
  },
  {
   "cell_type": "code",
   "execution_count": null,
   "metadata": {},
   "outputs": [],
   "source": [
    "train_results=test_model_results['validation_0']\n",
    "test_results=test_model_results['validation_1']"
   ]
  },
  {
   "cell_type": "code",
   "execution_count": null,
   "metadata": {},
   "outputs": [],
   "source": [
    "plt.plot(train_results['mlogloss'], label='train')\n",
    "plt.plot(test_results['mlogloss'], label='test')\n",
    "plt.legend()\n",
    "plt.show()"
   ]
  },
  {
   "cell_type": "code",
   "execution_count": null,
   "metadata": {},
   "outputs": [],
   "source": [
    "plt.plot(train_results['auc'], label='train')\n",
    "plt.plot(test_results['auc'], label='test')\n",
    "plt.legend()\n",
    "plt.show()"
   ]
  },
  {
   "cell_type": "code",
   "execution_count": null,
   "metadata": {},
   "outputs": [],
   "source": [
    "accuracy_score(y_test, test_model.predict(X_test_scaled))"
   ]
  },
  {
   "cell_type": "code",
   "execution_count": null,
   "metadata": {},
   "outputs": [],
   "source": [
    "matthews_corrcoef(y_test, test_model.predict(X_test_scaled))"
   ]
  },
  {
   "cell_type": "code",
   "execution_count": null,
   "metadata": {},
   "outputs": [],
   "source": []
  }
 ],
 "metadata": {
  "kernelspec": {
   "display_name": "Python 3",
   "language": "python",
   "name": "python3"
  },
  "language_info": {
   "codemirror_mode": {
    "name": "ipython",
    "version": 3
   },
   "file_extension": ".py",
   "mimetype": "text/x-python",
   "name": "python",
   "nbconvert_exporter": "python",
   "pygments_lexer": "ipython3",
   "version": "3.8.10"
  }
 },
 "nbformat": 4,
 "nbformat_minor": 5
}
