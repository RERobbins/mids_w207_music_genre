{
 "cells": [
  {
   "cell_type": "code",
   "execution_count": 1,
   "id": "0b0fa2d6-cb14-41dc-bcee-68bdbb430d82",
   "metadata": {},
   "outputs": [],
   "source": [
    "import sys\n",
    "import warnings\n",
    "\n",
    "import numpy as np\n",
    "import pandas as pd\n",
    "\n",
    "import matplotlib.pyplot as plt\n",
    "import seaborn as sns\n",
    "sns.set_style(\"darkgrid\")\n",
    "\n",
    "from sklearn.model_selection import train_test_split\n",
    "from sklearn.preprocessing import StandardScaler\n",
    "from sklearn.decomposition import PCA\n",
    "from sklearn.metrics import accuracy_score, matthews_corrcoef\n",
    "from sklearn.model_selection import cross_val_score, cross_validate, StratifiedKFold\n",
    "\n",
    "from imblearn.pipeline import Pipeline\n",
    "from imblearn.combine import SMOTEENN, SMOTETomek\n",
    "from imblearn.over_sampling import SMOTE\n",
    "from imblearn.under_sampling import RandomUnderSampler\n",
    "\n",
    "from xgboost import XGBClassifier, XGBRFClassifier\n",
    "\n",
    "sys.path.append(\"../../\")\n",
    "\n",
    "from helpers.split import tag_label_feature_split\n",
    "from helpers.assess import make_classification_report, make_confusion_matrix\n",
    "\n",
    "DATASET_FOLDER = \"../../datasets/\""
   ]
  },
  {
   "cell_type": "markdown",
   "metadata": {},
   "source": [
    "**MTG-Jamendo Dataset**\n",
    "\n",
    "Our project uses  the MTG-Jamendo dataset.\n",
    "\n",
    "It is built using music available at Jamendo under Creative Commons licenses and tags provided by content uploaders. The dataset contains over 55,000 full audio tracks with 195 tags from genre, instrument, and mood/theme categories.\n",
    "\n",
    "As we describe in greater detail in our report, we limit our analysis to songs that are identified as belonging to exactly one of ten genres.  We eliminate songs in other genres.  We also eliminate songs labelled as belonging to more than one genre.\n",
    "\n",
    "After flattening arrays, the dataset includes 2,654 features excluding mel spectrogram data.  We considered several collections of features, for example, one collection included all features in the dataset other than the mel spectrograms, another version consisted of just the mel spectrogram data.  In addition we looked at nine other combinations of features.\n",
    "\n",
    "https://mtg.github.io/mtg-jamendo-dataset/"
   ]
  },
  {
   "cell_type": "markdown",
   "metadata": {},
   "source": [
    "**Exploratory Data Analysis**\n",
    "\n",
    "The genres within the scope of our project are:\n",
    "\n",
    "1. blues\n",
    "2. classical\n",
    "3. country\n",
    "4. disco\n",
    "5. hiphop\n",
    "6. jazz\n",
    "7. metal\n",
    "8. genre_pop\n",
    "9. reggae\n",
    "10. rock\n",
    "\n",
    "As noted above, we removed songs from the dataset that were labelled as being in other genres and we removed songs labelled as belonging to more than one of the genres listed above.\n",
    "\n",
    "The exploratory data analysis that follows is on the version of the dataset that includes all of the features other than mel spectrograms, which we handle separately.  We refer to this dataset as our **all features** dataset"
   ]
  },
  {
   "cell_type": "code",
   "execution_count": 28,
   "metadata": {},
   "outputs": [],
   "source": [
    "# read a data set\n",
    "df = pd.read_pickle(DATASET_FOLDER + \"dataset_00_all.pickle\")"
   ]
  },
  {
   "cell_type": "code",
   "execution_count": null,
   "metadata": {},
   "outputs": [],
   "source": [
    "BAS"
   ]
  },
  {
   "cell_type": "code",
   "execution_count": 3,
   "id": "14c39c54-bdfb-43b5-a96c-2dff2601af76",
   "metadata": {},
   "outputs": [],
   "source": [
    "# get labels, a label encoder and features\n",
    "_, (y, le), X = tag_label_feature_split(df, label_format=\"encoded\")"
   ]
  },
  {
   "cell_type": "code",
   "execution_count": 26,
   "id": "0c0a9f76",
   "metadata": {},
   "outputs": [
    {
     "data": {
      "text/plain": [
       "genre          \n",
       "genre_pop          5343\n",
       "genre_classical    5276\n",
       "genre_rock         4000\n",
       "genre_hiphop       2126\n",
       "genre_jazz         1552\n",
       "genre_reggae        985\n",
       "genre_metal         831\n",
       "genre_blues         468\n",
       "genre_country       409\n",
       "genre_disco         361\n",
       "dtype: int64"
      ]
     },
     "execution_count": 26,
     "metadata": {},
     "output_type": "execute_result"
    }
   ],
   "source": [
    "pd.DataFrame(le.inverse_transform(y), columns=['genre']).value_counts()"
   ]
  },
  {
   "cell_type": "code",
   "execution_count": 27,
   "id": "ece1cb8a-f796-4873-9050-3cb71fcd3166",
   "metadata": {},
   "outputs": [
    {
     "name": "stdout",
     "output_type": "stream",
     "text": [
      "X.shape= (21351, 2654) y.shape= (21351,)\n"
     ]
    }
   ],
   "source": [
    "# review the shapes\n",
    "print(f\"{X.shape= } {y.shape= }\")"
   ]
  },
  {
   "cell_type": "code",
   "execution_count": null,
   "metadata": {},
   "outputs": [],
   "source": [
    "pd.Series(le.inverse_transform(y)).value_counts()"
   ]
  },
  {
   "cell_type": "code",
   "execution_count": null,
   "id": "23a14e1a",
   "metadata": {},
   "outputs": [],
   "source": [
    "# split the data for training and testing with shuffling and stratification\n",
    "X_train, X_test, y_train, y_test = train_test_split(\n",
    "    X, y, test_size=0.2, random_state=1962, shuffle=True, stratify=y\n",
    ")"
   ]
  },
  {
   "cell_type": "code",
   "execution_count": null,
   "id": "61fb517c",
   "metadata": {},
   "outputs": [],
   "source": [
    "# review the shapes\n",
    "print(f\"{X_train.shape = }\\t{y_train.shape = }\")\n",
    "print(f\"{X_test.shape =  }\\t{y_test.shape =  }\")"
   ]
  },
  {
   "cell_type": "code",
   "execution_count": null,
   "id": "e1a2e977",
   "metadata": {},
   "outputs": [],
   "source": [
    "plt.figure(figsize=(8,4))\n",
    "plt.hist([y, y_train, y_test],\n",
    "         label=['y', 'y_train', 'y_test'])\n",
    "plt.xlabel(\"Genre ID\")\n",
    "plt.legend()\n",
    "plt.show()"
   ]
  },
  {
   "cell_type": "code",
   "execution_count": null,
   "metadata": {},
   "outputs": [],
   "source": [
    "scaler = StandardScaler()\n",
    "X_train_scaled = scaler.fit_transform(X_train)\n",
    "X_test_scaled = scaler.transform(X_test)\n",
    "\n",
    "pca=PCA(random_state=1962, n_components=.95)\n",
    "X_train_pca = pca.fit_transform(X_train_scaled)\n",
    "X_test_pca = pca.transform(X_test_scaled)"
   ]
  },
  {
   "cell_type": "code",
   "execution_count": null,
   "metadata": {},
   "outputs": [],
   "source": [
    "skf = StratifiedKFold(n_splits=5, shuffle=True, random_state=1962)\n",
    "\n",
    "classifiers = []\n",
    "\n",
    "for train_idx, validate_idx in skf.split(X_train, y_train):\n",
    "    X_fold_train, X_fold_validate = X_train_scaled[train_idx], X_train_scaled[validate_idx]\n",
    "    y_fold_train, y_fold_validate = y[train_idx], y[validate_idx]\n",
    "    \n",
    "#    smt = SMOTETomek(random_state=1962, n_jobs=-1)\n",
    "#    smt = SMOTE(random_state=1962, n_jobs=--1)\n",
    "    \n",
    "    print (\"resample\")\n",
    "#    X_fold_train_resampled, y_fold_train_resampled = smt.fit_resample(X_fold_train, y_fold_train)\n",
    "\n",
    "    X_fold_train_resampled = X_fold_train\n",
    "    y_fold_train_resampled = y_fold_train\n",
    "    \n",
    "    print (\"create classifier\")\n",
    "    classifier = XGBClassifier(\n",
    "#        learning_rate=.221461,\n",
    "#        n_estimators=827,\n",
    "#        max_depth=4,\n",
    "#        gamma=.524969,\n",
    "#        reg_alpha=4.327827,\n",
    "        use_label_encoder=False,\n",
    "        tree_method=\"gpu_hist\",\n",
    "        sampling_method=\"gradient_based\",\n",
    "        objective=\"multi:softprob\",\n",
    "        eval_metric=[\"mlogloss\", \"auc\"], \n",
    "        early_stopping_rounds=10,\n",
    "        seed=1962,\n",
    "    )\n",
    "\n",
    "    eval_set = [(X_fold_train_resampled, y_fold_train_resampled), (X_fold_validate, y_fold_validate)]\n",
    "    classifier.fit(X_fold_train_resampled, y_fold_train_resampled,\n",
    "                   \n",
    "                   eval_set=eval_set, \n",
    "                   verbose=False)\n",
    "    \n",
    "    classifiers.append(classifier)\n",
    "    "
   ]
  },
  {
   "cell_type": "code",
   "execution_count": null,
   "metadata": {},
   "outputs": [],
   "source": [
    "test_model = classifiers[4]\n",
    "test_model_results = test_model.evals_result()\n",
    "for key, val in test_model_results.items():\n",
    "    print(key)"
   ]
  },
  {
   "cell_type": "code",
   "execution_count": null,
   "metadata": {},
   "outputs": [],
   "source": [
    "train_results=test_model_results['validation_0']\n",
    "test_results=test_model_results['validation_1']"
   ]
  },
  {
   "cell_type": "code",
   "execution_count": null,
   "metadata": {},
   "outputs": [],
   "source": [
    "plt.plot(train_results['mlogloss'], label='train')\n",
    "plt.plot(test_results['mlogloss'], label='test')\n",
    "plt.legend()\n",
    "plt.show()"
   ]
  },
  {
   "cell_type": "code",
   "execution_count": null,
   "metadata": {},
   "outputs": [],
   "source": [
    "plt.plot(train_results['auc'], label='train')\n",
    "plt.plot(test_results['auc'], label='test')\n",
    "plt.legend()\n",
    "plt.show()"
   ]
  },
  {
   "cell_type": "code",
   "execution_count": null,
   "metadata": {},
   "outputs": [],
   "source": [
    "accuracy_score(y_test, test_model.predict(X_test_scaled))"
   ]
  },
  {
   "cell_type": "code",
   "execution_count": null,
   "metadata": {},
   "outputs": [],
   "source": [
    "matthews_corrcoef(y_test, test_model.predict(X_test_scaled))"
   ]
  },
  {
   "cell_type": "code",
   "execution_count": null,
   "metadata": {},
   "outputs": [],
   "source": []
  }
 ],
 "metadata": {
  "kernelspec": {
   "display_name": "Python 3",
   "language": "python",
   "name": "python3"
  },
  "language_info": {
   "codemirror_mode": {
    "name": "ipython",
    "version": 3
   },
   "file_extension": ".py",
   "mimetype": "text/x-python",
   "name": "python",
   "nbconvert_exporter": "python",
   "pygments_lexer": "ipython3",
   "version": "3.8.10"
  }
 },
 "nbformat": 4,
 "nbformat_minor": 5
}
