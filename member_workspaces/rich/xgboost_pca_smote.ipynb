{
 "cells": [
  {
   "cell_type": "code",
   "execution_count": 1,
   "id": "0b0fa2d6-cb14-41dc-bcee-68bdbb430d82",
   "metadata": {},
   "outputs": [
    {
     "name": "stderr",
     "output_type": "stream",
     "text": [
      "/Users/rerobbins/opt/anaconda3/envs/tf/lib/python3.9/site-packages/xgboost/compat.py:36: FutureWarning: pandas.Int64Index is deprecated and will be removed from pandas in a future version. Use pandas.Index with the appropriate dtype instead.\n",
      "  from pandas import MultiIndex, Int64Index\n"
     ]
    },
    {
     "ename": "ModuleNotFoundError",
     "evalue": "No module named 'helpers'",
     "output_type": "error",
     "traceback": [
      "\u001b[0;31m---------------------------------------------------------------------------\u001b[0m",
      "\u001b[0;31mModuleNotFoundError\u001b[0m                       Traceback (most recent call last)",
      "Input \u001b[0;32mIn [1]\u001b[0m, in \u001b[0;36m<cell line: 25>\u001b[0;34m()\u001b[0m\n\u001b[1;32m     21\u001b[0m \u001b[38;5;28;01mfrom\u001b[39;00m \u001b[38;5;21;01mxgboost\u001b[39;00m \u001b[38;5;28;01mimport\u001b[39;00m XGBClassifier, XGBRFClassifier\n\u001b[1;32m     23\u001b[0m sys\u001b[38;5;241m.\u001b[39mpath\u001b[38;5;241m.\u001b[39mappend(\u001b[38;5;124m\"\u001b[39m\u001b[38;5;124m../../../\u001b[39m\u001b[38;5;124m\"\u001b[39m)\n\u001b[0;32m---> 25\u001b[0m \u001b[38;5;28;01mfrom\u001b[39;00m \u001b[38;5;21;01mhelpers\u001b[39;00m\u001b[38;5;21;01m.\u001b[39;00m\u001b[38;5;21;01msplit\u001b[39;00m \u001b[38;5;28;01mimport\u001b[39;00m make_train_test_split, tag_label_feature_split\n\u001b[1;32m     26\u001b[0m \u001b[38;5;28;01mfrom\u001b[39;00m \u001b[38;5;21;01mhelpers\u001b[39;00m\u001b[38;5;21;01m.\u001b[39;00m\u001b[38;5;21;01massess\u001b[39;00m \u001b[38;5;28;01mimport\u001b[39;00m make_classification_report, make_confusion_matrix\n\u001b[1;32m     28\u001b[0m DATASET_FOLDER \u001b[38;5;241m=\u001b[39m \u001b[38;5;124m\"\u001b[39m\u001b[38;5;124m../../../datasets/\u001b[39m\u001b[38;5;124m\"\u001b[39m\n",
      "\u001b[0;31mModuleNotFoundError\u001b[0m: No module named 'helpers'"
     ]
    }
   ],
   "source": [
    "import sys\n",
    "\n",
    "import numpy as np\n",
    "import pandas as pd\n",
    "\n",
    "import matplotlib.pyplot as plt\n",
    "import seaborn as sns\n",
    "sns.set_style(\"darkgrid\")\n",
    "\n",
    "from sklearn.model_selection import train_test_split\n",
    "from sklearn.pipeline import Pipeline\n",
    "from sklearn.preprocessing import StandardScaler\n",
    "from sklearn.decomposition import PCA, KernelPCA\n",
    "from sklearn.metrics import accuracy_score, matthews_corrcoef\n",
    "from sklearn.model_selection import cross_val_score, cross_validate, KFold\n",
    "\n",
    "from imblearn.combine import SMOTEENN, SMOTETomek\n",
    "from imblearn.over_sampling import SMOTE\n",
    "from imblearn.under_sampling import EditedNearestNeighbours\n",
    "\n",
    "from xgboost import XGBClassifier, XGBRFClassifier\n",
    "\n",
    "sys.path.append(\"../../../\")\n",
    "\n",
    "from helpers.split import make_train_test_split, tag_label_feature_split\n",
    "from helpers.assess import make_classification_report, make_confusion_matrix\n",
    "\n",
    "DATASET_FOLDER = \"../../../datasets/\""
   ]
  },
  {
   "cell_type": "code",
   "execution_count": null,
   "id": "cb333121-e563-49ad-b6b4-0bf566351626",
   "metadata": {},
   "outputs": [],
   "source": [
    "# read a data set\n",
    "df = pd.read_pickle(DATASET_FOLDER + .pickle\")"
   ]
  },
  {
   "cell_type": "code",
   "execution_count": null,
   "id": "14c39c54-bdfb-43b5-a96c-2dff2601af76",
   "metadata": {},
   "outputs": [],
   "source": [
    "# get labels, a label encoder and features\n",
    "_, (y, le), X = tag_label_feature_split(df, label_format=\"encoded\")"
   ]
  },
  {
   "cell_type": "code",
   "execution_count": null,
   "id": "0c0a9f76",
   "metadata": {},
   "outputs": [],
   "source": [
    "pd.Series(y).value_counts()"
   ]
  },
  {
   "cell_type": "code",
   "execution_count": null,
   "id": "ece1cb8a-f796-4873-9050-3cb71fcd3166",
   "metadata": {},
   "outputs": [],
   "source": [
    "# review the shapes\n",
    "print(f\"{X.shape= } {y.shape= }\")"
   ]
  },
  {
   "cell_type": "code",
   "execution_count": null,
   "id": "23a14e1a",
   "metadata": {},
   "outputs": [],
   "source": [
    "# split the data for training and testing with shuffling and stratification\n",
    "X_train, X_test, y_train, y_test = train_test_split(\n",
    "    X, y, test_size=0.2, random_state=10, shuffle=True, stratify=y, \n",
    ")"
   ]
  },
  {
   "cell_type": "code",
   "execution_count": null,
   "id": "61fb517c",
   "metadata": {},
   "outputs": [],
   "source": [
    "# review the shapes\n",
    "print(f\"{X_train.shape = }\\t{y_train.shape = }\")\n",
    "print(f\"{X_test.shape =  }\\t{y_test.shape =  }\")"
   ]
  },
  {
   "cell_type": "code",
   "execution_count": null,
   "id": "e1a2e977",
   "metadata": {},
   "outputs": [],
   "source": [
    "plt.figure(figsize=(8,4))\n",
    "plt.hist([y, y_train, y_test],\n",
    "         label=['y', 'y_train', 'y_test'])\n",
    "plt.xlabel(\"Genre ID\")\n",
    "plt.legend()\n",
    "plt.show()"
   ]
  },
  {
   "cell_type": "code",
   "execution_count": null,
   "id": "672543b5",
   "metadata": {},
   "outputs": [],
   "source": [
    "scaler=StandardScaler()\n",
    "#pca=KernelPCA(random_state=1962, n_components=200, n_jobs=-1)\n",
    "#pca=PCA(random_state=1962, n_components=.85)\n",
    "#pipe = Pipeline([('scaler', scaler),\n",
    "#                 ('pca', pca)\n",
    "#                ])\n",
    "\n",
    "#No pipe -- just scale the features\n",
    "pipe=scaler"
   ]
  },
  {
   "cell_type": "code",
   "execution_count": null,
   "id": "d3964b49",
   "metadata": {},
   "outputs": [],
   "source": [
    "# run the scaling/PCA extraction pipe\n",
    "X_train_pca = pipe.fit_transform(X_train)\n",
    "X_test_pca = pipe.transform(X_test)"
   ]
  },
  {
   "cell_type": "code",
   "execution_count": null,
   "id": "2c1296a1-a68e-409a-8063-84908eafcb96",
   "metadata": {},
   "outputs": [],
   "source": [
    "# review the shapes\n",
    "print(f\"{X_train_pca.shape= } {X_test_pca.shape= }\")"
   ]
  },
  {
   "cell_type": "code",
   "execution_count": null,
   "id": "40c68fc0-c85d-40d8-ac30-cf33dd84694c",
   "metadata": {},
   "outputs": [],
   "source": [
    "# Use SMOTE or SMOTE variant to resample the training data\n",
    "\n",
    "#smt = SMOTE (random_state=1962, n_jobs=-1)\n",
    "\n",
    "#enn = EditedNearestNeighbours(kind_sel='mode', n_neighbors=3, n_jobs=-1)\n",
    "#smt = SMOTEENN (random_state=1962, enn=enn)\n",
    "\n",
    "#smt = SMOTETomek(random_state=1962, n_jobs=-1)\n",
    "\n",
    "#X_train_resampled, y_train_resampled = smt.fit_resample(X_train_pca, y_train)\n",
    "\n",
    "# Pass through, no resampling, this is our baseline\n",
    "X_train_resampled, y_train_resampled = X_train_pca, y_train"
   ]
  },
  {
   "cell_type": "code",
   "execution_count": null,
   "id": "11172bfb-2863-4394-987e-c9f94c7d8f78",
   "metadata": {},
   "outputs": [],
   "source": [
    "unique, counts = np.unique(y_train_resampled, return_counts=True)\n",
    "print(np.asarray((unique, counts)).T)"
   ]
  },
  {
   "cell_type": "code",
   "execution_count": null,
   "id": "97455827-b49b-400d-a64e-2a16ebda42e4",
   "metadata": {},
   "outputs": [],
   "source": [
    "plt.figure(figsize=(8,4))\n",
    "plt.hist([y_train, y_train_resampled],\n",
    "         label=['y_train', 'y_train_resampled'])\n",
    "plt.xlabel(\"Genre ID\")\n",
    "plt.legend()\n",
    "plt.show()"
   ]
  },
  {
   "cell_type": "markdown",
   "id": "9b5e110c",
   "metadata": {},
   "source": [
    "**Preliminary Baseline**"
   ]
  },
  {
   "cell_type": "code",
   "execution_count": null,
   "id": "10e47273",
   "metadata": {},
   "outputs": [],
   "source": [
    "model = XGBClassifier(\n",
    "    use_label_encoder=False,\n",
    "    tree_method='gpu_hist', \n",
    "    eta=.05,\n",
    "    max_depth=6,\n",
    "    reg_alpha=10,\n",
    "    sampling_method='gradient_based',\n",
    "    objective=\"multi:softprob\", \n",
    "    eval_metric=\"mlogloss\",\n",
    "    seed=1962,\n",
    ")"
   ]
  },
  {
   "cell_type": "code",
   "execution_count": null,
   "id": "5ddb6d30-b488-4de9-8fa4-1b8d8e488985",
   "metadata": {},
   "outputs": [],
   "source": [
    "# Let's just fit the model on our training data\n",
    "model.fit(X_train_resampled, y_train_resampled)"
   ]
  },
  {
   "cell_type": "code",
   "execution_count": null,
   "id": "c3cb5443",
   "metadata": {},
   "outputs": [],
   "source": [
    "scores = \n",
    "print(\"Mean train cross-validation mcc score: %.4f\" % scores.mean())"
   ]
  },
  {
   "cell_type": "code",
   "execution_count": null,
   "id": "6ade7a61",
   "metadata": {},
   "outputs": [],
   "source": [
    "y_pred=model.predict(X_test_pca)"
   ]
  },
  {
   "cell_type": "code",
   "execution_count": null,
   "id": "3fd18615",
   "metadata": {},
   "outputs": [],
   "source": [
    "import json\n",
    "import warnings\n",
    "\n",
    "scoring=['matthews_corrcoef', 'f1_macro', 'accuracy', 'precision_macro', 'recall_macro']\n",
    "\n",
    "with warnings.catch_warnings():\n",
    "    warnings.simplefilter('ignore')\n",
    "    scores = cross_validate (model, X_train_resampled, y_train_resampled, scoring=scoring, cv=2, error_score=0)\n",
    "\n",
    "scores"
   ]
  },
  {
   "cell_type": "code",
   "execution_count": null,
   "id": "64d69088",
   "metadata": {},
   "outputs": [],
   "source": [
    "{key.strip(\"test_\"): value.mean() for key, value in scores.items() if \"test\" in key}"
   ]
  },
  {
   "cell_type": "code",
   "execution_count": null,
   "id": "90908287",
   "metadata": {},
   "outputs": [],
   "source": [
    "import json\n",
    "json.dumps({key.strip(\"test_\"): value.mean() for key, value in scores.items() if \"test\" in key})"
   ]
  },
  {
   "cell_type": "code",
   "execution_count": null,
   "id": "bba98a5f",
   "metadata": {},
   "outputs": [],
   "source": [
    "print(f\"Training accuracy\")\n",
    "make_classification_report(\n",
    "    y_train_resampled,\n",
    "    model=model,\n",
    "    x=X_train_resampled,\n",
    "    digits=4,\n",
    "    label_encoder=le,\n",
    "    print_report=True,\n",
    "    save_result=True,\n",
    "    result_filename=\"rich_xgboost_results.json\",\n",
    "    model_name=\"XGBClassifier_baseline\",\n",
    "    dataset_name=\"dataset_00_all\",\n",
    "    phase=\"train\",\n",
    "    repeat=True,\n",
    "    )\n",
    "print(f\"\\nTesting accuracy\")\n",
    "make_classification_report(\n",
    "    y_test,\n",
    "    y_pred=y_pred,\n",
    "    digits=4,\n",
    "    label_encoder=le,\n",
    "    print_report=True,\n",
    "    save_result=True,\n",
    "    result_filename=\"rich_xgboost_results.json\",\n",
    "    model_name=\"XGBClassifier_baseline\",\n",
    "    dataset_name=\"dataset_00_all\",\n",
    "    phase=\"test\",\n",
    "    repeat=True,\n",
    "    )\n",
    "pass"
   ]
  },
  {
   "cell_type": "code",
   "execution_count": null,
   "id": "1d06fb96",
   "metadata": {},
   "outputs": [],
   "source": [
    "dataset_name=\"Preliminary Baseline\"\n",
    "make_confusion_matrix(\n",
    "    y_test,\n",
    "    y_pred=y_pred,\n",
    "    label_encoder=le,\n",
    "    title=f\"{dataset_name} test (row normalized)\",\n",
    ")\n",
    "pass"
   ]
  },
  {
   "cell_type": "markdown",
   "id": "ea138533",
   "metadata": {},
   "source": [
    "**Optimized Model**"
   ]
  },
  {
   "cell_type": "code",
   "execution_count": null,
   "id": "a68833c7",
   "metadata": {},
   "outputs": [],
   "source": [
    "model = XGBClassifier(\n",
    "    \n",
    "    learning_rate= 0.11484036953359722,\n",
    "    gamma = 0.327162074525032, \n",
    "    max_depth = 8, \n",
    "    n_estimators = 427, \n",
    "    reg_alpha= 6.88045418099, \n",
    "    use_label_encoder=False,\n",
    "    tree_method='gpu_hist', \n",
    "    sampling_method='gradient_based',\n",
    "    objective=\"multi:softprob\", \n",
    "    eval_metric=\"mlogloss\",\n",
    "    seed=1962,\n",
    ")"
   ]
  },
  {
   "cell_type": "code",
   "execution_count": null,
   "id": "ca7da074",
   "metadata": {},
   "outputs": [],
   "source": [
    "model.fit(X_train_resampled, y_train_resampled)"
   ]
  },
  {
   "cell_type": "code",
   "execution_count": null,
   "id": "c9b3c336",
   "metadata": {},
   "outputs": [],
   "source": [
    "scores = cross_val_score(model, X_train_resampled, y_train_resampled, \n",
    "                         scoring=\"matthews_corrcoef\", cv=5,  n_jobs=-1, )\n",
    "print(\"Mean train cross-validation mcc score: %.4f\" % scores.mean())"
   ]
  },
  {
   "cell_type": "code",
   "execution_count": null,
   "id": "48cb4cbb",
   "metadata": {},
   "outputs": [],
   "source": [
    "y_pred=model.predict(X_test_pca)"
   ]
  },
  {
   "cell_type": "code",
   "execution_count": null,
   "id": "ccb666af",
   "metadata": {},
   "outputs": [],
   "source": [
    "print(f\"Training accuracy\")\n",
    "make_classification_report(\n",
    "    y_train_resampled,\n",
    "    model=model,\n",
    "    x=X_train_resampled,\n",
    "    digits=4,\n",
    "    label_encoder=le,\n",
    "    print_report=True,\n",
    "    save_result=True,\n",
    "    result_filename=\"rich_xgboost_results.json\",\n",
    "    model_name=\"XGBClassifier_baseline_tuned\",\n",
    "    dataset_name=\"dataset_00_all\",\n",
    "    phase=\"train\",\n",
    "    repeat=True,\n",
    "    )\n",
    "print(f\"\\nTesting accuracy\")\n",
    "make_classification_report(\n",
    "    y_test,\n",
    "    y_pred=y_pred,\n",
    "    digits=4,\n",
    "    label_encoder=le,\n",
    "    print_report=True,\n",
    "    save_result=True,\n",
    "    result_filename=\"rich_xgboost_results.json\",\n",
    "    model_name=\"XGBClassifier_baseline_tuned\",\n",
    "    dataset_name=\"dataset_00_all\",\n",
    "    phase=\"test\",\n",
    "    repeat=True,\n",
    "    )\n",
    "pass"
   ]
  },
  {
   "cell_type": "code",
   "execution_count": null,
   "id": "b775bd8c",
   "metadata": {},
   "outputs": [],
   "source": [
    "dataset_name=\"Optimized Baseline\"\n",
    "make_confusion_matrix(\n",
    "    y_test,\n",
    "    y_pred=y_pred,\n",
    "    label_encoder=le,\n",
    "    title=f\"{dataset_name} test (row normalized)\",\n",
    ")\n",
    "pass"
   ]
  }
 ],
 "metadata": {
  "kernelspec": {
   "display_name": "tf",
   "language": "python",
   "name": "tf"
  },
  "language_info": {
   "codemirror_mode": {
    "name": "ipython",
    "version": 3
   },
   "file_extension": ".py",
   "mimetype": "text/x-python",
   "name": "python",
   "nbconvert_exporter": "python",
   "pygments_lexer": "ipython3",
   "version": "3.9.12"
  }
 },
 "nbformat": 4,
 "nbformat_minor": 5
}
