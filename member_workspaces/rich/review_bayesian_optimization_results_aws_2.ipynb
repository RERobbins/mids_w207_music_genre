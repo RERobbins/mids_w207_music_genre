{
 "cells": [
  {
   "cell_type": "code",
   "execution_count": 1,
   "metadata": {},
   "outputs": [],
   "source": [
    "import json\n",
    "import pandas as pd"
   ]
  },
  {
   "cell_type": "code",
   "execution_count": 4,
   "metadata": {},
   "outputs": [],
   "source": [
    "filename=\"../rich/bayesian_optimization_aws_gpu_2.logs.json\""
   ]
  },
  {
   "cell_type": "code",
   "execution_count": 5,
   "metadata": {},
   "outputs": [],
   "source": [
    "with open (filename, \"r\") as infile:\n",
    "    json_list = [json.loads(line) for line in infile]\n",
    "df=pd.json_normalize(json_list)"
   ]
  },
  {
   "cell_type": "markdown",
   "metadata": {},
   "source": [
    "**Current best mcc, f1_macro and accuracy results, respectively.**"
   ]
  },
  {
   "cell_type": "code",
   "execution_count": 6,
   "metadata": {},
   "outputs": [
    {
     "data": {
      "text/html": [
       "<div>\n",
       "<style scoped>\n",
       "    .dataframe tbody tr th:only-of-type {\n",
       "        vertical-align: middle;\n",
       "    }\n",
       "\n",
       "    .dataframe tbody tr th {\n",
       "        vertical-align: top;\n",
       "    }\n",
       "\n",
       "    .dataframe thead th {\n",
       "        text-align: right;\n",
       "    }\n",
       "</style>\n",
       "<table border=\"1\" class=\"dataframe\">\n",
       "  <thead>\n",
       "    <tr style=\"text-align: right;\">\n",
       "      <th></th>\n",
       "      <th>model</th>\n",
       "      <th>dataset</th>\n",
       "      <th>scaled</th>\n",
       "      <th>pca_components</th>\n",
       "      <th>resampling</th>\n",
       "      <th>matthews_corrcoef</th>\n",
       "      <th>f1_macro</th>\n",
       "      <th>accuracy</th>\n",
       "    </tr>\n",
       "  </thead>\n",
       "  <tbody>\n",
       "    <tr>\n",
       "      <th>0</th>\n",
       "      <td>XGBoostClassifier</td>\n",
       "      <td>dataset_00_all.pickle</td>\n",
       "      <td>yes</td>\n",
       "      <td>0.95</td>\n",
       "      <td>none</td>\n",
       "      <td>0.594661</td>\n",
       "      <td>0.507405</td>\n",
       "      <td>0.672717</td>\n",
       "    </tr>\n",
       "    <tr>\n",
       "      <th>0</th>\n",
       "      <td>XGBoostClassifier</td>\n",
       "      <td>dataset_00_all.pickle</td>\n",
       "      <td>yes</td>\n",
       "      <td>0.95</td>\n",
       "      <td>none</td>\n",
       "      <td>0.594661</td>\n",
       "      <td>0.507405</td>\n",
       "      <td>0.672717</td>\n",
       "    </tr>\n",
       "    <tr>\n",
       "      <th>0</th>\n",
       "      <td>XGBoostClassifier</td>\n",
       "      <td>dataset_00_all.pickle</td>\n",
       "      <td>yes</td>\n",
       "      <td>0.95</td>\n",
       "      <td>none</td>\n",
       "      <td>0.594661</td>\n",
       "      <td>0.507405</td>\n",
       "      <td>0.672717</td>\n",
       "    </tr>\n",
       "  </tbody>\n",
       "</table>\n",
       "</div>"
      ],
      "text/plain": [
       "               model                dataset scaled  pca_components resampling  \\\n",
       "0  XGBoostClassifier  dataset_00_all.pickle    yes            0.95       none   \n",
       "0  XGBoostClassifier  dataset_00_all.pickle    yes            0.95       none   \n",
       "0  XGBoostClassifier  dataset_00_all.pickle    yes            0.95       none   \n",
       "\n",
       "   matthews_corrcoef  f1_macro  accuracy  \n",
       "0           0.594661  0.507405  0.672717  \n",
       "0           0.594661  0.507405  0.672717  \n",
       "0           0.594661  0.507405  0.672717  "
      ]
     },
     "execution_count": 6,
     "metadata": {},
     "output_type": "execute_result"
    }
   ],
   "source": [
    "best_mcc_f1_accuracy_indices = [df['matthews_corrcoef'].idxmax(),\n",
    "                                df['f1_macro'].idxmax(),\n",
    "                                df['accuracy'].idxmax()]\n",
    "df.iloc[best_mcc_f1_accuracy_indices][['model', 'dataset', 'scaled', 'pca_components', \n",
    "                                       'resampling', 'matthews_corrcoef', 'f1_macro', 'accuracy']]"
   ]
  },
  {
   "cell_type": "markdown",
   "metadata": {},
   "source": [
    "**Detailed summary of current best mcc result.**"
   ]
  },
  {
   "cell_type": "code",
   "execution_count": 7,
   "metadata": {},
   "outputs": [
    {
     "data": {
      "text/plain": [
       "model                    XGBoostClassifier\n",
       "dataset              dataset_00_all.pickle\n",
       "timestamp                       1658138497\n",
       "scaled                                 yes\n",
       "pca_components                        0.95\n",
       "resampling                            none\n",
       "learning_rate                     0.106177\n",
       "n_estimators                           847\n",
       "max_depth                                7\n",
       "gamma                             0.809896\n",
       "reg_alpha                         15.19952\n",
       "seed                                  1962\n",
       "fit_tim                         225.797669\n",
       "core_tim                           0.67848\n",
       "matthews_corrcoef                 0.594661\n",
       "f1_macro                          0.507405\n",
       "accuracy                          0.672717\n",
       "Name: 0, dtype: object"
      ]
     },
     "execution_count": 7,
     "metadata": {},
     "output_type": "execute_result"
    }
   ],
   "source": [
    "df.iloc[best_mcc_f1_accuracy_indices[0]]"
   ]
  },
  {
   "cell_type": "markdown",
   "metadata": {},
   "source": [
    "**Number of trials logged.**"
   ]
  },
  {
   "cell_type": "code",
   "execution_count": 8,
   "metadata": {
    "scrolled": true
   },
   "outputs": [
    {
     "data": {
      "text/plain": [
       "2"
      ]
     },
     "execution_count": 8,
     "metadata": {},
     "output_type": "execute_result"
    }
   ],
   "source": [
    "df.shape[0]"
   ]
  },
  {
   "cell_type": "markdown",
   "metadata": {},
   "source": [
    "**Group results by timestamp, resampling and pca_components, then show current best mcc by group.**"
   ]
  },
  {
   "cell_type": "code",
   "execution_count": 9,
   "metadata": {},
   "outputs": [
    {
     "data": {
      "text/html": [
       "<div>\n",
       "<style scoped>\n",
       "    .dataframe tbody tr th:only-of-type {\n",
       "        vertical-align: middle;\n",
       "    }\n",
       "\n",
       "    .dataframe tbody tr th {\n",
       "        vertical-align: top;\n",
       "    }\n",
       "\n",
       "    .dataframe thead th {\n",
       "        text-align: right;\n",
       "    }\n",
       "</style>\n",
       "<table border=\"1\" class=\"dataframe\">\n",
       "  <thead>\n",
       "    <tr style=\"text-align: right;\">\n",
       "      <th></th>\n",
       "      <th>model</th>\n",
       "      <th>dataset</th>\n",
       "      <th>scaled</th>\n",
       "      <th>pca_components</th>\n",
       "      <th>resampling</th>\n",
       "      <th>matthews_corrcoef</th>\n",
       "      <th>f1_macro</th>\n",
       "      <th>accuracy</th>\n",
       "    </tr>\n",
       "  </thead>\n",
       "  <tbody>\n",
       "    <tr>\n",
       "      <th>0</th>\n",
       "      <td>XGBoostClassifier</td>\n",
       "      <td>dataset_00_all.pickle</td>\n",
       "      <td>yes</td>\n",
       "      <td>0.95</td>\n",
       "      <td>none</td>\n",
       "      <td>0.594661</td>\n",
       "      <td>0.507405</td>\n",
       "      <td>0.672717</td>\n",
       "    </tr>\n",
       "  </tbody>\n",
       "</table>\n",
       "</div>"
      ],
      "text/plain": [
       "               model                dataset scaled  pca_components resampling  \\\n",
       "0  XGBoostClassifier  dataset_00_all.pickle    yes            0.95       none   \n",
       "\n",
       "   matthews_corrcoef  f1_macro  accuracy  \n",
       "0           0.594661  0.507405  0.672717  "
      ]
     },
     "execution_count": 9,
     "metadata": {},
     "output_type": "execute_result"
    }
   ],
   "source": [
    "indices_for_best_mcc = df.groupby(['timestamp', 'resampling', 'pca_components', 'scaled'])['matthews_corrcoef'].idxmax()\n",
    "df.iloc[indices_for_best_mcc][\n",
    "    ['model', 'dataset', 'scaled', 'pca_components', 'resampling', 'matthews_corrcoef', 'f1_macro', 'accuracy']\n",
    "]"
   ]
  },
  {
   "cell_type": "code",
   "execution_count": null,
   "metadata": {},
   "outputs": [],
   "source": []
  }
 ],
 "metadata": {
  "kernelspec": {
   "display_name": "Python 3",
   "language": "python",
   "name": "python3"
  },
  "language_info": {
   "codemirror_mode": {
    "name": "ipython",
    "version": 3
   },
   "file_extension": ".py",
   "mimetype": "text/x-python",
   "name": "python",
   "nbconvert_exporter": "python",
   "pygments_lexer": "ipython3",
   "version": "3.8.10"
  }
 },
 "nbformat": 4,
 "nbformat_minor": 2
}
