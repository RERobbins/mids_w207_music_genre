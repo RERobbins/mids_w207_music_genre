{
 "cells": [
  {
   "cell_type": "code",
   "execution_count": 1,
   "metadata": {},
   "outputs": [],
   "source": [
    "import json\n",
    "import pandas as pd"
   ]
  },
  {
   "cell_type": "code",
   "execution_count": 2,
   "metadata": {},
   "outputs": [],
   "source": [
    "filename=\"../rich/bayesian_optimization_aws_gpu_4_logs.json\""
   ]
  },
  {
   "cell_type": "code",
   "execution_count": 3,
   "metadata": {},
   "outputs": [],
   "source": [
    "with open (filename, \"r\") as infile:\n",
    "    json_list = [json.loads(line) for line in infile]\n",
    "df=pd.json_normalize(json_list)"
   ]
  },
  {
   "cell_type": "markdown",
   "metadata": {},
   "source": [
    "**Current best mcc, f1_macro and accuracy results, respectively.**"
   ]
  },
  {
   "cell_type": "code",
   "execution_count": 4,
   "metadata": {},
   "outputs": [
    {
     "data": {
      "text/html": [
       "<div>\n",
       "<style scoped>\n",
       "    .dataframe tbody tr th:only-of-type {\n",
       "        vertical-align: middle;\n",
       "    }\n",
       "\n",
       "    .dataframe tbody tr th {\n",
       "        vertical-align: top;\n",
       "    }\n",
       "\n",
       "    .dataframe thead th {\n",
       "        text-align: right;\n",
       "    }\n",
       "</style>\n",
       "<table border=\"1\" class=\"dataframe\">\n",
       "  <thead>\n",
       "    <tr style=\"text-align: right;\">\n",
       "      <th></th>\n",
       "      <th>model</th>\n",
       "      <th>dataset</th>\n",
       "      <th>scaled</th>\n",
       "      <th>pca_components</th>\n",
       "      <th>resampling</th>\n",
       "      <th>matthews_corrcoef</th>\n",
       "      <th>f1_macro</th>\n",
       "      <th>accuracy</th>\n",
       "    </tr>\n",
       "  </thead>\n",
       "  <tbody>\n",
       "    <tr>\n",
       "      <th>52</th>\n",
       "      <td>XGBoostClassifier</td>\n",
       "      <td>dataset_04_mean_cov_icov.pickle</td>\n",
       "      <td>yes</td>\n",
       "      <td>0.0</td>\n",
       "      <td>none</td>\n",
       "      <td>0.557263</td>\n",
       "      <td>0.491526</td>\n",
       "      <td>0.643267</td>\n",
       "    </tr>\n",
       "    <tr>\n",
       "      <th>102</th>\n",
       "      <td>XGBoostClassifier</td>\n",
       "      <td>dataset_04_mean_cov_icov.pickle</td>\n",
       "      <td>yes</td>\n",
       "      <td>0.0</td>\n",
       "      <td>SMOTE</td>\n",
       "      <td>0.551328</td>\n",
       "      <td>0.527516</td>\n",
       "      <td>0.630738</td>\n",
       "    </tr>\n",
       "    <tr>\n",
       "      <th>52</th>\n",
       "      <td>XGBoostClassifier</td>\n",
       "      <td>dataset_04_mean_cov_icov.pickle</td>\n",
       "      <td>yes</td>\n",
       "      <td>0.0</td>\n",
       "      <td>none</td>\n",
       "      <td>0.557263</td>\n",
       "      <td>0.491526</td>\n",
       "      <td>0.643267</td>\n",
       "    </tr>\n",
       "  </tbody>\n",
       "</table>\n",
       "</div>"
      ],
      "text/plain": [
       "                 model                          dataset scaled  \\\n",
       "52   XGBoostClassifier  dataset_04_mean_cov_icov.pickle    yes   \n",
       "102  XGBoostClassifier  dataset_04_mean_cov_icov.pickle    yes   \n",
       "52   XGBoostClassifier  dataset_04_mean_cov_icov.pickle    yes   \n",
       "\n",
       "     pca_components resampling  matthews_corrcoef  f1_macro  accuracy  \n",
       "52              0.0       none           0.557263  0.491526  0.643267  \n",
       "102             0.0      SMOTE           0.551328  0.527516  0.630738  \n",
       "52              0.0       none           0.557263  0.491526  0.643267  "
      ]
     },
     "execution_count": 4,
     "metadata": {},
     "output_type": "execute_result"
    }
   ],
   "source": [
    "best_mcc_f1_accuracy_indices = [df['matthews_corrcoef'].idxmax(),\n",
    "                                df['f1_macro'].idxmax(),\n",
    "                                df['accuracy'].idxmax()]\n",
    "df.iloc[best_mcc_f1_accuracy_indices][['model', 'dataset', 'scaled', 'pca_components', \n",
    "                                       'resampling', 'matthews_corrcoef', 'f1_macro', 'accuracy']]"
   ]
  },
  {
   "cell_type": "markdown",
   "metadata": {},
   "source": [
    "**Detailed summary of current best mcc result.**"
   ]
  },
  {
   "cell_type": "code",
   "execution_count": 5,
   "metadata": {},
   "outputs": [
    {
     "data": {
      "text/plain": [
       "model                              XGBoostClassifier\n",
       "dataset              dataset_04_mean_cov_icov.pickle\n",
       "timestamp                                 1658231329\n",
       "scaled                                           yes\n",
       "pca_components                                   0.0\n",
       "resampling                                      none\n",
       "learning_rate                               0.061025\n",
       "n_estimators                                     425\n",
       "max_depth                                          9\n",
       "gamma                                       0.151822\n",
       "reg_alpha                                   7.722392\n",
       "seed                                            1962\n",
       "fit_tim                                   313.810162\n",
       "core_tim                                    0.390479\n",
       "matthews_corrcoef                           0.557263\n",
       "f1_macro                                    0.491526\n",
       "accuracy                                    0.643267\n",
       "Name: 52, dtype: object"
      ]
     },
     "execution_count": 5,
     "metadata": {},
     "output_type": "execute_result"
    }
   ],
   "source": [
    "df.iloc[best_mcc_f1_accuracy_indices[0]]"
   ]
  },
  {
   "cell_type": "markdown",
   "metadata": {},
   "source": [
    "**Number of trials logged.**"
   ]
  },
  {
   "cell_type": "code",
   "execution_count": 6,
   "metadata": {
    "scrolled": true
   },
   "outputs": [
    {
     "data": {
      "text/plain": [
       "440"
      ]
     },
     "execution_count": 6,
     "metadata": {},
     "output_type": "execute_result"
    }
   ],
   "source": [
    "df.shape[0]"
   ]
  },
  {
   "cell_type": "markdown",
   "metadata": {},
   "source": [
    "**Group results by timestamp, resampling and pca_components, then show current best mcc by group.**"
   ]
  },
  {
   "cell_type": "code",
   "execution_count": 7,
   "metadata": {},
   "outputs": [
    {
     "data": {
      "text/html": [
       "<div>\n",
       "<style scoped>\n",
       "    .dataframe tbody tr th:only-of-type {\n",
       "        vertical-align: middle;\n",
       "    }\n",
       "\n",
       "    .dataframe tbody tr th {\n",
       "        vertical-align: top;\n",
       "    }\n",
       "\n",
       "    .dataframe thead th {\n",
       "        text-align: right;\n",
       "    }\n",
       "</style>\n",
       "<table border=\"1\" class=\"dataframe\">\n",
       "  <thead>\n",
       "    <tr style=\"text-align: right;\">\n",
       "      <th></th>\n",
       "      <th>model</th>\n",
       "      <th>dataset</th>\n",
       "      <th>scaled</th>\n",
       "      <th>pca_components</th>\n",
       "      <th>resampling</th>\n",
       "      <th>matthews_corrcoef</th>\n",
       "      <th>f1_macro</th>\n",
       "      <th>accuracy</th>\n",
       "    </tr>\n",
       "  </thead>\n",
       "  <tbody>\n",
       "    <tr>\n",
       "      <th>59</th>\n",
       "      <td>XGBoostClassifier</td>\n",
       "      <td>dataset_04_mean_cov_icov.pickle</td>\n",
       "      <td>yes</td>\n",
       "      <td>0.00</td>\n",
       "      <td>SMOTE</td>\n",
       "      <td>0.555412</td>\n",
       "      <td>0.525589</td>\n",
       "      <td>0.635304</td>\n",
       "    </tr>\n",
       "    <tr>\n",
       "      <th>323</th>\n",
       "      <td>XGBoostClassifier</td>\n",
       "      <td>dataset_04_mean_cov_icov.pickle</td>\n",
       "      <td>yes</td>\n",
       "      <td>0.95</td>\n",
       "      <td>SMOTE</td>\n",
       "      <td>0.489442</td>\n",
       "      <td>0.471417</td>\n",
       "      <td>0.580094</td>\n",
       "    </tr>\n",
       "    <tr>\n",
       "      <th>151</th>\n",
       "      <td>XGBoostClassifier</td>\n",
       "      <td>dataset_04_mean_cov_icov.pickle</td>\n",
       "      <td>yes</td>\n",
       "      <td>0.00</td>\n",
       "      <td>SMOTEENN</td>\n",
       "      <td>0.472494</td>\n",
       "      <td>0.442729</td>\n",
       "      <td>0.531440</td>\n",
       "    </tr>\n",
       "    <tr>\n",
       "      <th>358</th>\n",
       "      <td>XGBoostClassifier</td>\n",
       "      <td>dataset_04_mean_cov_icov.pickle</td>\n",
       "      <td>yes</td>\n",
       "      <td>0.95</td>\n",
       "      <td>SMOTEENN</td>\n",
       "      <td>0.418808</td>\n",
       "      <td>0.400335</td>\n",
       "      <td>0.483607</td>\n",
       "    </tr>\n",
       "    <tr>\n",
       "      <th>217</th>\n",
       "      <td>XGBoostClassifier</td>\n",
       "      <td>dataset_04_mean_cov_icov.pickle</td>\n",
       "      <td>yes</td>\n",
       "      <td>0.00</td>\n",
       "      <td>SMOTETOMEK</td>\n",
       "      <td>0.557263</td>\n",
       "      <td>0.491526</td>\n",
       "      <td>0.643267</td>\n",
       "    </tr>\n",
       "    <tr>\n",
       "      <th>389</th>\n",
       "      <td>XGBoostClassifier</td>\n",
       "      <td>dataset_04_mean_cov_icov.pickle</td>\n",
       "      <td>yes</td>\n",
       "      <td>0.95</td>\n",
       "      <td>SMOTETOMEK</td>\n",
       "      <td>0.495245</td>\n",
       "      <td>0.423261</td>\n",
       "      <td>0.594496</td>\n",
       "    </tr>\n",
       "    <tr>\n",
       "      <th>52</th>\n",
       "      <td>XGBoostClassifier</td>\n",
       "      <td>dataset_04_mean_cov_icov.pickle</td>\n",
       "      <td>yes</td>\n",
       "      <td>0.00</td>\n",
       "      <td>none</td>\n",
       "      <td>0.557263</td>\n",
       "      <td>0.491526</td>\n",
       "      <td>0.643267</td>\n",
       "    </tr>\n",
       "    <tr>\n",
       "      <th>224</th>\n",
       "      <td>XGBoostClassifier</td>\n",
       "      <td>dataset_04_mean_cov_icov.pickle</td>\n",
       "      <td>yes</td>\n",
       "      <td>0.95</td>\n",
       "      <td>none</td>\n",
       "      <td>0.495245</td>\n",
       "      <td>0.423261</td>\n",
       "      <td>0.594496</td>\n",
       "    </tr>\n",
       "  </tbody>\n",
       "</table>\n",
       "</div>"
      ],
      "text/plain": [
       "                 model                          dataset scaled  \\\n",
       "59   XGBoostClassifier  dataset_04_mean_cov_icov.pickle    yes   \n",
       "323  XGBoostClassifier  dataset_04_mean_cov_icov.pickle    yes   \n",
       "151  XGBoostClassifier  dataset_04_mean_cov_icov.pickle    yes   \n",
       "358  XGBoostClassifier  dataset_04_mean_cov_icov.pickle    yes   \n",
       "217  XGBoostClassifier  dataset_04_mean_cov_icov.pickle    yes   \n",
       "389  XGBoostClassifier  dataset_04_mean_cov_icov.pickle    yes   \n",
       "52   XGBoostClassifier  dataset_04_mean_cov_icov.pickle    yes   \n",
       "224  XGBoostClassifier  dataset_04_mean_cov_icov.pickle    yes   \n",
       "\n",
       "     pca_components  resampling  matthews_corrcoef  f1_macro  accuracy  \n",
       "59             0.00       SMOTE           0.555412  0.525589  0.635304  \n",
       "323            0.95       SMOTE           0.489442  0.471417  0.580094  \n",
       "151            0.00    SMOTEENN           0.472494  0.442729  0.531440  \n",
       "358            0.95    SMOTEENN           0.418808  0.400335  0.483607  \n",
       "217            0.00  SMOTETOMEK           0.557263  0.491526  0.643267  \n",
       "389            0.95  SMOTETOMEK           0.495245  0.423261  0.594496  \n",
       "52             0.00        none           0.557263  0.491526  0.643267  \n",
       "224            0.95        none           0.495245  0.423261  0.594496  "
      ]
     },
     "execution_count": 7,
     "metadata": {},
     "output_type": "execute_result"
    }
   ],
   "source": [
    "indices_for_best_mcc = df.groupby(['timestamp', 'resampling', 'pca_components', 'scaled'])['matthews_corrcoef'].idxmax()\n",
    "df.iloc[indices_for_best_mcc][\n",
    "    ['model', 'dataset', 'scaled', 'pca_components', 'resampling', 'matthews_corrcoef', 'f1_macro', 'accuracy']\n",
    "]"
   ]
  }
 ],
 "metadata": {
  "kernelspec": {
   "display_name": "Python 3",
   "language": "python",
   "name": "python3"
  },
  "language_info": {
   "codemirror_mode": {
    "name": "ipython",
    "version": 3
   },
   "file_extension": ".py",
   "mimetype": "text/x-python",
   "name": "python",
   "nbconvert_exporter": "python",
   "pygments_lexer": "ipython3",
   "version": "3.8.10"
  }
 },
 "nbformat": 4,
 "nbformat_minor": 2
}
