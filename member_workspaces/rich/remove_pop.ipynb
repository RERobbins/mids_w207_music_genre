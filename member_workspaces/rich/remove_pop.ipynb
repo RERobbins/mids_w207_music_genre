{
 "cells": [
  {
   "cell_type": "code",
   "execution_count": 2,
   "id": "b223e5e3-01fe-4df3-8c86-f8801c3506c2",
   "metadata": {},
   "outputs": [],
   "source": [
    "import glob\n",
    "\n",
    "import numpy as np\n",
    "import pandas as pd"
   ]
  },
  {
   "cell_type": "code",
   "execution_count": 8,
   "id": "2dfd26f2-dc67-4974-bdf4-34678317bdd8",
   "metadata": {},
   "outputs": [
    {
     "name": "stdout",
     "output_type": "stream",
     "text": [
      "reading ../../datasets/dataset_00_all.pickle\n",
      "writing ../../datasets/dataset_00_all_no_pop.pickle\n",
      "reading ../../datasets/dataset_01_mean.pickle\n",
      "writing ../../datasets/dataset_01_mean_no_pop.pickle\n",
      "reading ../../datasets/dataset_02_mean_cov.pickle\n",
      "writing ../../datasets/dataset_02_mean_cov_no_pop.pickle\n",
      "reading ../../datasets/dataset_03_mean_icov.pickle\n",
      "writing ../../datasets/dataset_03_mean_icov_no_pop.pickle\n",
      "reading ../../datasets/dataset_04_mean_cov_icov.pickle\n",
      "writing ../../datasets/dataset_04_mean_cov_icov_no_pop.pickle\n",
      "reading ../../datasets/dataset_05_pvtt.pickle\n",
      "writing ../../datasets/dataset_05_pvtt_no_pop.pickle\n",
      "reading ../../datasets/dataset_06_pvtt_mean.pickle\n",
      "writing ../../datasets/dataset_06_pvtt_mean_no_pop.pickle\n",
      "reading ../../datasets/dataset_07_pvtt_mean_cov.pickle\n",
      "writing ../../datasets/dataset_07_pvtt_mean_cov_no_pop.pickle\n",
      "reading ../../datasets/dataset_08_pvtt_mean_icov.pickle\n",
      "writing ../../datasets/dataset_08_pvtt_mean_icov_no_pop.pickle\n",
      "reading ../../datasets/dataset_09_pvtt_mean_cov_icov.pickle\n",
      "writing ../../datasets/dataset_09_pvtt_mean_cov_icov_no_pop.pickle\n",
      "reading ../../datasets/dataset_10_melspecs.pickle\n",
      "writing ../../datasets/dataset_10_melspecs_no_pop.pickle\n",
      "reading ../../datasets/dataset_10_melspectrograms_flattened.pickle\n",
      "writing ../../datasets/dataset_10_melspectrograms_flattened_no_pop.pickle\n"
     ]
    }
   ],
   "source": [
    "dataset_folder = \"../../datasets/\"\n",
    "datasets = sorted([name for name in glob.glob(dataset_folder + \"dataset_*.pickle\")])\n",
    "\n",
    "for source in datasets:\n",
    "    target = source[:-7]+\"_no_pop.pickle\"\n",
    "    \n",
    "    print(f\"reading {source}\")\n",
    "    source_df = pd.read_pickle(source)\n",
    "    reduced_df = source_df[source_df['genre_pop']==0]\n",
    "    reduced_df = reduced_df.drop('genre_pop', axis=1)\n",
    "    reduced_df.reset_index()\n",
    "    print(f\"writing {target}\")\n",
    "    reduced_df.to_pickle(target)\n",
    "    \n"
   ]
  }
 ],
 "metadata": {
  "kernelspec": {
   "display_name": "Python 3",
   "language": "python",
   "name": "python3"
  },
  "language_info": {
   "codemirror_mode": {
    "name": "ipython",
    "version": 3
   },
   "file_extension": ".py",
   "mimetype": "text/x-python",
   "name": "python",
   "nbconvert_exporter": "python",
   "pygments_lexer": "ipython3",
   "version": "3.8.10"
  }
 },
 "nbformat": 4,
 "nbformat_minor": 5
}
