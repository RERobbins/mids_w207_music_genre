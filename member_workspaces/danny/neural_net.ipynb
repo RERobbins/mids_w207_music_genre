{
 "cells": [
  {
   "cell_type": "code",
   "execution_count": 1,
   "id": "c6f4fb12",
   "metadata": {},
   "outputs": [
    {
     "name": "stderr",
     "output_type": "stream",
     "text": [
      "/usr/local/anaconda3/lib/python3.8/site-packages/fuzzywuzzy/fuzz.py:11: UserWarning: Using slow pure-python SequenceMatcher. Install python-Levenshtein to remove this warning\n",
      "  warnings.warn('Using slow pure-python SequenceMatcher. Install python-Levenshtein to remove this warning')\n"
     ]
    }
   ],
   "source": [
    "import glob\n",
    "import sys\n",
    "\n",
    "import numpy as np\n",
    "import pandas as pd\n",
    "import tensorflow as tf\n",
    "\n",
    "sys.path.append(\"../../\")\n",
    "\n",
    "from helpers.experiment import experiment"
   ]
  },
  {
   "cell_type": "code",
   "execution_count": null,
   "id": "cd4cf577",
   "metadata": {},
   "outputs": [
    {
     "name": "stdout",
     "output_type": "stream",
     "text": [
      "\n",
      "\n",
      "Preparing model for Experiment: function_dataset_01_mean\n",
      "\n",
      "LabelEncoder()\n",
      "\n",
      "\n",
      "Commencing Experiment: function_dataset_01_mean\n",
      "\n",
      "Epoch 1/10\n",
      "1708/1708 [==============================] - 1s 631us/step - loss: 1.7235 - accuracy: 0.4315\n",
      "Epoch 2/10\n",
      "1708/1708 [==============================] - 1s 572us/step - loss: 1.4697 - accuracy: 0.5061\n",
      "Epoch 3/10\n",
      "1708/1708 [==============================] - 1s 727us/step - loss: 1.4329 - accuracy: 0.5131\n",
      "Epoch 4/10\n",
      "1708/1708 [==============================] - 1s 608us/step - loss: 1.4172 - accuracy: 0.5143\n",
      "Epoch 5/10\n",
      "1708/1708 [==============================] - 1s 564us/step - loss: 1.4089 - accuracy: 0.5168\n",
      "Epoch 6/10\n",
      "1708/1708 [==============================] - 1s 611us/step - loss: 1.4041 - accuracy: 0.5161\n",
      "Epoch 7/10\n",
      "1708/1708 [==============================] - 1s 590us/step - loss: 1.4007 - accuracy: 0.5183\n",
      "Epoch 8/10\n",
      "   1/1708 [..............................] - ETA: 2s - loss: 2.3427 - accuracy: 0.3000"
     ]
    }
   ],
   "source": [
    "dataset_folder = \"../../datasets/\"\n",
    "# datasets = sorted([name for name in glob.glob(dataset_folder + \"dataset_*.pickle\")])\n",
    "datasets = [f'{dataset_folder}dataset_01_mean.pickle']\n",
    "\n",
    "learning_rate = 0.01\n",
    "batch_size = 10\n",
    "epochs = 10\n",
    "hidden_layers = 0 # should be 0 for baseline model\n",
    "hidden_size = 10\n",
    "\n",
    "def nn_model_factory(X_train,y_train,le):\n",
    "    print(le)\n",
    "    model = tf.keras.Sequential()\n",
    "    for _ in range(hidden_layers):\n",
    "        model.add(tf.keras.layers.Dense(\n",
    "            units=hidden_size,\n",
    "            activation='tanh'\n",
    "        ))\n",
    "    model.add(tf.keras.layers.Dense(\n",
    "        units=10,\n",
    "        activation='softmax'\n",
    "    ))\n",
    "    optimizer = tf.keras.optimizers.SGD(learning_rate=learning_rate)\n",
    "    model.compile(\n",
    "        loss='sparse_categorical_crossentropy',     \n",
    "        optimizer=optimizer, \n",
    "        metrics=['accuracy']\n",
    "    )\n",
    "    return model\n",
    "\n",
    "def nn_fit_call_fn(model,X_train,y_train,sample_weight):\n",
    "    model.fit(\n",
    "        X_train,\n",
    "        y_train,\n",
    "        batch_size=batch_size,\n",
    "        epochs=epochs,\n",
    "        class_weight=sample_weight,\n",
    "        verbose=1\n",
    "   )\n",
    "    \n",
    "for dataset in datasets:\n",
    "\n",
    "    experiment(\n",
    "        nn_model_factory,\n",
    "        dataset,\n",
    "        model_fit_call_fn=nn_fit_call_fn,\n",
    "        postprocess_y_pred_fn=lambda y: np.argmax(y, axis=-1)\n",
    "    )\n",
    "    "
   ]
  },
  {
   "cell_type": "code",
   "execution_count": null,
   "id": "85a8097f",
   "metadata": {},
   "outputs": [],
   "source": [
    "# isfunction(aa)"
   ]
  }
 ],
 "metadata": {
  "kernelspec": {
   "display_name": "Python 3",
   "language": "python",
   "name": "python3"
  },
  "language_info": {
   "codemirror_mode": {
    "name": "ipython",
    "version": 3
   },
   "file_extension": ".py",
   "mimetype": "text/x-python",
   "name": "python",
   "nbconvert_exporter": "python",
   "pygments_lexer": "ipython3",
   "version": "3.8.8"
  }
 },
 "nbformat": 4,
 "nbformat_minor": 5
}
