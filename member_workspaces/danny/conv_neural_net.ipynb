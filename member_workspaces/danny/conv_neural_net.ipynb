{
 "cells": [
  {
   "cell_type": "code",
   "execution_count": null,
   "id": "c6f4fb12",
   "metadata": {},
   "outputs": [],
   "source": [
    "import glob\n",
    "import sys\n",
    "import math\n",
    "from sklearn.preprocessing import StandardScaler\n",
    "\n",
    "import numpy as np\n",
    "import pandas as pd\n",
    "import tensorflow as tf\n",
    "\n",
    "sys.path.append(\"../../\")\n",
    "\n",
    "from helpers.experiment import experiment\n",
    "from helpers.assess import resolve_sample_weight\n",
    "from helpers.split import make_train_test_split, tag_label_feature_split\n",
    "import matplotlib.pyplot as plt\n",
    "import math\n",
    "from helpers.keras_graph_callback import KerasGraphCallback\n",
    "from sklearn.utils.class_weight import compute_class_weight"
   ]
  },
  {
   "cell_type": "code",
   "execution_count": null,
   "id": "85a8097f",
   "metadata": {},
   "outputs": [],
   "source": [
    "df = pd.read_pickle('../../datasets/dataset_10_melspecs.pickle')\n",
    "df = df.sample(frac=1) #shuffle"
   ]
  },
  {
   "cell_type": "code",
   "execution_count": null,
   "id": "e67a290d",
   "metadata": {},
   "outputs": [],
   "source": [
    "_, (y, le), X = tag_label_feature_split(\n",
    "    df, label_format=\"encoded\"\n",
    ")"
   ]
  },
  {
   "cell_type": "code",
   "execution_count": null,
   "id": "b2b745f7",
   "metadata": {},
   "outputs": [],
   "source": [
    "# extract 2D numpy array from pandas dataframe\n",
    "X = np.array(list(X.to_numpy()[:,0]))\n",
    "# choosing ~5s clip to make square 96x96 spectrogram frame\n",
    "X = X[:,0:96,200:296]\n",
    "\n",
    "scaler = StandardScaler()\n",
    "# flatten 2D array to fit to \"overall\" mean / variance\n",
    "scaler.fit(tt.reshape(-1,1))\n",
    "# must be reshaped for transformation then restored to original shape\n",
    "X = scaler.transform(tt.reshape(-1, 1)).reshape(tt.shape)"
   ]
  },
  {
   "cell_type": "code",
   "execution_count": null,
   "id": "c1f29a34",
   "metadata": {},
   "outputs": [],
   "source": [
    "X_train, X_validation, y_train, y_validation = make_train_test_split(\n",
    "        X, y, test_size=0.3, random_state=10, stratify=y\n",
    "    )\n",
    "class_weight={i:c  for i,c in enumerate(compute_class_weight(class_weight='balanced',classes=le.transform(le.classes_),y=y_train))}"
   ]
  },
  {
   "cell_type": "code",
   "execution_count": null,
   "id": "e27860cb",
   "metadata": {},
   "outputs": [],
   "source": [
    "model = tf.keras.Sequential()\n",
    "model.add(tf.keras.layers.Conv2D(32, 3, activation='relu', input_shape=(96, 96,1)))\n",
    "model.add(tf.keras.layers.MaxPooling2D((2, 2)))\n",
    "model.add(tf.keras.layers.Conv2D(16, (3, 3), activation='relu'))\n",
    "model.add(tf.keras.layers.MaxPooling2D((2, 2)))\n",
    "model.add(tf.keras.layers.Conv2D(8, (3, 3), activation='relu'))\n",
    "model.add(tf.keras.layers.Flatten())\n",
    "model.add(tf.keras.layers.Dense(10, activation='relu'))\n",
    "model.add(tf.keras.layers.Dense(10))\n",
    "\n",
    "model.compile(\n",
    "    optimizer=tf.keras.optimizers.Adam(learning_rate=0.0005),\n",
    "    loss=tf.keras.losses.SparseCategoricalCrossentropy(from_logits=True),\n",
    "    metrics=['accuracy']\n",
    ")\n",
    "\n",
    "history = model.fit(\n",
    "    X_train,\n",
    "    y_train,\n",
    "    epochs=200, \n",
    "    validation_data=(X_validation,y_validation),\n",
    "    class_weight=class_weight\n",
    ")"
   ]
  },
  {
   "cell_type": "code",
   "execution_count": null,
   "id": "399f9935",
   "metadata": {},
   "outputs": [],
   "source": []
  },
  {
   "cell_type": "code",
   "execution_count": null,
   "id": "f518860c",
   "metadata": {},
   "outputs": [],
   "source": []
  },
  {
   "cell_type": "code",
   "execution_count": null,
   "id": "bcf8ade4",
   "metadata": {},
   "outputs": [],
   "source": []
  },
  {
   "cell_type": "code",
   "execution_count": null,
   "id": "f98d91bb",
   "metadata": {},
   "outputs": [],
   "source": []
  }
 ],
 "metadata": {
  "kernelspec": {
   "display_name": "Python 3",
   "language": "python",
   "name": "python3"
  },
  "language_info": {
   "codemirror_mode": {
    "name": "ipython",
    "version": 3
   },
   "file_extension": ".py",
   "mimetype": "text/x-python",
   "name": "python",
   "nbconvert_exporter": "python",
   "pygments_lexer": "ipython3",
   "version": "3.8.8"
  }
 },
 "nbformat": 4,
 "nbformat_minor": 5
}
