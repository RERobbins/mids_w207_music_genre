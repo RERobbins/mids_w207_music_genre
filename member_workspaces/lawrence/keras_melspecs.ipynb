{
  "nbformat": 4,
  "nbformat_minor": 0,
  "metadata": {
    "colab": {
      "name": "keras_melspecs.ipynb",
      "provenance": [],
      "collapsed_sections": [
        "dmkNerOgT1r1",
        "XBldkKheCzHn"
      ]
    },
    "kernelspec": {
      "name": "python3",
      "display_name": "Python 3"
    },
    "language_info": {
      "name": "python"
    },
    "gpuClass": "standard",
    "accelerator": "GPU"
  },
  "cells": [
    {
      "cell_type": "code",
      "execution_count": null,
      "metadata": {
        "colab": {
          "base_uri": "https://localhost:8080/"
        },
        "id": "X9FEH3GvSr4k",
        "outputId": "e2aaa68e-1ab8-4375-92e5-7a3365bc1b15"
      },
      "outputs": [
        {
          "output_type": "stream",
          "name": "stdout",
          "text": [
            "Mounted at /content/drive\n",
            "Num GPUs Available:  0\n"
          ]
        }
      ],
      "source": [
        "from google.colab import drive\n",
        "drive.mount('/content/drive')\n",
        "\n",
        "import tensorflow as tf\n",
        "print(\"Num GPUs Available: \", len(tf.config.list_physical_devices('GPU')))"
      ]
    },
    {
      "cell_type": "code",
      "source": [
        "# set up constants\n",
        "\n",
        "BASE_GENRES = [\n",
        "    \"genre_blues\",\n",
        "    \"genre_classical\",\n",
        "    \"genre_country\",\n",
        "    \"genre_disco\",\n",
        "    \"genre_hiphop\",\n",
        "    \"genre_jazz\",\n",
        "    \"genre_metal\",\n",
        "    \"genre_pop\",\n",
        "    \"genre_reggae\",\n",
        "    \"genre_rock\"\n",
        "]\n",
        "\n",
        "STRATIFY = ['stratify']\n",
        "\n",
        "KEY = ['metadata_path']"
      ],
      "metadata": {
        "id": "igPZAxDfSxY4"
      },
      "execution_count": null,
      "outputs": []
    },
    {
      "cell_type": "code",
      "source": [
        "# load base dataframe\n",
        "\n",
        "import pandas as pd\n",
        "\n",
        "filepath = \"/content/drive/MyDrive/w207/mids_w207_music_genre/member_workspaces/lawrence/mtg_jamendo_genre_melspecs_flattened_base_100.feather\"\n",
        "df_base = pd.read_feather(filepath)"
      ],
      "metadata": {
        "id": "pw1Ef8-fTwnt"
      },
      "execution_count": null,
      "outputs": []
    },
    {
      "cell_type": "code",
      "source": [
        "df_base.head(1)\n"
      ],
      "metadata": {
        "colab": {
          "base_uri": "https://localhost:8080/",
          "height": 174
        },
        "id": "zo28P1M6kfrr",
        "outputId": "d1c09b8a-7f48-4b42-d1fe-38fdbe97a98e"
      },
      "execution_count": null,
      "outputs": [
        {
          "output_type": "execute_result",
          "data": {
            "text/plain": [
              "    metadata_path   stratify  genre_60s  genre_70s  genre_80s  genre_90s  \\\n",
              "0  20/1208520.mp3  genre_pop          0          0          0          0   \n",
              "\n",
              "   genre_acidjazz  genre_african  genre_alternative  genre_alternativerock  \\\n",
              "0               0              0                  0                      0   \n",
              "\n",
              "   ...  melspec_65558  melspec_65559  melspec_65560  melspec_65561  \\\n",
              "0  ...     -57.232704     -61.025074     -60.531013     -61.654968   \n",
              "\n",
              "   melspec_65562  melspec_65563  melspec_65564  melspec_65565  melspec_65566  \\\n",
              "0     -60.626476     -60.059616     -62.485992     -69.556396     -68.422127   \n",
              "\n",
              "   melspec_65567  \n",
              "0     -42.633823  \n",
              "\n",
              "[1 rows x 65665 columns]"
            ],
            "text/html": [
              "\n",
              "  <div id=\"df-79467deb-6f85-431f-b5ea-c5ab5f36d47b\">\n",
              "    <div class=\"colab-df-container\">\n",
              "      <div>\n",
              "<style scoped>\n",
              "    .dataframe tbody tr th:only-of-type {\n",
              "        vertical-align: middle;\n",
              "    }\n",
              "\n",
              "    .dataframe tbody tr th {\n",
              "        vertical-align: top;\n",
              "    }\n",
              "\n",
              "    .dataframe thead th {\n",
              "        text-align: right;\n",
              "    }\n",
              "</style>\n",
              "<table border=\"1\" class=\"dataframe\">\n",
              "  <thead>\n",
              "    <tr style=\"text-align: right;\">\n",
              "      <th></th>\n",
              "      <th>metadata_path</th>\n",
              "      <th>stratify</th>\n",
              "      <th>genre_60s</th>\n",
              "      <th>genre_70s</th>\n",
              "      <th>genre_80s</th>\n",
              "      <th>genre_90s</th>\n",
              "      <th>genre_acidjazz</th>\n",
              "      <th>genre_african</th>\n",
              "      <th>genre_alternative</th>\n",
              "      <th>genre_alternativerock</th>\n",
              "      <th>...</th>\n",
              "      <th>melspec_65558</th>\n",
              "      <th>melspec_65559</th>\n",
              "      <th>melspec_65560</th>\n",
              "      <th>melspec_65561</th>\n",
              "      <th>melspec_65562</th>\n",
              "      <th>melspec_65563</th>\n",
              "      <th>melspec_65564</th>\n",
              "      <th>melspec_65565</th>\n",
              "      <th>melspec_65566</th>\n",
              "      <th>melspec_65567</th>\n",
              "    </tr>\n",
              "  </thead>\n",
              "  <tbody>\n",
              "    <tr>\n",
              "      <th>0</th>\n",
              "      <td>20/1208520.mp3</td>\n",
              "      <td>genre_pop</td>\n",
              "      <td>0</td>\n",
              "      <td>0</td>\n",
              "      <td>0</td>\n",
              "      <td>0</td>\n",
              "      <td>0</td>\n",
              "      <td>0</td>\n",
              "      <td>0</td>\n",
              "      <td>0</td>\n",
              "      <td>...</td>\n",
              "      <td>-57.232704</td>\n",
              "      <td>-61.025074</td>\n",
              "      <td>-60.531013</td>\n",
              "      <td>-61.654968</td>\n",
              "      <td>-60.626476</td>\n",
              "      <td>-60.059616</td>\n",
              "      <td>-62.485992</td>\n",
              "      <td>-69.556396</td>\n",
              "      <td>-68.422127</td>\n",
              "      <td>-42.633823</td>\n",
              "    </tr>\n",
              "  </tbody>\n",
              "</table>\n",
              "<p>1 rows × 65665 columns</p>\n",
              "</div>\n",
              "      <button class=\"colab-df-convert\" onclick=\"convertToInteractive('df-79467deb-6f85-431f-b5ea-c5ab5f36d47b')\"\n",
              "              title=\"Convert this dataframe to an interactive table.\"\n",
              "              style=\"display:none;\">\n",
              "        \n",
              "  <svg xmlns=\"http://www.w3.org/2000/svg\" height=\"24px\"viewBox=\"0 0 24 24\"\n",
              "       width=\"24px\">\n",
              "    <path d=\"M0 0h24v24H0V0z\" fill=\"none\"/>\n",
              "    <path d=\"M18.56 5.44l.94 2.06.94-2.06 2.06-.94-2.06-.94-.94-2.06-.94 2.06-2.06.94zm-11 1L8.5 8.5l.94-2.06 2.06-.94-2.06-.94L8.5 2.5l-.94 2.06-2.06.94zm10 10l.94 2.06.94-2.06 2.06-.94-2.06-.94-.94-2.06-.94 2.06-2.06.94z\"/><path d=\"M17.41 7.96l-1.37-1.37c-.4-.4-.92-.59-1.43-.59-.52 0-1.04.2-1.43.59L10.3 9.45l-7.72 7.72c-.78.78-.78 2.05 0 2.83L4 21.41c.39.39.9.59 1.41.59.51 0 1.02-.2 1.41-.59l7.78-7.78 2.81-2.81c.8-.78.8-2.07 0-2.86zM5.41 20L4 18.59l7.72-7.72 1.47 1.35L5.41 20z\"/>\n",
              "  </svg>\n",
              "      </button>\n",
              "      \n",
              "  <style>\n",
              "    .colab-df-container {\n",
              "      display:flex;\n",
              "      flex-wrap:wrap;\n",
              "      gap: 12px;\n",
              "    }\n",
              "\n",
              "    .colab-df-convert {\n",
              "      background-color: #E8F0FE;\n",
              "      border: none;\n",
              "      border-radius: 50%;\n",
              "      cursor: pointer;\n",
              "      display: none;\n",
              "      fill: #1967D2;\n",
              "      height: 32px;\n",
              "      padding: 0 0 0 0;\n",
              "      width: 32px;\n",
              "    }\n",
              "\n",
              "    .colab-df-convert:hover {\n",
              "      background-color: #E2EBFA;\n",
              "      box-shadow: 0px 1px 2px rgba(60, 64, 67, 0.3), 0px 1px 3px 1px rgba(60, 64, 67, 0.15);\n",
              "      fill: #174EA6;\n",
              "    }\n",
              "\n",
              "    [theme=dark] .colab-df-convert {\n",
              "      background-color: #3B4455;\n",
              "      fill: #D2E3FC;\n",
              "    }\n",
              "\n",
              "    [theme=dark] .colab-df-convert:hover {\n",
              "      background-color: #434B5C;\n",
              "      box-shadow: 0px 1px 3px 1px rgba(0, 0, 0, 0.15);\n",
              "      filter: drop-shadow(0px 1px 2px rgba(0, 0, 0, 0.3));\n",
              "      fill: #FFFFFF;\n",
              "    }\n",
              "  </style>\n",
              "\n",
              "      <script>\n",
              "        const buttonEl =\n",
              "          document.querySelector('#df-79467deb-6f85-431f-b5ea-c5ab5f36d47b button.colab-df-convert');\n",
              "        buttonEl.style.display =\n",
              "          google.colab.kernel.accessAllowed ? 'block' : 'none';\n",
              "\n",
              "        async function convertToInteractive(key) {\n",
              "          const element = document.querySelector('#df-79467deb-6f85-431f-b5ea-c5ab5f36d47b');\n",
              "          const dataTable =\n",
              "            await google.colab.kernel.invokeFunction('convertToInteractive',\n",
              "                                                     [key], {});\n",
              "          if (!dataTable) return;\n",
              "\n",
              "          const docLinkHtml = 'Like what you see? Visit the ' +\n",
              "            '<a target=\"_blank\" href=https://colab.research.google.com/notebooks/data_table.ipynb>data table notebook</a>'\n",
              "            + ' to learn more about interactive tables.';\n",
              "          element.innerHTML = '';\n",
              "          dataTable['output_type'] = 'display_data';\n",
              "          await google.colab.output.renderOutput(dataTable, element);\n",
              "          const docLink = document.createElement('div');\n",
              "          docLink.innerHTML = docLinkHtml;\n",
              "          element.appendChild(docLink);\n",
              "        }\n",
              "      </script>\n",
              "    </div>\n",
              "  </div>\n",
              "  "
            ]
          },
          "metadata": {},
          "execution_count": 14
        }
      ]
    },
    {
      "cell_type": "code",
      "source": [
        "import numpy as np\n",
        "\n",
        "def crop_center(melspec,cropx,cropy):\n",
        "    y,x = melspec.shape\n",
        "    startx = x//2-(cropx//2)\n",
        "    starty = y//2-(cropy//2)    \n",
        "    return melspec[starty:starty+cropy,startx:startx+cropx]\n",
        "\n",
        "tmp_npy = np.load(\"/content/drive/MyDrive/w207/w207-team-project/mtg-jamendo-dataset/download/melspecs_npy/20/1208520.npy\")\n",
        "tmp_npy = crop_center(tmp_npy,683,96)\n"
      ],
      "metadata": {
        "id": "Z4vILeexk5G-"
      },
      "execution_count": null,
      "outputs": []
    },
    {
      "cell_type": "code",
      "source": [
        "tmp_npy.flatten().reshape(96, 683)"
      ],
      "metadata": {
        "colab": {
          "base_uri": "https://localhost:8080/"
        },
        "id": "DCY2foDQl_FP",
        "outputId": "fb39c4fc-4129-4d16-d15d-53f01e2adef2"
      },
      "execution_count": null,
      "outputs": [
        {
          "output_type": "execute_result",
          "data": {
            "text/plain": [
              "array([[  3.8465643 ,   7.7637463 ,   9.906768  , ..., -16.307817  ,\n",
              "        -13.480965  , -12.875347  ],\n",
              "       [ 10.701651  ,  13.484859  ,  14.178486  , ...,   0.33107704,\n",
              "          2.2135766 ,  -1.8160089 ],\n",
              "       [  9.353886  ,  11.737224  ,  11.618745  , ...,   9.819558  ,\n",
              "         12.105614  ,   8.206997  ],\n",
              "       ...,\n",
              "       [-36.118645  , -18.168148  , -19.147749  , ..., -39.207767  ,\n",
              "        -39.802937  , -32.553387  ],\n",
              "       [-46.143425  , -24.945555  , -27.619738  , ..., -38.66453   ,\n",
              "        -37.801727  , -27.80973   ],\n",
              "       [-60.774845  , -40.43894   , -43.071312  , ..., -69.5564    ,\n",
              "        -68.42213   , -42.633823  ]], dtype=float32)"
            ]
          },
          "metadata": {},
          "execution_count": 19
        }
      ]
    },
    {
      "cell_type": "code",
      "source": [
        "# split base data into train and test sets\n",
        "from sklearn.model_selection import train_test_split\n",
        "from sklearn.preprocessing import LabelEncoder\n",
        "from sklearn.preprocessing import StandardScaler\n",
        "from sklearn.preprocessing import MinMaxScaler\n",
        "import numpy as np\n",
        "\n",
        "\n",
        "# get features\n",
        "FEATURES = [c for c in df_base.columns if c.startswith('melspec_')]\n",
        "X = df_base[FEATURES]\n",
        "\n",
        "# get targets\n",
        "enc = LabelEncoder()\n",
        "y = enc.fit_transform(df_base[STRATIFY].values.reshape(-1))\n",
        "\n",
        "X_train, X_test, y_train, y_test = \\\n",
        "    train_test_split(X, y, test_size=0.2, random_state=10, stratify=y)\n",
        "  \n",
        "print(F\"X_train: {X_train.shape}\")\n",
        "print(F\"X_test:  {X_test.shape}\")\n",
        "\n",
        "# scale\n",
        "# scaler = StandardScaler()\n",
        "# X_train = scaler.fit_transform(X_train, y_train)\n",
        "# X_test = scaler.transform(X_test)\n",
        "\n",
        "# # scale X_train\n",
        "X_train_mean = np.mean(X_train)\n",
        "# X_train_max = X_train.max()\n",
        "# X_train_min = X_train.min()\n",
        "# X_train_std = (X_train - X_train_min)/(X_train_max - X_train_min)\n",
        "X_train_std = np.std(X_train)\n",
        "X_train = (X_train - X_train_mean) / X_train_std\n",
        "\n",
        "# # scale X_test\n",
        "# X_test_std = (X_test - X_train_min)/(X_train_max - X_train_min)\n",
        "X_test = (X_test - X_train_mean) / X_train_std\n",
        "\n",
        "print(F\"X_train: {X_train.shape}\")\n",
        "print(F\"X_test:  {X_test.shape}\")"
      ],
      "metadata": {
        "colab": {
          "base_uri": "https://localhost:8080/"
        },
        "id": "PYeXzYcPTx9e",
        "outputId": "bf22e2d5-2324-4280-a962-f44b067642e7"
      },
      "execution_count": null,
      "outputs": [
        {
          "output_type": "stream",
          "name": "stdout",
          "text": [
            "X_train: (800, 65568)\n",
            "X_test:  (200, 65568)\n",
            "X_train: (800, 65568)\n",
            "X_test:  (200, 65568)\n"
          ]
        }
      ]
    },
    {
      "cell_type": "markdown",
      "source": [
        "## Experiment \\#1: Shallow network"
      ],
      "metadata": {
        "id": "dmkNerOgT1r1"
      }
    },
    {
      "cell_type": "code",
      "source": [
        "import tensorflow as tf\n",
        "import matplotlib.pyplot as plt\n",
        "from sklearn.metrics import accuracy_score\n",
        "\n",
        "# clear session + set random seed\n",
        "tf.keras.backend.clear_session()\n",
        "tf.random.set_seed(10)\n",
        "\n",
        "# build model\n",
        "model = tf.keras.Sequential()\n",
        "model.add(\n",
        "    tf.keras.Input(shape=(65568,), name='Input'))\n",
        "model.add(\n",
        "    tf.keras.layers.Dense(units=10, activation='softmax', name='Output'))\n",
        "model.compile(\n",
        "    loss=tf.keras.losses.SparseCategoricalCrossentropy(),\n",
        "    optimizer=tf.keras.optimizers.SGD(),\n",
        "    metrics=['accuracy'])\n",
        "model.summary()\n",
        "\n",
        "# fit model\n",
        "history = model.fit(x=X_train, y=y_train, validation_split=0.25, epochs=20)\n",
        "\n",
        "# graph train and validation accuracies over epochs\n",
        "fig, ax = plt.subplots()\n",
        "ax.plot(history.history['accuracy'], linewidth=2.0, label='Train')\n",
        "ax.plot(history.history['val_accuracy'], linewidth=2.0, label='Validation')\n",
        "ax.set_title(\"Shallow network\")\n",
        "ax.set_xlabel(\"Epochs\")\n",
        "ax.set_ylabel(\"Accuracy\")\n",
        "ax.legend()\n",
        "ax.grid()\n",
        "fig.show()\n",
        "\n",
        "# get test accuracy\n",
        "y_pred = np.argmax(model.predict(x=X_test), axis=1)\n",
        "test_accuracy = accuracy_score(y_test, y_pred)\n",
        "print(F\"Test accuracy: {test_accuracy}\")"
      ],
      "metadata": {
        "colab": {
          "base_uri": "https://localhost:8080/",
          "height": 1000
        },
        "id": "IN1PdaitAuof",
        "outputId": "5c57899e-21c5-481f-fc8b-1b364a8fece0"
      },
      "execution_count": null,
      "outputs": [
        {
          "output_type": "stream",
          "name": "stdout",
          "text": [
            "Model: \"sequential\"\n",
            "_________________________________________________________________\n",
            " Layer (type)                Output Shape              Param #   \n",
            "=================================================================\n",
            " Output (Dense)              (None, 10)                655690    \n",
            "                                                                 \n",
            "=================================================================\n",
            "Total params: 655,690\n",
            "Trainable params: 655,690\n",
            "Non-trainable params: 0\n",
            "_________________________________________________________________\n",
            "Epoch 1/20\n",
            "19/19 [==============================] - 3s 23ms/step - loss: 136504.4219 - accuracy: 0.1050 - val_loss: 56078.2656 - val_accuracy: 0.1700\n",
            "Epoch 2/20\n",
            "19/19 [==============================] - 0s 9ms/step - loss: 123245.7734 - accuracy: 0.1367 - val_loss: 181624.5938 - val_accuracy: 0.1500\n",
            "Epoch 3/20\n",
            "19/19 [==============================] - 0s 8ms/step - loss: 100234.8125 - accuracy: 0.1500 - val_loss: 78239.7266 - val_accuracy: 0.1650\n",
            "Epoch 4/20\n",
            "19/19 [==============================] - 0s 9ms/step - loss: 95743.0781 - accuracy: 0.1717 - val_loss: 141735.3750 - val_accuracy: 0.0800\n",
            "Epoch 5/20\n",
            "19/19 [==============================] - 0s 8ms/step - loss: 87240.4453 - accuracy: 0.2017 - val_loss: 130446.3984 - val_accuracy: 0.2000\n",
            "Epoch 6/20\n",
            "19/19 [==============================] - 0s 8ms/step - loss: 69592.6484 - accuracy: 0.2433 - val_loss: 56954.7148 - val_accuracy: 0.2250\n",
            "Epoch 7/20\n",
            "19/19 [==============================] - 0s 9ms/step - loss: 62524.9727 - accuracy: 0.2517 - val_loss: 68468.7188 - val_accuracy: 0.1950\n",
            "Epoch 8/20\n",
            "19/19 [==============================] - 0s 8ms/step - loss: 60285.4453 - accuracy: 0.2500 - val_loss: 82282.8984 - val_accuracy: 0.1400\n",
            "Epoch 9/20\n",
            "19/19 [==============================] - 0s 9ms/step - loss: 75611.4297 - accuracy: 0.2283 - val_loss: 84859.2812 - val_accuracy: 0.1800\n",
            "Epoch 10/20\n",
            "19/19 [==============================] - 0s 10ms/step - loss: 60104.9258 - accuracy: 0.3000 - val_loss: 69706.8125 - val_accuracy: 0.2000\n",
            "Epoch 11/20\n",
            "19/19 [==============================] - 0s 10ms/step - loss: 47069.5703 - accuracy: 0.3350 - val_loss: 116370.0938 - val_accuracy: 0.1500\n",
            "Epoch 12/20\n",
            "19/19 [==============================] - 0s 10ms/step - loss: 62085.6719 - accuracy: 0.2600 - val_loss: 95670.0938 - val_accuracy: 0.1000\n",
            "Epoch 13/20\n",
            "19/19 [==============================] - 0s 9ms/step - loss: 55581.1016 - accuracy: 0.3000 - val_loss: 89372.9766 - val_accuracy: 0.1700\n",
            "Epoch 14/20\n",
            "19/19 [==============================] - 0s 9ms/step - loss: 43154.0586 - accuracy: 0.3767 - val_loss: 64360.8633 - val_accuracy: 0.1650\n",
            "Epoch 15/20\n",
            "19/19 [==============================] - 0s 8ms/step - loss: 33656.8203 - accuracy: 0.3950 - val_loss: 47156.8750 - val_accuracy: 0.2250\n",
            "Epoch 16/20\n",
            "19/19 [==============================] - 0s 10ms/step - loss: 30908.9199 - accuracy: 0.4350 - val_loss: 55122.3164 - val_accuracy: 0.1450\n",
            "Epoch 17/20\n",
            "19/19 [==============================] - 0s 10ms/step - loss: 33198.1445 - accuracy: 0.4033 - val_loss: 99246.4531 - val_accuracy: 0.1400\n",
            "Epoch 18/20\n",
            "19/19 [==============================] - 0s 8ms/step - loss: 48248.5859 - accuracy: 0.3200 - val_loss: 71748.7031 - val_accuracy: 0.1800\n",
            "Epoch 19/20\n",
            "19/19 [==============================] - 0s 9ms/step - loss: 32163.3008 - accuracy: 0.4450 - val_loss: 43216.6484 - val_accuracy: 0.2350\n",
            "Epoch 20/20\n",
            "19/19 [==============================] - 0s 8ms/step - loss: 19007.5215 - accuracy: 0.5417 - val_loss: 44571.7852 - val_accuracy: 0.2500\n",
            "Test accuracy: 0.255\n"
          ]
        },
        {
          "output_type": "display_data",
          "data": {
            "text/plain": [
              "<Figure size 432x288 with 1 Axes>"
            ],
            "image/png": "[encoded data removed]"
          },
          "metadata": {
            "needs_background": "light"
          }
        }
      ]
    },
    {
      "cell_type": "markdown",
      "source": [
        "## Experiment \\#2: Deep network"
      ],
      "metadata": {
        "id": "XBldkKheCzHn"
      }
    },
    {
      "cell_type": "code",
      "source": [
        "import tensorflow as tf\n",
        "import matplotlib.pyplot as plt\n",
        "from sklearn.metrics import accuracy_score\n",
        "\n",
        "# clear session + set random seed\n",
        "tf.keras.backend.clear_session()\n",
        "tf.random.set_seed(10)\n",
        "\n",
        "# build model\n",
        "model = tf.keras.Sequential()\n",
        "model.add(\n",
        "    tf.keras.Input(shape=(65568,), name='Input'))\n",
        "model.add(\n",
        "    tf.keras.layers.Dense(units=256, activation='relu', name='Layer_1'))\n",
        "model.add(\n",
        "    tf.keras.layers.Dense(units=128, activation='relu', name='Layer_2'))\n",
        "model.add(\n",
        "    tf.keras.layers.Dense(units=64, activation='relu', name='Layer_3'))\n",
        "model.add(\n",
        "    tf.keras.layers.Dense(units=32, activation='relu', name='Layer_4'))\n",
        "model.add(\n",
        "    tf.keras.layers.Dense(units=16, activation='relu', name='Layer_5'))\n",
        "model.add(\n",
        "    tf.keras.layers.Dense(units=10, activation='softmax', name='Output'))\n",
        "\n",
        "model.compile(\n",
        "    loss=tf.keras.losses.SparseCategoricalCrossentropy(),\n",
        "    optimizer='adam',\n",
        "    metrics=['accuracy'])\n",
        "model.summary()\n",
        "\n",
        "# fit model\n",
        "es = tf.keras.callbacks.EarlyStopping(monitor='val_loss', patience=5)\n",
        "history = model.fit(x=X_train, y=y_train, validation_split=0.25, epochs=20, callbacks=[es])\n",
        "\n",
        "# graph train and validation accuracies over epochs\n",
        "fig, ax = plt.subplots()\n",
        "ax.plot(history.history['accuracy'], linewidth=2.0, label='Train')\n",
        "ax.plot(history.history['val_accuracy'], linewidth=2.0, label='Validation')\n",
        "ax.set_title(\"FFNN with 1 layer\")\n",
        "ax.set_xlabel(\"Epochs\")\n",
        "ax.set_ylabel(\"Accuracy\")\n",
        "ax.legend()\n",
        "ax.grid()\n",
        "fig.show()\n",
        "\n",
        "# get test accuracy\n",
        "y_pred = np.argmax(model.predict(x=X_test), axis=1)\n",
        "train_accuracy = history.history['accuracy'][-1]\n",
        "validation_accuracy = history.history['val_accuracy'][-1]\n",
        "test_accuracy = accuracy_score(y_test, y_pred)\n",
        "print(F\"Train accuracy: {train_accuracy}\")\n",
        "print(F\"Validation accuracy: {validation_accuracy}\")\n",
        "print(F\"Test accuracy: {test_accuracy}\")"
      ],
      "metadata": {
        "colab": {
          "base_uri": "https://localhost:8080/",
          "height": 1000
        },
        "id": "l0VY4KXZC1Bg",
        "outputId": "eb12143b-04f5-4c2d-9f69-d0ed5c8ebcd5"
      },
      "execution_count": null,
      "outputs": [
        {
          "output_type": "stream",
          "name": "stdout",
          "text": [
            "Model: \"sequential\"\n",
            "_________________________________________________________________\n",
            " Layer (type)                Output Shape              Param #   \n",
            "=================================================================\n",
            " Layer_1 (Dense)             (None, 256)               16785664  \n",
            "                                                                 \n",
            " Layer_2 (Dense)             (None, 128)               32896     \n",
            "                                                                 \n",
            " Layer_3 (Dense)             (None, 64)                8256      \n",
            "                                                                 \n",
            " Layer_4 (Dense)             (None, 32)                2080      \n",
            "                                                                 \n",
            " Layer_5 (Dense)             (None, 16)                528       \n",
            "                                                                 \n",
            " Output (Dense)              (None, 10)                170       \n",
            "                                                                 \n",
            "=================================================================\n",
            "Total params: 16,829,594\n",
            "Trainable params: 16,829,594\n",
            "Non-trainable params: 0\n",
            "_________________________________________________________________\n",
            "Epoch 1/20\n",
            "19/19 [==============================] - 1s 28ms/step - loss: 264.2303 - accuracy: 0.1083 - val_loss: 25.1733 - val_accuracy: 0.1050\n",
            "Epoch 2/20\n",
            "19/19 [==============================] - 0s 13ms/step - loss: 5.8721 - accuracy: 0.1000 - val_loss: 2.3614 - val_accuracy: 0.0750\n",
            "Epoch 3/20\n",
            "19/19 [==============================] - 0s 13ms/step - loss: 2.3018 - accuracy: 0.1067 - val_loss: 2.3130 - val_accuracy: 0.0800\n",
            "Epoch 4/20\n",
            "19/19 [==============================] - 0s 14ms/step - loss: 2.3029 - accuracy: 0.1067 - val_loss: 2.3110 - val_accuracy: 0.0800\n",
            "Epoch 5/20\n",
            "19/19 [==============================] - 0s 13ms/step - loss: 2.3027 - accuracy: 0.1067 - val_loss: 2.3112 - val_accuracy: 0.0800\n",
            "Epoch 6/20\n",
            "19/19 [==============================] - 0s 13ms/step - loss: 2.3026 - accuracy: 0.1067 - val_loss: 2.3118 - val_accuracy: 0.0800\n",
            "Epoch 7/20\n",
            "19/19 [==============================] - 0s 12ms/step - loss: 2.3024 - accuracy: 0.1067 - val_loss: 2.3124 - val_accuracy: 0.0800\n",
            "Epoch 8/20\n",
            "19/19 [==============================] - 0s 14ms/step - loss: 2.3022 - accuracy: 0.1067 - val_loss: 2.3130 - val_accuracy: 0.0800\n",
            "Epoch 9/20\n",
            "19/19 [==============================] - 0s 12ms/step - loss: 2.3021 - accuracy: 0.1067 - val_loss: 2.3135 - val_accuracy: 0.0800\n",
            "Train accuracy: 0.1066666692495346\n",
            "Validation accuracy: 0.07999999821186066\n",
            "Test accuracy: 0.1\n"
          ]
        },
        {
          "output_type": "display_data",
          "data": {
            "text/plain": [
              "<Figure size 432x288 with 1 Axes>"
            ],
            "image/png": "[encoded data removed]"
          },
          "metadata": {
            "needs_background": "light"
          }
        }
      ]
    },
    {
      "cell_type": "markdown",
      "source": [
        "# Experiment \\#2: CNNs"
      ],
      "metadata": {
        "id": "A_WOKAQJF26T"
      }
    },
    {
      "cell_type": "code",
      "source": [
        "import tensorflow as tf\n",
        "import matplotlib.pyplot as plt\n",
        "from sklearn.metrics import accuracy_score\n",
        "\n",
        "# clear session + set random seed\n",
        "tf.keras.backend.clear_session()\n",
        "# tf.random.set_seed(10)\n",
        "\n",
        "# build model\n",
        "model = tf.keras.Sequential()\n",
        "model.add(\n",
        "    tf.keras.Input(shape=(65568,), name='Input'))\n",
        "model.add(\n",
        "    tf.keras.layers.Reshape((96, 683, 1)))\n",
        "model.add(\n",
        "    tf.keras.layers.Conv2D(filters=16, kernel_size=(3,3), activation='relu'))\n",
        "model.add(\n",
        "    tf.keras.layers.Flatten()\n",
        ")\n",
        "model.add(\n",
        "    tf.keras.layers.Dense(units=10, activation='softmax', name='Output'))\n",
        "\n",
        "model.compile(\n",
        "    loss=tf.keras.losses.SparseCategoricalCrossentropy(),\n",
        "    optimizer=tf.keras.optimizers.Adam(),\n",
        "    metrics=['accuracy'])\n",
        "model.summary()\n",
        "\n",
        "# fit model\n",
        "es = tf.keras.callbacks.EarlyStopping(monitor='val_loss', patience=10)\n",
        "history = model.fit(x=X_train, y=y_train, validation_split=0.25, epochs=20, callbacks=[es])\n",
        "# history = model.fit(x=X_train, y=y_train, validation_split=0.25, epochs=20)\n",
        "\n",
        "# graph train and validation accuracies over epochs\n",
        "fig, ax = plt.subplots()\n",
        "ax.plot(history.history['accuracy'], linewidth=2.0, label='Train')\n",
        "ax.plot(history.history['val_accuracy'], linewidth=2.0, label='Validation')\n",
        "ax.set_title(\"CNN\")\n",
        "ax.set_xlabel(\"Epochs\")\n",
        "ax.set_ylabel(\"Accuracy\")\n",
        "ax.legend()\n",
        "ax.grid()\n",
        "fig.show()\n",
        "\n",
        "# get test accuracy\n",
        "y_pred = np.argmax(model.predict(x=X_test), axis=1)\n",
        "train_accuracy = history.history['accuracy'][-1]\n",
        "validation_accuracy = history.history['val_accuracy'][-1]\n",
        "test_accuracy = accuracy_score(y_test, y_pred)\n",
        "print(F\"Train accuracy: {train_accuracy}\")\n",
        "print(F\"Validation accuracy: {validation_accuracy}\")\n",
        "print(F\"Test accuracy: {test_accuracy}\")"
      ],
      "metadata": {
        "colab": {
          "base_uri": "https://localhost:8080/",
          "height": 1000
        },
        "id": "uHueCNKCDH7U",
        "outputId": "0e34d66e-8d77-4890-96f9-1488555f3758"
      },
      "execution_count": null,
      "outputs": [
        {
          "output_type": "stream",
          "name": "stdout",
          "text": [
            "Model: \"sequential\"\n",
            "_________________________________________________________________\n",
            " Layer (type)                Output Shape              Param #   \n",
            "=================================================================\n",
            " reshape (Reshape)           (None, 96, 683, 1)        0         \n",
            "                                                                 \n",
            " conv2d (Conv2D)             (None, 94, 681, 16)       160       \n",
            "                                                                 \n",
            " flatten (Flatten)           (None, 1024224)           0         \n",
            "                                                                 \n",
            " Output (Dense)              (None, 10)                10242250  \n",
            "                                                                 \n",
            "=================================================================\n",
            "Total params: 10,242,410\n",
            "Trainable params: 10,242,410\n",
            "Non-trainable params: 0\n",
            "_________________________________________________________________\n",
            "Epoch 1/20\n",
            "19/19 [==============================] - 1s 50ms/step - loss: 18.2202 - accuracy: 0.2167 - val_loss: 13.1079 - val_accuracy: 0.2000\n",
            "Epoch 2/20\n",
            "19/19 [==============================] - 1s 29ms/step - loss: 3.7250 - accuracy: 0.5950 - val_loss: 8.0059 - val_accuracy: 0.2200\n",
            "Epoch 3/20\n",
            "19/19 [==============================] - 1s 29ms/step - loss: 0.9122 - accuracy: 0.8567 - val_loss: 7.9808 - val_accuracy: 0.2000\n",
            "Epoch 4/20\n",
            "19/19 [==============================] - 1s 29ms/step - loss: 0.1644 - accuracy: 0.9633 - val_loss: 4.2129 - val_accuracy: 0.3250\n",
            "Epoch 5/20\n",
            "19/19 [==============================] - 1s 29ms/step - loss: 0.0221 - accuracy: 0.9883 - val_loss: 4.7575 - val_accuracy: 0.2600\n",
            "Epoch 6/20\n",
            "19/19 [==============================] - 1s 29ms/step - loss: 0.0083 - accuracy: 0.9983 - val_loss: 4.2683 - val_accuracy: 0.3100\n",
            "Epoch 7/20\n",
            "19/19 [==============================] - 1s 29ms/step - loss: 0.0013 - accuracy: 1.0000 - val_loss: 4.3859 - val_accuracy: 0.3000\n",
            "Epoch 8/20\n",
            "19/19 [==============================] - 1s 30ms/step - loss: 4.6790e-04 - accuracy: 1.0000 - val_loss: 4.2841 - val_accuracy: 0.3300\n",
            "Epoch 9/20\n",
            "19/19 [==============================] - 1s 33ms/step - loss: 2.2176e-04 - accuracy: 1.0000 - val_loss: 4.2172 - val_accuracy: 0.3250\n",
            "Epoch 10/20\n",
            "19/19 [==============================] - 1s 29ms/step - loss: 1.6824e-04 - accuracy: 1.0000 - val_loss: 4.1808 - val_accuracy: 0.3250\n",
            "Epoch 11/20\n",
            "19/19 [==============================] - 1s 30ms/step - loss: 1.4566e-04 - accuracy: 1.0000 - val_loss: 4.1575 - val_accuracy: 0.3250\n",
            "Epoch 12/20\n",
            "19/19 [==============================] - 1s 33ms/step - loss: 1.2926e-04 - accuracy: 1.0000 - val_loss: 4.1483 - val_accuracy: 0.3200\n",
            "Epoch 13/20\n",
            "19/19 [==============================] - 1s 29ms/step - loss: 1.1880e-04 - accuracy: 1.0000 - val_loss: 4.1396 - val_accuracy: 0.3150\n",
            "Epoch 14/20\n",
            "19/19 [==============================] - 1s 29ms/step - loss: 1.1121e-04 - accuracy: 1.0000 - val_loss: 4.1335 - val_accuracy: 0.3200\n",
            "Epoch 15/20\n",
            "19/19 [==============================] - 1s 29ms/step - loss: 1.0390e-04 - accuracy: 1.0000 - val_loss: 4.1297 - val_accuracy: 0.3150\n",
            "Epoch 16/20\n",
            "19/19 [==============================] - 1s 29ms/step - loss: 9.8551e-05 - accuracy: 1.0000 - val_loss: 4.1270 - val_accuracy: 0.3100\n",
            "Epoch 17/20\n",
            "19/19 [==============================] - 1s 29ms/step - loss: 9.4135e-05 - accuracy: 1.0000 - val_loss: 4.1251 - val_accuracy: 0.3150\n",
            "Epoch 18/20\n",
            "19/19 [==============================] - 1s 30ms/step - loss: 9.0032e-05 - accuracy: 1.0000 - val_loss: 4.1213 - val_accuracy: 0.3200\n",
            "Epoch 19/20\n",
            "19/19 [==============================] - 1s 29ms/step - loss: 8.6344e-05 - accuracy: 1.0000 - val_loss: 4.1197 - val_accuracy: 0.3200\n",
            "Epoch 20/20\n",
            "19/19 [==============================] - 1s 29ms/step - loss: 8.3161e-05 - accuracy: 1.0000 - val_loss: 4.1180 - val_accuracy: 0.3200\n",
            "Train accuracy: 1.0\n",
            "Validation accuracy: 0.3199999928474426\n",
            "Test accuracy: 0.305\n"
          ]
        },
        {
          "output_type": "display_data",
          "data": {
            "text/plain": [
              "<Figure size 432x288 with 1 Axes>"
            ],
            "image/png": "[encoded data removed]"
          },
          "metadata": {
            "needs_background": "light"
          }
        }
      ]
    },
    {
      "cell_type": "code",
      "source": [
        ""
      ],
      "metadata": {
        "id": "5BWx6BxsHN8Y"
      },
      "execution_count": null,
      "outputs": []
    }
  ]
}