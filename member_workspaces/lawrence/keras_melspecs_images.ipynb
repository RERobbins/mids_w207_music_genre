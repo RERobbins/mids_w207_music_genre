{
  "nbformat": 4,
  "nbformat_minor": 0,
  "metadata": {
    "colab": {
      "name": "keras_melspecs_images.ipynb",
      "provenance": [],
      "collapsed_sections": []
    },
    "kernelspec": {
      "name": "python3",
      "display_name": "Python 3"
    },
    "language_info": {
      "name": "python"
    },
    "gpuClass": "standard",
    "accelerator": "GPU"
  },
  "cells": [
    {
      "cell_type": "code",
      "execution_count": 1,
      "metadata": {
        "colab": {
          "base_uri": "https://localhost:8080/"
        },
        "id": "X9FEH3GvSr4k",
        "outputId": "3a8138d8-31d5-4a08-80e8-eb07f030cfa8"
      },
      "outputs": [
        {
          "output_type": "stream",
          "name": "stdout",
          "text": [
            "Mounted at /content/drive\n",
            "Num GPUs Available:  1\n"
          ]
        }
      ],
      "source": [
        "from google.colab import drive\n",
        "drive.mount('/content/drive')\n",
        "\n",
        "import tensorflow as tf\n",
        "print(\"Num GPUs Available: \", len(tf.config.list_physical_devices('GPU')))"
      ]
    },
    {
      "cell_type": "code",
      "source": [
        "# set up image data gen\n",
        "imgdatagen = tf.keras.preprocessing.image.ImageDataGenerator(\n",
        "    rescale=1./255,\n",
        "    validation_split=0.25)\n",
        "\n",
        "image_dir = \"/content/drive/MyDrive/w207/w207-team-project/mtg-jamendo-dataset/download/melspecs_png_mid_base_100_train\"\n",
        "batch_size = 16\n",
        "img_size=(432, 288)\n",
        "\n",
        "# train generator\n",
        "train_generator = imgdatagen.flow_from_directory(\n",
        "    image_dir,\n",
        "    target_size=img_size,\n",
        "    batch_size=batch_size,\n",
        "    color_mode=\"rgb\",\n",
        "    class_mode='categorical',\n",
        "    subset='training') # set as training data\n",
        "\n",
        "# validation generator\n",
        "validation_generator = imgdatagen.flow_from_directory(\n",
        "    image_dir, # same directory as training data\n",
        "    target_size=img_size,\n",
        "    batch_size=batch_size,\n",
        "    color_mode=\"rgb\",\n",
        "    class_mode='categorical',\n",
        "    subset='validation') # set as validation data\n"
      ],
      "metadata": {
        "id": "pw1Ef8-fTwnt",
        "colab": {
          "base_uri": "https://localhost:8080/"
        },
        "outputId": "d97e495f-639b-4296-8ce4-e1a33592d09a"
      },
      "execution_count": 7,
      "outputs": [
        {
          "output_type": "stream",
          "name": "stdout",
          "text": [
            "Found 750 images belonging to 10 classes.\n",
            "Found 250 images belonging to 10 classes.\n"
          ]
        }
      ]
    },
    {
      "cell_type": "markdown",
      "source": [
        "# Experiment \\#2: CNNs"
      ],
      "metadata": {
        "id": "A_WOKAQJF26T"
      }
    },
    {
      "cell_type": "code",
      "source": [
        "import tensorflow as tf\n",
        "import matplotlib.pyplot as plt\n",
        "from sklearn.metrics import accuracy_score\n",
        "\n",
        "# clear session + set random seed\n",
        "tf.keras.backend.clear_session()\n",
        "# tf.random.set_seed(10)\n",
        "\n",
        "# build model\n",
        "model = tf.keras.Sequential()\n",
        "model.add(\n",
        "    tf.keras.Input(shape=(432, 288, 3)))\n",
        "# model.add(\n",
        "#     tf.keras.layers.Reshape(target_shape=(432,288,1)))\n",
        "model.add(\n",
        "    tf.keras.layers.Conv2D(filters=16, kernel_size=(3,3), activation='relu'))\n",
        "model.add(\n",
        "    tf.keras.layers.MaxPooling2D((2,2)))\n",
        "# model.add(\n",
        "#     tf.keras.layers.Conv2D(filters=32, kernel_size=(3,3), activation='relu'))\n",
        "# model.add(\n",
        "#     tf.keras.layers.MaxPooling2D((2,2)))\n",
        "model.add(\n",
        "    tf.keras.layers.Flatten())\n",
        "model.add(\n",
        "    tf.keras.layers.Dense(units=10, activation='softmax', name='Output'))\n",
        "\n",
        "model.compile(\n",
        "    loss='categorical_crossentropy',\n",
        "    optimizer=tf.keras.optimizers.Adam(),\n",
        "    metrics=['accuracy'])\n",
        "model.summary()\n",
        "\n",
        "# fit model\n",
        "es = tf.keras.callbacks.EarlyStopping(monitor='val_loss', patience=10)\n",
        "history = model.fit(\n",
        "          train_generator,\n",
        "          # steps_per_epoch=2000,\n",
        "          epochs=100,\n",
        "          validation_data=validation_generator,\n",
        "          # validation_steps=800\n",
        "          callbacks=[es]\n",
        "          )\n",
        "# history = model.fit(x=X_train, y=y_train, validation_split=0.25, epochs=20)\n",
        "\n",
        "# graph train and validation accuracies over epochs\n",
        "fig, ax = plt.subplots()\n",
        "ax.plot(history.history['accuracy'], linewidth=2.0, label='Train')\n",
        "ax.plot(history.history['val_accuracy'], linewidth=2.0, label='Validation')\n",
        "ax.set_title(\"CNN\")\n",
        "ax.set_xlabel(\"Epochs\")\n",
        "ax.set_ylabel(\"Accuracy\")\n",
        "ax.legend()\n",
        "ax.grid()\n",
        "fig.show()\n",
        "\n",
        "# get test accuracy\n",
        "# y_pred = np.argmax(model.predict(x=X_test), axis=1)\n",
        "# train_accuracy = history.history['accuracy'][-1]\n",
        "# validation_accuracy = history.history['val_accuracy'][-1]\n",
        "# test_accuracy = accuracy_score(y_test, y_pred)\n",
        "# print(F\"Train accuracy: {train_accuracy}\")\n",
        "# print(F\"Validation accuracy: {validation_accuracy}\")\n",
        "# print(F\"Test accuracy: {test_accuracy}\")"
      ],
      "metadata": {
        "colab": {
          "base_uri": "https://localhost:8080/",
          "height": 1000
        },
        "id": "uHueCNKCDH7U",
        "outputId": "070a9b58-a55c-4ff8-8cbe-645ae17b4d64"
      },
      "execution_count": 14,
      "outputs": [
        {
          "output_type": "stream",
          "name": "stdout",
          "text": [
            "Model: \"sequential\"\n",
            "_________________________________________________________________\n",
            " Layer (type)                Output Shape              Param #   \n",
            "=================================================================\n",
            " conv2d (Conv2D)             (None, 430, 286, 16)      592       \n",
            "                                                                 \n",
            " max_pooling2d (MaxPooling2D  (None, 215, 143, 16)     0         \n",
            " )                                                               \n",
            "                                                                 \n",
            " flatten (Flatten)           (None, 491920)            0         \n",
            "                                                                 \n",
            " Output (Dense)              (None, 10)                4919210   \n",
            "                                                                 \n",
            "=================================================================\n",
            "Total params: 4,919,802\n",
            "Trainable params: 4,919,802\n",
            "Non-trainable params: 0\n",
            "_________________________________________________________________\n",
            "Epoch 1/100\n",
            "47/47 [==============================] - 9s 194ms/step - loss: 74.8667 - accuracy: 0.1227 - val_loss: 2.5737 - val_accuracy: 0.1520\n",
            "Epoch 2/100\n",
            "47/47 [==============================] - 9s 189ms/step - loss: 2.2933 - accuracy: 0.2053 - val_loss: 2.3300 - val_accuracy: 0.1960\n",
            "Epoch 3/100\n",
            "47/47 [==============================] - 9s 188ms/step - loss: 2.2219 - accuracy: 0.1973 - val_loss: 2.3141 - val_accuracy: 0.1680\n",
            "Epoch 4/100\n",
            "47/47 [==============================] - 9s 200ms/step - loss: 2.1939 - accuracy: 0.2147 - val_loss: 2.3008 - val_accuracy: 0.1760\n",
            "Epoch 5/100\n",
            "47/47 [==============================] - 9s 187ms/step - loss: 2.1550 - accuracy: 0.2533 - val_loss: 2.3128 - val_accuracy: 0.2040\n",
            "Epoch 6/100\n",
            "47/47 [==============================] - 9s 187ms/step - loss: 2.1084 - accuracy: 0.2587 - val_loss: 2.3453 - val_accuracy: 0.2200\n",
            "Epoch 7/100\n",
            "47/47 [==============================] - 9s 187ms/step - loss: 2.0277 - accuracy: 0.2960 - val_loss: 2.4972 - val_accuracy: 0.2200\n",
            "Epoch 8/100\n",
            "47/47 [==============================] - 9s 187ms/step - loss: 1.9207 - accuracy: 0.4000 - val_loss: 2.4329 - val_accuracy: 0.2440\n",
            "Epoch 9/100\n",
            "47/47 [==============================] - 9s 189ms/step - loss: 1.7604 - accuracy: 0.4573 - val_loss: 2.5758 - val_accuracy: 0.2640\n",
            "Epoch 10/100\n",
            "47/47 [==============================] - 9s 187ms/step - loss: 1.4556 - accuracy: 0.6160 - val_loss: 3.1564 - val_accuracy: 0.2600\n",
            "Epoch 11/100\n",
            "47/47 [==============================] - 9s 187ms/step - loss: 1.0346 - accuracy: 0.7493 - val_loss: 2.8642 - val_accuracy: 0.2520\n",
            "Epoch 12/100\n",
            "47/47 [==============================] - 9s 187ms/step - loss: 0.7568 - accuracy: 0.8587 - val_loss: 2.8557 - val_accuracy: 0.3120\n",
            "Epoch 13/100\n",
            "47/47 [==============================] - 9s 185ms/step - loss: 0.4464 - accuracy: 0.9307 - val_loss: 2.9131 - val_accuracy: 0.2560\n",
            "Epoch 14/100\n",
            "47/47 [==============================] - 9s 186ms/step - loss: 0.2169 - accuracy: 0.9827 - val_loss: 2.9859 - val_accuracy: 0.3080\n"
          ]
        },
        {
          "output_type": "display_data",
          "data": {
            "text/plain": [
              "<Figure size 432x288 with 1 Axes>"
            ],
            "image/png": "[encoded data removed]"
          },
          "metadata": {
            "needs_background": "light"
          }
        }
      ]
    },
    {
      "cell_type": "code",
      "source": [
        ""
      ],
      "metadata": {
        "id": "5BWx6BxsHN8Y"
      },
      "execution_count": null,
      "outputs": []
    }
  ]
}