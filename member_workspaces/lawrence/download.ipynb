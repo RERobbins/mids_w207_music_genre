{
 "cells": [
  {
   "cell_type": "markdown",
   "metadata": {},
   "source": [
    "# Downloads\n",
    "\n",
    "The following are the relevant files from the MTG-Jamendo repo used in this notebook:\n",
    " - [Instructions](https://github.com/MTG/mtg-jamendo-dataset#readme)\n",
    " - [Scripts](https://github.com/MTG/mtg-jamendo-dataset/tree/master/scripts/download) (downloaded under `Scripts` subfolder)\n",
    " - [Sources](https://github.com/MTG/mtg-jamendo-dataset/tree/master/data/download) (downloaded under `Data` subfolder)\n",
    "\n",
    "## Step 1: Download acousticbrainz features\n",
    "\n",
    "Make sure that the folder `/datasets/acousticbrainz-json` exists prior to running the following:"
   ]
  },
  {
   "cell_type": "code",
   "execution_count": 5,
   "metadata": {},
   "outputs": [
    {
     "name": "stdout",
     "output_type": "stream",
     "text": [
      "pip install gdown wget && python3 ./mtg-jamendo-dataset/scripts/download/download.py --dataset raw_30s --type acousticbrainz --from gdrive --unpack ../../datasets/acousticbrainz_json\n"
     ]
    }
   ],
   "source": [
    "import os\n",
    "\n",
    "param_dataset = \"raw_30s\"\n",
    "param_type = \"acousticbrainz\"\n",
    "param_from = \"gdrive\"\n",
    "\n",
    "# Modify the following paths as necessary\n",
    "script_filepath = \"./mtg-jamendo-dataset/scripts/download/download.py\"\n",
    "destination_folderpath = \"../../datasets/acousticbrainz_json\"\n",
    "\n",
    "cmd = F\"pip install gdown wget && \" \\\n",
    "      F\"python3 {script_filepath} \" \\\n",
    "      F\"--dataset {param_dataset} \" \\\n",
    "      F\"--type {param_type} \" \\\n",
    "      F\"--from {param_from} \" \\\n",
    "      F\"--unpack {destination_folderpath}\"\n",
    "\n",
    "# Option 1: Run this command in a terminal separate to view outputs\n",
    "print(cmd)\n",
    "\n",
    "# Option 2: Use os.system to run the command without seeing outputs\n",
    "# os.system(cmd)"
   ]
  },
  {
   "cell_type": "markdown",
   "metadata": {},
   "source": [
    "## Step 2: Download mel-spectrograms\n",
    "\n",
    "Make sure that the folder `/datasets/melspecs-npy` exists prior to running the following:"
   ]
  },
  {
   "cell_type": "code",
   "execution_count": 6,
   "metadata": {},
   "outputs": [
    {
     "name": "stdout",
     "output_type": "stream",
     "text": [
      "pip install gdown wget && python3 ./mtg-jamendo-dataset/scripts/download/download.py --dataset raw_30s --type melspecs --from gdrive --unpack ../../datasets/melspecs_npy\n"
     ]
    }
   ],
   "source": [
    "import os\n",
    "\n",
    "param_dataset = \"raw_30s\"\n",
    "param_type = \"melspecs\"\n",
    "param_from = \"gdrive\"\n",
    "\n",
    "# Modify the following paths as necessary\n",
    "script_filepath = \"./mtg-jamendo-dataset/scripts/download/download.py\"\n",
    "destination_folderpath = \"../../datasets/melspecs_npy\"\n",
    "\n",
    "cmd = F\"pip install gdown wget && \" \\\n",
    "      F\"python3 {script_filepath} \" \\\n",
    "      F\"--dataset {param_dataset} \" \\\n",
    "      F\"--type {param_type} \" \\\n",
    "      F\"--from {param_from} \" \\\n",
    "      F\"--unpack {destination_folderpath}\"\n",
    "\n",
    "# Option 1: run this command in a terminal separate to view outputs\n",
    "print(cmd)\n",
    "\n",
    "# Option 2: Use os.system to run the command without seeing outputs\n",
    "# os.system(cmd)"
   ]
  }
 ],
 "metadata": {
  "interpreter": {
   "hash": "40d3a090f54c6569ab1632332b64b2c03c39dcf918b08424e98f38b5ae0af88f"
  },
  "kernelspec": {
   "display_name": "Python 3.8.5 ('base')",
   "language": "python",
   "name": "python3"
  },
  "language_info": {
   "codemirror_mode": {
    "name": "ipython",
    "version": 3
   },
   "file_extension": ".py",
   "mimetype": "text/x-python",
   "name": "python",
   "nbconvert_exporter": "python",
   "pygments_lexer": "ipython3",
   "version": "3.8.5"
  },
  "orig_nbformat": 4
 },
 "nbformat": 4,
 "nbformat_minor": 2
}
