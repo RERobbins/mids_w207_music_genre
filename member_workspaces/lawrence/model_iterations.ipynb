{
 "cells": [
  {
   "cell_type": "code",
   "execution_count": null,
   "metadata": {},
   "outputs": [],
   "source": [
    "import sys\n",
    "import pandas as pd\n",
    "import numpy as np\n",
    "\n",
    "sys.path.append(\"../../\")\n",
    "from helpers.stitch import ReadFilesIntoDataframe\n",
    "\n",
    "# load the full data\n",
    "df_full = ReadFilesIntoDataframe().read_mtg_jamendo_files()"
   ]
  },
  {
   "cell_type": "code",
   "execution_count": null,
   "metadata": {},
   "outputs": [],
   "source": [
    "from helpers.constants import BASE_GENRES\n",
    "\n",
    "genres = [c for c in df_full.columns if c.startswith(\"genre_\")]\n",
    "\n",
    "# only keep tracks with 1 genre\n",
    "# mask = df_full[genres].sum(axis=1) == 1\n",
    "# df_base = df_full.loc[mask, :].copy()\n",
    "\n",
    "# keep tracks that are only in one of the base genres\n",
    "mask = df_full[BASE_GENRES].sum(axis=1) == 1\n",
    "df_base = df_full.loc[mask, :].reset_index(drop=True)\n",
    "df_base.head(3)"
   ]
  },
  {
   "cell_type": "code",
   "execution_count": 21,
   "metadata": {},
   "outputs": [],
   "source": [
    "from sklearn.model_selection import train_test_split\n",
    "from helpers.split import label_strings\n",
    "\n",
    "features = [c for c in df_base.columns if c not in BASE_GENRES \\\n",
    "            and (df_base[c].dtype == int or df_base[c].dtype == float)]\n",
    "X = df_base[features]\n",
    "y = df_base[BASE_GENRES]\n",
    "stratify = label_strings(y)\n",
    "\n",
    "X_train, X_test, y_train, y_test = \\\n",
    "    train_test_split(X, y, test_size=0.2, random_state=10, stratify=stratify)"
   ]
  },
  {
   "cell_type": "code",
   "execution_count": null,
   "metadata": {},
   "outputs": [],
   "source": [
    "from sklearn.feature_selection import SelectKBest, f_classif\n",
    "\n",
    "for genre in BASE_GENRES[:1]:\n",
    "    result = f_classif(X_train, y_train[genre])\n",
    "    print(result)\n",
    "\n",
    "    # feature_names = SelectKBest(f_classif, ).fit(X_train, y_train[genre]).get_feature_names_out()\n",
    "    # selected_features = selected_features.union(set(feature_names))\n",
    "\n"
   ]
  },
  {
   "cell_type": "code",
   "execution_count": null,
   "metadata": {},
   "outputs": [],
   "source": []
  }
 ],
 "metadata": {
  "kernelspec": {
   "display_name": "Python 3.8.5 ('base')",
   "language": "python",
   "name": "python3"
  },
  "language_info": {
   "codemirror_mode": {
    "name": "ipython",
    "version": 3
   },
   "file_extension": ".py",
   "mimetype": "text/x-python",
   "name": "python",
   "nbconvert_exporter": "python",
   "pygments_lexer": "ipython3",
   "version": "3.8.5"
  },
  "orig_nbformat": 4,
  "vscode": {
   "interpreter": {
    "hash": "40d3a090f54c6569ab1632332b64b2c03c39dcf918b08424e98f38b5ae0af88f"
   }
  }
 },
 "nbformat": 4,
 "nbformat_minor": 2
}
