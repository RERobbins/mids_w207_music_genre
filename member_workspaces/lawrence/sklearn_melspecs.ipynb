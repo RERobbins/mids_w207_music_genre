{
  "nbformat": 4,
  "nbformat_minor": 0,
  "metadata": {
    "colab": {
      "name": "sklearn_melspecs.ipynb",
      "provenance": []
    },
    "kernelspec": {
      "name": "python3",
      "display_name": "Python 3"
    },
    "language_info": {
      "name": "python"
    }
  },
  "cells": [
    {
      "cell_type": "code",
      "execution_count": null,
      "metadata": {
        "colab": {
          "base_uri": "https://localhost:8080/"
        },
        "id": "X9FEH3GvSr4k",
        "outputId": "0f81625c-2f7a-4c06-eb64-586a478354e9"
      },
      "outputs": [
        {
          "output_type": "stream",
          "name": "stdout",
          "text": [
            "Drive already mounted at /content/drive; to attempt to forcibly remount, call drive.mount(\"/content/drive\", force_remount=True).\n"
          ]
        }
      ],
      "source": [
        "from google.colab import drive\n",
        "drive.mount('/content/drive')"
      ]
    },
    {
      "cell_type": "code",
      "source": [
        "# set up constants\n",
        "\n",
        "BASE_GENRES = [\n",
        "    \"genre_blues\",\n",
        "    \"genre_classical\",\n",
        "    \"genre_country\",\n",
        "    \"genre_disco\",\n",
        "    \"genre_hiphop\",\n",
        "    \"genre_jazz\",\n",
        "    \"genre_metal\",\n",
        "    \"genre_pop\",\n",
        "    \"genre_reggae\",\n",
        "    \"genre_rock\"\n",
        "]\n",
        "\n",
        "STRATIFY = ['stratify']\n",
        "\n",
        "KEY = ['metadata_path']"
      ],
      "metadata": {
        "id": "igPZAxDfSxY4"
      },
      "execution_count": null,
      "outputs": []
    },
    {
      "cell_type": "code",
      "source": [
        "# load base dataframe\n",
        "\n",
        "import pandas as pd\n",
        "\n",
        "filepath = \"/content/drive/MyDrive/w207/mids_w207_music_genre/member_workspaces/lawrence/mtg_jamendo_genre_melspecs_flattened_base_100.feather\"\n",
        "df_base = pd.read_feather(filepath)"
      ],
      "metadata": {
        "id": "pw1Ef8-fTwnt"
      },
      "execution_count": null,
      "outputs": []
    },
    {
      "cell_type": "code",
      "source": [
        "# split base data into train and test sets\n",
        "from sklearn.model_selection import train_test_split\n",
        "from sklearn.preprocessing import LabelEncoder\n",
        "from sklearn.preprocessing import StandardScaler\n",
        "import numpy as np\n",
        "\n",
        "\n",
        "# get features\n",
        "FEATURES = [c for c in df_base.columns if c.startswith('melspec_')]\n",
        "X = df_base[FEATURES]\n",
        "\n",
        "# get targets\n",
        "enc = LabelEncoder()\n",
        "y = enc.fit_transform(df_base[STRATIFY].values.reshape(-1))\n",
        "\n",
        "X_train, X_test, y_train, y_test = \\\n",
        "    train_test_split(X, y, test_size=0.2, random_state=10, stratify=y)\n",
        "  \n",
        "# X_train, X_valid, y_train, y_valid = \\\n",
        "#     train_test_split(X_train, y_train, test_size=0.25, random_state=10, stratify=y_train)\n",
        "\n",
        "print(F\"X_train: {X_train.shape}\")\n",
        "# print(F\"X_valid: {X_valid.shape}\")\n",
        "print(F\"X_test:  {X_test.shape}\")\n",
        "\n",
        "# scale\n",
        "scaler = StandardScaler()\n",
        "X_train = scaler.fit_transform(X_train, y_train)\n",
        "# X_valid = scaler.transform(X_valid)\n",
        "X_test = scaler.transform(X_test)\n"
      ],
      "metadata": {
        "colab": {
          "base_uri": "https://localhost:8080/"
        },
        "id": "PYeXzYcPTx9e",
        "outputId": "a4cafba9-0250-4c69-ed9d-fb1f65788c34"
      },
      "execution_count": null,
      "outputs": [
        {
          "output_type": "stream",
          "name": "stdout",
          "text": [
            "X_train: (800, 65568)\n",
            "X_test:  (200, 65568)\n"
          ]
        }
      ]
    },
    {
      "cell_type": "markdown",
      "source": [
        "## Experiment \\#1: GMM with 1 component\n",
        "\n",
        "not feasible due to the number of features"
      ],
      "metadata": {
        "id": "dmkNerOgT1r1"
      }
    },
    {
      "cell_type": "code",
      "source": [
        "from sklearn.mixture import GaussianMixture\n",
        "from sklearn.metrics import accuracy_score\n",
        "\n",
        "# for each class, fit a GM to get the pdf\n",
        "gms = []\n",
        "\n",
        "for y_value in np.unique(y_train):\n",
        "  mask = (y_train == y_value)\n",
        "  gm = GaussianMixture(n_components=1, random_state=10)\n",
        "  gm.fit(X_train[mask, :])\n",
        "  gms.append(gm)\n",
        "\n",
        "# generate log likelihood for train and test sets using each GM\n",
        "y_train_log_likelihoods = []\n",
        "y_test_log_likelihoods = []\n",
        "\n",
        "for gm in gms:\n",
        "  y_train_log_likelihoods.append(gm.score_samples(X_train))\n",
        "  y_test_log_likelihoods.append(gm.score_samples(X_test))\n",
        "\n",
        "y_train_pred = np.argmax(np.array(y_train_log_likelihoods), axis=0).squeeze()\n",
        "y_test_pred = np.argmax(np.array(y_test_log_likelihoods), axis=0).squeeze()\n",
        "\n",
        "train_accuracy = accuracy_score(y_train, y_train_pred)\n",
        "test_accuracy = accuracy_score(y_test, y_test_pred)\n",
        "\n",
        "print(F\"Train accuracy: {train_accuracy}\")\n",
        "print(F\"Test accuracy:  {test_accuracy}\")"
      ],
      "metadata": {
        "id": "ddZTRPauT0Fy"
      },
      "execution_count": null,
      "outputs": []
    },
    {
      "cell_type": "markdown",
      "source": [
        "## Experiment \\#2: GMM with 1 component and feature selection via select k best"
      ],
      "metadata": {
        "id": "iEgISAsJuEZ6"
      }
    },
    {
      "cell_type": "code",
      "source": [
        "from sklearn.mixture import GaussianMixture\n",
        "from sklearn.feature_selection import SelectKBest\n",
        "from sklearn.metrics import accuracy_score\n",
        "\n",
        "tolerance = 10\n",
        "top_ns = np.arange(10,2010,10)\n",
        "train_accuracies = []\n",
        "test_accuracies = []\n",
        "\n",
        "for top_n in top_ns:\n",
        "  # feature selection via select k best\n",
        "  mask_selected_features = np.full((X_train.shape[1], ), False)\n",
        "\n",
        "  for y_value in np.unique(y_train):\n",
        "    skb = SelectKBest(k=top_n)\n",
        "    mask = y_train == y_value\n",
        "    skb.fit(X_train[mask, :], y_train[mask])\n",
        "    mask_selected_features |= skb.get_support()\n",
        "\n",
        "  # for each class, fit a GM to get the pdf\n",
        "  gms = []\n",
        "\n",
        "  for y_value in np.unique(y_train):\n",
        "    mask = (y_train == y_value)\n",
        "    gm = GaussianMixture(n_components=3, random_state=10)\n",
        "    gm.fit(X_train[mask, :][:, mask_selected_features])\n",
        "    gms.append(gm)\n",
        "\n",
        "  # generate log likelihood for train and test sets using each GM\n",
        "  y_train_log_likelihoods = []\n",
        "  y_test_log_likelihoods = []\n",
        "\n",
        "  for gm in gms:\n",
        "    y_train_log_likelihoods.append(gm.score_samples(X_train[:, mask_selected_features]))\n",
        "    y_test_log_likelihoods.append(gm.score_samples(X_test[:, mask_selected_features]))\n",
        "\n",
        "  # determine predicted label based on maximum log likelihood\n",
        "  y_train_pred = np.argmax(np.array(y_train_log_likelihoods), axis=0).squeeze()\n",
        "  y_test_pred = np.argmax(np.array(y_test_log_likelihoods), axis=0).squeeze()\n",
        "\n",
        "  train_accuracy = accuracy_score(y_train, y_train_pred)\n",
        "  train_accuracies.append(train_accuracy)\n",
        "  test_accuracy = accuracy_score(y_test, y_test_pred)\n",
        "  test_accuracies.append(test_accuracy)\n",
        "\n",
        "  print(F\"Training GMM with feature selection via select k best (k={top_n})...\")\n",
        "  print(F\"Train accuracy: {train_accuracy}\")\n",
        "  print(F\"Test accuracy:  {test_accuracy}\")\n",
        "  if train_accuracy == 1:\n",
        "    break\n",
        "  if train_accuracy > (test_accuracy+0.05):\n",
        "    print(F\"Overfitting detected!\")\n",
        "    if tolerance == 0:\n",
        "      break\n",
        "    tolerance -= 1\n",
        "  else:\n",
        "    tolerance = 10\n",
        "  print(F\"-\"*100)"
      ],
      "metadata": {
        "id": "OeZtBnl0uJs6"
      },
      "execution_count": null,
      "outputs": []
    },
    {
      "cell_type": "code",
      "source": [
        "import matplotlib.pyplot as plt\n",
        "\n",
        "fig, ax = plt.subplots()\n",
        "ax.plot(top_ns[:len(train_accuracies)], train_accuracies, linewidth=2.0, label='Train')\n",
        "ax.plot(top_ns[:len(test_accuracies)], test_accuracies, linewidth=2.0, label='Test')\n",
        "ax.set_title(\"GMM with feature selection via select k best\")\n",
        "ax.set_xlabel(\"k\")\n",
        "ax.set_ylabel(\"Accuracy\")\n",
        "ax.legend()\n",
        "ax.grid()\n",
        "fig.show()"
      ],
      "metadata": {
        "id": "Aldoc4uKwflA",
        "colab": {
          "base_uri": "https://localhost:8080/",
          "height": 295
        },
        "outputId": "96fd034b-c2a9-4840-f541-f185c9b39b1e"
      },
      "execution_count": null,
      "outputs": [
        {
          "output_type": "display_data",
          "data": {
            "text/plain": [
              "<Figure size 432x288 with 1 Axes>"
            ],
            "image/png": "[encoded data removed]"
          },
          "metadata": {
            "needs_background": "light"
          }
        }
      ]
    },
    {
      "cell_type": "markdown",
      "source": [
        "## Experiment \\#3: GMM with feature selection via random forest"
      ],
      "metadata": {
        "id": "8Z1f2pTcLK6j"
      }
    },
    {
      "cell_type": "code",
      "source": [
        "from sklearn.ensemble import RandomForestClassifier\n",
        "\n",
        "clf = RandomForestClassifier(n_estimators=100, \n",
        "                             max_depth=500, \n",
        "                             random_state=10)\n",
        "clf.fit(X_train, y_train)\n",
        "df_feature_importance = pd.DataFrame({\"feature_name\": FEATURES, \n",
        "                                      \"feature_importance\": clf.feature_importances_})\n",
        "df_feature_importance.sort_values(by=\"feature_importance\", ascending=False, inplace=True)"
      ],
      "metadata": {
        "id": "ecDA9CXGLOah"
      },
      "execution_count": null,
      "outputs": []
    },
    {
      "cell_type": "code",
      "source": [
        "from sklearn.mixture import GaussianMixture\n",
        "from sklearn.metrics import accuracy_score\n",
        "\n",
        "tolerance = 10\n",
        "top_ns = np.arange(10, 2010, 10)\n",
        "train_accuracies = []\n",
        "test_accuracies = []\n",
        "\n",
        "for top_n in top_ns:\n",
        "  top_features = df_feature_importance.head(top_n)['feature_name'].unique()\n",
        "  feature_indices = [FEATURES.index(f) for f in top_features]\n",
        "\n",
        "  # for each class, fit a GM to get the pdf\n",
        "  gms = []\n",
        "\n",
        "  for y_value in np.unique(y_train):\n",
        "    mask = (y_train == y_value)\n",
        "    gm = GaussianMixture(n_components=1, random_state=10)\n",
        "    gm.fit(X_train[mask, :][:, feature_indices])\n",
        "    gms.append(gm)\n",
        "\n",
        "  # generate log likelihood for train and test sets using each GM\n",
        "  y_train_log_likelihoods = []\n",
        "  y_test_log_likelihoods = []\n",
        "\n",
        "  for gm in gms:\n",
        "    y_train_log_likelihoods.append(gm.score_samples(X_train[:, feature_indices]))\n",
        "    y_test_log_likelihoods.append(gm.score_samples(X_test[:, feature_indices]))\n",
        "\n",
        "  # determine predicted label based on maximum log likelihood\n",
        "  y_train_pred = np.argmax(np.array(y_train_log_likelihoods), axis=0).squeeze()\n",
        "  y_test_pred = np.argmax(np.array(y_test_log_likelihoods), axis=0).squeeze()\n",
        "\n",
        "  train_accuracy = accuracy_score(y_train, y_train_pred)\n",
        "  train_accuracies.append(train_accuracy)\n",
        "  test_accuracy = accuracy_score(y_test, y_test_pred)\n",
        "  test_accuracies.append(test_accuracy)\n",
        "\n",
        "  print(F\"Training GMM with feature selection via random forest (k={top_n})...\")\n",
        "  print(F\"Train accuracy: {train_accuracy}\")\n",
        "  print(F\"Test accuracy:  {test_accuracy}\")\n",
        "  if train_accuracy == 1:\n",
        "    break\n",
        "  if train_accuracy > (test_accuracy+0.05):\n",
        "    print(F\"Overfitting detected!\")\n",
        "    if tolerance == 0:\n",
        "      break\n",
        "    tolerance -= 1\n",
        "  else:\n",
        "    tolerance = 10\n",
        "  print(F\"-\"*100)"
      ],
      "metadata": {
        "colab": {
          "base_uri": "https://localhost:8080/"
        },
        "id": "4E0LHDSbLQDQ",
        "outputId": "252b50d6-ff87-45f2-a5b5-88ed6f7a88f6"
      },
      "execution_count": null,
      "outputs": [
        {
          "output_type": "stream",
          "name": "stdout",
          "text": [
            "Training GMM with feature selection via random forest (k=10)...\n",
            "Train accuracy: 0.365\n",
            "Test accuracy:  0.28\n",
            "Overfitting detected!\n",
            "----------------------------------------------------------------------------------------------------\n",
            "Training GMM with feature selection via random forest (k=20)...\n",
            "Train accuracy: 0.62125\n",
            "Test accuracy:  0.265\n",
            "Overfitting detected!\n",
            "----------------------------------------------------------------------------------------------------\n",
            "Training GMM with feature selection via random forest (k=30)...\n",
            "Train accuracy: 0.8175\n",
            "Test accuracy:  0.2\n",
            "Overfitting detected!\n",
            "----------------------------------------------------------------------------------------------------\n",
            "Training GMM with feature selection via random forest (k=40)...\n",
            "Train accuracy: 0.94125\n",
            "Test accuracy:  0.205\n",
            "Overfitting detected!\n",
            "----------------------------------------------------------------------------------------------------\n",
            "Training GMM with feature selection via random forest (k=50)...\n",
            "Train accuracy: 0.99\n",
            "Test accuracy:  0.195\n",
            "Overfitting detected!\n",
            "----------------------------------------------------------------------------------------------------\n",
            "Training GMM with feature selection via random forest (k=60)...\n",
            "Train accuracy: 0.9975\n",
            "Test accuracy:  0.12\n",
            "Overfitting detected!\n",
            "----------------------------------------------------------------------------------------------------\n",
            "Training GMM with feature selection via random forest (k=70)...\n",
            "Train accuracy: 1.0\n",
            "Test accuracy:  0.195\n"
          ]
        }
      ]
    },
    {
      "cell_type": "code",
      "source": [
        "import matplotlib.pyplot as plt\n",
        "\n",
        "fig, ax = plt.subplots()\n",
        "ax.plot(top_ns[:len(train_accuracies)], train_accuracies, linewidth=2.0, label='Train')\n",
        "ax.plot(top_ns[:len(test_accuracies)], test_accuracies, linewidth=2.0, label='Test')\n",
        "ax.set_title(\"GMM with feature selection via random forest\")\n",
        "ax.set_xlabel(\"Number of features\")\n",
        "ax.set_ylabel(\"Accuracy\")\n",
        "ax.legend()\n",
        "ax.grid()\n",
        "fig.show()"
      ],
      "metadata": {
        "colab": {
          "base_uri": "https://localhost:8080/",
          "height": 295
        },
        "id": "uW6-UhpsMk15",
        "outputId": "ea82bcdd-b597-4b40-f7d7-50cd6161cd8d"
      },
      "execution_count": null,
      "outputs": [
        {
          "output_type": "display_data",
          "data": {
            "text/plain": [
              "<Figure size 432x288 with 1 Axes>"
            ],
            "image/png": "[encoded data removed]"
          },
          "metadata": {
            "needs_background": "light"
          }
        }
      ]
    },
    {
      "cell_type": "markdown",
      "source": [
        "## Experiment \\#4: GMM with PCA"
      ],
      "metadata": {
        "id": "TfHE-9YWVZsu"
      }
    },
    {
      "cell_type": "code",
      "source": [
        "from sklearn.decomposition import PCA\n",
        "from sklearn.mixture import GaussianMixture\n",
        "from sklearn.metrics import accuracy_score\n",
        "\n",
        "tolerance = 10\n",
        "n_components_list = np.arange(10, 510, 10)\n",
        "train_accuracies = []\n",
        "test_accuracies = []\n",
        "\n",
        "for n_components in n_components_list:\n",
        "  \n",
        "  # get pca\n",
        "  pca = PCA(n_components)\n",
        "  X_train_pca = pca.fit_transform(X_train)\n",
        "  X_test_pca = pca.transform(X_test)\n",
        "\n",
        "  # for each class, fit a GM to get the pdf\n",
        "  gms = []\n",
        "\n",
        "  for y_value in np.unique(y_train):\n",
        "    mask = (y_train == y_value)\n",
        "    gm = GaussianMixture(n_components=1, random_state=10)\n",
        "    gm.fit(X_train_pca[mask, :])\n",
        "    gms.append(gm)\n",
        "\n",
        "  # generate log likelihood for train and test sets using each GM\n",
        "  y_train_log_likelihoods = []\n",
        "  y_test_log_likelihoods = []\n",
        "\n",
        "  for gm in gms:\n",
        "    y_train_log_likelihoods.append(gm.score_samples(X_train_pca))\n",
        "    y_test_log_likelihoods.append(gm.score_samples(X_test_pca))\n",
        "\n",
        "  # determine predicted label based on maximum log likelihood\n",
        "  y_train_pred = np.argmax(np.array(y_train_log_likelihoods), axis=0).squeeze()\n",
        "  y_test_pred = np.argmax(np.array(y_test_log_likelihoods), axis=0).squeeze()\n",
        "\n",
        "  train_accuracy = accuracy_score(y_train, y_train_pred)\n",
        "  train_accuracies.append(train_accuracy)\n",
        "  test_accuracy = accuracy_score(y_test, y_test_pred)\n",
        "  test_accuracies.append(test_accuracy)\n",
        "\n",
        "  print(F\"Training GMM with dimensionality reduction via PCA (n_components={n_components})...\")\n",
        "  print(F\"Train accuracy: {train_accuracy}\")\n",
        "  print(F\"Test accuracy:  {test_accuracy}\")\n",
        "  if train_accuracy == 1:\n",
        "    break\n",
        "  if train_accuracy > (test_accuracy+0.05):\n",
        "    print(F\"Overfitting detected!\")\n",
        "    if tolerance == 0:\n",
        "      break\n",
        "    tolerance -= 1\n",
        "  else:\n",
        "    tolerance = 10\n",
        "  print(F\"-\"*100)"
      ],
      "metadata": {
        "colab": {
          "base_uri": "https://localhost:8080/"
        },
        "id": "FLe6kFuBVb8O",
        "outputId": "c5bdcf27-1a00-4f28-da2b-3c6484ded0d3"
      },
      "execution_count": null,
      "outputs": [
        {
          "output_type": "stream",
          "name": "stdout",
          "text": [
            "Training GMM with dimensionality reduction via PCA (n_components=10)...\n",
            "Train accuracy: 0.36625\n",
            "Test accuracy:  0.29\n",
            "Overfitting detected!\n",
            "----------------------------------------------------------------------------------------------------\n",
            "Training GMM with dimensionality reduction via PCA (n_components=20)...\n",
            "Train accuracy: 0.60875\n",
            "Test accuracy:  0.275\n",
            "Overfitting detected!\n",
            "----------------------------------------------------------------------------------------------------\n",
            "Training GMM with dimensionality reduction via PCA (n_components=30)...\n",
            "Train accuracy: 0.7725\n",
            "Test accuracy:  0.235\n",
            "Overfitting detected!\n",
            "----------------------------------------------------------------------------------------------------\n",
            "Training GMM with dimensionality reduction via PCA (n_components=40)...\n",
            "Train accuracy: 0.8925\n",
            "Test accuracy:  0.29\n",
            "Overfitting detected!\n",
            "----------------------------------------------------------------------------------------------------\n",
            "Training GMM with dimensionality reduction via PCA (n_components=50)...\n",
            "Train accuracy: 0.95375\n",
            "Test accuracy:  0.235\n",
            "Overfitting detected!\n",
            "----------------------------------------------------------------------------------------------------\n",
            "Training GMM with dimensionality reduction via PCA (n_components=60)...\n",
            "Train accuracy: 0.99\n",
            "Test accuracy:  0.235\n",
            "Overfitting detected!\n",
            "----------------------------------------------------------------------------------------------------\n",
            "Training GMM with dimensionality reduction via PCA (n_components=70)...\n",
            "Train accuracy: 0.99875\n",
            "Test accuracy:  0.22\n",
            "Overfitting detected!\n",
            "----------------------------------------------------------------------------------------------------\n",
            "Training GMM with dimensionality reduction via PCA (n_components=80)...\n",
            "Train accuracy: 1.0\n",
            "Test accuracy:  0.095\n"
          ]
        }
      ]
    },
    {
      "cell_type": "code",
      "source": [
        "import matplotlib.pyplot as plt\n",
        "\n",
        "fig, ax = plt.subplots()\n",
        "ax.plot(n_components_list[:len(train_accuracies)], train_accuracies, linewidth=2.0, label='Train')\n",
        "ax.plot(n_components_list[:len(test_accuracies)], test_accuracies, linewidth=2.0, label='Test')\n",
        "ax.set_title(\"GMM with dimensionality reduction via PCA\")\n",
        "ax.set_xlabel(\"n_components\")\n",
        "ax.set_ylabel(\"Accuracy\")\n",
        "ax.legend()\n",
        "ax.grid()\n",
        "fig.show()"
      ],
      "metadata": {
        "colab": {
          "base_uri": "https://localhost:8080/",
          "height": 296
        },
        "id": "oADHT3pjV9GB",
        "outputId": "a97ef742-4079-42f9-b9b1-3b5cc29dbf1c"
      },
      "execution_count": null,
      "outputs": [
        {
          "output_type": "display_data",
          "data": {
            "text/plain": [
              "<Figure size 432x288 with 1 Axes>"
            ],
            "image/png": "[encoded data removed]"
          },
          "metadata": {
            "needs_background": "light"
          }
        }
      ]
    },
    {
      "cell_type": "markdown",
      "source": [
        "## Experiment \\#5: Logistic regression with kernal PCA"
      ],
      "metadata": {
        "id": "ime61mRBunFx"
      }
    },
    {
      "cell_type": "code",
      "source": [
        "\"\"\"\n",
        "Use kernel PCA to perform dimensionality reduction\n",
        "\"\"\"\n",
        "from sklearn.decomposition import KernelPCA\n",
        "from sklearn.linear_model import LogisticRegression\n",
        "from sklearn.metrics import accuracy_score\n",
        "import numpy as np\n",
        "\n",
        "tolerance = 10\n",
        "n_components_list = np.arange(50, 2050, 50)\n",
        "train_accuracies = []\n",
        "test_accuracies = []\n",
        "\n",
        "for n_components in n_components_list:\n",
        "\n",
        "  kpca = KernelPCA(n_components=n_components, \n",
        "                   kernel='rbf', \n",
        "                   n_jobs=-1, \n",
        "                   random_state=10,\n",
        "                   eigen_solver=\"randomized\")\n",
        "  X_train_kpca = kpca.fit_transform(X_train)\n",
        "  X_test_kpca = kpca.transform(X_test)\n",
        "\n",
        "  clf = LogisticRegression(max_iter=10000, class_weight='balanced')\n",
        "  clf.fit(X_train_kpca, y_train)\n",
        "\n",
        "  train_accuracy = accuracy_score(y_train, clf.predict(X_train_kpca))\n",
        "  train_accuracies.append(train_accuracy)\n",
        "  test_accuracy = accuracy_score(y_test, clf.predict(X_test_kpca))\n",
        "  test_accuracies.append(test_accuracy)\n",
        "\n",
        "  print(F\"Using {n_components} components from kernel PCA...\")\n",
        "  print(F\"Train accuracy: {train_accuracy}\")\n",
        "  print(F\"Test accuracy:  {test_accuracy}\")\n",
        "  if train_accuracy > (test_accuracy+0.05):\n",
        "    print(F\"Overfitting detected!\")\n",
        "    if tolerance == 0:\n",
        "      break\n",
        "    tolerance -= 1\n",
        "  else:\n",
        "    tolerance = 10\n",
        "  print(F\"-\"*100)"
      ],
      "metadata": {
        "colab": {
          "base_uri": "https://localhost:8080/"
        },
        "id": "O5HBEcfZuq2Y",
        "outputId": "e80b30a1-aa98-4cb8-f854-727d1dc1ebac"
      },
      "execution_count": null,
      "outputs": [
        {
          "output_type": "stream",
          "name": "stdout",
          "text": [
            "Using 50 components from kernel PCA...\n",
            "Train accuracy: 0.40875\n",
            "Test accuracy:  0.34\n",
            "Overfitting detected!\n",
            "----------------------------------------------------------------------------------------------------\n",
            "Using 100 components from kernel PCA...\n",
            "Train accuracy: 0.44875\n",
            "Test accuracy:  0.345\n",
            "Overfitting detected!\n",
            "----------------------------------------------------------------------------------------------------\n",
            "Using 150 components from kernel PCA...\n",
            "Train accuracy: 0.48625\n",
            "Test accuracy:  0.34\n",
            "Overfitting detected!\n",
            "----------------------------------------------------------------------------------------------------\n",
            "Using 200 components from kernel PCA...\n",
            "Train accuracy: 0.51625\n",
            "Test accuracy:  0.33\n",
            "Overfitting detected!\n",
            "----------------------------------------------------------------------------------------------------\n",
            "Using 250 components from kernel PCA...\n",
            "Train accuracy: 0.5625\n",
            "Test accuracy:  0.325\n",
            "Overfitting detected!\n",
            "----------------------------------------------------------------------------------------------------\n",
            "Using 300 components from kernel PCA...\n",
            "Train accuracy: 0.58375\n",
            "Test accuracy:  0.325\n",
            "Overfitting detected!\n",
            "----------------------------------------------------------------------------------------------------\n",
            "Using 350 components from kernel PCA...\n",
            "Train accuracy: 0.615\n",
            "Test accuracy:  0.34\n",
            "Overfitting detected!\n",
            "----------------------------------------------------------------------------------------------------\n",
            "Using 400 components from kernel PCA...\n",
            "Train accuracy: 0.635\n",
            "Test accuracy:  0.33\n",
            "Overfitting detected!\n",
            "----------------------------------------------------------------------------------------------------\n",
            "Using 450 components from kernel PCA...\n",
            "Train accuracy: 0.6375\n",
            "Test accuracy:  0.335\n",
            "Overfitting detected!\n",
            "----------------------------------------------------------------------------------------------------\n",
            "Using 500 components from kernel PCA...\n",
            "Train accuracy: 0.67375\n",
            "Test accuracy:  0.34\n",
            "Overfitting detected!\n",
            "----------------------------------------------------------------------------------------------------\n",
            "Using 550 components from kernel PCA...\n",
            "Train accuracy: 0.69625\n",
            "Test accuracy:  0.335\n",
            "Overfitting detected!\n"
          ]
        }
      ]
    },
    {
      "cell_type": "code",
      "source": [
        "import matplotlib.pyplot as plt\n",
        "\n",
        "fig, ax = plt.subplots()\n",
        "ax.plot(n_components_list[:len(train_accuracies)], train_accuracies, linewidth=2.0, label='Train')\n",
        "ax.plot(n_components_list[:len(test_accuracies)], test_accuracies, linewidth=2.0, label='Test')\n",
        "ax.set_title(\"Logistic regression with dimensionality reduction via kernel PCA\")\n",
        "ax.set_xlabel(\"Number of components\")\n",
        "ax.set_ylabel(\"Accuracy\")\n",
        "ax.legend()\n",
        "ax.grid()\n",
        "fig.show()"
      ],
      "metadata": {
        "colab": {
          "base_uri": "https://localhost:8080/",
          "height": 295
        },
        "id": "2AQ0Wg44uuzY",
        "outputId": "c76ec444-913b-49c0-8bc4-4e4d0a8b2276"
      },
      "execution_count": null,
      "outputs": [
        {
          "output_type": "display_data",
          "data": {
            "text/plain": [
              "<Figure size 432x288 with 1 Axes>"
            ],
            "image/png": "[encoded data removed]"
          },
          "metadata": {
            "needs_background": "light"
          }
        }
      ]
    }
  ]
}