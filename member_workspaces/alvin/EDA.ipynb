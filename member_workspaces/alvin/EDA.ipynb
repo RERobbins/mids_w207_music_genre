{
 "cells": [
  {
   "cell_type": "code",
   "execution_count": 4,
   "id": "5c9f6e11",
   "metadata": {},
   "outputs": [],
   "source": [
    "import os\n",
    "import pickle\n",
    "import pandas as pd\n",
    "import numpy as np\n",
    "\n",
    "from pathlib import Path"
   ]
  },
  {
   "cell_type": "code",
   "execution_count": 2,
   "id": "4aef956d",
   "metadata": {},
   "outputs": [],
   "source": [
    "filepath = os.path.join(Path().absolute().parents[1], 'acousticbrainz_all_flattened_labeled.pickle.bz2')\n",
    "df_data = pd.read_pickle(filepath)"
   ]
  },
  {
   "cell_type": "code",
   "execution_count": 3,
   "id": "3b27e77e",
   "metadata": {},
   "outputs": [
    {
     "name": "stdout",
     "output_type": "stream",
     "text": [
      "   lowlevel_average_loudness  barkbands_crest_dmean  barkbands_crest_dmean2  \\\n",
      "0                   0.203354               2.287306                3.795858   \n",
      "1                   0.840648               3.543522                5.717193   \n",
      "2                   0.176386               2.246902                3.817360   \n",
      "3                   0.959598               2.560980                4.325807   \n",
      "4                   0.003631               1.572016                2.470371   \n",
      "\n",
      "   barkbands_crest_dvar  barkbands_crest_dvar2  barkbands_crest_max  \\\n",
      "0              4.570755              12.773065            24.830286   \n",
      "1             12.031906              29.298170            26.998220   \n",
      "2              3.780864              11.042081            24.528460   \n",
      "3              5.390260              14.954568            23.331791   \n",
      "4              3.550767               9.090056            26.843195   \n",
      "\n",
      "   barkbands_crest_mean  barkbands_crest_median  barkbands_crest_min  \\\n",
      "0             11.892841               11.545135             2.702297   \n",
      "1             13.340882               12.018834             2.959484   \n",
      "2             10.173279                9.512627             3.650142   \n",
      "3             10.369486               10.054676             3.057912   \n",
      "4             15.862290               15.430481             3.788669   \n",
      "\n",
      "   barkbands_crest_var  ...  genre_soundtrack  genre_swing  genre_symphonic  \\\n",
      "0            13.075336  ...                 0            0                0   \n",
      "1            31.937012  ...                 0            0                0   \n",
      "2            12.495696  ...                 0            0                0   \n",
      "3            10.888963  ...                 0            0                0   \n",
      "4            24.785818  ...                 0            0                0   \n",
      "\n",
      "   genre_synthpop  genre_techno  genre_trance  genre_tribal  genre_triphop  \\\n",
      "0               0             0             0             0              0   \n",
      "1               0             0             0             0              0   \n",
      "2               0             0             0             0              0   \n",
      "3               0             0             0             0              0   \n",
      "4               0             0             0             0              0   \n",
      "\n",
      "   genre_world  genre_worldfusion  \n",
      "0            0                  0  \n",
      "1            0                  0  \n",
      "2            0                  0  \n",
      "3            0                  0  \n",
      "4            0                  0  \n",
      "\n",
      "[5 rows x 2877 columns]\n"
     ]
    }
   ],
   "source": [
    "print(df_data.head())"
   ]
  },
  {
   "cell_type": "code",
   "execution_count": 4,
   "id": "a63e5717",
   "metadata": {},
   "outputs": [
    {
     "name": "stdout",
     "output_type": "stream",
     "text": [
      "(55213, 2877)\n"
     ]
    }
   ],
   "source": [
    "print(df_data.shape)"
   ]
  },
  {
   "cell_type": "markdown",
   "id": "9a6db3a6",
   "metadata": {},
   "source": [
    "Splitting the dataset into three equal chunks"
   ]
  },
  {
   "cell_type": "code",
   "execution_count": 5,
   "id": "d0a86f8e",
   "metadata": {},
   "outputs": [],
   "source": [
    "splits = np.array_split(df_data, 15)"
   ]
  },
  {
   "cell_type": "code",
   "execution_count": 6,
   "id": "048ae15b",
   "metadata": {},
   "outputs": [],
   "source": [
    "for index, df in enumerate(splits):\n",
    "    filepath = os.path.join(Path().absolute().parents[1], 'datasets', 'mtg_jamendo', f'mtg_jamendo_genre_features_part_{index + 1}.pickle.bz2')\n",
    "    df.to_pickle(filepath)"
   ]
  },
  {
   "cell_type": "markdown",
   "id": "a4420e70",
   "metadata": {},
   "source": [
    "To read the split pickles"
   ]
  },
  {
   "cell_type": "code",
   "execution_count": 6,
   "id": "14cd899e",
   "metadata": {},
   "outputs": [],
   "source": [
    "df_data = None\n",
    "\n",
    "for i in range(15):\n",
    "    filepath = os.path.join(Path().absolute().parents[1], 'datasets', 'mtg_jamendo', f'mtg_jamendo_genre_features_part_{i + 1}.pickle.bz2')\n",
    "    if df_data is None:\n",
    "        df_data = pd.read_pickle(filepath)\n",
    "    else:\n",
    "        temp_df = pd.read_pickle(filepath)\n",
    "        df_data = pd.concat([df_data, temp_df], ignore_index=True)"
   ]
  },
  {
   "cell_type": "code",
   "execution_count": 7,
   "id": "964c08d6",
   "metadata": {},
   "outputs": [
    {
     "name": "stdout",
     "output_type": "stream",
     "text": [
      "(55213, 2877)\n"
     ]
    }
   ],
   "source": [
    "print(df_data.shape)"
   ]
  },
  {
   "cell_type": "markdown",
   "id": "7d3c92ac",
   "metadata": {},
   "source": [
    "To import read dataframe function"
   ]
  },
  {
   "cell_type": "code",
   "execution_count": 5,
   "id": "bbde736f",
   "metadata": {},
   "outputs": [],
   "source": [
    "import sys\n",
    "\n",
    "sys.path.append('../../')\n",
    "\n",
    "from stitch import ReadFilesIntoDataframe\n"
   ]
  },
  {
   "cell_type": "code",
   "execution_count": 6,
   "id": "9ab68c97",
   "metadata": {},
   "outputs": [
    {
     "ename": "FileNotFoundError",
     "evalue": "[WinError 3] The system cannot find the path specified: 'c:\\\\Users\\\\alvin\\\\OneDrive - UCLA IT Services\\\\Berkeley MIDS\\\\W207\\\\final_project\\\\member_workspaces\\\\alvin\\\\datasets\\\\mtg_jamendo'",
     "output_type": "error",
     "traceback": [
      "\u001b[1;31m---------------------------------------------------------------------------\u001b[0m",
      "\u001b[1;31mFileNotFoundError\u001b[0m                         Traceback (most recent call last)",
      "\u001b[1;32mc:\\Users\\alvin\\OneDrive - UCLA IT Services\\Berkeley MIDS\\W207\\final_project\\member_workspaces\\alvin\\EDA.ipynb Cell 13'\u001b[0m in \u001b[0;36m<cell line: 2>\u001b[1;34m()\u001b[0m\n\u001b[0;32m      <a href='vscode-notebook-cell:/c%3A/Users/alvin/OneDrive%20-%20UCLA%20IT%20Services/Berkeley%20MIDS/W207/final_project/member_workspaces/alvin/EDA.ipynb#ch0000012?line=0'>1</a>\u001b[0m read_file \u001b[39m=\u001b[39m ReadFilesIntoDataframe()\n\u001b[1;32m----> <a href='vscode-notebook-cell:/c%3A/Users/alvin/OneDrive%20-%20UCLA%20IT%20Services/Berkeley%20MIDS/W207/final_project/member_workspaces/alvin/EDA.ipynb#ch0000012?line=1'>2</a>\u001b[0m df_data \u001b[39m=\u001b[39m read_file\u001b[39m.\u001b[39;49mread_mtg_jamendo_files()\n",
      "File \u001b[1;32mc:\\Users\\alvin\\OneDrive - UCLA IT Services\\Berkeley MIDS\\W207\\final_project\\member_workspaces\\alvin\\../..\\stitch.py:32\u001b[0m, in \u001b[0;36mReadFilesIntoDataframe.read_mtg_jamendo_files\u001b[1;34m(self)\u001b[0m\n\u001b[0;32m     <a href='file:///c%3A/Users/alvin/OneDrive%20-%20UCLA%20IT%20Services/Berkeley%20MIDS/W207/final_project/member_workspaces/alvin/../../stitch.py?line=28'>29</a>\u001b[0m \u001b[39mdef\u001b[39;00m \u001b[39mread_mtg_jamendo_files\u001b[39m(\u001b[39mself\u001b[39m):\n\u001b[0;32m     <a href='file:///c%3A/Users/alvin/OneDrive%20-%20UCLA%20IT%20Services/Berkeley%20MIDS/W207/final_project/member_workspaces/alvin/../../stitch.py?line=29'>30</a>\u001b[0m     folder \u001b[39m=\u001b[39m os\u001b[39m.\u001b[39mpath\u001b[39m.\u001b[39mjoin(os\u001b[39m.\u001b[39mgetcwd(), \u001b[39m'\u001b[39m\u001b[39mdatasets\u001b[39m\u001b[39m'\u001b[39m, \u001b[39m'\u001b[39m\u001b[39mmtg_jamendo\u001b[39m\u001b[39m'\u001b[39m)\n\u001b[1;32m---> <a href='file:///c%3A/Users/alvin/OneDrive%20-%20UCLA%20IT%20Services/Berkeley%20MIDS/W207/final_project/member_workspaces/alvin/../../stitch.py?line=31'>32</a>\u001b[0m     files \u001b[39m=\u001b[39m [f \u001b[39mfor\u001b[39;00m f \u001b[39min\u001b[39;00m os\u001b[39m.\u001b[39;49mlistdir(folder) \u001b[39mif\u001b[39;00m os\u001b[39m.\u001b[39mpath\u001b[39m.\u001b[39misfile(os\u001b[39m.\u001b[39mpath\u001b[39m.\u001b[39mjoin(folder, f))]\n\u001b[0;32m     <a href='file:///c%3A/Users/alvin/OneDrive%20-%20UCLA%20IT%20Services/Berkeley%20MIDS/W207/final_project/member_workspaces/alvin/../../stitch.py?line=32'>33</a>\u001b[0m     files \u001b[39m=\u001b[39m [f \u001b[39mfor\u001b[39;00m f \u001b[39min\u001b[39;00m files \u001b[39mif\u001b[39;00m re\u001b[39m.\u001b[39msearch(\u001b[39m'\u001b[39m\u001b[39m.+mtg_jamendo_genre_features_part_[0-9]+\u001b[39m\u001b[39m\\\u001b[39m\u001b[39m.pickle\u001b[39m\u001b[39m\\\u001b[39m\u001b[39m.bz2$\u001b[39m\u001b[39m'\u001b[39m, f)]\n\u001b[0;32m     <a href='file:///c%3A/Users/alvin/OneDrive%20-%20UCLA%20IT%20Services/Berkeley%20MIDS/W207/final_project/member_workspaces/alvin/../../stitch.py?line=34'>35</a>\u001b[0m     \u001b[39mreturn\u001b[39;00m \u001b[39mself\u001b[39m\u001b[39m.\u001b[39mfiles_to_dataframe(files)\n",
      "\u001b[1;31mFileNotFoundError\u001b[0m: [WinError 3] The system cannot find the path specified: 'c:\\\\Users\\\\alvin\\\\OneDrive - UCLA IT Services\\\\Berkeley MIDS\\\\W207\\\\final_project\\\\member_workspaces\\\\alvin\\\\datasets\\\\mtg_jamendo'"
     ]
    }
   ],
   "source": [
    "read_file = ReadFilesIntoDataframe()\n",
    "df_data = read_file.read_mtg_jamendo_files()"
   ]
  }
 ],
 "metadata": {
  "interpreter": {
   "hash": "00ba2e7629577c26f6a211ca2aad7372555ee5ebf6f1d1dbb3108cc84bd91283"
  },
  "kernelspec": {
   "display_name": "Python 3.9.12 ('W207')",
   "language": "python",
   "name": "python3"
  },
  "language_info": {
   "codemirror_mode": {
    "name": "ipython",
    "version": 3
   },
   "file_extension": ".py",
   "mimetype": "text/x-python",
   "name": "python",
   "nbconvert_exporter": "python",
   "pygments_lexer": "ipython3",
   "version": "3.9.12"
  }
 },
 "nbformat": 4,
 "nbformat_minor": 5
}
