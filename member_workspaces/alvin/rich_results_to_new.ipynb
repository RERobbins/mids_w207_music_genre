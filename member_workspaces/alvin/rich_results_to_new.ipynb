{
 "cells": [
  {
   "cell_type": "code",
   "execution_count": 1,
   "metadata": {},
   "outputs": [],
   "source": [
    "import re\n",
    "import os\n",
    "import sys\n",
    "import json\n",
    "\n",
    "sys.path.append(\"../../\")\n",
    "\n",
    "from pathlib import Path"
   ]
  },
  {
   "cell_type": "code",
   "execution_count": 2,
   "metadata": {},
   "outputs": [],
   "source": [
    "filepath = Path().absolute().parents[1]\n",
    "\n",
    "with open(os.path.join(filepath, 'member_workspaces', 'results', 'rich_results.json')) as f:\n",
    "    results_dict = json.load(f)"
   ]
  },
  {
   "cell_type": "code",
   "execution_count": 3,
   "metadata": {},
   "outputs": [],
   "source": [
    "newDict = {\n",
    "    \"experiment\": []\n",
    "}\n",
    "\n",
    "for tests in results_dict.keys():\n",
    "    res = {}\n",
    "    res['model'] = tests.split(\"_\", 1)[0]\n",
    "    res['dataset'] = re.sub(\"_train$|_test$\", \"\", tests.split(\"_\", 1)[1])\n",
    "    res['phase'] = tests.rpartition(\"_\")[2]\n",
    "\n",
    "    res['result'] = results_dict[tests]['results']\n",
    "\n",
    "    newDict['experiment'].append(res)"
   ]
  },
  {
   "cell_type": "code",
   "execution_count": 4,
   "metadata": {},
   "outputs": [
    {
     "name": "stdout",
     "output_type": "stream",
     "text": [
      "record saved\n"
     ]
    }
   ],
   "source": [
    "with open(os.path.join(filepath, 'results', 'new_rich_results.json'), 'w') as outfile:\n",
    "    json.dump(newDict, outfile, indent=4)\n",
    "    print('record saved')"
   ]
  }
 ],
 "metadata": {
  "kernelspec": {
   "display_name": "Python 3.9.12 ('W207')",
   "language": "python",
   "name": "python3"
  },
  "language_info": {
   "codemirror_mode": {
    "name": "ipython",
    "version": 3
   },
   "file_extension": ".py",
   "mimetype": "text/x-python",
   "name": "python",
   "nbconvert_exporter": "python",
   "pygments_lexer": "ipython3",
   "version": "3.9.12"
  },
  "orig_nbformat": 4,
  "vscode": {
   "interpreter": {
    "hash": "00ba2e7629577c26f6a211ca2aad7372555ee5ebf6f1d1dbb3108cc84bd91283"
   }
  }
 },
 "nbformat": 4,
 "nbformat_minor": 2
}
