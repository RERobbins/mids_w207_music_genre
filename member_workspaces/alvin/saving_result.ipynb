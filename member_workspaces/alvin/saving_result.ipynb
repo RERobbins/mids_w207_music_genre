{
 "cells": [
  {
   "cell_type": "code",
   "execution_count": 1,
   "metadata": {},
   "outputs": [],
   "source": [
    "import sys\n",
    "from IPython.display import display\n",
    "\n",
    "sys.path.append(\"../../\")\n",
    "\n",
    "from helpers.save import results"
   ]
  },
  {
   "cell_type": "code",
   "execution_count": 2,
   "metadata": {},
   "outputs": [],
   "source": [
    "save = results()"
   ]
  },
  {
   "cell_type": "code",
   "execution_count": 3,
   "metadata": {},
   "outputs": [
    {
     "name": "stdout",
     "output_type": "stream",
     "text": [
      "{'logistic regression': {'results': {'accuracy': 0.6, 'mcc': 0.76}}}\n"
     ]
    }
   ],
   "source": [
    "allres = save.getAllResults()\n",
    "print(allres)"
   ]
  },
  {
   "cell_type": "code",
   "execution_count": 4,
   "metadata": {},
   "outputs": [
    {
     "name": "stdout",
     "output_type": "stream",
     "text": [
      "[('logistic regression', 0.6)]\n"
     ]
    }
   ],
   "source": [
    "print(save.getResultRanked('accuracy'))"
   ]
  },
  {
   "cell_type": "code",
   "execution_count": 5,
   "metadata": {},
   "outputs": [
    {
     "name": "stdout",
     "output_type": "stream",
     "text": [
      "['logistic regression']\n"
     ]
    }
   ],
   "source": [
    "existing = save.getExistingTests()\n",
    "print(existing)"
   ]
  },
  {
   "cell_type": "code",
   "execution_count": 6,
   "metadata": {},
   "outputs": [
    {
     "name": "stdout",
     "output_type": "stream",
     "text": [
      "logistic regression\n"
     ]
    }
   ],
   "source": [
    "save.printExistingTests()"
   ]
  },
  {
   "cell_type": "code",
   "execution_count": 7,
   "metadata": {},
   "outputs": [
    {
     "name": "stdout",
     "output_type": "stream",
     "text": [
      "Found the following similar tests: ...\n",
      "logistic regression\n"
     ]
    }
   ],
   "source": [
    "save.checkIfTestExist('logistic')"
   ]
  },
  {
   "cell_type": "markdown",
   "metadata": {},
   "source": [
    "If you updated the json file manually, use save.refresh() to get the new result"
   ]
  },
  {
   "cell_type": "markdown",
   "metadata": {},
   "source": [
    "Save new test result"
   ]
  },
  {
   "cell_type": "code",
   "execution_count": 8,
   "metadata": {},
   "outputs": [
    {
     "name": "stdout",
     "output_type": "stream",
     "text": [
      "record saved\n"
     ]
    }
   ],
   "source": [
    "additional = {\n",
    "    \"parameters\": {\n",
    "        \"epoch\": [254, 100]\n",
    "    }\n",
    "}\n",
    "\n",
    "res = {\n",
    "    \"accuracy\": 0.92\n",
    "}\n",
    "\n",
    "test = 'Logistic regression 2'\n",
    "\n",
    "save.save(test=test, results=res, additional=additional)"
   ]
  },
  {
   "cell_type": "code",
   "execution_count": 9,
   "metadata": {},
   "outputs": [
    {
     "name": "stdout",
     "output_type": "stream",
     "text": [
      "{'logistic regression': {'results': {'accuracy': 0.6, 'mcc': 0.76}}, 'Logistic regression 2': {'results': {'accuracy': 0.92}, 'parameters': {'epoch': [254, 100]}}}\n"
     ]
    }
   ],
   "source": [
    "print(save.getAllResults())"
   ]
  },
  {
   "cell_type": "markdown",
   "metadata": {},
   "source": [
    "Update test result"
   ]
  },
  {
   "cell_type": "code",
   "execution_count": 10,
   "metadata": {},
   "outputs": [
    {
     "name": "stdout",
     "output_type": "stream",
     "text": [
      "Do not override, test result not saved\n"
     ]
    }
   ],
   "source": [
    "res = {\n",
    "    \"accuracy\": 0.92,\n",
    "    \"mcc\": 0.56\n",
    "}\n",
    "\n",
    "save.save(test=test, results=res, additional=additional)\n",
    "# I press n"
   ]
  },
  {
   "cell_type": "code",
   "execution_count": 11,
   "metadata": {},
   "outputs": [
    {
     "name": "stdout",
     "output_type": "stream",
     "text": [
      "record saved\n"
     ]
    }
   ],
   "source": [
    "res = {\n",
    "    \"accuracy\": 0.92,\n",
    "    \"mcc\": 0.56\n",
    "}\n",
    "\n",
    "save.save(test=test, results=res, additional=additional)\n",
    "# I press y"
   ]
  }
 ],
 "metadata": {
  "kernelspec": {
   "display_name": "Python 3.9.12 ('W207')",
   "language": "python",
   "name": "python3"
  },
  "language_info": {
   "codemirror_mode": {
    "name": "ipython",
    "version": 3
   },
   "file_extension": ".py",
   "mimetype": "text/x-python",
   "name": "python",
   "nbconvert_exporter": "python",
   "pygments_lexer": "ipython3",
   "version": "3.9.12"
  },
  "orig_nbformat": 4,
  "vscode": {
   "interpreter": {
    "hash": "00ba2e7629577c26f6a211ca2aad7372555ee5ebf6f1d1dbb3108cc84bd91283"
   }
  }
 },
 "nbformat": 4,
 "nbformat_minor": 2
}
