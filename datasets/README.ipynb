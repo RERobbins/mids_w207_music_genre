{
 "cells": [
  {
   "cell_type": "markdown",
   "metadata": {},
   "source": [
    "# MTG-Jamendo dataset\n",
    "\n",
    "## Sample raw files from dataset\n",
    "\n",
    "Description of sample folders:\n",
    " - `acousticbrainz_json` contains sample acousticbrainz features in `json` format. All acousticbrainz features can be downloaded from [Google Drive](https://drive.google.com/drive/folders/1yxwbgq4LXrTfNImyr3cM7nK5AprjR6Hf?usp=sharing)\n",
    " - `melspecs_npy` contains sample mel-spectrograms in `npy` format. All mel-spectrograms can be downloaded from [Google Drive](https://drive.google.com/drive/folders/12GxtZGke_7-M0piXF_NMvxNZnvi6qMnR?usp=sharing)\n",
    "\n",
    "\n",
    "## Aggregated and flattened dataset\n",
    "\n",
    "The aggregated and flattened dataset can be downloaded from [Google Drive](https://drive.google.com/file/d/16DJpJiOIrEGKtOy-fE95jiaZIMZCxHmf/view?usp=sharing). This dataset is in a `.pickle.bz2` format, which can be imported into a DataFrame using `pd.read_pickle()` function from the `pandas` library.\n",
    "\n",
    "The prefixed columns are ordered in the following manner:\n",
    " - Metadata (e.g. `album_id`, `artist_id`, `duration`)\n",
    " - Audio properties (e.g. `bitrate`, `codec`, `lossless`)\n",
    " - Tags (e.g. `album`, `albumartist`)\n",
    " - Genre (e.g. `rock`, `pop`, `classical`)\n",
    " - Version (e.g. `essentia`, `git_version`)\n",
    "\n",
    "The remaining columns are features provided by AcousticBrainz. \n",
    "\n",
    "Please note that the column `rhythm_beats_position` is not flattened because the dimension of the arrays are different across tracks. The values in this column are kept as 1d arrays.\n",
    "\n",
    "For more information on the features included in this dataset, refer to [the original repo](https://github.com/MTG/mtg-jamendo-dataset#readme).\n",
    "\n",
    "A draft data dictionary can be found [here](https://docs.google.com/spreadsheets/d/1lTTJoC7Jg2_InKtu1POj-2y0YOgznqRFhMIIk5iYJ4A/edit#gid=0&range=A1).\n",
    "\n"
   ]
  }
 ],
 "metadata": {
  "language_info": {
   "name": "python"
  },
  "orig_nbformat": 4
 },
 "nbformat": 4,
 "nbformat_minor": 2
}
